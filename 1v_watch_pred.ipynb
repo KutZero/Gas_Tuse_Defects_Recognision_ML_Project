{
 "cells": [
  {
   "cell_type": "code",
   "execution_count": 1,
   "id": "700e9457-0887-469b-830b-6f7396be6f1b",
   "metadata": {
    "execution": {
     "iopub.execute_input": "2024-01-19T05:44:43.504998Z",
     "iopub.status.busy": "2024-01-19T05:44:43.504022Z",
     "iopub.status.idle": "2024-01-19T05:44:54.230687Z",
     "shell.execute_reply": "2024-01-19T05:44:54.229633Z",
     "shell.execute_reply.started": "2024-01-19T05:44:43.504998Z"
    }
   },
   "outputs": [],
   "source": [
    "# Подключенине библиотек\n",
    "import numpy as np\n",
    "import pandas as pd\n",
    "import matplotlib.pyplot as plt\n",
    "import tensorflow as tf\n",
    "\n",
    "from custom_modules import data_processing as dp\n",
    "import custom_modules.PipeData as pidf\n",
    "\n",
    "from matplotlib import ticker\n",
    "from IPython.display import display\n",
    "from tensorflow import keras"
   ]
  },
  {
   "cell_type": "code",
   "execution_count": 2,
   "id": "755024bd-4b54-452c-a6d1-0a0b7b913cdc",
   "metadata": {
    "execution": {
     "iopub.execute_input": "2024-01-19T05:44:54.230687Z",
     "iopub.status.busy": "2024-01-19T05:44:54.230687Z",
     "iopub.status.idle": "2024-01-19T05:44:54.281728Z",
     "shell.execute_reply": "2024-01-19T05:44:54.279729Z",
     "shell.execute_reply.started": "2024-01-19T05:44:54.230687Z"
    },
    "jupyter": {
     "source_hidden": true
    }
   },
   "outputs": [],
   "source": [
    "def draw_map(data_map):\n",
    "    with plt.style.context('dark_background'):\n",
    "            fig, ax = plt.subplots()\n",
    "        \n",
    "            fig.set_figwidth(18)\n",
    "            fig.set_figheight(8)\n",
    "            fig.patch.set_alpha(0.0)\n",
    "        \n",
    "            ax.invert_yaxis()\n",
    "            ax.xaxis.tick_top()\n",
    "            ax.xaxis.set_label_position('top')\n",
    "            ax.set_title(\"Предсказанная развернутая карта дефектов\", fontsize=25)\n",
    "            ax.set_xlabel('Номер датчика', fontsize=20)\n",
    "            ax.set_ylabel('Номер измерения', fontsize=20)\n",
    "            ax.tick_params(axis='both', labelsize = 20)\n",
    "\n",
    "            map = ax.pcolormesh(data_map)\n",
    "            cbar = fig.colorbar(map)\n",
    "            cbar.ax.tick_params(labelsize=20)\n",
    "\n",
    "            ax.xaxis.set_major_locator(ticker.MultipleLocator(60))\n",
    "    \n",
    "    plt.show()"
   ]
  },
  {
   "cell_type": "code",
   "execution_count": 3,
   "id": "4d0f8a81-c5ba-46dd-8df0-adb8b16994c0",
   "metadata": {
    "execution": {
     "iopub.execute_input": "2024-01-19T05:44:54.287732Z",
     "iopub.status.busy": "2024-01-19T05:44:54.285731Z",
     "iopub.status.idle": "2024-01-19T05:44:54.320267Z",
     "shell.execute_reply": "2024-01-19T05:44:54.317267Z",
     "shell.execute_reply.started": "2024-01-19T05:44:54.287732Z"
    }
   },
   "outputs": [],
   "source": [
    "PATH = 'data/Drawing data/Run1/model_id=0_crop(size=64,step=4)_shift(x=0,y=0).xlsx'\n",
    "or_res_df = pd.read_excel(PATH, sheet_name='orig_res', index_col=0, dtype=np.float64)\n",
    "ex_res_df = pd.read_excel(PATH, sheet_name='extend_res', index_col=0, dtype=np.float64)\n",
    "or_ref_df = pd.read_excel(PATH, sheet_name='orig_reference', index_col=0, dtype=np.float64)\n",
    "ex_ref_df = pd.read_excel(PATH, sheet_name='extend_reference', index_col=0, dtype=np.float64)"
   ]
  },
  {
   "cell_type": "code",
   "execution_count": null,
   "id": "e70c12e5-5e11-43ad-b73d-870df86034e2",
   "metadata": {},
   "outputs": [],
   "source": [
    "draw_map(or_res_df)\n",
    "draw_map(or_ref_df)\n",
    "\n",
    "draw_map(ex_res_df)\n",
    "draw_map(ex_ref_df)"
   ]
  }
 ],
 "metadata": {
  "kernelspec": {
   "display_name": "Python 3 (ipykernel)",
   "language": "python",
   "name": "python3"
  },
  "language_info": {
   "codemirror_mode": {
    "name": "ipython",
    "version": 3
   },
   "file_extension": ".py",
   "mimetype": "text/x-python",
   "name": "python",
   "nbconvert_exporter": "python",
   "pygments_lexer": "ipython3",
   "version": "3.9.18"
  }
 },
 "nbformat": 4,
 "nbformat_minor": 5
}
