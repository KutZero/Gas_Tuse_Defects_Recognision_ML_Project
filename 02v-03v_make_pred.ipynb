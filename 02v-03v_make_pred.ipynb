{
 "cells": [
  {
   "cell_type": "code",
   "execution_count": null,
   "id": "700e9457-0887-469b-830b-6f7396be6f1b",
   "metadata": {},
   "outputs": [],
   "source": [
    "# dependencies import\n",
    "from common_dependencies import *"
   ]
  },
  {
   "cell_type": "code",
   "execution_count": null,
   "id": "755024bd-4b54-452c-a6d1-0a0b7b913cdc",
   "metadata": {
    "jupyter": {
     "source_hidden": true
    }
   },
   "outputs": [],
   "source": [
    "def draw_map(data_map):\n",
    "    with plt.style.context('dark_background'):\n",
    "            fig, ax = plt.subplots()\n",
    "        \n",
    "            fig.set_figwidth(18)\n",
    "            fig.set_figheight(8)\n",
    "            fig.patch.set_alpha(0.0)\n",
    "        \n",
    "            ax.invert_yaxis()\n",
    "            ax.xaxis.tick_top()\n",
    "            ax.xaxis.set_label_position('top')\n",
    "            ax.set_title(\"Предсказанная развернутая карта дефектов\", fontsize=25)\n",
    "            ax.set_xlabel('Номер датчика', fontsize=20)\n",
    "            ax.set_ylabel('Номер измерения', fontsize=20)\n",
    "            ax.tick_params(axis='both', labelsize = 20)\n",
    "\n",
    "            map = ax.pcolormesh(data_map)\n",
    "            cbar = fig.colorbar(map)\n",
    "            cbar.ax.tick_params(labelsize=20)\n",
    "\n",
    "            ax.xaxis.set_major_locator(ticker.MultipleLocator(60))\n",
    "    \n",
    "    plt.show()"
   ]
  },
  {
   "cell_type": "code",
   "execution_count": null,
   "id": "f34591ee-be65-42f8-8e4b-a8d2f49cee7c",
   "metadata": {},
   "outputs": [],
   "source": [
    "# paths for files with original data\n",
    "PATH_TO_DATA = {\n",
    "    'run_1': \n",
    "        ('data/Original data/run_1/run1_WM32_data.csv',\n",
    "        'data/Original data/run_1/run1_WM32_defects.csv',\n",
    "        'data/Original data/run_1/run1_WM32_pipe.csv'),\n",
    "    'run_2':\n",
    "        ('data/Original data/run_2/run2_WM32_data.csv',\n",
    "        'data/Original data/run_2/run2_WM32_defects.csv',\n",
    "        'data/Original data/run_2/run2_WM32_pipe.csv')\n",
    "}\n",
    "\n",
    "PATH_TO_MODEL = 'networks/CNN'\n",
    "\n",
    "CROP_SIZE = 16\n",
    "CROP_STEP = 1\n",
    "RUN = 1\n",
    "MODEL_VER = '02'\n",
    "MODEL_NUM = '02'\n",
    "XSHIFT = 200\n",
    "\n",
    "for name in os.listdir(PATH_TO_MODEL):\n",
    "    res = re.match(F'(id=v{MODEL_VER}n{MODEL_NUM}).*', name)\n",
    "    if not res is None:\n",
    "        PATH_TO_MODEL += '/' + res[0]\n",
    "        break\n",
    "\n",
    "# детерминация случайных величин, отвечающих за выбор первоначальных весов и биасов\n",
    "tf.compat.v1.set_random_seed(290)\n",
    "tf.random.set_seed(290)"
   ]
  },
  {
   "cell_type": "code",
   "execution_count": null,
   "id": "05663715-f5a7-40f9-8269-56edcb363ad7",
   "metadata": {},
   "outputs": [],
   "source": [
    "# чтение данных\n",
    "data_cl = pidf.PipeDataCsvWorker(*PATH_TO_DATA[f'run_{RUN}'])"
   ]
  },
  {
   "cell_type": "code",
   "execution_count": null,
   "id": "7ad3135c-1cb6-4061-b326-664c758c1944",
   "metadata": {},
   "outputs": [],
   "source": [
    "# Загрузка модели\n",
    "load_model = keras.models.load_model(PATH_TO_MODEL)"
   ]
  },
  {
   "cell_type": "code",
   "execution_count": null,
   "id": "d194db4d-2777-4eff-80b9-cd61937abe9c",
   "metadata": {},
   "outputs": [],
   "source": [
    "def make_pred_fast(model, cl: pidf.PipeDataCsvWorker, crop_size: int, crop_step: int):\n",
    "\n",
    "    cl.roll_dfs_along_axis(XSHIFT, axis=1)\n",
    "    \n",
    "    ref_orig_df = cl.get_defects_df()\n",
    "    or_rows = cl.get_data_df().shape[0]\n",
    "    or_cols = cl.get_data_df().shape[1]\n",
    "\n",
    "    cl.extend_dfs_for_prediction(crop_size, crop_step)\n",
    "\n",
    "    ref_extend_df = cl.get_defects_df()\n",
    "    ex_rows = cl.get_data_df().shape[0]\n",
    "    ex_cols = cl.get_data_df().shape[1]\n",
    "    \n",
    "    x_data = cl.get_data_df()\n",
    "\n",
    "    (x_data_time,\n",
    "    x_data_amp) = dp.reshape_X_df_to_image_like_numpy(x_data, crop_size, crop_step)\n",
    "\n",
    "    x_data_time = dp.standartize_data(x_data_time)\n",
    "    x_data_amp = dp.standartize_data(x_data_amp)\n",
    "\n",
    "    res = model.predict([x_data_time, x_data_amp])\n",
    "    res = res[:,0]\n",
    "\n",
    "    extend_arr = np.ones((ex_rows, ex_cols))     \n",
    "    \n",
    "    res_it = iter(res) \n",
    "    \n",
    "    for j in range(0,  ex_cols - crop_size + 1, crop_step):\n",
    "        for i in range(0, ex_rows - crop_size + 1, crop_step):  \n",
    "            temp_add = next(res_it)\n",
    "            if temp_add > 1:\n",
    "                print(temp_add)\n",
    "            if temp_add >= 0.5:\n",
    "                extend_arr[i:i+crop_size, j:j+crop_size] += temp_add\n",
    "            else:\n",
    "                extend_arr[i:i+crop_size, j:j+crop_size] -= temp_add \n",
    "    \n",
    "\n",
    "    left_up_border = crop_size - 1\n",
    "    \n",
    "    orig_arr = extend_arr[left_up_border:, left_up_border:][:or_rows, :or_cols]\n",
    "\n",
    "    extend_df = pd.DataFrame(data=extend_arr, \n",
    "                             columns=cl.get_data_df().columns, \n",
    "                             index=cl.get_data_df().index)\n",
    "\n",
    "    orig_df = pd.DataFrame(data=orig_arr, \n",
    "                       columns=cl.get_data_df().columns.tolist()[left_up_border:][:or_cols], \n",
    "                       index=cl.get_data_df().index.tolist()[left_up_border:][:or_rows])\n",
    "    \n",
    "    return orig_df, extend_df, ref_orig_df, ref_extend_df, orig_arr, extend_arr "
   ]
  },
  {
   "cell_type": "code",
   "execution_count": null,
   "id": "ab998475-9d43-45e8-8fbf-87744f5dd79a",
   "metadata": {},
   "outputs": [],
   "source": [
    "orig_df, extend_df, ref_orig_df, ref_extend_df, orig_arr, extend_arr  = make_pred_fast(load_model, data_cl, CROP_SIZE, CROP_STEP)"
   ]
  },
  {
   "cell_type": "code",
   "execution_count": null,
   "id": "e3aafb5e-58a4-4832-b8dd-8593a4540b51",
   "metadata": {},
   "outputs": [],
   "source": [
    "draw_map(ref_orig_df)\n",
    "draw_map(orig_df)"
   ]
  },
  {
   "cell_type": "code",
   "execution_count": null,
   "id": "fd6b4698-ff02-4b93-904b-e7b0efe45002",
   "metadata": {},
   "outputs": [],
   "source": [
    "draw_map(ref_extend_df)\n",
    "draw_map(extend_df)"
   ]
  },
  {
   "cell_type": "code",
   "execution_count": null,
   "id": "c4688cdc-1dde-4f63-8753-04ce64c170ab",
   "metadata": {},
   "outputs": [],
   "source": [
    "path = f'data/Drawing data/Run{RUN}/' + \\\n",
    "    f'model_id=v{MODEL_VER}n{MODEL_NUM}_crop(size={CROP_SIZE},step={CROP_STEP})_shift(x={XSHIFT},y=0).xlsx'\n",
    "\n",
    "with pd.ExcelWriter(path) as writer:  \n",
    "    orig_df.to_excel(writer, sheet_name='orig_res')\n",
    "    extend_df.to_excel(writer, sheet_name='extend_res')\n",
    "    \n",
    "    ref_orig_df.to_excel(writer, sheet_name='orig_reference')\n",
    "    ref_extend_df.to_excel(writer, sheet_name='extend_reference')"
   ]
  },
  {
   "cell_type": "code",
   "execution_count": null,
   "id": "546628ad-6e61-469f-bca8-e88e5036e8aa",
   "metadata": {},
   "outputs": [],
   "source": []
  }
 ],
 "metadata": {
  "kernelspec": {
   "display_name": "Python 3 (ipykernel)",
   "language": "python",
   "name": "python3"
  },
  "language_info": {
   "codemirror_mode": {
    "name": "ipython",
    "version": 3
   },
   "file_extension": ".py",
   "mimetype": "text/x-python",
   "name": "python",
   "nbconvert_exporter": "python",
   "pygments_lexer": "ipython3",
   "version": "3.9.18"
  }
 },
 "nbformat": 4,
 "nbformat_minor": 5
}
