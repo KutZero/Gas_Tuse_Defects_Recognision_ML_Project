{
 "cells": [
  {
   "cell_type": "code",
   "execution_count": null,
   "id": "fde58157-7750-45b9-a343-b46e3c74b5b4",
   "metadata": {},
   "outputs": [],
   "source": [
    "# dependencies import\n",
    "from common_dependencies import *\n",
    "import model_versions as mv\n",
    "logger = logging.getLogger(f'main.model_train')\n",
    "# детерминация случайных величин, отвечающих за выбор первоначальных весов и биасов"
   ]
  },
  {
   "cell_type": "markdown",
   "id": "1db8fe77-09bc-4759-a487-17f162d6ef5f",
   "metadata": {},
   "source": [
    "# Чтение и подготовка данных"
   ]
  },
  {
   "cell_type": "markdown",
   "id": "93f84d64-5b37-43a4-9cb8-7aab922bf094",
   "metadata": {},
   "source": [
    "## Параметры будующей модели"
   ]
  },
  {
   "cell_type": "code",
   "execution_count": 3,
   "id": "05cbd229-cd6e-4f20-9328-7ce0e7fe7762",
   "metadata": {
    "execution": {
     "iopub.execute_input": "2024-10-02T05:12:38.177811Z",
     "iopub.status.busy": "2024-10-02T05:12:38.177400Z",
     "iopub.status.idle": "2024-10-02T05:12:38.180797Z",
     "shell.execute_reply": "2024-10-02T05:12:38.180292Z",
     "shell.execute_reply.started": "2024-10-02T05:12:38.177797Z"
    }
   },
   "outputs": [],
   "source": [
    "SEED = 160 # 290\n",
    "tf.compat.v1.set_random_seed(SEED)\n",
    "tf.random.set_seed(SEED)\n",
    "np.random.seed(SEED)\n",
    "CROP_SIZE = 16\n",
    "MODEL_VER = 14\n",
    "MODEL_NUM = 13\n",
    "PATH_TO_SAVE_MODEL = pathlib.Path(f'networks/CNN/')"
   ]
  },
  {
   "cell_type": "markdown",
   "id": "9bab494b-263b-41b7-a390-39dd38535293",
   "metadata": {},
   "source": [
    "## Параметры обучающих выборок"
   ]
  },
  {
   "cell_type": "code",
   "execution_count": 4,
   "id": "8bf461c0-86ef-4815-a965-1e766c1f33b8",
   "metadata": {
    "editable": true,
    "execution": {
     "iopub.execute_input": "2024-10-02T05:12:38.181480Z",
     "iopub.status.busy": "2024-10-02T05:12:38.181330Z",
     "iopub.status.idle": "2024-10-02T05:12:38.184741Z",
     "shell.execute_reply": "2024-10-02T05:12:38.184194Z",
     "shell.execute_reply.started": "2024-10-02T05:12:38.181469Z"
    },
    "slideshow": {
     "slide_type": ""
    },
    "tags": []
   },
   "outputs": [],
   "source": [
    "# train params that can be easily changed\n",
    "#CROP_STEP = 1\n",
    "MAX_VAL = 1000\n",
    "XSHIFT = 200\n",
    "dataset_desc = {'train': (DatasetPartDescription(PATH_TO_DATA['run_1'],DataCrop(0,0,MAX_VAL,MAX_VAL),SlidingCrop(CROP_SIZE,1),XSHIFT)\n",
    "                          #DatasetPartDescription(PATH_TO_DATA['run_2'],DataCrop(0,0,MAX_VAL,60),SlidingCrop(CROP_SIZE,1),XSHIFT)\n",
    "                          \n",
    "                         ,),\n",
    "                'val': (DatasetPartDescription(PATH_TO_DATA['run_2'],DataCrop(0,0,MAX_VAL,40),SlidingCrop(CROP_SIZE,1),XSHIFT)\n",
    "                        #DatasetPartDescription(PATH_TO_DATA['run_2'],DataCrop(0,60,MAX_VAL,20),SlidingCrop(CROP_SIZE,1),XSHIFT)\n",
    "                        \n",
    "                        ,)\n",
    "               }"
   ]
  },
  {
   "cell_type": "markdown",
   "id": "948be9f8-cebd-4c5a-930a-dc81fea888ae",
   "metadata": {},
   "source": [
    "## Чтение и подготовка данных обучающих выборок"
   ]
  },
  {
   "cell_type": "code",
   "execution_count": 5,
   "id": "66b0b4af-ac01-4237-9e3e-5e9509ac97bb",
   "metadata": {
    "execution": {
     "iopub.execute_input": "2024-10-02T05:12:38.185678Z",
     "iopub.status.busy": "2024-10-02T05:12:38.185372Z",
     "iopub.status.idle": "2024-10-02T05:12:45.995862Z",
     "shell.execute_reply": "2024-10-02T05:12:45.995299Z",
     "shell.execute_reply.started": "2024-10-02T05:12:38.185663Z"
    },
    "scrolled": true
   },
   "outputs": [
    {
     "name": "stderr",
     "output_type": "stream",
     "text": [
      "main ::      get_dataset_gen() :: start\n",
      "main.custom_modules.data_worker.data_worker ::     get_x_and_y_data() :: \n",
      "    Read detectors data shape: (115, 400)\n",
      "    Read defect data shape: (115, 400)\n",
      "main.custom_modules.data_worker.data_worker ::       normalize_data() :: \n",
      "    The arr max before normalization: 62.992\n",
      "    The arr min before normalization: -61.968\n",
      "    The arr max after normalization: 1.0\n",
      "    The arr min after normalization: 0.0\n",
      "main.custom_modules.data_worker.data_worker ::       normalize_data() :: \n",
      "    The arr max before normalization: 4.5\n",
      "    The arr min before normalization: 0.0\n",
      "    The arr max after normalization: 1.0\n",
      "    The arr min after normalization: 0.0\n",
      "main.custom_modules.data_worker._ndarray_utils :: extend_ndarray_for_prediction() :: \n",
      "    The input ndarray shape: (115, 400, 64)\n",
      "    The crop size: 16\n",
      "    The output ndarray shape: (115, 430, 64)\n",
      "main.custom_modules.data_worker._ndarray_utils :: extend_ndarray_for_crops_dividing() :: \n",
      "    The input ndarray shape: (115, 430, 64)\n",
      "    The crop size: 16\n",
      "    The crop step: 1\n",
      "    The output ndarray shape: (115, 430, 64)\n",
      "main.custom_modules.data_worker._ndarray_utils :: extend_ndarray_for_prediction() :: \n",
      "    The input ndarray shape: (115, 400)\n",
      "    The crop size: 16\n",
      "    The output ndarray shape: (115, 430)\n",
      "main.custom_modules.data_worker._ndarray_utils :: extend_ndarray_for_crops_dividing() :: \n",
      "    The input ndarray shape: (115, 430)\n",
      "    The crop size: 16\n",
      "    The crop step: 1\n",
      "    The output ndarray shape: (115, 430)\n",
      "main ::      get_dataset_gen() :: end\n",
      "main ::      get_dataset_gen() :: start\n",
      "main.custom_modules.data_worker.data_worker ::     get_x_and_y_data() :: \n",
      "    Read detectors data shape: (119, 400)\n",
      "    Read defect data shape: (119, 400)\n",
      "main.custom_modules.data_worker.data_worker ::       normalize_data() :: \n",
      "    The arr max before normalization: 62.992\n",
      "    The arr min before normalization: -62.482\n",
      "    The arr max after normalization: 1.0\n",
      "    The arr min after normalization: 0.0\n",
      "main.custom_modules.data_worker.data_worker ::       normalize_data() :: \n",
      "    The arr max before normalization: 4.5\n",
      "    The arr min before normalization: 0.0\n",
      "    The arr max after normalization: 1.0\n",
      "    The arr min after normalization: 0.0\n",
      "main.custom_modules.data_worker._ndarray_utils :: extend_ndarray_for_prediction() :: \n",
      "    The input ndarray shape: (40, 400, 64)\n",
      "    The crop size: 16\n",
      "    The output ndarray shape: (40, 430, 64)\n",
      "main.custom_modules.data_worker._ndarray_utils :: extend_ndarray_for_crops_dividing() :: \n",
      "    The input ndarray shape: (40, 430, 64)\n",
      "    The crop size: 16\n",
      "    The crop step: 1\n",
      "    The output ndarray shape: (40, 430, 64)\n",
      "main.custom_modules.data_worker._ndarray_utils :: extend_ndarray_for_prediction() :: \n",
      "    The input ndarray shape: (40, 400)\n",
      "    The crop size: 16\n",
      "    The output ndarray shape: (40, 430)\n",
      "main.custom_modules.data_worker._ndarray_utils :: extend_ndarray_for_crops_dividing() :: \n",
      "    The input ndarray shape: (40, 430)\n",
      "    The crop size: 16\n",
      "    The crop step: 1\n",
      "    The output ndarray shape: (40, 430)\n",
      "main ::      get_dataset_gen() :: end\n"
     ]
    }
   ],
   "source": [
    "#входные и выходные данные\n",
    "# reading\n",
    "dataset = {'train':dict(zip(['x','y','bin'], [np.array(list(gen)) for gen in chain_dataset_gens(dataset_desc['train'])])),\n",
    "           'val':dict(zip(['x','y','bin'], [np.array(list(gen)) for gen in chain_dataset_gens(dataset_desc['val'])]))}"
   ]
  },
  {
   "cell_type": "markdown",
   "id": "859739af-2d01-47d6-919c-4d3679c192b4",
   "metadata": {},
   "source": [
    "## Размерности данных в обучающих выборках"
   ]
  },
  {
   "cell_type": "code",
   "execution_count": 6,
   "id": "574dc24b-729c-4862-9f36-5aa0cf5e31d2",
   "metadata": {
    "execution": {
     "iopub.execute_input": "2024-10-02T05:12:45.996540Z",
     "iopub.status.busy": "2024-10-02T05:12:45.996401Z",
     "iopub.status.idle": "2024-10-02T05:12:46.004354Z",
     "shell.execute_reply": "2024-10-02T05:12:46.003816Z",
     "shell.execute_reply.started": "2024-10-02T05:12:45.996528Z"
    }
   },
   "outputs": [
    {
     "name": "stderr",
     "output_type": "stream",
     "text": [
      "main.model_train ::             <module>() :: Dataset\n",
      "main.model_train ::             <module>() :: ||||||||train||||||||\n",
      "main.model_train ::             <module>() :: x.shape: (41500, 16, 16, 64)\n",
      "main.model_train ::             <module>() :: y.shape: (41500, 16, 16)\n",
      "main.model_train ::             <module>() :: bin.shape: (41500, 1)\n",
      "main.model_train ::             <module>() :: ||||||||val||||||||\n",
      "main.model_train ::             <module>() :: x.shape: (10375, 16, 16, 64)\n",
      "main.model_train ::             <module>() :: y.shape: (10375, 16, 16)\n",
      "main.model_train ::             <module>() :: bin.shape: (10375, 1)\n"
     ]
    }
   ],
   "source": [
    "# displaying\n",
    "logger.debug('Dataset')\n",
    "for dataset_part_name, dataset_part in dataset.items():\n",
    "    logger.debug('|'*8+dataset_part_name+'|'*8)\n",
    "    for data_part_name, data_part in dataset_part.items():\n",
    "        logger.debug(f'{data_part_name}.shape: {data_part.shape}')"
   ]
  },
  {
   "cell_type": "markdown",
   "id": "04f311a3-2c83-47af-b09a-facd7ef3070f",
   "metadata": {},
   "source": [
    "## Какие части 2 файлов с данными относятся к конкретным выборкам (к тренировочной, тестовой, валидационной)"
   ]
  },
  {
   "cell_type": "code",
   "execution_count": 7,
   "id": "3a5e00ba-caa6-4a01-abfa-12819ced2b3a",
   "metadata": {
    "execution": {
     "iopub.execute_input": "2024-10-02T05:12:46.005310Z",
     "iopub.status.busy": "2024-10-02T05:12:46.004933Z",
     "iopub.status.idle": "2024-10-02T05:12:52.629243Z",
     "shell.execute_reply": "2024-10-02T05:12:52.628661Z",
     "shell.execute_reply.started": "2024-10-02T05:12:46.005296Z"
    }
   },
   "outputs": [
    {
     "name": "stderr",
     "output_type": "stream",
     "text": [
      "main.custom_modules.data_worker.data_worker ::     get_x_and_y_data() :: \n",
      "    Read detectors data shape: (115, 400)\n",
      "    Read defect data shape: (115, 400)\n"
     ]
    },
    {
     "data": {
      "image/png": "[encoded data removed]",
      "text/plain": [
       "<Figure size 1600x800 with 1 Axes>"
      ]
     },
     "metadata": {
      "needs_background": "light"
     },
     "output_type": "display_data"
    },
    {
     "name": "stderr",
     "output_type": "stream",
     "text": [
      "main.custom_modules.data_worker.data_worker ::     get_x_and_y_data() :: \n",
      "    Read detectors data shape: (119, 400)\n",
      "    Read defect data shape: (119, 400)\n"
     ]
    },
    {
     "data": {
      "image/png": "[encoded data removed]",
      "text/plain": [
       "<Figure size 1600x800 with 1 Axes>"
      ]
     },
     "metadata": {
      "needs_background": "light"
     },
     "output_type": "display_data"
    }
   ],
   "source": [
    "#выборка данных\n",
    "# show parts took for learning\n",
    "all_rects = {'run_1': {'train':None,'val':None}, \n",
    "             'run_2': {'train':None,'val':None}}\n",
    "rects_colors = {'train':'red', 'val':'green'}\n",
    "\n",
    "for run_name in all_rects.keys():\n",
    "    x_df, y_df = dw.get_x_and_y_data(*PATH_TO_DATA[run_name])\n",
    "    x_df = None\n",
    "    y_df = dw.roll_df(y_df, XSHIFT, 1)\n",
    "    for dataset_part_name in all_rects[run_name].keys():\n",
    "        # get all DatasetPartDescription for train, val or test\n",
    "        dataset_part_desc = dataset_desc[dataset_part_name]\n",
    "        # get all DatasetPartDescription for current run_name (run_1 or run_2)\n",
    "        dataset_part_desc = [dataset_part for dataset_part in dataset_part_desc if re.findall(r'run_\\d', dataset_part.data_path_tuple[0])[0] == run_name]\n",
    "        # put rects list to all_rects[run_name][dataset_part_name]\n",
    "        all_rects[run_name][dataset_part_name] = [Rectangle((dataset_part.file_data_crop.left, dataset_part.file_data_crop.top), \n",
    "                           dataset_part.file_data_crop.width, dataset_part.file_data_crop.height, \n",
    "                           facecolor=rects_colors[dataset_part_name], alpha=0.5) for dataset_part in dataset_part_desc]\n",
    "    res_rects = list(itertools.chain(*[run_rects for run_rects_name, run_rects in all_rects[run_name].items()]))\n",
    "    if res_rects:\n",
    "        dw.draw_defects_map_with_rectangles_owerlap(y_df, res_rects, title = f'The parts took for learning from run_1 (red - train, green - validate, other - test)')"
   ]
  },
  {
   "cell_type": "markdown",
   "id": "0fe870e9-0ec5-479d-ad10-c6e5e802530e",
   "metadata": {},
   "source": [
    "# Создание и обучение модели"
   ]
  },
  {
   "cell_type": "markdown",
   "id": "f6146ecc-db57-4413-a8a9-2b851ead0cbf",
   "metadata": {},
   "source": [
    "## Создание модели"
   ]
  },
  {
   "cell_type": "code",
   "execution_count": 8,
   "id": "4785ef8c-95c1-4479-9801-d035a2621fab",
   "metadata": {
    "execution": {
     "iopub.execute_input": "2024-10-02T05:12:52.630145Z",
     "iopub.status.busy": "2024-10-02T05:12:52.629989Z",
     "iopub.status.idle": "2024-10-02T05:12:52.679637Z",
     "shell.execute_reply": "2024-10-02T05:12:52.679138Z",
     "shell.execute_reply.started": "2024-10-02T05:12:52.630133Z"
    },
    "scrolled": true
   },
   "outputs": [],
   "source": [
    "#///////////////////////////////// для компиляции \n",
    "\n",
    "CMP_learning_rate = 0.005 # шаг сходимости back propogation\n",
    "#CMP_solver = keras.optimizers.Adam(CMP_learning_rate) # оптимизатор\n",
    "CMP_solver = keras.optimizers.SGD(CMP_learning_rate) # оптимизатор\n",
    "CMP_loss_funcs = keras.losses.BinaryCrossentropy() #BinaryCrossentropy() \n",
    "CMP_metrics = [keras.metrics.BinaryAccuracy(name='BinaryAccuracy'),\n",
    "               keras.metrics.MeanSquaredError(name='MeanSquaredError'),\n",
    "               keras.metrics.TruePositives(name='TruePositives'),\n",
    "               keras.metrics.FalsePositives(name='FalsePositives'),\n",
    "               keras.metrics.TrueNegatives(name='TrueNegatives'),\n",
    "               keras.metrics.FalseNegatives(name='FalseNegatives'),     \n",
    "               keras.metrics.Precision(name='Precision'),\n",
    "               keras.metrics.Recall(name='Recall'),\n",
    "               keras.metrics.AUC(name='ROC_AUC', curve='ROC'),\n",
    "               keras.metrics.AUC(name='PR_AUC', curve='PR')]"
   ]
  },
  {
   "cell_type": "code",
   "execution_count": 9,
   "id": "c7c53cc4-e675-4f9a-9dc8-372a514d4329",
   "metadata": {
    "execution": {
     "iopub.execute_input": "2024-10-02T05:12:52.680718Z",
     "iopub.status.busy": "2024-10-02T05:12:52.680258Z",
     "iopub.status.idle": "2024-10-02T05:12:52.825653Z",
     "shell.execute_reply": "2024-10-02T05:12:52.825081Z",
     "shell.execute_reply.started": "2024-10-02T05:12:52.680704Z"
    },
    "scrolled": true
   },
   "outputs": [
    {
     "data": {
      "text/html": [
       "<pre style=\"white-space:pre;overflow-x:auto;line-height:normal;font-family:Menlo,'DejaVu Sans Mono',consolas,'Courier New',monospace\"><span style=\"font-weight: bold\">Model: \"model\"</span>\n",
       "</pre>\n"
      ],
      "text/plain": [
       "\u001b[1mModel: \"model\"\u001b[0m\n"
      ]
     },
     "metadata": {},
     "output_type": "display_data"
    },
    {
     "data": {
      "text/html": [
       "<pre style=\"white-space:pre;overflow-x:auto;line-height:normal;font-family:Menlo,'DejaVu Sans Mono',consolas,'Courier New',monospace\">┏━━━━━━━━━━━━━━━━━━━━━┳━━━━━━━━━━━━━━━━━━━┳━━━━━━━━━━━━┳━━━━━━━━━━━━━━━━━━━┓\n",
       "┃<span style=\"font-weight: bold\"> Layer (type)        </span>┃<span style=\"font-weight: bold\"> Output Shape      </span>┃<span style=\"font-weight: bold\">    Param # </span>┃<span style=\"font-weight: bold\"> Connected to      </span>┃\n",
       "┡━━━━━━━━━━━━━━━━━━━━━╇━━━━━━━━━━━━━━━━━━━╇━━━━━━━━━━━━╇━━━━━━━━━━━━━━━━━━━┩\n",
       "│ input_data          │ (<span style=\"color: #00d7ff; text-decoration-color: #00d7ff\">None</span>, <span style=\"color: #00af00; text-decoration-color: #00af00\">16</span>, <span style=\"color: #00af00; text-decoration-color: #00af00\">16</span>,    │          <span style=\"color: #00af00; text-decoration-color: #00af00\">0</span> │ -                 │\n",
       "│ (<span style=\"color: #0087ff; text-decoration-color: #0087ff\">InputLayer</span>)        │ <span style=\"color: #00af00; text-decoration-color: #00af00\">64</span>)               │            │                   │\n",
       "├─────────────────────┼───────────────────┼────────────┼───────────────────┤\n",
       "│ sequential          │ (<span style=\"color: #00d7ff; text-decoration-color: #00d7ff\">None</span>, <span style=\"color: #00af00; text-decoration-color: #00af00\">16</span>, <span style=\"color: #00af00; text-decoration-color: #00af00\">16</span>,    │          <span style=\"color: #00af00; text-decoration-color: #00af00\">0</span> │ input_data[<span style=\"color: #00af00; text-decoration-color: #00af00\">0</span>][<span style=\"color: #00af00; text-decoration-color: #00af00\">0</span>]  │\n",
       "│ (<span style=\"color: #0087ff; text-decoration-color: #0087ff\">Sequential</span>)        │ <span style=\"color: #00af00; text-decoration-color: #00af00\">64</span>)               │            │                   │\n",
       "├─────────────────────┼───────────────────┼────────────┼───────────────────┤\n",
       "│ dconv_1_2 (<span style=\"color: #0087ff; text-decoration-color: #0087ff\">Conv2D</span>)  │ (<span style=\"color: #00d7ff; text-decoration-color: #00d7ff\">None</span>, <span style=\"color: #00af00; text-decoration-color: #00af00\">6</span>, <span style=\"color: #00af00; text-decoration-color: #00af00\">6</span>, <span style=\"color: #00af00; text-decoration-color: #00af00\">128</span>) │     <span style=\"color: #00af00; text-decoration-color: #00af00\">73,856</span> │ sequential[<span style=\"color: #00af00; text-decoration-color: #00af00\">0</span>][<span style=\"color: #00af00; text-decoration-color: #00af00\">0</span>]  │\n",
       "├─────────────────────┼───────────────────┼────────────┼───────────────────┤\n",
       "│ dconv_1_3 (<span style=\"color: #0087ff; text-decoration-color: #0087ff\">Conv2D</span>)  │ (<span style=\"color: #00d7ff; text-decoration-color: #00d7ff\">None</span>, <span style=\"color: #00af00; text-decoration-color: #00af00\">4</span>, <span style=\"color: #00af00; text-decoration-color: #00af00\">4</span>, <span style=\"color: #00af00; text-decoration-color: #00af00\">128</span>) │     <span style=\"color: #00af00; text-decoration-color: #00af00\">73,856</span> │ sequential[<span style=\"color: #00af00; text-decoration-color: #00af00\">0</span>][<span style=\"color: #00af00; text-decoration-color: #00af00\">0</span>]  │\n",
       "├─────────────────────┼───────────────────┼────────────┼───────────────────┤\n",
       "│ dconv_1_4 (<span style=\"color: #0087ff; text-decoration-color: #0087ff\">Conv2D</span>)  │ (<span style=\"color: #00d7ff; text-decoration-color: #00d7ff\">None</span>, <span style=\"color: #00af00; text-decoration-color: #00af00\">2</span>, <span style=\"color: #00af00; text-decoration-color: #00af00\">2</span>, <span style=\"color: #00af00; text-decoration-color: #00af00\">128</span>) │     <span style=\"color: #00af00; text-decoration-color: #00af00\">73,856</span> │ sequential[<span style=\"color: #00af00; text-decoration-color: #00af00\">0</span>][<span style=\"color: #00af00; text-decoration-color: #00af00\">0</span>]  │\n",
       "├─────────────────────┼───────────────────┼────────────┼───────────────────┤\n",
       "│ dconv_1_1 (<span style=\"color: #0087ff; text-decoration-color: #0087ff\">Conv2D</span>)  │ (<span style=\"color: #00d7ff; text-decoration-color: #00d7ff\">None</span>, <span style=\"color: #00af00; text-decoration-color: #00af00\">12</span>, <span style=\"color: #00af00; text-decoration-color: #00af00\">12</span>,    │     <span style=\"color: #00af00; text-decoration-color: #00af00\">73,856</span> │ sequential[<span style=\"color: #00af00; text-decoration-color: #00af00\">0</span>][<span style=\"color: #00af00; text-decoration-color: #00af00\">0</span>]  │\n",
       "│                     │ <span style=\"color: #00af00; text-decoration-color: #00af00\">128</span>)              │            │                   │\n",
       "├─────────────────────┼───────────────────┼────────────┼───────────────────┤\n",
       "│ up_1_2              │ (<span style=\"color: #00d7ff; text-decoration-color: #00d7ff\">None</span>, <span style=\"color: #00af00; text-decoration-color: #00af00\">12</span>, <span style=\"color: #00af00; text-decoration-color: #00af00\">12</span>,    │          <span style=\"color: #00af00; text-decoration-color: #00af00\">0</span> │ dconv_1_2[<span style=\"color: #00af00; text-decoration-color: #00af00\">0</span>][<span style=\"color: #00af00; text-decoration-color: #00af00\">0</span>]   │\n",
       "│ (<span style=\"color: #0087ff; text-decoration-color: #0087ff\">UpSampling2D</span>)      │ <span style=\"color: #00af00; text-decoration-color: #00af00\">128</span>)              │            │                   │\n",
       "├─────────────────────┼───────────────────┼────────────┼───────────────────┤\n",
       "│ up_1_3              │ (<span style=\"color: #00d7ff; text-decoration-color: #00d7ff\">None</span>, <span style=\"color: #00af00; text-decoration-color: #00af00\">12</span>, <span style=\"color: #00af00; text-decoration-color: #00af00\">12</span>,    │          <span style=\"color: #00af00; text-decoration-color: #00af00\">0</span> │ dconv_1_3[<span style=\"color: #00af00; text-decoration-color: #00af00\">0</span>][<span style=\"color: #00af00; text-decoration-color: #00af00\">0</span>]   │\n",
       "│ (<span style=\"color: #0087ff; text-decoration-color: #0087ff\">UpSampling2D</span>)      │ <span style=\"color: #00af00; text-decoration-color: #00af00\">128</span>)              │            │                   │\n",
       "├─────────────────────┼───────────────────┼────────────┼───────────────────┤\n",
       "│ up_1_4              │ (<span style=\"color: #00d7ff; text-decoration-color: #00d7ff\">None</span>, <span style=\"color: #00af00; text-decoration-color: #00af00\">12</span>, <span style=\"color: #00af00; text-decoration-color: #00af00\">12</span>,    │          <span style=\"color: #00af00; text-decoration-color: #00af00\">0</span> │ dconv_1_4[<span style=\"color: #00af00; text-decoration-color: #00af00\">0</span>][<span style=\"color: #00af00; text-decoration-color: #00af00\">0</span>]   │\n",
       "│ (<span style=\"color: #0087ff; text-decoration-color: #0087ff\">UpSampling2D</span>)      │ <span style=\"color: #00af00; text-decoration-color: #00af00\">128</span>)              │            │                   │\n",
       "├─────────────────────┼───────────────────┼────────────┼───────────────────┤\n",
       "│ conc_1_1            │ (<span style=\"color: #00d7ff; text-decoration-color: #00d7ff\">None</span>, <span style=\"color: #00af00; text-decoration-color: #00af00\">12</span>, <span style=\"color: #00af00; text-decoration-color: #00af00\">12</span>,    │          <span style=\"color: #00af00; text-decoration-color: #00af00\">0</span> │ dconv_1_1[<span style=\"color: #00af00; text-decoration-color: #00af00\">0</span>][<span style=\"color: #00af00; text-decoration-color: #00af00\">0</span>],  │\n",
       "│ (<span style=\"color: #0087ff; text-decoration-color: #0087ff\">Concatenate</span>)       │ <span style=\"color: #00af00; text-decoration-color: #00af00\">512</span>)              │            │ up_1_2[<span style=\"color: #00af00; text-decoration-color: #00af00\">0</span>][<span style=\"color: #00af00; text-decoration-color: #00af00\">0</span>],     │\n",
       "│                     │                   │            │ up_1_3[<span style=\"color: #00af00; text-decoration-color: #00af00\">0</span>][<span style=\"color: #00af00; text-decoration-color: #00af00\">0</span>],     │\n",
       "│                     │                   │            │ up_1_4[<span style=\"color: #00af00; text-decoration-color: #00af00\">0</span>][<span style=\"color: #00af00; text-decoration-color: #00af00\">0</span>]      │\n",
       "├─────────────────────┼───────────────────┼────────────┼───────────────────┤\n",
       "│ conv_2_1 (<span style=\"color: #0087ff; text-decoration-color: #0087ff\">Conv2D</span>)   │ (<span style=\"color: #00d7ff; text-decoration-color: #00d7ff\">None</span>, <span style=\"color: #00af00; text-decoration-color: #00af00\">12</span>, <span style=\"color: #00af00; text-decoration-color: #00af00\">12</span>,    │  <span style=\"color: #00af00; text-decoration-color: #00af00\">2,359,808</span> │ conc_1_1[<span style=\"color: #00af00; text-decoration-color: #00af00\">0</span>][<span style=\"color: #00af00; text-decoration-color: #00af00\">0</span>]    │\n",
       "│                     │ <span style=\"color: #00af00; text-decoration-color: #00af00\">512</span>)              │            │                   │\n",
       "├─────────────────────┼───────────────────┼────────────┼───────────────────┤\n",
       "│ conv_2_2 (<span style=\"color: #0087ff; text-decoration-color: #0087ff\">Conv2D</span>)   │ (<span style=\"color: #00d7ff; text-decoration-color: #00d7ff\">None</span>, <span style=\"color: #00af00; text-decoration-color: #00af00\">12</span>, <span style=\"color: #00af00; text-decoration-color: #00af00\">12</span>,    │  <span style=\"color: #00af00; text-decoration-color: #00af00\">2,359,808</span> │ conv_2_1[<span style=\"color: #00af00; text-decoration-color: #00af00\">0</span>][<span style=\"color: #00af00; text-decoration-color: #00af00\">0</span>]    │\n",
       "│                     │ <span style=\"color: #00af00; text-decoration-color: #00af00\">512</span>)              │            │                   │\n",
       "├─────────────────────┼───────────────────┼────────────┼───────────────────┤\n",
       "│ conv_2_3 (<span style=\"color: #0087ff; text-decoration-color: #0087ff\">Conv2D</span>)   │ (<span style=\"color: #00d7ff; text-decoration-color: #00d7ff\">None</span>, <span style=\"color: #00af00; text-decoration-color: #00af00\">12</span>, <span style=\"color: #00af00; text-decoration-color: #00af00\">12</span>,    │  <span style=\"color: #00af00; text-decoration-color: #00af00\">2,359,808</span> │ conv_2_2[<span style=\"color: #00af00; text-decoration-color: #00af00\">0</span>][<span style=\"color: #00af00; text-decoration-color: #00af00\">0</span>]    │\n",
       "│                     │ <span style=\"color: #00af00; text-decoration-color: #00af00\">512</span>)              │            │                   │\n",
       "├─────────────────────┼───────────────────┼────────────┼───────────────────┤\n",
       "│ pool_2_1            │ (<span style=\"color: #00d7ff; text-decoration-color: #00d7ff\">None</span>, <span style=\"color: #00af00; text-decoration-color: #00af00\">6</span>, <span style=\"color: #00af00; text-decoration-color: #00af00\">6</span>, <span style=\"color: #00af00; text-decoration-color: #00af00\">512</span>) │          <span style=\"color: #00af00; text-decoration-color: #00af00\">0</span> │ conv_2_3[<span style=\"color: #00af00; text-decoration-color: #00af00\">0</span>][<span style=\"color: #00af00; text-decoration-color: #00af00\">0</span>]    │\n",
       "│ (<span style=\"color: #0087ff; text-decoration-color: #0087ff\">MaxPooling2D</span>)      │                   │            │                   │\n",
       "├─────────────────────┼───────────────────┼────────────┼───────────────────┤\n",
       "│ conv_2_4 (<span style=\"color: #0087ff; text-decoration-color: #0087ff\">Conv2D</span>)   │ (<span style=\"color: #00d7ff; text-decoration-color: #00d7ff\">None</span>, <span style=\"color: #00af00; text-decoration-color: #00af00\">5</span>, <span style=\"color: #00af00; text-decoration-color: #00af00\">5</span>,      │  <span style=\"color: #00af00; text-decoration-color: #00af00\">2,098,176</span> │ pool_2_1[<span style=\"color: #00af00; text-decoration-color: #00af00\">0</span>][<span style=\"color: #00af00; text-decoration-color: #00af00\">0</span>]    │\n",
       "│                     │ <span style=\"color: #00af00; text-decoration-color: #00af00\">1024</span>)             │            │                   │\n",
       "├─────────────────────┼───────────────────┼────────────┼───────────────────┤\n",
       "│ conv_2_5 (<span style=\"color: #0087ff; text-decoration-color: #0087ff\">Conv2D</span>)   │ (<span style=\"color: #00d7ff; text-decoration-color: #00d7ff\">None</span>, <span style=\"color: #00af00; text-decoration-color: #00af00\">4</span>, <span style=\"color: #00af00; text-decoration-color: #00af00\">4</span>,      │  <span style=\"color: #00af00; text-decoration-color: #00af00\">4,195,328</span> │ conv_2_4[<span style=\"color: #00af00; text-decoration-color: #00af00\">0</span>][<span style=\"color: #00af00; text-decoration-color: #00af00\">0</span>]    │\n",
       "│                     │ <span style=\"color: #00af00; text-decoration-color: #00af00\">1024</span>)             │            │                   │\n",
       "├─────────────────────┼───────────────────┼────────────┼───────────────────┤\n",
       "│ conv_2_6 (<span style=\"color: #0087ff; text-decoration-color: #0087ff\">Conv2D</span>)   │ (<span style=\"color: #00d7ff; text-decoration-color: #00d7ff\">None</span>, <span style=\"color: #00af00; text-decoration-color: #00af00\">3</span>, <span style=\"color: #00af00; text-decoration-color: #00af00\">3</span>,      │  <span style=\"color: #00af00; text-decoration-color: #00af00\">4,195,328</span> │ conv_2_5[<span style=\"color: #00af00; text-decoration-color: #00af00\">0</span>][<span style=\"color: #00af00; text-decoration-color: #00af00\">0</span>]    │\n",
       "│                     │ <span style=\"color: #00af00; text-decoration-color: #00af00\">1024</span>)             │            │                   │\n",
       "├─────────────────────┼───────────────────┼────────────┼───────────────────┤\n",
       "│ conv_2_7 (<span style=\"color: #0087ff; text-decoration-color: #0087ff\">Conv2D</span>)   │ (<span style=\"color: #00d7ff; text-decoration-color: #00d7ff\">None</span>, <span style=\"color: #00af00; text-decoration-color: #00af00\">2</span>, <span style=\"color: #00af00; text-decoration-color: #00af00\">2</span>,      │  <span style=\"color: #00af00; text-decoration-color: #00af00\">4,195,328</span> │ conv_2_6[<span style=\"color: #00af00; text-decoration-color: #00af00\">0</span>][<span style=\"color: #00af00; text-decoration-color: #00af00\">0</span>]    │\n",
       "│                     │ <span style=\"color: #00af00; text-decoration-color: #00af00\">1024</span>)             │            │                   │\n",
       "├─────────────────────┼───────────────────┼────────────┼───────────────────┤\n",
       "│ pool_2_2            │ (<span style=\"color: #00d7ff; text-decoration-color: #00d7ff\">None</span>, <span style=\"color: #00af00; text-decoration-color: #00af00\">1</span>, <span style=\"color: #00af00; text-decoration-color: #00af00\">1</span>,      │          <span style=\"color: #00af00; text-decoration-color: #00af00\">0</span> │ conv_2_7[<span style=\"color: #00af00; text-decoration-color: #00af00\">0</span>][<span style=\"color: #00af00; text-decoration-color: #00af00\">0</span>]    │\n",
       "│ (<span style=\"color: #0087ff; text-decoration-color: #0087ff\">MaxPooling2D</span>)      │ <span style=\"color: #00af00; text-decoration-color: #00af00\">1024</span>)             │            │                   │\n",
       "├─────────────────────┼───────────────────┼────────────┼───────────────────┤\n",
       "│ flat_3_1 (<span style=\"color: #0087ff; text-decoration-color: #0087ff\">Flatten</span>)  │ (<span style=\"color: #00d7ff; text-decoration-color: #00d7ff\">None</span>, <span style=\"color: #00af00; text-decoration-color: #00af00\">1024</span>)      │          <span style=\"color: #00af00; text-decoration-color: #00af00\">0</span> │ pool_2_2[<span style=\"color: #00af00; text-decoration-color: #00af00\">0</span>][<span style=\"color: #00af00; text-decoration-color: #00af00\">0</span>]    │\n",
       "├─────────────────────┼───────────────────┼────────────┼───────────────────┤\n",
       "│ d_4_1 (<span style=\"color: #0087ff; text-decoration-color: #0087ff\">Dense</span>)       │ (<span style=\"color: #00d7ff; text-decoration-color: #00d7ff\">None</span>, <span style=\"color: #00af00; text-decoration-color: #00af00\">1024</span>)      │  <span style=\"color: #00af00; text-decoration-color: #00af00\">1,049,600</span> │ flat_3_1[<span style=\"color: #00af00; text-decoration-color: #00af00\">0</span>][<span style=\"color: #00af00; text-decoration-color: #00af00\">0</span>]    │\n",
       "├─────────────────────┼───────────────────┼────────────┼───────────────────┤\n",
       "│ d_4_2 (<span style=\"color: #0087ff; text-decoration-color: #0087ff\">Dense</span>)       │ (<span style=\"color: #00d7ff; text-decoration-color: #00d7ff\">None</span>, <span style=\"color: #00af00; text-decoration-color: #00af00\">512</span>)       │    <span style=\"color: #00af00; text-decoration-color: #00af00\">524,800</span> │ d_4_1[<span style=\"color: #00af00; text-decoration-color: #00af00\">0</span>][<span style=\"color: #00af00; text-decoration-color: #00af00\">0</span>]       │\n",
       "├─────────────────────┼───────────────────┼────────────┼───────────────────┤\n",
       "│ d_4_3 (<span style=\"color: #0087ff; text-decoration-color: #0087ff\">Dense</span>)       │ (<span style=\"color: #00d7ff; text-decoration-color: #00d7ff\">None</span>, <span style=\"color: #00af00; text-decoration-color: #00af00\">256</span>)       │    <span style=\"color: #00af00; text-decoration-color: #00af00\">131,328</span> │ d_4_2[<span style=\"color: #00af00; text-decoration-color: #00af00\">0</span>][<span style=\"color: #00af00; text-decoration-color: #00af00\">0</span>]       │\n",
       "├─────────────────────┼───────────────────┼────────────┼───────────────────┤\n",
       "│ d_4_4 (<span style=\"color: #0087ff; text-decoration-color: #0087ff\">Dense</span>)       │ (<span style=\"color: #00d7ff; text-decoration-color: #00d7ff\">None</span>, <span style=\"color: #00af00; text-decoration-color: #00af00\">128</span>)       │     <span style=\"color: #00af00; text-decoration-color: #00af00\">32,896</span> │ d_4_3[<span style=\"color: #00af00; text-decoration-color: #00af00\">0</span>][<span style=\"color: #00af00; text-decoration-color: #00af00\">0</span>]       │\n",
       "├─────────────────────┼───────────────────┼────────────┼───────────────────┤\n",
       "│ d_4_5 (<span style=\"color: #0087ff; text-decoration-color: #0087ff\">Dense</span>)       │ (<span style=\"color: #00d7ff; text-decoration-color: #00d7ff\">None</span>, <span style=\"color: #00af00; text-decoration-color: #00af00\">64</span>)        │      <span style=\"color: #00af00; text-decoration-color: #00af00\">8,256</span> │ d_4_4[<span style=\"color: #00af00; text-decoration-color: #00af00\">0</span>][<span style=\"color: #00af00; text-decoration-color: #00af00\">0</span>]       │\n",
       "├─────────────────────┼───────────────────┼────────────┼───────────────────┤\n",
       "│ d_4_6 (<span style=\"color: #0087ff; text-decoration-color: #0087ff\">Dense</span>)       │ (<span style=\"color: #00d7ff; text-decoration-color: #00d7ff\">None</span>, <span style=\"color: #00af00; text-decoration-color: #00af00\">16</span>)        │      <span style=\"color: #00af00; text-decoration-color: #00af00\">1,040</span> │ d_4_5[<span style=\"color: #00af00; text-decoration-color: #00af00\">0</span>][<span style=\"color: #00af00; text-decoration-color: #00af00\">0</span>]       │\n",
       "├─────────────────────┼───────────────────┼────────────┼───────────────────┤\n",
       "│ d_4_7 (<span style=\"color: #0087ff; text-decoration-color: #0087ff\">Dense</span>)       │ (<span style=\"color: #00d7ff; text-decoration-color: #00d7ff\">None</span>, <span style=\"color: #00af00; text-decoration-color: #00af00\">4</span>)         │         <span style=\"color: #00af00; text-decoration-color: #00af00\">68</span> │ d_4_6[<span style=\"color: #00af00; text-decoration-color: #00af00\">0</span>][<span style=\"color: #00af00; text-decoration-color: #00af00\">0</span>]       │\n",
       "├─────────────────────┼───────────────────┼────────────┼───────────────────┤\n",
       "│ output_def_bool     │ (<span style=\"color: #00d7ff; text-decoration-color: #00d7ff\">None</span>, <span style=\"color: #00af00; text-decoration-color: #00af00\">1</span>)         │          <span style=\"color: #00af00; text-decoration-color: #00af00\">5</span> │ d_4_7[<span style=\"color: #00af00; text-decoration-color: #00af00\">0</span>][<span style=\"color: #00af00; text-decoration-color: #00af00\">0</span>]       │\n",
       "│ (<span style=\"color: #0087ff; text-decoration-color: #0087ff\">Dense</span>)             │                   │            │                   │\n",
       "└─────────────────────┴───────────────────┴────────────┴───────────────────┘\n",
       "</pre>\n"
      ],
      "text/plain": [
       "┏━━━━━━━━━━━━━━━━━━━━━┳━━━━━━━━━━━━━━━━━━━┳━━━━━━━━━━━━┳━━━━━━━━━━━━━━━━━━━┓\n",
       "┃\u001b[1m \u001b[0m\u001b[1mLayer (type)       \u001b[0m\u001b[1m \u001b[0m┃\u001b[1m \u001b[0m\u001b[1mOutput Shape     \u001b[0m\u001b[1m \u001b[0m┃\u001b[1m \u001b[0m\u001b[1m   Param #\u001b[0m\u001b[1m \u001b[0m┃\u001b[1m \u001b[0m\u001b[1mConnected to     \u001b[0m\u001b[1m \u001b[0m┃\n",
       "┡━━━━━━━━━━━━━━━━━━━━━╇━━━━━━━━━━━━━━━━━━━╇━━━━━━━━━━━━╇━━━━━━━━━━━━━━━━━━━┩\n",
       "│ input_data          │ (\u001b[38;5;45mNone\u001b[0m, \u001b[38;5;34m16\u001b[0m, \u001b[38;5;34m16\u001b[0m,    │          \u001b[38;5;34m0\u001b[0m │ -                 │\n",
       "│ (\u001b[38;5;33mInputLayer\u001b[0m)        │ \u001b[38;5;34m64\u001b[0m)               │            │                   │\n",
       "├─────────────────────┼───────────────────┼────────────┼───────────────────┤\n",
       "│ sequential          │ (\u001b[38;5;45mNone\u001b[0m, \u001b[38;5;34m16\u001b[0m, \u001b[38;5;34m16\u001b[0m,    │          \u001b[38;5;34m0\u001b[0m │ input_data[\u001b[38;5;34m0\u001b[0m][\u001b[38;5;34m0\u001b[0m]  │\n",
       "│ (\u001b[38;5;33mSequential\u001b[0m)        │ \u001b[38;5;34m64\u001b[0m)               │            │                   │\n",
       "├─────────────────────┼───────────────────┼────────────┼───────────────────┤\n",
       "│ dconv_1_2 (\u001b[38;5;33mConv2D\u001b[0m)  │ (\u001b[38;5;45mNone\u001b[0m, \u001b[38;5;34m6\u001b[0m, \u001b[38;5;34m6\u001b[0m, \u001b[38;5;34m128\u001b[0m) │     \u001b[38;5;34m73,856\u001b[0m │ sequential[\u001b[38;5;34m0\u001b[0m][\u001b[38;5;34m0\u001b[0m]  │\n",
       "├─────────────────────┼───────────────────┼────────────┼───────────────────┤\n",
       "│ dconv_1_3 (\u001b[38;5;33mConv2D\u001b[0m)  │ (\u001b[38;5;45mNone\u001b[0m, \u001b[38;5;34m4\u001b[0m, \u001b[38;5;34m4\u001b[0m, \u001b[38;5;34m128\u001b[0m) │     \u001b[38;5;34m73,856\u001b[0m │ sequential[\u001b[38;5;34m0\u001b[0m][\u001b[38;5;34m0\u001b[0m]  │\n",
       "├─────────────────────┼───────────────────┼────────────┼───────────────────┤\n",
       "│ dconv_1_4 (\u001b[38;5;33mConv2D\u001b[0m)  │ (\u001b[38;5;45mNone\u001b[0m, \u001b[38;5;34m2\u001b[0m, \u001b[38;5;34m2\u001b[0m, \u001b[38;5;34m128\u001b[0m) │     \u001b[38;5;34m73,856\u001b[0m │ sequential[\u001b[38;5;34m0\u001b[0m][\u001b[38;5;34m0\u001b[0m]  │\n",
       "├─────────────────────┼───────────────────┼────────────┼───────────────────┤\n",
       "│ dconv_1_1 (\u001b[38;5;33mConv2D\u001b[0m)  │ (\u001b[38;5;45mNone\u001b[0m, \u001b[38;5;34m12\u001b[0m, \u001b[38;5;34m12\u001b[0m,    │     \u001b[38;5;34m73,856\u001b[0m │ sequential[\u001b[38;5;34m0\u001b[0m][\u001b[38;5;34m0\u001b[0m]  │\n",
       "│                     │ \u001b[38;5;34m128\u001b[0m)              │            │                   │\n",
       "├─────────────────────┼───────────────────┼────────────┼───────────────────┤\n",
       "│ up_1_2              │ (\u001b[38;5;45mNone\u001b[0m, \u001b[38;5;34m12\u001b[0m, \u001b[38;5;34m12\u001b[0m,    │          \u001b[38;5;34m0\u001b[0m │ dconv_1_2[\u001b[38;5;34m0\u001b[0m][\u001b[38;5;34m0\u001b[0m]   │\n",
       "│ (\u001b[38;5;33mUpSampling2D\u001b[0m)      │ \u001b[38;5;34m128\u001b[0m)              │            │                   │\n",
       "├─────────────────────┼───────────────────┼────────────┼───────────────────┤\n",
       "│ up_1_3              │ (\u001b[38;5;45mNone\u001b[0m, \u001b[38;5;34m12\u001b[0m, \u001b[38;5;34m12\u001b[0m,    │          \u001b[38;5;34m0\u001b[0m │ dconv_1_3[\u001b[38;5;34m0\u001b[0m][\u001b[38;5;34m0\u001b[0m]   │\n",
       "│ (\u001b[38;5;33mUpSampling2D\u001b[0m)      │ \u001b[38;5;34m128\u001b[0m)              │            │                   │\n",
       "├─────────────────────┼───────────────────┼────────────┼───────────────────┤\n",
       "│ up_1_4              │ (\u001b[38;5;45mNone\u001b[0m, \u001b[38;5;34m12\u001b[0m, \u001b[38;5;34m12\u001b[0m,    │          \u001b[38;5;34m0\u001b[0m │ dconv_1_4[\u001b[38;5;34m0\u001b[0m][\u001b[38;5;34m0\u001b[0m]   │\n",
       "│ (\u001b[38;5;33mUpSampling2D\u001b[0m)      │ \u001b[38;5;34m128\u001b[0m)              │            │                   │\n",
       "├─────────────────────┼───────────────────┼────────────┼───────────────────┤\n",
       "│ conc_1_1            │ (\u001b[38;5;45mNone\u001b[0m, \u001b[38;5;34m12\u001b[0m, \u001b[38;5;34m12\u001b[0m,    │          \u001b[38;5;34m0\u001b[0m │ dconv_1_1[\u001b[38;5;34m0\u001b[0m][\u001b[38;5;34m0\u001b[0m],  │\n",
       "│ (\u001b[38;5;33mConcatenate\u001b[0m)       │ \u001b[38;5;34m512\u001b[0m)              │            │ up_1_2[\u001b[38;5;34m0\u001b[0m][\u001b[38;5;34m0\u001b[0m],     │\n",
       "│                     │                   │            │ up_1_3[\u001b[38;5;34m0\u001b[0m][\u001b[38;5;34m0\u001b[0m],     │\n",
       "│                     │                   │            │ up_1_4[\u001b[38;5;34m0\u001b[0m][\u001b[38;5;34m0\u001b[0m]      │\n",
       "├─────────────────────┼───────────────────┼────────────┼───────────────────┤\n",
       "│ conv_2_1 (\u001b[38;5;33mConv2D\u001b[0m)   │ (\u001b[38;5;45mNone\u001b[0m, \u001b[38;5;34m12\u001b[0m, \u001b[38;5;34m12\u001b[0m,    │  \u001b[38;5;34m2,359,808\u001b[0m │ conc_1_1[\u001b[38;5;34m0\u001b[0m][\u001b[38;5;34m0\u001b[0m]    │\n",
       "│                     │ \u001b[38;5;34m512\u001b[0m)              │            │                   │\n",
       "├─────────────────────┼───────────────────┼────────────┼───────────────────┤\n",
       "│ conv_2_2 (\u001b[38;5;33mConv2D\u001b[0m)   │ (\u001b[38;5;45mNone\u001b[0m, \u001b[38;5;34m12\u001b[0m, \u001b[38;5;34m12\u001b[0m,    │  \u001b[38;5;34m2,359,808\u001b[0m │ conv_2_1[\u001b[38;5;34m0\u001b[0m][\u001b[38;5;34m0\u001b[0m]    │\n",
       "│                     │ \u001b[38;5;34m512\u001b[0m)              │            │                   │\n",
       "├─────────────────────┼───────────────────┼────────────┼───────────────────┤\n",
       "│ conv_2_3 (\u001b[38;5;33mConv2D\u001b[0m)   │ (\u001b[38;5;45mNone\u001b[0m, \u001b[38;5;34m12\u001b[0m, \u001b[38;5;34m12\u001b[0m,    │  \u001b[38;5;34m2,359,808\u001b[0m │ conv_2_2[\u001b[38;5;34m0\u001b[0m][\u001b[38;5;34m0\u001b[0m]    │\n",
       "│                     │ \u001b[38;5;34m512\u001b[0m)              │            │                   │\n",
       "├─────────────────────┼───────────────────┼────────────┼───────────────────┤\n",
       "│ pool_2_1            │ (\u001b[38;5;45mNone\u001b[0m, \u001b[38;5;34m6\u001b[0m, \u001b[38;5;34m6\u001b[0m, \u001b[38;5;34m512\u001b[0m) │          \u001b[38;5;34m0\u001b[0m │ conv_2_3[\u001b[38;5;34m0\u001b[0m][\u001b[38;5;34m0\u001b[0m]    │\n",
       "│ (\u001b[38;5;33mMaxPooling2D\u001b[0m)      │                   │            │                   │\n",
       "├─────────────────────┼───────────────────┼────────────┼───────────────────┤\n",
       "│ conv_2_4 (\u001b[38;5;33mConv2D\u001b[0m)   │ (\u001b[38;5;45mNone\u001b[0m, \u001b[38;5;34m5\u001b[0m, \u001b[38;5;34m5\u001b[0m,      │  \u001b[38;5;34m2,098,176\u001b[0m │ pool_2_1[\u001b[38;5;34m0\u001b[0m][\u001b[38;5;34m0\u001b[0m]    │\n",
       "│                     │ \u001b[38;5;34m1024\u001b[0m)             │            │                   │\n",
       "├─────────────────────┼───────────────────┼────────────┼───────────────────┤\n",
       "│ conv_2_5 (\u001b[38;5;33mConv2D\u001b[0m)   │ (\u001b[38;5;45mNone\u001b[0m, \u001b[38;5;34m4\u001b[0m, \u001b[38;5;34m4\u001b[0m,      │  \u001b[38;5;34m4,195,328\u001b[0m │ conv_2_4[\u001b[38;5;34m0\u001b[0m][\u001b[38;5;34m0\u001b[0m]    │\n",
       "│                     │ \u001b[38;5;34m1024\u001b[0m)             │            │                   │\n",
       "├─────────────────────┼───────────────────┼────────────┼───────────────────┤\n",
       "│ conv_2_6 (\u001b[38;5;33mConv2D\u001b[0m)   │ (\u001b[38;5;45mNone\u001b[0m, \u001b[38;5;34m3\u001b[0m, \u001b[38;5;34m3\u001b[0m,      │  \u001b[38;5;34m4,195,328\u001b[0m │ conv_2_5[\u001b[38;5;34m0\u001b[0m][\u001b[38;5;34m0\u001b[0m]    │\n",
       "│                     │ \u001b[38;5;34m1024\u001b[0m)             │            │                   │\n",
       "├─────────────────────┼───────────────────┼────────────┼───────────────────┤\n",
       "│ conv_2_7 (\u001b[38;5;33mConv2D\u001b[0m)   │ (\u001b[38;5;45mNone\u001b[0m, \u001b[38;5;34m2\u001b[0m, \u001b[38;5;34m2\u001b[0m,      │  \u001b[38;5;34m4,195,328\u001b[0m │ conv_2_6[\u001b[38;5;34m0\u001b[0m][\u001b[38;5;34m0\u001b[0m]    │\n",
       "│                     │ \u001b[38;5;34m1024\u001b[0m)             │            │                   │\n",
       "├─────────────────────┼───────────────────┼────────────┼───────────────────┤\n",
       "│ pool_2_2            │ (\u001b[38;5;45mNone\u001b[0m, \u001b[38;5;34m1\u001b[0m, \u001b[38;5;34m1\u001b[0m,      │          \u001b[38;5;34m0\u001b[0m │ conv_2_7[\u001b[38;5;34m0\u001b[0m][\u001b[38;5;34m0\u001b[0m]    │\n",
       "│ (\u001b[38;5;33mMaxPooling2D\u001b[0m)      │ \u001b[38;5;34m1024\u001b[0m)             │            │                   │\n",
       "├─────────────────────┼───────────────────┼────────────┼───────────────────┤\n",
       "│ flat_3_1 (\u001b[38;5;33mFlatten\u001b[0m)  │ (\u001b[38;5;45mNone\u001b[0m, \u001b[38;5;34m1024\u001b[0m)      │          \u001b[38;5;34m0\u001b[0m │ pool_2_2[\u001b[38;5;34m0\u001b[0m][\u001b[38;5;34m0\u001b[0m]    │\n",
       "├─────────────────────┼───────────────────┼────────────┼───────────────────┤\n",
       "│ d_4_1 (\u001b[38;5;33mDense\u001b[0m)       │ (\u001b[38;5;45mNone\u001b[0m, \u001b[38;5;34m1024\u001b[0m)      │  \u001b[38;5;34m1,049,600\u001b[0m │ flat_3_1[\u001b[38;5;34m0\u001b[0m][\u001b[38;5;34m0\u001b[0m]    │\n",
       "├─────────────────────┼───────────────────┼────────────┼───────────────────┤\n",
       "│ d_4_2 (\u001b[38;5;33mDense\u001b[0m)       │ (\u001b[38;5;45mNone\u001b[0m, \u001b[38;5;34m512\u001b[0m)       │    \u001b[38;5;34m524,800\u001b[0m │ d_4_1[\u001b[38;5;34m0\u001b[0m][\u001b[38;5;34m0\u001b[0m]       │\n",
       "├─────────────────────┼───────────────────┼────────────┼───────────────────┤\n",
       "│ d_4_3 (\u001b[38;5;33mDense\u001b[0m)       │ (\u001b[38;5;45mNone\u001b[0m, \u001b[38;5;34m256\u001b[0m)       │    \u001b[38;5;34m131,328\u001b[0m │ d_4_2[\u001b[38;5;34m0\u001b[0m][\u001b[38;5;34m0\u001b[0m]       │\n",
       "├─────────────────────┼───────────────────┼────────────┼───────────────────┤\n",
       "│ d_4_4 (\u001b[38;5;33mDense\u001b[0m)       │ (\u001b[38;5;45mNone\u001b[0m, \u001b[38;5;34m128\u001b[0m)       │     \u001b[38;5;34m32,896\u001b[0m │ d_4_3[\u001b[38;5;34m0\u001b[0m][\u001b[38;5;34m0\u001b[0m]       │\n",
       "├─────────────────────┼───────────────────┼────────────┼───────────────────┤\n",
       "│ d_4_5 (\u001b[38;5;33mDense\u001b[0m)       │ (\u001b[38;5;45mNone\u001b[0m, \u001b[38;5;34m64\u001b[0m)        │      \u001b[38;5;34m8,256\u001b[0m │ d_4_4[\u001b[38;5;34m0\u001b[0m][\u001b[38;5;34m0\u001b[0m]       │\n",
       "├─────────────────────┼───────────────────┼────────────┼───────────────────┤\n",
       "│ d_4_6 (\u001b[38;5;33mDense\u001b[0m)       │ (\u001b[38;5;45mNone\u001b[0m, \u001b[38;5;34m16\u001b[0m)        │      \u001b[38;5;34m1,040\u001b[0m │ d_4_5[\u001b[38;5;34m0\u001b[0m][\u001b[38;5;34m0\u001b[0m]       │\n",
       "├─────────────────────┼───────────────────┼────────────┼───────────────────┤\n",
       "│ d_4_7 (\u001b[38;5;33mDense\u001b[0m)       │ (\u001b[38;5;45mNone\u001b[0m, \u001b[38;5;34m4\u001b[0m)         │         \u001b[38;5;34m68\u001b[0m │ d_4_6[\u001b[38;5;34m0\u001b[0m][\u001b[38;5;34m0\u001b[0m]       │\n",
       "├─────────────────────┼───────────────────┼────────────┼───────────────────┤\n",
       "│ output_def_bool     │ (\u001b[38;5;45mNone\u001b[0m, \u001b[38;5;34m1\u001b[0m)         │          \u001b[38;5;34m5\u001b[0m │ d_4_7[\u001b[38;5;34m0\u001b[0m][\u001b[38;5;34m0\u001b[0m]       │\n",
       "│ (\u001b[38;5;33mDense\u001b[0m)             │                   │            │                   │\n",
       "└─────────────────────┴───────────────────┴────────────┴───────────────────┘\n"
      ]
     },
     "metadata": {},
     "output_type": "display_data"
    },
    {
     "data": {
      "text/html": [
       "<pre style=\"white-space:pre;overflow-x:auto;line-height:normal;font-family:Menlo,'DejaVu Sans Mono',consolas,'Courier New',monospace\"><span style=\"font-weight: bold\"> Total params: </span><span style=\"color: #00af00; text-decoration-color: #00af00\">23,807,001</span> (90.82 MB)\n",
       "</pre>\n"
      ],
      "text/plain": [
       "\u001b[1m Total params: \u001b[0m\u001b[38;5;34m23,807,001\u001b[0m (90.82 MB)\n"
      ]
     },
     "metadata": {},
     "output_type": "display_data"
    },
    {
     "data": {
      "text/html": [
       "<pre style=\"white-space:pre;overflow-x:auto;line-height:normal;font-family:Menlo,'DejaVu Sans Mono',consolas,'Courier New',monospace\"><span style=\"font-weight: bold\"> Trainable params: </span><span style=\"color: #00af00; text-decoration-color: #00af00\">23,807,001</span> (90.82 MB)\n",
       "</pre>\n"
      ],
      "text/plain": [
       "\u001b[1m Trainable params: \u001b[0m\u001b[38;5;34m23,807,001\u001b[0m (90.82 MB)\n"
      ]
     },
     "metadata": {},
     "output_type": "display_data"
    },
    {
     "data": {
      "text/html": [
       "<pre style=\"white-space:pre;overflow-x:auto;line-height:normal;font-family:Menlo,'DejaVu Sans Mono',consolas,'Courier New',monospace\"><span style=\"font-weight: bold\"> Non-trainable params: </span><span style=\"color: #00af00; text-decoration-color: #00af00\">0</span> (0.00 B)\n",
       "</pre>\n"
      ],
      "text/plain": [
       "\u001b[1m Non-trainable params: \u001b[0m\u001b[38;5;34m0\u001b[0m (0.00 B)\n"
      ]
     },
     "metadata": {},
     "output_type": "display_data"
    },
    {
     "name": "stdout",
     "output_type": "stream",
     "text": [
      "None\n"
     ]
    }
   ],
   "source": [
    "augment_data = tf.keras.Sequential([\n",
    "  layers.RandomFlip(\"horizontal_and_vertical\"),\n",
    "  layers.RandomRotation(1),\n",
    "  #layers.RandomTranslation(0.4,0.4,fill_mode=\"reflect\"),\n",
    "  #layers.RandomZoom(0.2,0.2,fill_mode=\"reflect\")\n",
    "])\n",
    "\n",
    "input_data = Input((16,16,64), name = 'input_data')\n",
    "\n",
    "aug_data = augment_data(input_data)\n",
    "\n",
    "# 12\n",
    "dconv_1_1 = Conv2D(128, (3,3), dilation_rate=(2, 2), activation='relu', name='dconv_1_1')(aug_data)\n",
    "\n",
    "# 6\n",
    "dconv_1_2 = Conv2D(128, (3,3), dilation_rate=(5, 5), activation='relu', name='dconv_1_2')(aug_data)\n",
    "up_1_2 = UpSampling2D(2, interpolation='bilinear', name='up_1_2') (dconv_1_2)\n",
    "\n",
    "# 4\n",
    "dconv_1_3 = Conv2D(128, (3,3), dilation_rate=(6, 6), activation='relu', name='dconv_1_3')(aug_data)\n",
    "up_1_3 = UpSampling2D(3, interpolation='bilinear', name='up_1_3') (dconv_1_3)\n",
    "\n",
    "# 2\n",
    "dconv_1_4 = Conv2D(128, (3,3), dilation_rate=(7, 7), activation='relu', name='dconv_1_4')(aug_data)\n",
    "up_1_4 = UpSampling2D(6, interpolation='bilinear', name='up_1_4') (dconv_1_4)\n",
    "\n",
    "\n",
    "conc_1_1 = concatenate([dconv_1_1, up_1_2, up_1_3, up_1_4],axis=3, name='conc_1_1')\n",
    "\n",
    "\n",
    "conv_2_1 = Conv2D(512, (3,3), dilation_rate=(2, 2), activation='relu', padding='same', name='conv_2_1')(conc_1_1)\n",
    "conv_2_2 = Conv2D(512, (3,3), dilation_rate=(2, 2), activation='relu', padding='same', name='conv_2_2')(conv_2_1)\n",
    "conv_2_3 = Conv2D(512, (3,3), dilation_rate=(2, 2), activation='relu', padding='same', name='conv_2_3')(conv_2_2)\n",
    "pool_2_1 = MaxPooling2D((2,2), strides=2, name='pool_2_1')(conv_2_3)\n",
    "\n",
    "conv_2_4 = Conv2D(1024, (2,2), activation='relu', name='conv_2_4')(pool_2_1)\n",
    "conv_2_5 = Conv2D(1024, (2,2), activation='relu', name='conv_2_5')(conv_2_4)\n",
    "conv_2_6 = Conv2D(1024, (2,2), activation='relu', name='conv_2_6')(conv_2_5)\n",
    "conv_2_7 = Conv2D(1024, (2,2), activation='relu', name='conv_2_7')(conv_2_6)\n",
    "pool_2_2 = MaxPooling2D((2,2), strides=2, name='pool_2_2')(conv_2_7)\n",
    "\n",
    "d_4_1 = Dense(1024, activation='linear', name='d_4_1')(Flatten(name='flat_3_1')(pool_2_2))\n",
    "d_4_2 = Dense(512, activation='linear', name='d_4_2')(d_4_1)\n",
    "d_4_3 = Dense(256, activation='linear', name='d_4_3')(d_4_2)\n",
    "d_4_4 = Dense(128, activation='linear', name='d_4_4')(d_4_3)\n",
    "d_4_5 = Dense(64, activation='linear', name='d_4_5')(d_4_4)\n",
    "d_4_6 = Dense(16, activation='linear', name='d_4_6')(d_4_5)\n",
    "d_4_7 = Dense(4, activation='linear', name='d_4_7')(d_4_6)\n",
    "\n",
    "output_def_bool = Dense(1, activation='sigmoid', name='output_def_bool')(d_4_7)\n",
    "    \n",
    "model = keras.Model([input_data], [output_def_bool], name='model')\n",
    "\n",
    "#model = keras.models.load_model('networks/CNN/id=v13n01_in(16x16x64)_out(1)_train=0dot0_test=0dot0.keras')\n",
    "\n",
    "model.compile(optimizer=CMP_solver, loss=CMP_loss_funcs, metrics=CMP_metrics)\n",
    "\n",
    "print(model.summary())"
   ]
  },
  {
   "cell_type": "markdown",
   "id": "19bfcc54-5c5a-4938-a91b-947a858b9938",
   "metadata": {},
   "source": [
    "## Вывод параметров модели"
   ]
  },
  {
   "cell_type": "code",
   "execution_count": 10,
   "id": "994b38b9-92f4-4103-becf-71c82bde93a9",
   "metadata": {
    "execution": {
     "iopub.execute_input": "2024-10-02T05:12:52.827144Z",
     "iopub.status.busy": "2024-10-02T05:12:52.826627Z",
     "iopub.status.idle": "2024-10-02T05:12:52.849759Z",
     "shell.execute_reply": "2024-10-02T05:12:52.849207Z",
     "shell.execute_reply.started": "2024-10-02T05:12:52.827130Z"
    },
    "scrolled": true
   },
   "outputs": [
    {
     "data": {
      "text/html": [
       "<pre style=\"white-space:pre;overflow-x:auto;line-height:normal;font-family:Menlo,'DejaVu Sans Mono',consolas,'Courier New',monospace\"><span style=\"font-weight: bold\">Model: \"model\"</span>\n",
       "</pre>\n"
      ],
      "text/plain": [
       "\u001b[1mModel: \"model\"\u001b[0m\n"
      ]
     },
     "metadata": {},
     "output_type": "display_data"
    },
    {
     "data": {
      "text/html": [
       "<pre style=\"white-space:pre;overflow-x:auto;line-height:normal;font-family:Menlo,'DejaVu Sans Mono',consolas,'Courier New',monospace\">┏━━━━━━━━━━━━━━━━━━━━━┳━━━━━━━━━━━━━━━━━━━┳━━━━━━━━━━━━┳━━━━━━━━━━━━━━━━━━━┓\n",
       "┃<span style=\"font-weight: bold\"> Layer (type)        </span>┃<span style=\"font-weight: bold\"> Output Shape      </span>┃<span style=\"font-weight: bold\">    Param # </span>┃<span style=\"font-weight: bold\"> Connected to      </span>┃\n",
       "┡━━━━━━━━━━━━━━━━━━━━━╇━━━━━━━━━━━━━━━━━━━╇━━━━━━━━━━━━╇━━━━━━━━━━━━━━━━━━━┩\n",
       "│ input_data          │ (<span style=\"color: #00d7ff; text-decoration-color: #00d7ff\">None</span>, <span style=\"color: #00af00; text-decoration-color: #00af00\">16</span>, <span style=\"color: #00af00; text-decoration-color: #00af00\">16</span>,    │          <span style=\"color: #00af00; text-decoration-color: #00af00\">0</span> │ -                 │\n",
       "│ (<span style=\"color: #0087ff; text-decoration-color: #0087ff\">InputLayer</span>)        │ <span style=\"color: #00af00; text-decoration-color: #00af00\">64</span>)               │            │                   │\n",
       "├─────────────────────┼───────────────────┼────────────┼───────────────────┤\n",
       "│ sequential          │ (<span style=\"color: #00d7ff; text-decoration-color: #00d7ff\">None</span>, <span style=\"color: #00af00; text-decoration-color: #00af00\">16</span>, <span style=\"color: #00af00; text-decoration-color: #00af00\">16</span>,    │          <span style=\"color: #00af00; text-decoration-color: #00af00\">0</span> │ input_data[<span style=\"color: #00af00; text-decoration-color: #00af00\">0</span>][<span style=\"color: #00af00; text-decoration-color: #00af00\">0</span>]  │\n",
       "│ (<span style=\"color: #0087ff; text-decoration-color: #0087ff\">Sequential</span>)        │ <span style=\"color: #00af00; text-decoration-color: #00af00\">64</span>)               │            │                   │\n",
       "├─────────────────────┼───────────────────┼────────────┼───────────────────┤\n",
       "│ dconv_1_2 (<span style=\"color: #0087ff; text-decoration-color: #0087ff\">Conv2D</span>)  │ (<span style=\"color: #00d7ff; text-decoration-color: #00d7ff\">None</span>, <span style=\"color: #00af00; text-decoration-color: #00af00\">6</span>, <span style=\"color: #00af00; text-decoration-color: #00af00\">6</span>, <span style=\"color: #00af00; text-decoration-color: #00af00\">128</span>) │     <span style=\"color: #00af00; text-decoration-color: #00af00\">73,856</span> │ sequential[<span style=\"color: #00af00; text-decoration-color: #00af00\">0</span>][<span style=\"color: #00af00; text-decoration-color: #00af00\">0</span>]  │\n",
       "├─────────────────────┼───────────────────┼────────────┼───────────────────┤\n",
       "│ dconv_1_3 (<span style=\"color: #0087ff; text-decoration-color: #0087ff\">Conv2D</span>)  │ (<span style=\"color: #00d7ff; text-decoration-color: #00d7ff\">None</span>, <span style=\"color: #00af00; text-decoration-color: #00af00\">4</span>, <span style=\"color: #00af00; text-decoration-color: #00af00\">4</span>, <span style=\"color: #00af00; text-decoration-color: #00af00\">128</span>) │     <span style=\"color: #00af00; text-decoration-color: #00af00\">73,856</span> │ sequential[<span style=\"color: #00af00; text-decoration-color: #00af00\">0</span>][<span style=\"color: #00af00; text-decoration-color: #00af00\">0</span>]  │\n",
       "├─────────────────────┼───────────────────┼────────────┼───────────────────┤\n",
       "│ dconv_1_4 (<span style=\"color: #0087ff; text-decoration-color: #0087ff\">Conv2D</span>)  │ (<span style=\"color: #00d7ff; text-decoration-color: #00d7ff\">None</span>, <span style=\"color: #00af00; text-decoration-color: #00af00\">2</span>, <span style=\"color: #00af00; text-decoration-color: #00af00\">2</span>, <span style=\"color: #00af00; text-decoration-color: #00af00\">128</span>) │     <span style=\"color: #00af00; text-decoration-color: #00af00\">73,856</span> │ sequential[<span style=\"color: #00af00; text-decoration-color: #00af00\">0</span>][<span style=\"color: #00af00; text-decoration-color: #00af00\">0</span>]  │\n",
       "├─────────────────────┼───────────────────┼────────────┼───────────────────┤\n",
       "│ dconv_1_1 (<span style=\"color: #0087ff; text-decoration-color: #0087ff\">Conv2D</span>)  │ (<span style=\"color: #00d7ff; text-decoration-color: #00d7ff\">None</span>, <span style=\"color: #00af00; text-decoration-color: #00af00\">12</span>, <span style=\"color: #00af00; text-decoration-color: #00af00\">12</span>,    │     <span style=\"color: #00af00; text-decoration-color: #00af00\">73,856</span> │ sequential[<span style=\"color: #00af00; text-decoration-color: #00af00\">0</span>][<span style=\"color: #00af00; text-decoration-color: #00af00\">0</span>]  │\n",
       "│                     │ <span style=\"color: #00af00; text-decoration-color: #00af00\">128</span>)              │            │                   │\n",
       "├─────────────────────┼───────────────────┼────────────┼───────────────────┤\n",
       "│ up_1_2              │ (<span style=\"color: #00d7ff; text-decoration-color: #00d7ff\">None</span>, <span style=\"color: #00af00; text-decoration-color: #00af00\">12</span>, <span style=\"color: #00af00; text-decoration-color: #00af00\">12</span>,    │          <span style=\"color: #00af00; text-decoration-color: #00af00\">0</span> │ dconv_1_2[<span style=\"color: #00af00; text-decoration-color: #00af00\">0</span>][<span style=\"color: #00af00; text-decoration-color: #00af00\">0</span>]   │\n",
       "│ (<span style=\"color: #0087ff; text-decoration-color: #0087ff\">UpSampling2D</span>)      │ <span style=\"color: #00af00; text-decoration-color: #00af00\">128</span>)              │            │                   │\n",
       "├─────────────────────┼───────────────────┼────────────┼───────────────────┤\n",
       "│ up_1_3              │ (<span style=\"color: #00d7ff; text-decoration-color: #00d7ff\">None</span>, <span style=\"color: #00af00; text-decoration-color: #00af00\">12</span>, <span style=\"color: #00af00; text-decoration-color: #00af00\">12</span>,    │          <span style=\"color: #00af00; text-decoration-color: #00af00\">0</span> │ dconv_1_3[<span style=\"color: #00af00; text-decoration-color: #00af00\">0</span>][<span style=\"color: #00af00; text-decoration-color: #00af00\">0</span>]   │\n",
       "│ (<span style=\"color: #0087ff; text-decoration-color: #0087ff\">UpSampling2D</span>)      │ <span style=\"color: #00af00; text-decoration-color: #00af00\">128</span>)              │            │                   │\n",
       "├─────────────────────┼───────────────────┼────────────┼───────────────────┤\n",
       "│ up_1_4              │ (<span style=\"color: #00d7ff; text-decoration-color: #00d7ff\">None</span>, <span style=\"color: #00af00; text-decoration-color: #00af00\">12</span>, <span style=\"color: #00af00; text-decoration-color: #00af00\">12</span>,    │          <span style=\"color: #00af00; text-decoration-color: #00af00\">0</span> │ dconv_1_4[<span style=\"color: #00af00; text-decoration-color: #00af00\">0</span>][<span style=\"color: #00af00; text-decoration-color: #00af00\">0</span>]   │\n",
       "│ (<span style=\"color: #0087ff; text-decoration-color: #0087ff\">UpSampling2D</span>)      │ <span style=\"color: #00af00; text-decoration-color: #00af00\">128</span>)              │            │                   │\n",
       "├─────────────────────┼───────────────────┼────────────┼───────────────────┤\n",
       "│ conc_1_1            │ (<span style=\"color: #00d7ff; text-decoration-color: #00d7ff\">None</span>, <span style=\"color: #00af00; text-decoration-color: #00af00\">12</span>, <span style=\"color: #00af00; text-decoration-color: #00af00\">12</span>,    │          <span style=\"color: #00af00; text-decoration-color: #00af00\">0</span> │ dconv_1_1[<span style=\"color: #00af00; text-decoration-color: #00af00\">0</span>][<span style=\"color: #00af00; text-decoration-color: #00af00\">0</span>],  │\n",
       "│ (<span style=\"color: #0087ff; text-decoration-color: #0087ff\">Concatenate</span>)       │ <span style=\"color: #00af00; text-decoration-color: #00af00\">512</span>)              │            │ up_1_2[<span style=\"color: #00af00; text-decoration-color: #00af00\">0</span>][<span style=\"color: #00af00; text-decoration-color: #00af00\">0</span>],     │\n",
       "│                     │                   │            │ up_1_3[<span style=\"color: #00af00; text-decoration-color: #00af00\">0</span>][<span style=\"color: #00af00; text-decoration-color: #00af00\">0</span>],     │\n",
       "│                     │                   │            │ up_1_4[<span style=\"color: #00af00; text-decoration-color: #00af00\">0</span>][<span style=\"color: #00af00; text-decoration-color: #00af00\">0</span>]      │\n",
       "├─────────────────────┼───────────────────┼────────────┼───────────────────┤\n",
       "│ conv_2_1 (<span style=\"color: #0087ff; text-decoration-color: #0087ff\">Conv2D</span>)   │ (<span style=\"color: #00d7ff; text-decoration-color: #00d7ff\">None</span>, <span style=\"color: #00af00; text-decoration-color: #00af00\">12</span>, <span style=\"color: #00af00; text-decoration-color: #00af00\">12</span>,    │  <span style=\"color: #00af00; text-decoration-color: #00af00\">2,359,808</span> │ conc_1_1[<span style=\"color: #00af00; text-decoration-color: #00af00\">0</span>][<span style=\"color: #00af00; text-decoration-color: #00af00\">0</span>]    │\n",
       "│                     │ <span style=\"color: #00af00; text-decoration-color: #00af00\">512</span>)              │            │                   │\n",
       "├─────────────────────┼───────────────────┼────────────┼───────────────────┤\n",
       "│ conv_2_2 (<span style=\"color: #0087ff; text-decoration-color: #0087ff\">Conv2D</span>)   │ (<span style=\"color: #00d7ff; text-decoration-color: #00d7ff\">None</span>, <span style=\"color: #00af00; text-decoration-color: #00af00\">12</span>, <span style=\"color: #00af00; text-decoration-color: #00af00\">12</span>,    │  <span style=\"color: #00af00; text-decoration-color: #00af00\">2,359,808</span> │ conv_2_1[<span style=\"color: #00af00; text-decoration-color: #00af00\">0</span>][<span style=\"color: #00af00; text-decoration-color: #00af00\">0</span>]    │\n",
       "│                     │ <span style=\"color: #00af00; text-decoration-color: #00af00\">512</span>)              │            │                   │\n",
       "├─────────────────────┼───────────────────┼────────────┼───────────────────┤\n",
       "│ conv_2_3 (<span style=\"color: #0087ff; text-decoration-color: #0087ff\">Conv2D</span>)   │ (<span style=\"color: #00d7ff; text-decoration-color: #00d7ff\">None</span>, <span style=\"color: #00af00; text-decoration-color: #00af00\">12</span>, <span style=\"color: #00af00; text-decoration-color: #00af00\">12</span>,    │  <span style=\"color: #00af00; text-decoration-color: #00af00\">2,359,808</span> │ conv_2_2[<span style=\"color: #00af00; text-decoration-color: #00af00\">0</span>][<span style=\"color: #00af00; text-decoration-color: #00af00\">0</span>]    │\n",
       "│                     │ <span style=\"color: #00af00; text-decoration-color: #00af00\">512</span>)              │            │                   │\n",
       "├─────────────────────┼───────────────────┼────────────┼───────────────────┤\n",
       "│ pool_2_1            │ (<span style=\"color: #00d7ff; text-decoration-color: #00d7ff\">None</span>, <span style=\"color: #00af00; text-decoration-color: #00af00\">6</span>, <span style=\"color: #00af00; text-decoration-color: #00af00\">6</span>, <span style=\"color: #00af00; text-decoration-color: #00af00\">512</span>) │          <span style=\"color: #00af00; text-decoration-color: #00af00\">0</span> │ conv_2_3[<span style=\"color: #00af00; text-decoration-color: #00af00\">0</span>][<span style=\"color: #00af00; text-decoration-color: #00af00\">0</span>]    │\n",
       "│ (<span style=\"color: #0087ff; text-decoration-color: #0087ff\">MaxPooling2D</span>)      │                   │            │                   │\n",
       "├─────────────────────┼───────────────────┼────────────┼───────────────────┤\n",
       "│ conv_2_4 (<span style=\"color: #0087ff; text-decoration-color: #0087ff\">Conv2D</span>)   │ (<span style=\"color: #00d7ff; text-decoration-color: #00d7ff\">None</span>, <span style=\"color: #00af00; text-decoration-color: #00af00\">5</span>, <span style=\"color: #00af00; text-decoration-color: #00af00\">5</span>,      │  <span style=\"color: #00af00; text-decoration-color: #00af00\">2,098,176</span> │ pool_2_1[<span style=\"color: #00af00; text-decoration-color: #00af00\">0</span>][<span style=\"color: #00af00; text-decoration-color: #00af00\">0</span>]    │\n",
       "│                     │ <span style=\"color: #00af00; text-decoration-color: #00af00\">1024</span>)             │            │                   │\n",
       "├─────────────────────┼───────────────────┼────────────┼───────────────────┤\n",
       "│ conv_2_5 (<span style=\"color: #0087ff; text-decoration-color: #0087ff\">Conv2D</span>)   │ (<span style=\"color: #00d7ff; text-decoration-color: #00d7ff\">None</span>, <span style=\"color: #00af00; text-decoration-color: #00af00\">4</span>, <span style=\"color: #00af00; text-decoration-color: #00af00\">4</span>,      │  <span style=\"color: #00af00; text-decoration-color: #00af00\">4,195,328</span> │ conv_2_4[<span style=\"color: #00af00; text-decoration-color: #00af00\">0</span>][<span style=\"color: #00af00; text-decoration-color: #00af00\">0</span>]    │\n",
       "│                     │ <span style=\"color: #00af00; text-decoration-color: #00af00\">1024</span>)             │            │                   │\n",
       "├─────────────────────┼───────────────────┼────────────┼───────────────────┤\n",
       "│ conv_2_6 (<span style=\"color: #0087ff; text-decoration-color: #0087ff\">Conv2D</span>)   │ (<span style=\"color: #00d7ff; text-decoration-color: #00d7ff\">None</span>, <span style=\"color: #00af00; text-decoration-color: #00af00\">3</span>, <span style=\"color: #00af00; text-decoration-color: #00af00\">3</span>,      │  <span style=\"color: #00af00; text-decoration-color: #00af00\">4,195,328</span> │ conv_2_5[<span style=\"color: #00af00; text-decoration-color: #00af00\">0</span>][<span style=\"color: #00af00; text-decoration-color: #00af00\">0</span>]    │\n",
       "│                     │ <span style=\"color: #00af00; text-decoration-color: #00af00\">1024</span>)             │            │                   │\n",
       "├─────────────────────┼───────────────────┼────────────┼───────────────────┤\n",
       "│ conv_2_7 (<span style=\"color: #0087ff; text-decoration-color: #0087ff\">Conv2D</span>)   │ (<span style=\"color: #00d7ff; text-decoration-color: #00d7ff\">None</span>, <span style=\"color: #00af00; text-decoration-color: #00af00\">2</span>, <span style=\"color: #00af00; text-decoration-color: #00af00\">2</span>,      │  <span style=\"color: #00af00; text-decoration-color: #00af00\">4,195,328</span> │ conv_2_6[<span style=\"color: #00af00; text-decoration-color: #00af00\">0</span>][<span style=\"color: #00af00; text-decoration-color: #00af00\">0</span>]    │\n",
       "│                     │ <span style=\"color: #00af00; text-decoration-color: #00af00\">1024</span>)             │            │                   │\n",
       "├─────────────────────┼───────────────────┼────────────┼───────────────────┤\n",
       "│ pool_2_2            │ (<span style=\"color: #00d7ff; text-decoration-color: #00d7ff\">None</span>, <span style=\"color: #00af00; text-decoration-color: #00af00\">1</span>, <span style=\"color: #00af00; text-decoration-color: #00af00\">1</span>,      │          <span style=\"color: #00af00; text-decoration-color: #00af00\">0</span> │ conv_2_7[<span style=\"color: #00af00; text-decoration-color: #00af00\">0</span>][<span style=\"color: #00af00; text-decoration-color: #00af00\">0</span>]    │\n",
       "│ (<span style=\"color: #0087ff; text-decoration-color: #0087ff\">MaxPooling2D</span>)      │ <span style=\"color: #00af00; text-decoration-color: #00af00\">1024</span>)             │            │                   │\n",
       "├─────────────────────┼───────────────────┼────────────┼───────────────────┤\n",
       "│ flat_3_1 (<span style=\"color: #0087ff; text-decoration-color: #0087ff\">Flatten</span>)  │ (<span style=\"color: #00d7ff; text-decoration-color: #00d7ff\">None</span>, <span style=\"color: #00af00; text-decoration-color: #00af00\">1024</span>)      │          <span style=\"color: #00af00; text-decoration-color: #00af00\">0</span> │ pool_2_2[<span style=\"color: #00af00; text-decoration-color: #00af00\">0</span>][<span style=\"color: #00af00; text-decoration-color: #00af00\">0</span>]    │\n",
       "├─────────────────────┼───────────────────┼────────────┼───────────────────┤\n",
       "│ d_4_1 (<span style=\"color: #0087ff; text-decoration-color: #0087ff\">Dense</span>)       │ (<span style=\"color: #00d7ff; text-decoration-color: #00d7ff\">None</span>, <span style=\"color: #00af00; text-decoration-color: #00af00\">1024</span>)      │  <span style=\"color: #00af00; text-decoration-color: #00af00\">1,049,600</span> │ flat_3_1[<span style=\"color: #00af00; text-decoration-color: #00af00\">0</span>][<span style=\"color: #00af00; text-decoration-color: #00af00\">0</span>]    │\n",
       "├─────────────────────┼───────────────────┼────────────┼───────────────────┤\n",
       "│ d_4_2 (<span style=\"color: #0087ff; text-decoration-color: #0087ff\">Dense</span>)       │ (<span style=\"color: #00d7ff; text-decoration-color: #00d7ff\">None</span>, <span style=\"color: #00af00; text-decoration-color: #00af00\">512</span>)       │    <span style=\"color: #00af00; text-decoration-color: #00af00\">524,800</span> │ d_4_1[<span style=\"color: #00af00; text-decoration-color: #00af00\">0</span>][<span style=\"color: #00af00; text-decoration-color: #00af00\">0</span>]       │\n",
       "├─────────────────────┼───────────────────┼────────────┼───────────────────┤\n",
       "│ d_4_3 (<span style=\"color: #0087ff; text-decoration-color: #0087ff\">Dense</span>)       │ (<span style=\"color: #00d7ff; text-decoration-color: #00d7ff\">None</span>, <span style=\"color: #00af00; text-decoration-color: #00af00\">256</span>)       │    <span style=\"color: #00af00; text-decoration-color: #00af00\">131,328</span> │ d_4_2[<span style=\"color: #00af00; text-decoration-color: #00af00\">0</span>][<span style=\"color: #00af00; text-decoration-color: #00af00\">0</span>]       │\n",
       "├─────────────────────┼───────────────────┼────────────┼───────────────────┤\n",
       "│ d_4_4 (<span style=\"color: #0087ff; text-decoration-color: #0087ff\">Dense</span>)       │ (<span style=\"color: #00d7ff; text-decoration-color: #00d7ff\">None</span>, <span style=\"color: #00af00; text-decoration-color: #00af00\">128</span>)       │     <span style=\"color: #00af00; text-decoration-color: #00af00\">32,896</span> │ d_4_3[<span style=\"color: #00af00; text-decoration-color: #00af00\">0</span>][<span style=\"color: #00af00; text-decoration-color: #00af00\">0</span>]       │\n",
       "├─────────────────────┼───────────────────┼────────────┼───────────────────┤\n",
       "│ d_4_5 (<span style=\"color: #0087ff; text-decoration-color: #0087ff\">Dense</span>)       │ (<span style=\"color: #00d7ff; text-decoration-color: #00d7ff\">None</span>, <span style=\"color: #00af00; text-decoration-color: #00af00\">64</span>)        │      <span style=\"color: #00af00; text-decoration-color: #00af00\">8,256</span> │ d_4_4[<span style=\"color: #00af00; text-decoration-color: #00af00\">0</span>][<span style=\"color: #00af00; text-decoration-color: #00af00\">0</span>]       │\n",
       "├─────────────────────┼───────────────────┼────────────┼───────────────────┤\n",
       "│ d_4_6 (<span style=\"color: #0087ff; text-decoration-color: #0087ff\">Dense</span>)       │ (<span style=\"color: #00d7ff; text-decoration-color: #00d7ff\">None</span>, <span style=\"color: #00af00; text-decoration-color: #00af00\">16</span>)        │      <span style=\"color: #00af00; text-decoration-color: #00af00\">1,040</span> │ d_4_5[<span style=\"color: #00af00; text-decoration-color: #00af00\">0</span>][<span style=\"color: #00af00; text-decoration-color: #00af00\">0</span>]       │\n",
       "├─────────────────────┼───────────────────┼────────────┼───────────────────┤\n",
       "│ d_4_7 (<span style=\"color: #0087ff; text-decoration-color: #0087ff\">Dense</span>)       │ (<span style=\"color: #00d7ff; text-decoration-color: #00d7ff\">None</span>, <span style=\"color: #00af00; text-decoration-color: #00af00\">4</span>)         │         <span style=\"color: #00af00; text-decoration-color: #00af00\">68</span> │ d_4_6[<span style=\"color: #00af00; text-decoration-color: #00af00\">0</span>][<span style=\"color: #00af00; text-decoration-color: #00af00\">0</span>]       │\n",
       "├─────────────────────┼───────────────────┼────────────┼───────────────────┤\n",
       "│ output_def_bool     │ (<span style=\"color: #00d7ff; text-decoration-color: #00d7ff\">None</span>, <span style=\"color: #00af00; text-decoration-color: #00af00\">1</span>)         │          <span style=\"color: #00af00; text-decoration-color: #00af00\">5</span> │ d_4_7[<span style=\"color: #00af00; text-decoration-color: #00af00\">0</span>][<span style=\"color: #00af00; text-decoration-color: #00af00\">0</span>]       │\n",
       "│ (<span style=\"color: #0087ff; text-decoration-color: #0087ff\">Dense</span>)             │                   │            │                   │\n",
       "└─────────────────────┴───────────────────┴────────────┴───────────────────┘\n",
       "</pre>\n"
      ],
      "text/plain": [
       "┏━━━━━━━━━━━━━━━━━━━━━┳━━━━━━━━━━━━━━━━━━━┳━━━━━━━━━━━━┳━━━━━━━━━━━━━━━━━━━┓\n",
       "┃\u001b[1m \u001b[0m\u001b[1mLayer (type)       \u001b[0m\u001b[1m \u001b[0m┃\u001b[1m \u001b[0m\u001b[1mOutput Shape     \u001b[0m\u001b[1m \u001b[0m┃\u001b[1m \u001b[0m\u001b[1m   Param #\u001b[0m\u001b[1m \u001b[0m┃\u001b[1m \u001b[0m\u001b[1mConnected to     \u001b[0m\u001b[1m \u001b[0m┃\n",
       "┡━━━━━━━━━━━━━━━━━━━━━╇━━━━━━━━━━━━━━━━━━━╇━━━━━━━━━━━━╇━━━━━━━━━━━━━━━━━━━┩\n",
       "│ input_data          │ (\u001b[38;5;45mNone\u001b[0m, \u001b[38;5;34m16\u001b[0m, \u001b[38;5;34m16\u001b[0m,    │          \u001b[38;5;34m0\u001b[0m │ -                 │\n",
       "│ (\u001b[38;5;33mInputLayer\u001b[0m)        │ \u001b[38;5;34m64\u001b[0m)               │            │                   │\n",
       "├─────────────────────┼───────────────────┼────────────┼───────────────────┤\n",
       "│ sequential          │ (\u001b[38;5;45mNone\u001b[0m, \u001b[38;5;34m16\u001b[0m, \u001b[38;5;34m16\u001b[0m,    │          \u001b[38;5;34m0\u001b[0m │ input_data[\u001b[38;5;34m0\u001b[0m][\u001b[38;5;34m0\u001b[0m]  │\n",
       "│ (\u001b[38;5;33mSequential\u001b[0m)        │ \u001b[38;5;34m64\u001b[0m)               │            │                   │\n",
       "├─────────────────────┼───────────────────┼────────────┼───────────────────┤\n",
       "│ dconv_1_2 (\u001b[38;5;33mConv2D\u001b[0m)  │ (\u001b[38;5;45mNone\u001b[0m, \u001b[38;5;34m6\u001b[0m, \u001b[38;5;34m6\u001b[0m, \u001b[38;5;34m128\u001b[0m) │     \u001b[38;5;34m73,856\u001b[0m │ sequential[\u001b[38;5;34m0\u001b[0m][\u001b[38;5;34m0\u001b[0m]  │\n",
       "├─────────────────────┼───────────────────┼────────────┼───────────────────┤\n",
       "│ dconv_1_3 (\u001b[38;5;33mConv2D\u001b[0m)  │ (\u001b[38;5;45mNone\u001b[0m, \u001b[38;5;34m4\u001b[0m, \u001b[38;5;34m4\u001b[0m, \u001b[38;5;34m128\u001b[0m) │     \u001b[38;5;34m73,856\u001b[0m │ sequential[\u001b[38;5;34m0\u001b[0m][\u001b[38;5;34m0\u001b[0m]  │\n",
       "├─────────────────────┼───────────────────┼────────────┼───────────────────┤\n",
       "│ dconv_1_4 (\u001b[38;5;33mConv2D\u001b[0m)  │ (\u001b[38;5;45mNone\u001b[0m, \u001b[38;5;34m2\u001b[0m, \u001b[38;5;34m2\u001b[0m, \u001b[38;5;34m128\u001b[0m) │     \u001b[38;5;34m73,856\u001b[0m │ sequential[\u001b[38;5;34m0\u001b[0m][\u001b[38;5;34m0\u001b[0m]  │\n",
       "├─────────────────────┼───────────────────┼────────────┼───────────────────┤\n",
       "│ dconv_1_1 (\u001b[38;5;33mConv2D\u001b[0m)  │ (\u001b[38;5;45mNone\u001b[0m, \u001b[38;5;34m12\u001b[0m, \u001b[38;5;34m12\u001b[0m,    │     \u001b[38;5;34m73,856\u001b[0m │ sequential[\u001b[38;5;34m0\u001b[0m][\u001b[38;5;34m0\u001b[0m]  │\n",
       "│                     │ \u001b[38;5;34m128\u001b[0m)              │            │                   │\n",
       "├─────────────────────┼───────────────────┼────────────┼───────────────────┤\n",
       "│ up_1_2              │ (\u001b[38;5;45mNone\u001b[0m, \u001b[38;5;34m12\u001b[0m, \u001b[38;5;34m12\u001b[0m,    │          \u001b[38;5;34m0\u001b[0m │ dconv_1_2[\u001b[38;5;34m0\u001b[0m][\u001b[38;5;34m0\u001b[0m]   │\n",
       "│ (\u001b[38;5;33mUpSampling2D\u001b[0m)      │ \u001b[38;5;34m128\u001b[0m)              │            │                   │\n",
       "├─────────────────────┼───────────────────┼────────────┼───────────────────┤\n",
       "│ up_1_3              │ (\u001b[38;5;45mNone\u001b[0m, \u001b[38;5;34m12\u001b[0m, \u001b[38;5;34m12\u001b[0m,    │          \u001b[38;5;34m0\u001b[0m │ dconv_1_3[\u001b[38;5;34m0\u001b[0m][\u001b[38;5;34m0\u001b[0m]   │\n",
       "│ (\u001b[38;5;33mUpSampling2D\u001b[0m)      │ \u001b[38;5;34m128\u001b[0m)              │            │                   │\n",
       "├─────────────────────┼───────────────────┼────────────┼───────────────────┤\n",
       "│ up_1_4              │ (\u001b[38;5;45mNone\u001b[0m, \u001b[38;5;34m12\u001b[0m, \u001b[38;5;34m12\u001b[0m,    │          \u001b[38;5;34m0\u001b[0m │ dconv_1_4[\u001b[38;5;34m0\u001b[0m][\u001b[38;5;34m0\u001b[0m]   │\n",
       "│ (\u001b[38;5;33mUpSampling2D\u001b[0m)      │ \u001b[38;5;34m128\u001b[0m)              │            │                   │\n",
       "├─────────────────────┼───────────────────┼────────────┼───────────────────┤\n",
       "│ conc_1_1            │ (\u001b[38;5;45mNone\u001b[0m, \u001b[38;5;34m12\u001b[0m, \u001b[38;5;34m12\u001b[0m,    │          \u001b[38;5;34m0\u001b[0m │ dconv_1_1[\u001b[38;5;34m0\u001b[0m][\u001b[38;5;34m0\u001b[0m],  │\n",
       "│ (\u001b[38;5;33mConcatenate\u001b[0m)       │ \u001b[38;5;34m512\u001b[0m)              │            │ up_1_2[\u001b[38;5;34m0\u001b[0m][\u001b[38;5;34m0\u001b[0m],     │\n",
       "│                     │                   │            │ up_1_3[\u001b[38;5;34m0\u001b[0m][\u001b[38;5;34m0\u001b[0m],     │\n",
       "│                     │                   │            │ up_1_4[\u001b[38;5;34m0\u001b[0m][\u001b[38;5;34m0\u001b[0m]      │\n",
       "├─────────────────────┼───────────────────┼────────────┼───────────────────┤\n",
       "│ conv_2_1 (\u001b[38;5;33mConv2D\u001b[0m)   │ (\u001b[38;5;45mNone\u001b[0m, \u001b[38;5;34m12\u001b[0m, \u001b[38;5;34m12\u001b[0m,    │  \u001b[38;5;34m2,359,808\u001b[0m │ conc_1_1[\u001b[38;5;34m0\u001b[0m][\u001b[38;5;34m0\u001b[0m]    │\n",
       "│                     │ \u001b[38;5;34m512\u001b[0m)              │            │                   │\n",
       "├─────────────────────┼───────────────────┼────────────┼───────────────────┤\n",
       "│ conv_2_2 (\u001b[38;5;33mConv2D\u001b[0m)   │ (\u001b[38;5;45mNone\u001b[0m, \u001b[38;5;34m12\u001b[0m, \u001b[38;5;34m12\u001b[0m,    │  \u001b[38;5;34m2,359,808\u001b[0m │ conv_2_1[\u001b[38;5;34m0\u001b[0m][\u001b[38;5;34m0\u001b[0m]    │\n",
       "│                     │ \u001b[38;5;34m512\u001b[0m)              │            │                   │\n",
       "├─────────────────────┼───────────────────┼────────────┼───────────────────┤\n",
       "│ conv_2_3 (\u001b[38;5;33mConv2D\u001b[0m)   │ (\u001b[38;5;45mNone\u001b[0m, \u001b[38;5;34m12\u001b[0m, \u001b[38;5;34m12\u001b[0m,    │  \u001b[38;5;34m2,359,808\u001b[0m │ conv_2_2[\u001b[38;5;34m0\u001b[0m][\u001b[38;5;34m0\u001b[0m]    │\n",
       "│                     │ \u001b[38;5;34m512\u001b[0m)              │            │                   │\n",
       "├─────────────────────┼───────────────────┼────────────┼───────────────────┤\n",
       "│ pool_2_1            │ (\u001b[38;5;45mNone\u001b[0m, \u001b[38;5;34m6\u001b[0m, \u001b[38;5;34m6\u001b[0m, \u001b[38;5;34m512\u001b[0m) │          \u001b[38;5;34m0\u001b[0m │ conv_2_3[\u001b[38;5;34m0\u001b[0m][\u001b[38;5;34m0\u001b[0m]    │\n",
       "│ (\u001b[38;5;33mMaxPooling2D\u001b[0m)      │                   │            │                   │\n",
       "├─────────────────────┼───────────────────┼────────────┼───────────────────┤\n",
       "│ conv_2_4 (\u001b[38;5;33mConv2D\u001b[0m)   │ (\u001b[38;5;45mNone\u001b[0m, \u001b[38;5;34m5\u001b[0m, \u001b[38;5;34m5\u001b[0m,      │  \u001b[38;5;34m2,098,176\u001b[0m │ pool_2_1[\u001b[38;5;34m0\u001b[0m][\u001b[38;5;34m0\u001b[0m]    │\n",
       "│                     │ \u001b[38;5;34m1024\u001b[0m)             │            │                   │\n",
       "├─────────────────────┼───────────────────┼────────────┼───────────────────┤\n",
       "│ conv_2_5 (\u001b[38;5;33mConv2D\u001b[0m)   │ (\u001b[38;5;45mNone\u001b[0m, \u001b[38;5;34m4\u001b[0m, \u001b[38;5;34m4\u001b[0m,      │  \u001b[38;5;34m4,195,328\u001b[0m │ conv_2_4[\u001b[38;5;34m0\u001b[0m][\u001b[38;5;34m0\u001b[0m]    │\n",
       "│                     │ \u001b[38;5;34m1024\u001b[0m)             │            │                   │\n",
       "├─────────────────────┼───────────────────┼────────────┼───────────────────┤\n",
       "│ conv_2_6 (\u001b[38;5;33mConv2D\u001b[0m)   │ (\u001b[38;5;45mNone\u001b[0m, \u001b[38;5;34m3\u001b[0m, \u001b[38;5;34m3\u001b[0m,      │  \u001b[38;5;34m4,195,328\u001b[0m │ conv_2_5[\u001b[38;5;34m0\u001b[0m][\u001b[38;5;34m0\u001b[0m]    │\n",
       "│                     │ \u001b[38;5;34m1024\u001b[0m)             │            │                   │\n",
       "├─────────────────────┼───────────────────┼────────────┼───────────────────┤\n",
       "│ conv_2_7 (\u001b[38;5;33mConv2D\u001b[0m)   │ (\u001b[38;5;45mNone\u001b[0m, \u001b[38;5;34m2\u001b[0m, \u001b[38;5;34m2\u001b[0m,      │  \u001b[38;5;34m4,195,328\u001b[0m │ conv_2_6[\u001b[38;5;34m0\u001b[0m][\u001b[38;5;34m0\u001b[0m]    │\n",
       "│                     │ \u001b[38;5;34m1024\u001b[0m)             │            │                   │\n",
       "├─────────────────────┼───────────────────┼────────────┼───────────────────┤\n",
       "│ pool_2_2            │ (\u001b[38;5;45mNone\u001b[0m, \u001b[38;5;34m1\u001b[0m, \u001b[38;5;34m1\u001b[0m,      │          \u001b[38;5;34m0\u001b[0m │ conv_2_7[\u001b[38;5;34m0\u001b[0m][\u001b[38;5;34m0\u001b[0m]    │\n",
       "│ (\u001b[38;5;33mMaxPooling2D\u001b[0m)      │ \u001b[38;5;34m1024\u001b[0m)             │            │                   │\n",
       "├─────────────────────┼───────────────────┼────────────┼───────────────────┤\n",
       "│ flat_3_1 (\u001b[38;5;33mFlatten\u001b[0m)  │ (\u001b[38;5;45mNone\u001b[0m, \u001b[38;5;34m1024\u001b[0m)      │          \u001b[38;5;34m0\u001b[0m │ pool_2_2[\u001b[38;5;34m0\u001b[0m][\u001b[38;5;34m0\u001b[0m]    │\n",
       "├─────────────────────┼───────────────────┼────────────┼───────────────────┤\n",
       "│ d_4_1 (\u001b[38;5;33mDense\u001b[0m)       │ (\u001b[38;5;45mNone\u001b[0m, \u001b[38;5;34m1024\u001b[0m)      │  \u001b[38;5;34m1,049,600\u001b[0m │ flat_3_1[\u001b[38;5;34m0\u001b[0m][\u001b[38;5;34m0\u001b[0m]    │\n",
       "├─────────────────────┼───────────────────┼────────────┼───────────────────┤\n",
       "│ d_4_2 (\u001b[38;5;33mDense\u001b[0m)       │ (\u001b[38;5;45mNone\u001b[0m, \u001b[38;5;34m512\u001b[0m)       │    \u001b[38;5;34m524,800\u001b[0m │ d_4_1[\u001b[38;5;34m0\u001b[0m][\u001b[38;5;34m0\u001b[0m]       │\n",
       "├─────────────────────┼───────────────────┼────────────┼───────────────────┤\n",
       "│ d_4_3 (\u001b[38;5;33mDense\u001b[0m)       │ (\u001b[38;5;45mNone\u001b[0m, \u001b[38;5;34m256\u001b[0m)       │    \u001b[38;5;34m131,328\u001b[0m │ d_4_2[\u001b[38;5;34m0\u001b[0m][\u001b[38;5;34m0\u001b[0m]       │\n",
       "├─────────────────────┼───────────────────┼────────────┼───────────────────┤\n",
       "│ d_4_4 (\u001b[38;5;33mDense\u001b[0m)       │ (\u001b[38;5;45mNone\u001b[0m, \u001b[38;5;34m128\u001b[0m)       │     \u001b[38;5;34m32,896\u001b[0m │ d_4_3[\u001b[38;5;34m0\u001b[0m][\u001b[38;5;34m0\u001b[0m]       │\n",
       "├─────────────────────┼───────────────────┼────────────┼───────────────────┤\n",
       "│ d_4_5 (\u001b[38;5;33mDense\u001b[0m)       │ (\u001b[38;5;45mNone\u001b[0m, \u001b[38;5;34m64\u001b[0m)        │      \u001b[38;5;34m8,256\u001b[0m │ d_4_4[\u001b[38;5;34m0\u001b[0m][\u001b[38;5;34m0\u001b[0m]       │\n",
       "├─────────────────────┼───────────────────┼────────────┼───────────────────┤\n",
       "│ d_4_6 (\u001b[38;5;33mDense\u001b[0m)       │ (\u001b[38;5;45mNone\u001b[0m, \u001b[38;5;34m16\u001b[0m)        │      \u001b[38;5;34m1,040\u001b[0m │ d_4_5[\u001b[38;5;34m0\u001b[0m][\u001b[38;5;34m0\u001b[0m]       │\n",
       "├─────────────────────┼───────────────────┼────────────┼───────────────────┤\n",
       "│ d_4_7 (\u001b[38;5;33mDense\u001b[0m)       │ (\u001b[38;5;45mNone\u001b[0m, \u001b[38;5;34m4\u001b[0m)         │         \u001b[38;5;34m68\u001b[0m │ d_4_6[\u001b[38;5;34m0\u001b[0m][\u001b[38;5;34m0\u001b[0m]       │\n",
       "├─────────────────────┼───────────────────┼────────────┼───────────────────┤\n",
       "│ output_def_bool     │ (\u001b[38;5;45mNone\u001b[0m, \u001b[38;5;34m1\u001b[0m)         │          \u001b[38;5;34m5\u001b[0m │ d_4_7[\u001b[38;5;34m0\u001b[0m][\u001b[38;5;34m0\u001b[0m]       │\n",
       "│ (\u001b[38;5;33mDense\u001b[0m)             │                   │            │                   │\n",
       "└─────────────────────┴───────────────────┴────────────┴───────────────────┘\n"
      ]
     },
     "metadata": {},
     "output_type": "display_data"
    },
    {
     "data": {
      "text/html": [
       "<pre style=\"white-space:pre;overflow-x:auto;line-height:normal;font-family:Menlo,'DejaVu Sans Mono',consolas,'Courier New',monospace\"><span style=\"font-weight: bold\"> Total params: </span><span style=\"color: #00af00; text-decoration-color: #00af00\">23,807,001</span> (90.82 MB)\n",
       "</pre>\n"
      ],
      "text/plain": [
       "\u001b[1m Total params: \u001b[0m\u001b[38;5;34m23,807,001\u001b[0m (90.82 MB)\n"
      ]
     },
     "metadata": {},
     "output_type": "display_data"
    },
    {
     "data": {
      "text/html": [
       "<pre style=\"white-space:pre;overflow-x:auto;line-height:normal;font-family:Menlo,'DejaVu Sans Mono',consolas,'Courier New',monospace\"><span style=\"font-weight: bold\"> Trainable params: </span><span style=\"color: #00af00; text-decoration-color: #00af00\">23,807,001</span> (90.82 MB)\n",
       "</pre>\n"
      ],
      "text/plain": [
       "\u001b[1m Trainable params: \u001b[0m\u001b[38;5;34m23,807,001\u001b[0m (90.82 MB)\n"
      ]
     },
     "metadata": {},
     "output_type": "display_data"
    },
    {
     "data": {
      "text/html": [
       "<pre style=\"white-space:pre;overflow-x:auto;line-height:normal;font-family:Menlo,'DejaVu Sans Mono',consolas,'Courier New',monospace\"><span style=\"font-weight: bold\"> Non-trainable params: </span><span style=\"color: #00af00; text-decoration-color: #00af00\">0</span> (0.00 B)\n",
       "</pre>\n"
      ],
      "text/plain": [
       "\u001b[1m Non-trainable params: \u001b[0m\u001b[38;5;34m0\u001b[0m (0.00 B)\n"
      ]
     },
     "metadata": {},
     "output_type": "display_data"
    },
    {
     "name": "stdout",
     "output_type": "stream",
     "text": [
      "None\n",
      "You must install pydot (`pip install pydot`) for `plot_model` to work.\n"
     ]
    }
   ],
   "source": [
    "print(model.summary())\n",
    "tf.keras.utils.plot_model(\n",
    "    model,\n",
    "    show_shapes=True,\n",
    "    show_dtype=False,\n",
    "    show_layer_names=True,\n",
    "    rankdir=\"TB\",\n",
    "    expand_nested=False,\n",
    "    dpi=200,\n",
    "    show_layer_activations=False,\n",
    "    show_trainable=False,\n",
    ")"
   ]
  },
  {
   "cell_type": "markdown",
   "id": "94c867ef-96fc-4d1d-ae50-8e66ac428abe",
   "metadata": {},
   "source": [
    "## Создание и настройка колбэков"
   ]
  },
  {
   "cell_type": "code",
   "execution_count": 11,
   "id": "93f88f12-924f-422c-a978-4f91ed86f787",
   "metadata": {
    "execution": {
     "iopub.execute_input": "2024-10-02T05:12:52.850694Z",
     "iopub.status.busy": "2024-10-02T05:12:52.850542Z",
     "iopub.status.idle": "2024-10-02T05:12:52.854446Z",
     "shell.execute_reply": "2024-10-02T05:12:52.853879Z",
     "shell.execute_reply.started": "2024-10-02T05:12:52.850682Z"
    }
   },
   "outputs": [],
   "source": [
    "callback_params = {\n",
    "    # остановка обучения если модель перестала учиться\n",
    "    'EarlyStopping': {\n",
    "        'monitor': 'loss', # отслеживаемый параметр \n",
    "        'min_delta': 0.00001, # минимальное улучшение параметра за cur_patience\n",
    "        'patience': 10, # кол-во эпох без улучшений\n",
    "        'restore_best_weights': False,  # сохранять ли веса нейронки с лучшими результатами\n",
    "    },\n",
    "\n",
    "    # уменьшение шага сходимости, если модель стала мендленно учиться\n",
    "    'ReduceLROnPlateau': {\n",
    "        'monitor' : 'loss', # отслеживаемый параметр \n",
    "        'factor' : 0.3, # множитель для расчета нового шага сходимости (new_learning_rate = old_learning_rate*RLPOP_factor)\n",
    "        'patience' : 1, # кол-во эпох без улучшений\n",
    "        'verbose' : 0, # выводить ли прогресс изменения шага сходимости в его процессее\n",
    "        'min_delta' : 0.0001, # порог изменения отслеживаемого значения\n",
    "        'cooldown' : 2, # количество эпох до возобновления работы после изменения шага сходимости\n",
    "        'min_lr' : 0 # минимальное значение шага сходимости\n",
    "    },\n",
    "\n",
    "    # сохранение весов модели во время обучения\n",
    "    'ModelCheckpoint': {\n",
    "        'filepath' : str((PATH_TO_SAVE_MODEL/f'in({CROP_SIZE}x{CROP_SIZE}x64)_out(1)'/\n",
    "                      'checkpoints'/\n",
    "                      f'model_id=v{MODEL_VER:04}n{MODEL_NUM:04}'/\n",
    "                      'check-{epoch:04d}.keras')),\n",
    "        'verbose' : 0,\n",
    "        'save_freq' : 'epoch'\n",
    "    },\n",
    "\n",
    "    'TensorBoard': {\n",
    "        'log_dir' : str((PATH_TO_SAVE_MODEL/f'in({CROP_SIZE}x{CROP_SIZE}x64)_out(1)'/\n",
    "                      'logs'/\n",
    "                      f'model_id=v{MODEL_VER:04}n{MODEL_NUM:04}')) ,\n",
    "        'histogram_freq' : 1,\n",
    "        'write_images' : 1,\n",
    "        'embeddings_freq' : 1\n",
    "    },\n",
    "}"
   ]
  },
  {
   "cell_type": "code",
   "execution_count": 12,
   "id": "04161a12-c245-4afd-83d2-2489ff29655d",
   "metadata": {
    "execution": {
     "iopub.execute_input": "2024-10-02T05:12:52.856397Z",
     "iopub.status.busy": "2024-10-02T05:12:52.856032Z",
     "iopub.status.idle": "2024-10-02T05:12:52.859867Z",
     "shell.execute_reply": "2024-10-02T05:12:52.859232Z",
     "shell.execute_reply.started": "2024-10-02T05:12:52.856382Z"
    }
   },
   "outputs": [],
   "source": [
    "# Создание и настройка колбэков\n",
    "\n",
    "callback_list = [] # массив колбэков до подачи в колбек \"callbacklist\"\n",
    "\n",
    "# остановка обучения если модель перестала учиться\n",
    "callback_list.append(keras.callbacks.EarlyStopping(**callback_params['EarlyStopping']))\n",
    "\n",
    "# уменьшение шага сходимости, если модель стала мендленно учиться\n",
    "callback_list.append(keras.callbacks.ReduceLROnPlateau(**callback_params['ReduceLROnPlateau']))\n",
    "\n",
    "# запись процесса обучения в логи\n",
    "callback_list.append(keras.callbacks.TensorBoard(**callback_params['TensorBoard']))\n",
    "\n",
    "# сохранение весов модели во время обучения\n",
    "callback_list.append(keras.callbacks.ModelCheckpoint(**callback_params['ModelCheckpoint']))"
   ]
  },
  {
   "cell_type": "markdown",
   "id": "5f29ba8a-a926-42ef-9641-64d3a29e7b15",
   "metadata": {},
   "source": [
    "## Обучение модели"
   ]
  },
  {
   "cell_type": "code",
   "execution_count": null,
   "id": "5a5597b1-1975-4d92-8489-d934de5c10a1",
   "metadata": {
    "execution": {
     "execution_failed": "2024-10-02T18:13:26.519Z",
     "iopub.execute_input": "2024-10-02T05:12:52.860772Z",
     "iopub.status.busy": "2024-10-02T05:12:52.860433Z"
    },
    "scrolled": true
   },
   "outputs": [
    {
     "name": "stdout",
     "output_type": "stream",
     "text": [
      "Epoch 1/60\n",
      "\u001b[1m2594/2594\u001b[0m \u001b[32m━━━━━━━━━━━━━━━━━━━━\u001b[0m\u001b[37m\u001b[0m \u001b[1m582s\u001b[0m 224ms/step - BinaryAccuracy: 0.8689 - FalseNegatives: 2693.0745 - FalsePositives: 14.0000 - MeanSquaredError: 0.1126 - PR_AUC: 0.1546 - Precision: 0.0667 - ROC_AUC: 0.5559 - Recall: 0.0022 - TrueNegatives: 18059.9160 - TruePositives: 1.0000 - loss: 0.3842 - val_BinaryAccuracy: 0.8561 - val_FalseNegatives: 1493.0000 - val_FalsePositives: 0.0000e+00 - val_MeanSquaredError: 0.1219 - val_PR_AUC: 0.4131 - val_Precision: 0.0000e+00 - val_ROC_AUC: 0.7673 - val_Recall: 0.0000e+00 - val_TrueNegatives: 8882.0000 - val_TruePositives: 0.0000e+00 - val_loss: 0.4042 - learning_rate: 0.0050\n",
      "Epoch 2/60\n",
      "\u001b[1m2594/2594\u001b[0m \u001b[32m━━━━━━━━━━━━━━━━━━━━\u001b[0m\u001b[37m\u001b[0m \u001b[1m935s\u001b[0m 345ms/step - BinaryAccuracy: 0.8716 - FalseNegatives: 2694.0745 - FalsePositives: 0.0000e+00 - MeanSquaredError: 0.1046 - PR_AUC: 0.2565 - Precision: 0.0000e+00 - ROC_AUC: 0.7054 - Recall: 0.0000e+00 - TrueNegatives: 18073.9160 - TruePositives: 0.0000e+00 - loss: 0.3528 - val_BinaryAccuracy: 0.8561 - val_FalseNegatives: 1493.0000 - val_FalsePositives: 0.0000e+00 - val_MeanSquaredError: 0.1167 - val_PR_AUC: 0.5139 - val_Precision: 0.0000e+00 - val_ROC_AUC: 0.8473 - val_Recall: 0.0000e+00 - val_TrueNegatives: 8882.0000 - val_TruePositives: 0.0000e+00 - val_loss: 0.3775 - learning_rate: 0.0050\n",
      "Epoch 3/60\n",
      "\u001b[1m2594/2594\u001b[0m \u001b[32m━━━━━━━━━━━━━━━━━━━━\u001b[0m\u001b[37m\u001b[0m \u001b[1m857s\u001b[0m 330ms/step - BinaryAccuracy: 0.8716 - FalseNegatives: 2692.6750 - FalsePositives: 2.5326 - MeanSquaredError: 0.0984 - PR_AUC: 0.3150 - Precision: 0.1363 - ROC_AUC: 0.7837 - Recall: 3.0871e-04 - TrueNegatives: 18071.3848 - TruePositives: 1.3992 - loss: 0.3228 - val_BinaryAccuracy: 0.8561 - val_FalseNegatives: 1493.0000 - val_FalsePositives: 0.0000e+00 - val_MeanSquaredError: 0.1201 - val_PR_AUC: 0.5395 - val_Precision: 0.0000e+00 - val_ROC_AUC: 0.8749 - val_Recall: 0.0000e+00 - val_TrueNegatives: 8882.0000 - val_TruePositives: 0.0000e+00 - val_loss: 0.4052 - learning_rate: 0.0050\n",
      "Epoch 4/60\n",
      "\u001b[1m2594/2594\u001b[0m \u001b[32m━━━━━━━━━━━━━━━━━━━━\u001b[0m\u001b[37m\u001b[0m \u001b[1m923s\u001b[0m 356ms/step - BinaryAccuracy: 0.8715 - FalseNegatives: 2666.2290 - FalsePositives: 32.3064 - MeanSquaredError: 0.0950 - PR_AUC: 0.3446 - Precision: 0.2475 - ROC_AUC: 0.8140 - Recall: 0.0061 - TrueNegatives: 18041.6094 - TruePositives: 27.8455 - loss: 0.3071 - val_BinaryAccuracy: 0.8561 - val_FalseNegatives: 1493.0000 - val_FalsePositives: 0.0000e+00 - val_MeanSquaredError: 0.1174 - val_PR_AUC: 0.5621 - val_Precision: 0.0000e+00 - val_ROC_AUC: 0.8900 - val_Recall: 0.0000e+00 - val_TrueNegatives: 8882.0000 - val_TruePositives: 0.0000e+00 - val_loss: 0.3923 - learning_rate: 0.0050\n",
      "Epoch 5/60\n",
      "\u001b[1m2594/2594\u001b[0m \u001b[32m━━━━━━━━━━━━━━━━━━━━\u001b[0m\u001b[37m\u001b[0m \u001b[1m982s\u001b[0m 356ms/step - BinaryAccuracy: 0.8710 - FalseNegatives: 2389.2139 - FalsePositives: 312.0536 - MeanSquaredError: 0.0899 - PR_AUC: 0.3976 - Precision: 0.4222 - ROC_AUC: 0.8473 - Recall: 0.0885 - TrueNegatives: 17761.8633 - TruePositives: 304.8605 - loss: 0.2866 - val_BinaryAccuracy: 0.8561 - val_FalseNegatives: 1493.0000 - val_FalsePositives: 0.0000e+00 - val_MeanSquaredError: 0.1286 - val_PR_AUC: 0.5563 - val_Precision: 0.0000e+00 - val_ROC_AUC: 0.8807 - val_Recall: 0.0000e+00 - val_TrueNegatives: 8882.0000 - val_TruePositives: 0.0000e+00 - val_loss: 0.5062 - learning_rate: 0.0050\n",
      "Epoch 6/60\n",
      "\u001b[1m2594/2594\u001b[0m \u001b[32m━━━━━━━━━━━━━━━━━━━━\u001b[0m\u001b[37m\u001b[0m \u001b[1m954s\u001b[0m 345ms/step - BinaryAccuracy: 0.8735 - FalseNegatives: 2211.5618 - FalsePositives: 419.7761 - MeanSquaredError: 0.0865 - PR_AUC: 0.4239 - Precision: 0.5045 - ROC_AUC: 0.8651 - Recall: 0.1459 - TrueNegatives: 17654.1406 - TruePositives: 482.5125 - loss: 0.2741 - val_BinaryAccuracy: 0.8561 - val_FalseNegatives: 1493.0000 - val_FalsePositives: 0.0000e+00 - val_MeanSquaredError: 0.1229 - val_PR_AUC: 0.5829 - val_Precision: 0.0000e+00 - val_ROC_AUC: 0.8940 - val_Recall: 0.0000e+00 - val_TrueNegatives: 8882.0000 - val_TruePositives: 0.0000e+00 - val_loss: 0.4575 - learning_rate: 0.0050\n",
      "Epoch 7/60\n",
      "\u001b[1m2594/2594\u001b[0m \u001b[32m━━━━━━━━━━━━━━━━━━━━\u001b[0m\u001b[37m\u001b[0m \u001b[1m878s\u001b[0m 338ms/step - BinaryAccuracy: 0.8746 - FalseNegatives: 2035.9611 - FalsePositives: 555.7830 - MeanSquaredError: 0.0828 - PR_AUC: 0.4569 - Precision: 0.5211 - ROC_AUC: 0.8827 - Recall: 0.2205 - TrueNegatives: 17518.1328 - TruePositives: 658.1133 - loss: 0.2598 - val_BinaryAccuracy: 0.8539 - val_FalseNegatives: 1490.0000 - val_FalsePositives: 26.0000 - val_MeanSquaredError: 0.1254 - val_PR_AUC: 0.5797 - val_Precision: 0.1034 - val_ROC_AUC: 0.8665 - val_Recall: 0.0020 - val_TrueNegatives: 8856.0000 - val_TruePositives: 3.0000 - val_loss: 0.5219 - learning_rate: 0.0050\n",
      "Epoch 8/60\n",
      "\u001b[1m2594/2594\u001b[0m \u001b[32m━━━━━━━━━━━━━━━━━━━━\u001b[0m\u001b[37m\u001b[0m \u001b[1m924s\u001b[0m 339ms/step - BinaryAccuracy: 0.8781 - FalseNegatives: 1845.5160 - FalsePositives: 675.2601 - MeanSquaredError: 0.0806 - PR_AUC: 0.4780 - Precision: 0.5439 - ROC_AUC: 0.8913 - Recall: 0.2963 - TrueNegatives: 17398.6562 - TruePositives: 848.5584 - loss: 0.2523 - val_BinaryAccuracy: 0.8557 - val_FalseNegatives: 1468.0000 - val_FalsePositives: 29.0000 - val_MeanSquaredError: 0.1240 - val_PR_AUC: 0.6038 - val_Precision: 0.4630 - val_ROC_AUC: 0.8729 - val_Recall: 0.0167 - val_TrueNegatives: 8853.0000 - val_TruePositives: 25.0000 - val_loss: 0.5188 - learning_rate: 0.0050\n",
      "Epoch 9/60\n",
      "\u001b[1m2594/2594\u001b[0m \u001b[32m━━━━━━━━━━━━━━━━━━━━\u001b[0m\u001b[37m\u001b[0m \u001b[1m908s\u001b[0m 334ms/step - BinaryAccuracy: 0.8837 - FalseNegatives: 1606.9106 - FalsePositives: 789.7341 - MeanSquaredError: 0.0770 - PR_AUC: 0.5119 - Precision: 0.5680 - ROC_AUC: 0.9038 - Recall: 0.3819 - TrueNegatives: 17284.1816 - TruePositives: 1087.1638 - loss: 0.2400 - val_BinaryAccuracy: 0.8550 - val_FalseNegatives: 1448.0000 - val_FalsePositives: 56.0000 - val_MeanSquaredError: 0.1199 - val_PR_AUC: 0.6125 - val_Precision: 0.4455 - val_ROC_AUC: 0.8924 - val_Recall: 0.0301 - val_TrueNegatives: 8826.0000 - val_TruePositives: 45.0000 - val_loss: 0.4784 - learning_rate: 0.0050\n",
      "Epoch 10/60\n",
      "\u001b[1m2594/2594\u001b[0m \u001b[32m━━━━━━━━━━━━━━━━━━━━\u001b[0m\u001b[37m\u001b[0m \u001b[1m869s\u001b[0m 335ms/step - BinaryAccuracy: 0.8834 - FalseNegatives: 1506.8439 - FalsePositives: 849.1511 - MeanSquaredError: 0.0771 - PR_AUC: 0.5161 - Precision: 0.5556 - ROC_AUC: 0.9017 - Recall: 0.3926 - TrueNegatives: 17224.7656 - TruePositives: 1187.2305 - loss: 0.2410 - val_BinaryAccuracy: 0.8643 - val_FalseNegatives: 1319.0000 - val_FalsePositives: 89.0000 - val_MeanSquaredError: 0.1098 - val_PR_AUC: 0.5939 - val_Precision: 0.6616 - val_ROC_AUC: 0.8544 - val_Recall: 0.1165 - val_TrueNegatives: 8793.0000 - val_TruePositives: 174.0000 - val_loss: 0.4752 - learning_rate: 0.0050\n",
      "Epoch 11/60\n",
      "\u001b[1m2594/2594\u001b[0m \u001b[32m━━━━━━━━━━━━━━━━━━━━\u001b[0m\u001b[37m\u001b[0m \u001b[1m887s\u001b[0m 342ms/step - BinaryAccuracy: 0.8853 - FalseNegatives: 1362.9257 - FalsePositives: 941.3969 - MeanSquaredError: 0.0745 - PR_AUC: 0.5384 - Precision: 0.5583 - ROC_AUC: 0.9107 - Recall: 0.4445 - TrueNegatives: 17132.5195 - TruePositives: 1331.1488 - loss: 0.2313 - val_BinaryAccuracy: 0.8578 - val_FalseNegatives: 1406.0000 - val_FalsePositives: 69.0000 - val_MeanSquaredError: 0.1234 - val_PR_AUC: 0.5892 - val_Precision: 0.5577 - val_ROC_AUC: 0.8487 - val_Recall: 0.0583 - val_TrueNegatives: 8813.0000 - val_TruePositives: 87.0000 - val_loss: 0.5724 - learning_rate: 0.0050\n",
      "Epoch 12/60\n",
      "\u001b[1m2594/2594\u001b[0m \u001b[32m━━━━━━━━━━━━━━━━━━━━\u001b[0m\u001b[37m\u001b[0m \u001b[1m880s\u001b[0m 339ms/step - BinaryAccuracy: 0.8964 - FalseNegatives: 1138.0208 - FalsePositives: 996.6562 - MeanSquaredError: 0.0674 - PR_AUC: 0.5972 - Precision: 0.6009 - ROC_AUC: 0.9306 - Recall: 0.5695 - TrueNegatives: 17077.2598 - TruePositives: 1556.0536 - loss: 0.2085 - val_BinaryAccuracy: 0.8622 - val_FalseNegatives: 1346.0000 - val_FalsePositives: 84.0000 - val_MeanSquaredError: 0.1156 - val_PR_AUC: 0.5885 - val_Precision: 0.6364 - val_ROC_AUC: 0.8430 - val_Recall: 0.0985 - val_TrueNegatives: 8798.0000 - val_TruePositives: 147.0000 - val_loss: 0.5377 - learning_rate: 0.0050\n",
      "Epoch 13/60\n",
      "\u001b[1m2594/2594\u001b[0m \u001b[32m━━━━━━━━━━━━━━━━━━━━\u001b[0m\u001b[37m\u001b[0m \u001b[1m899s\u001b[0m 347ms/step - BinaryAccuracy: 0.8992 - FalseNegatives: 1124.3125 - FalsePositives: 958.4717 - MeanSquaredError: 0.0666 - PR_AUC: 0.6015 - Precision: 0.6145 - ROC_AUC: 0.9330 - Recall: 0.5725 - TrueNegatives: 17115.4453 - TruePositives: 1569.7618 - loss: 0.2065 - val_BinaryAccuracy: 0.8817 - val_FalseNegatives: 1084.0000 - val_FalsePositives: 143.0000 - val_MeanSquaredError: 0.0924 - val_PR_AUC: 0.6599 - val_Precision: 0.7409 - val_ROC_AUC: 0.9203 - val_Recall: 0.2739 - val_TrueNegatives: 8739.0000 - val_TruePositives: 409.0000 - val_loss: 0.3490 - learning_rate: 0.0050\n",
      "Epoch 14/60\n",
      "\u001b[1m2594/2594\u001b[0m \u001b[32m━━━━━━━━━━━━━━━━━━━━\u001b[0m\u001b[37m\u001b[0m \u001b[1m845s\u001b[0m 326ms/step - BinaryAccuracy: 0.8931 - FalseNegatives: 1173.9144 - FalsePositives: 941.8201 - MeanSquaredError: 0.0694 - PR_AUC: 0.5860 - Precision: 0.5883 - ROC_AUC: 0.9238 - Recall: 0.5138 - TrueNegatives: 17132.0957 - TruePositives: 1520.1599 - loss: 0.2157 - val_BinaryAccuracy: 0.8600 - val_FalseNegatives: 1384.0000 - val_FalsePositives: 69.0000 - val_MeanSquaredError: 0.1177 - val_PR_AUC: 0.5929 - val_Precision: 0.6124 - val_ROC_AUC: 0.8421 - val_Recall: 0.0730 - val_TrueNegatives: 8813.0000 - val_TruePositives: 109.0000 - val_loss: 0.5358 - learning_rate: 0.0050\n",
      "Epoch 15/60\n",
      "\u001b[1m2594/2594\u001b[0m \u001b[32m━━━━━━━━━━━━━━━━━━━━\u001b[0m\u001b[37m\u001b[0m \u001b[1m902s\u001b[0m 348ms/step - BinaryAccuracy: 0.9029 - FalseNegatives: 1005.9846 - FalsePositives: 956.9326 - MeanSquaredError: 0.0633 - PR_AUC: 0.6304 - Precision: 0.6239 - ROC_AUC: 0.9399 - Recall: 0.6061 - TrueNegatives: 17116.9844 - TruePositives: 1688.0898 - loss: 0.1947 - val_BinaryAccuracy: 0.8864 - val_FalseNegatives: 1027.0000 - val_FalsePositives: 152.0000 - val_MeanSquaredError: 0.0925 - val_PR_AUC: 0.6342 - val_Precision: 0.7540 - val_ROC_AUC: 0.8846 - val_Recall: 0.3121 - val_TrueNegatives: 8730.0000 - val_TruePositives: 466.0000 - val_loss: 0.3833 - learning_rate: 0.0050\n",
      "Epoch 16/60\n",
      "\u001b[1m2594/2594\u001b[0m \u001b[32m━━━━━━━━━━━━━━━━━━━━\u001b[0m\u001b[37m\u001b[0m \u001b[1m882s\u001b[0m 333ms/step - BinaryAccuracy: 0.9104 - FalseNegatives: 876.5595 - FalsePositives: 976.9522 - MeanSquaredError: 0.0583 - PR_AUC: 0.6656 - Precision: 0.6452 - ROC_AUC: 0.9501 - Recall: 0.6716 - TrueNegatives: 17096.9648 - TruePositives: 1817.5149 - loss: 0.1786 - val_BinaryAccuracy: 0.8720 - val_FalseNegatives: 1235.0000 - val_FalsePositives: 93.0000 - val_MeanSquaredError: 0.1086 - val_PR_AUC: 0.5806 - val_Precision: 0.7350 - val_ROC_AUC: 0.8413 - val_Recall: 0.1728 - val_TrueNegatives: 8789.0000 - val_TruePositives: 258.0000 - val_loss: 0.5189 - learning_rate: 0.0050\n",
      "Epoch 17/60\n",
      "\u001b[1m2594/2594\u001b[0m \u001b[32m━━━━━━━━━━━━━━━━━━━━\u001b[0m\u001b[37m\u001b[0m \u001b[1m949s\u001b[0m 343ms/step - BinaryAccuracy: 0.9114 - FalseNegatives: 852.0671 - FalsePositives: 961.2686 - MeanSquaredError: 0.0583 - PR_AUC: 0.6704 - Precision: 0.6467 - ROC_AUC: 0.9508 - Recall: 0.6801 - TrueNegatives: 17112.6484 - TruePositives: 1842.0073 - loss: 0.1777 - val_BinaryAccuracy: 0.8601 - val_FalseNegatives: 1381.0000 - val_FalsePositives: 70.0000 - val_MeanSquaredError: 0.1171 - val_PR_AUC: 0.6064 - val_Precision: 0.6154 - val_ROC_AUC: 0.8595 - val_Recall: 0.0750 - val_TrueNegatives: 8812.0000 - val_TruePositives: 112.0000 - val_loss: 0.5071 - learning_rate: 0.0050\n",
      "Epoch 18/60\n",
      "\u001b[1m2594/2594\u001b[0m \u001b[32m━━━━━━━━━━━━━━━━━━━━\u001b[0m\u001b[37m\u001b[0m \u001b[1m885s\u001b[0m 329ms/step - BinaryAccuracy: 0.9128 - FalseNegatives: 818.1830 - FalsePositives: 951.1075 - MeanSquaredError: 0.0570 - PR_AUC: 0.6872 - Precision: 0.6530 - ROC_AUC: 0.9536 - Recall: 0.6828 - TrueNegatives: 17122.8086 - TruePositives: 1875.8914 - loss: 0.1735 - val_BinaryAccuracy: 0.8855 - val_FalseNegatives: 1043.0000 - val_FalsePositives: 145.0000 - val_MeanSquaredError: 0.0916 - val_PR_AUC: 0.6389 - val_Precision: 0.7563 - val_ROC_AUC: 0.8865 - val_Recall: 0.3014 - val_TrueNegatives: 8737.0000 - val_TruePositives: 450.0000 - val_loss: 0.3856 - learning_rate: 0.0050\n",
      "Epoch 19/60\n",
      "\u001b[1m2594/2594\u001b[0m \u001b[32m━━━━━━━━━━━━━━━━━━━━\u001b[0m\u001b[37m\u001b[0m \u001b[1m919s\u001b[0m 351ms/step - BinaryAccuracy: 0.9163 - FalseNegatives: 778.3773 - FalsePositives: 946.4239 - MeanSquaredError: 0.0552 - PR_AUC: 0.7005 - Precision: 0.6640 - ROC_AUC: 0.9571 - Recall: 0.7041 - TrueNegatives: 17127.4922 - TruePositives: 1915.6971 - loss: 0.1676 - val_BinaryAccuracy: 0.8786 - val_FalseNegatives: 1171.0000 - val_FalsePositives: 89.0000 - val_MeanSquaredError: 0.0925 - val_PR_AUC: 0.6630 - val_Precision: 0.7835 - val_ROC_AUC: 0.8997 - val_Recall: 0.2157 - val_TrueNegatives: 8793.0000 - val_TruePositives: 322.0000 - val_loss: 0.3545 - learning_rate: 0.0050\n",
      "Epoch 20/60\n",
      "\u001b[1m2594/2594\u001b[0m \u001b[32m━━━━━━━━━━━━━━━━━━━━\u001b[0m\u001b[37m\u001b[0m \u001b[1m877s\u001b[0m 338ms/step - BinaryAccuracy: 0.9207 - FalseNegatives: 714.8285 - FalsePositives: 917.7044 - MeanSquaredError: 0.0530 - PR_AUC: 0.7189 - Precision: 0.6784 - ROC_AUC: 0.9609 - Recall: 0.7239 - TrueNegatives: 17156.2129 - TruePositives: 1979.2458 - loss: 0.1614 - val_BinaryAccuracy: 0.8677 - val_FalseNegatives: 1285.0000 - val_FalsePositives: 88.0000 - val_MeanSquaredError: 0.1108 - val_PR_AUC: 0.5795 - val_Precision: 0.7027 - val_ROC_AUC: 0.8408 - val_Recall: 0.1393 - val_TrueNegatives: 8794.0000 - val_TruePositives: 208.0000 - val_loss: 0.5162 - learning_rate: 0.0050\n",
      "Epoch 21/60\n",
      "\u001b[1m2594/2594\u001b[0m \u001b[32m━━━━━━━━━━━━━━━━━━━━\u001b[0m\u001b[37m\u001b[0m \u001b[1m907s\u001b[0m 332ms/step - BinaryAccuracy: 0.9170 - FalseNegatives: 779.7487 - FalsePositives: 923.7098 - MeanSquaredError: 0.0545 - PR_AUC: 0.7164 - Precision: 0.6692 - ROC_AUC: 0.9577 - Recall: 0.6981 - TrueNegatives: 17150.2070 - TruePositives: 1914.3257 - loss: 0.1662 - val_BinaryAccuracy: 0.8810 - val_FalseNegatives: 1110.0000 - val_FalsePositives: 125.0000 - val_MeanSquaredError: 0.0960 - val_PR_AUC: 0.6367 - val_Precision: 0.7539 - val_ROC_AUC: 0.8803 - val_Recall: 0.2565 - val_TrueNegatives: 8757.0000 - val_TruePositives: 383.0000 - val_loss: 0.4124 - learning_rate: 0.0050\n",
      "Epoch 22/60\n",
      "\u001b[1m2594/2594\u001b[0m \u001b[32m━━━━━━━━━━━━━━━━━━━━\u001b[0m\u001b[37m\u001b[0m \u001b[1m879s\u001b[0m 339ms/step - BinaryAccuracy: 0.9393 - FalseNegatives: 415.7029 - FalsePositives: 816.4447 - MeanSquaredError: 0.0401 - PR_AUC: 0.8182 - Precision: 0.7291 - ROC_AUC: 0.9772 - Recall: 0.8349 - TrueNegatives: 17257.4707 - TruePositives: 2278.3716 - loss: 0.1210 - val_BinaryAccuracy: 0.8824 - val_FalseNegatives: 1106.0000 - val_FalsePositives: 114.0000 - val_MeanSquaredError: 0.0932 - val_PR_AUC: 0.6415 - val_Precision: 0.7725 - val_ROC_AUC: 0.8574 - val_Recall: 0.2592 - val_TrueNegatives: 8768.0000 - val_TruePositives: 387.0000 - val_loss: 0.4483 - learning_rate: 0.0015\n",
      "Epoch 23/60\n",
      "\u001b[1m2594/2594\u001b[0m \u001b[32m━━━━━━━━━━━━━━━━━━━━\u001b[0m\u001b[37m\u001b[0m \u001b[1m935s\u001b[0m 344ms/step - BinaryAccuracy: 0.9437 - FalseNegatives: 427.7773 - FalsePositives: 739.6609 - MeanSquaredError: 0.0382 - PR_AUC: 0.8406 - Precision: 0.7522 - ROC_AUC: 0.9796 - Recall: 0.8374 - TrueNegatives: 17334.2559 - TruePositives: 2266.2971 - loss: 0.1161 - val_BinaryAccuracy: 0.8712 - val_FalseNegatives: 1256.0000 - val_FalsePositives: 80.0000 - val_MeanSquaredError: 0.0987 - val_PR_AUC: 0.6241 - val_Precision: 0.7476 - val_ROC_AUC: 0.8517 - val_Recall: 0.1587 - val_TrueNegatives: 8802.0000 - val_TruePositives: 237.0000 - val_loss: 0.4751 - learning_rate: 0.0015\n",
      "Epoch 24/60\n",
      "\u001b[1m2594/2594\u001b[0m \u001b[32m━━━━━━━━━━━━━━━━━━━━\u001b[0m\u001b[37m\u001b[0m \u001b[1m885s\u001b[0m 330ms/step - BinaryAccuracy: 0.9463 - FalseNegatives: 410.7006 - FalsePositives: 705.3468 - MeanSquaredError: 0.0366 - PR_AUC: 0.8573 - Precision: 0.7628 - ROC_AUC: 0.9812 - Recall: 0.8442 - TrueNegatives: 17368.5703 - TruePositives: 2283.3738 - loss: 0.1117 - val_BinaryAccuracy: 0.8876 - val_FalseNegatives: 1008.0000 - val_FalsePositives: 158.0000 - val_MeanSquaredError: 0.0882 - val_PR_AUC: 0.6632 - val_Precision: 0.7543 - val_ROC_AUC: 0.8674 - val_Recall: 0.3248 - val_TrueNegatives: 8724.0000 - val_TruePositives: 485.0000 - val_loss: 0.4246 - learning_rate: 0.0015\n",
      "Epoch 25/60\n",
      "\u001b[1m2594/2594\u001b[0m \u001b[32m━━━━━━━━━━━━━━━━━━━━\u001b[0m\u001b[37m\u001b[0m \u001b[1m849s\u001b[0m 325ms/step - BinaryAccuracy: 0.9461 - FalseNegatives: 425.8185 - FalsePositives: 679.4008 - MeanSquaredError: 0.0357 - PR_AUC: 0.8668 - Precision: 0.7654 - ROC_AUC: 0.9821 - Recall: 0.8371 - TrueNegatives: 17394.5156 - TruePositives: 2268.2559 - loss: 0.1093 - val_BinaryAccuracy: 0.8711 - val_FalseNegatives: 1320.0000 - val_FalsePositives: 17.0000 - val_MeanSquaredError: 0.1070 - val_PR_AUC: 0.6302 - val_Precision: 0.9105 - val_ROC_AUC: 0.8354 - val_Recall: 0.1159 - val_TrueNegatives: 8865.0000 - val_TruePositives: 173.0000 - val_loss: 0.5839 - learning_rate: 0.0015\n",
      "Epoch 26/60\n",
      "\u001b[1m2594/2594\u001b[0m \u001b[32m━━━━━━━━━━━━━━━━━━━━\u001b[0m\u001b[37m\u001b[0m \u001b[1m861s\u001b[0m 332ms/step - BinaryAccuracy: 0.9493 - FalseNegatives: 413.4782 - FalsePositives: 636.2339 - MeanSquaredError: 0.0349 - PR_AUC: 0.8727 - Precision: 0.7802 - ROC_AUC: 0.9831 - Recall: 0.8406 - TrueNegatives: 17437.6816 - TruePositives: 2280.5962 - loss: 0.1074 - val_BinaryAccuracy: 0.8892 - val_FalseNegatives: 1034.0000 - val_FalsePositives: 116.0000 - val_MeanSquaredError: 0.0876 - val_PR_AUC: 0.6818 - val_Precision: 0.7983 - val_ROC_AUC: 0.8758 - val_Recall: 0.3074 - val_TrueNegatives: 8766.0000 - val_TruePositives: 459.0000 - val_loss: 0.4017 - learning_rate: 0.0015\n",
      "Epoch 27/60\n",
      "\u001b[1m2594/2594\u001b[0m \u001b[32m━━━━━━━━━━━━━━━━━━━━\u001b[0m\u001b[37m\u001b[0m \u001b[1m890s\u001b[0m 343ms/step - BinaryAccuracy: 0.9506 - FalseNegatives: 386.7110 - FalsePositives: 635.7865 - MeanSquaredError: 0.0340 - PR_AUC: 0.8770 - Precision: 0.7820 - ROC_AUC: 0.9837 - Recall: 0.8524 - TrueNegatives: 17438.1289 - TruePositives: 2307.3633 - loss: 0.1049 - val_BinaryAccuracy: 0.8878 - val_FalseNegatives: 1104.0000 - val_FalsePositives: 60.0000 - val_MeanSquaredError: 0.0941 - val_PR_AUC: 0.6624 - val_Precision: 0.8664 - val_ROC_AUC: 0.8540 - val_Recall: 0.2605 - val_TrueNegatives: 8822.0000 - val_TruePositives: 389.0000 - val_loss: 0.4812 - learning_rate: 0.0015\n",
      "Epoch 28/60\n",
      "\u001b[1m2594/2594\u001b[0m \u001b[32m━━━━━━━━━━━━━━━━━━━━\u001b[0m\u001b[37m\u001b[0m \u001b[1m875s\u001b[0m 324ms/step - BinaryAccuracy: 0.9530 - FalseNegatives: 383.2308 - FalsePositives: 599.1218 - MeanSquaredError: 0.0328 - PR_AUC: 0.8911 - Precision: 0.7927 - ROC_AUC: 0.9850 - Recall: 0.8569 - TrueNegatives: 17474.7949 - TruePositives: 2310.8435 - loss: 0.1016 - val_BinaryAccuracy: 0.8811 - val_FalseNegatives: 1191.0000 - val_FalsePositives: 43.0000 - val_MeanSquaredError: 0.0985 - val_PR_AUC: 0.6649 - val_Precision: 0.8754 - val_ROC_AUC: 0.8628 - val_Recall: 0.2023 - val_TrueNegatives: 8839.0000 - val_TruePositives: 302.0000 - val_loss: 0.4802 - learning_rate: 0.0015\n",
      "Epoch 29/60\n",
      "\u001b[1m2594/2594\u001b[0m \u001b[32m━━━━━━━━━━━━━━━━━━━━\u001b[0m\u001b[37m\u001b[0m \u001b[1m883s\u001b[0m 333ms/step - BinaryAccuracy: 0.9532 - FalseNegatives: 379.5464 - FalsePositives: 591.3546 - MeanSquaredError: 0.0320 - PR_AUC: 0.8950 - Precision: 0.7932 - ROC_AUC: 0.9852 - Recall: 0.8579 - TrueNegatives: 17482.5625 - TruePositives: 2314.5278 - loss: 0.0995 - val_BinaryAccuracy: 0.8870 - val_FalseNegatives: 1129.0000 - val_FalsePositives: 43.0000 - val_MeanSquaredError: 0.0890 - val_PR_AUC: 0.6752 - val_Precision: 0.8943 - val_ROC_AUC: 0.8782 - val_Recall: 0.2438 - val_TrueNegatives: 8839.0000 - val_TruePositives: 364.0000 - val_loss: 0.3857 - learning_rate: 0.0015\n",
      "Epoch 30/60\n",
      "\u001b[1m2594/2594\u001b[0m \u001b[32m━━━━━━━━━━━━━━━━━━━━\u001b[0m\u001b[37m\u001b[0m \u001b[1m901s\u001b[0m 325ms/step - BinaryAccuracy: 0.9557 - FalseNegatives: 382.9753 - FalsePositives: 555.7684 - MeanSquaredError: 0.0312 - PR_AUC: 0.8975 - Precision: 0.8084 - ROC_AUC: 0.9862 - Recall: 0.8592 - TrueNegatives: 17518.1484 - TruePositives: 2311.0991 - loss: 0.0978 - val_BinaryAccuracy: 0.8818 - val_FalseNegatives: 1175.0000 - val_FalsePositives: 51.0000 - val_MeanSquaredError: 0.0980 - val_PR_AUC: 0.6523 - val_Precision: 0.8618 - val_ROC_AUC: 0.8548 - val_Recall: 0.2130 - val_TrueNegatives: 8831.0000 - val_TruePositives: 318.0000 - val_loss: 0.5098 - learning_rate: 0.0015\n",
      "Epoch 31/60\n",
      "\u001b[1m2594/2594\u001b[0m \u001b[32m━━━━━━━━━━━━━━━━━━━━\u001b[0m\u001b[37m\u001b[0m \u001b[1m884s\u001b[0m 333ms/step - BinaryAccuracy: 0.9565 - FalseNegatives: 360.9927 - FalsePositives: 546.4116 - MeanSquaredError: 0.0304 - PR_AUC: 0.9044 - Precision: 0.8088 - ROC_AUC: 0.9872 - Recall: 0.8641 - TrueNegatives: 17527.5039 - TruePositives: 2333.0818 - loss: 0.0952 - val_BinaryAccuracy: 0.8876 - val_FalseNegatives: 1041.0000 - val_FalsePositives: 125.0000 - val_MeanSquaredError: 0.0946 - val_PR_AUC: 0.6480 - val_Precision: 0.7834 - val_ROC_AUC: 0.8353 - val_Recall: 0.3027 - val_TrueNegatives: 8757.0000 - val_TruePositives: 452.0000 - val_loss: 0.5412 - learning_rate: 0.0015\n",
      "Epoch 32/60\n",
      "\u001b[1m2594/2594\u001b[0m \u001b[32m━━━━━━━━━━━━━━━━━━━━\u001b[0m\u001b[37m\u001b[0m \u001b[1m872s\u001b[0m 336ms/step - BinaryAccuracy: 0.9566 - FalseNegatives: 362.5518 - FalsePositives: 536.4828 - MeanSquaredError: 0.0299 - PR_AUC: 0.9085 - Precision: 0.8113 - ROC_AUC: 0.9872 - Recall: 0.8622 - TrueNegatives: 17537.4336 - TruePositives: 2331.5225 - loss: 0.0943 - val_BinaryAccuracy: 0.8948 - val_FalseNegatives: 984.0000 - val_FalsePositives: 107.0000 - val_MeanSquaredError: 0.0837 - val_PR_AUC: 0.6939 - val_Precision: 0.8263 - val_ROC_AUC: 0.8820 - val_Recall: 0.3409 - val_TrueNegatives: 8775.0000 - val_TruePositives: 509.0000 - val_loss: 0.3828 - learning_rate: 0.0015\n",
      "Epoch 33/60\n",
      "\u001b[1m2594/2594\u001b[0m \u001b[32m━━━━━━━━━━━━━━━━━━━━\u001b[0m\u001b[37m\u001b[0m \u001b[1m869s\u001b[0m 335ms/step - BinaryAccuracy: 0.9584 - FalseNegatives: 351.8416 - FalsePositives: 529.5638 - MeanSquaredError: 0.0291 - PR_AUC: 0.9136 - Precision: 0.8168 - ROC_AUC: 0.9879 - Recall: 0.8716 - TrueNegatives: 17544.3535 - TruePositives: 2342.2327 - loss: 0.0919 - val_BinaryAccuracy: 0.8935 - val_FalseNegatives: 991.0000 - val_FalsePositives: 114.0000 - val_MeanSquaredError: 0.0858 - val_PR_AUC: 0.6794 - val_Precision: 0.8149 - val_ROC_AUC: 0.8798 - val_Recall: 0.3362 - val_TrueNegatives: 8768.0000 - val_TruePositives: 502.0000 - val_loss: 0.3941 - learning_rate: 0.0015\n",
      "Epoch 34/60\n",
      "\u001b[1m2594/2594\u001b[0m \u001b[32m━━━━━━━━━━━━━━━━━━━━\u001b[0m\u001b[37m\u001b[0m \u001b[1m933s\u001b[0m 339ms/step - BinaryAccuracy: 0.9609 - FalseNegatives: 344.3279 - FalsePositives: 483.4355 - MeanSquaredError: 0.0279 - PR_AUC: 0.9192 - Precision: 0.8302 - ROC_AUC: 0.9886 - Recall: 0.8744 - TrueNegatives: 17590.4805 - TruePositives: 2349.7463 - loss: 0.0887 - val_BinaryAccuracy: 0.8881 - val_FalseNegatives: 1094.0000 - val_FalsePositives: 67.0000 - val_MeanSquaredError: 0.0885 - val_PR_AUC: 0.6873 - val_Precision: 0.8562 - val_ROC_AUC: 0.8862 - val_Recall: 0.2672 - val_TrueNegatives: 8815.0000 - val_TruePositives: 399.0000 - val_loss: 0.3995 - learning_rate: 0.0015\n",
      "Epoch 35/60\n",
      "\u001b[1m2594/2594\u001b[0m \u001b[32m━━━━━━━━━━━━━━━━━━━━\u001b[0m\u001b[37m\u001b[0m \u001b[1m840s\u001b[0m 324ms/step - BinaryAccuracy: 0.9615 - FalseNegatives: 343.0054 - FalsePositives: 468.1168 - MeanSquaredError: 0.0273 - PR_AUC: 0.9231 - Precision: 0.8332 - ROC_AUC: 0.9892 - Recall: 0.8736 - TrueNegatives: 17605.7988 - TruePositives: 2351.0691 - loss: 0.0867 - val_BinaryAccuracy: 0.8927 - val_FalseNegatives: 1017.0000 - val_FalsePositives: 96.0000 - val_MeanSquaredError: 0.0876 - val_PR_AUC: 0.6856 - val_Precision: 0.8322 - val_ROC_AUC: 0.8679 - val_Recall: 0.3188 - val_TrueNegatives: 8786.0000 - val_TruePositives: 476.0000 - val_loss: 0.4444 - learning_rate: 0.0015\n",
      "Epoch 36/60\n",
      "\u001b[1m2594/2594\u001b[0m \u001b[32m━━━━━━━━━━━━━━━━━━━━\u001b[0m\u001b[37m\u001b[0m \u001b[1m879s\u001b[0m 331ms/step - BinaryAccuracy: 0.9614 - FalseNegatives: 344.1383 - FalsePositives: 460.6331 - MeanSquaredError: 0.0265 - PR_AUC: 0.9309 - Precision: 0.8351 - ROC_AUC: 0.9901 - Recall: 0.8701 - TrueNegatives: 17613.2832 - TruePositives: 2349.9360 - loss: 0.0839 - val_BinaryAccuracy: 0.8902 - val_FalseNegatives: 1055.0000 - val_FalsePositives: 84.0000 - val_MeanSquaredError: 0.0916 - val_PR_AUC: 0.6678 - val_Precision: 0.8391 - val_ROC_AUC: 0.8602 - val_Recall: 0.2934 - val_TrueNegatives: 8798.0000 - val_TruePositives: 438.0000 - val_loss: 0.4626 - learning_rate: 0.0015\n",
      "Epoch 37/60\n",
      "\u001b[1m2594/2594\u001b[0m \u001b[32m━━━━━━━━━━━━━━━━━━━━\u001b[0m\u001b[37m\u001b[0m \u001b[1m821s\u001b[0m 317ms/step - BinaryAccuracy: 0.9636 - FalseNegatives: 330.8308 - FalsePositives: 436.7472 - MeanSquaredError: 0.0261 - PR_AUC: 0.9327 - Precision: 0.8442 - ROC_AUC: 0.9902 - Recall: 0.8771 - TrueNegatives: 17637.1699 - TruePositives: 2363.2437 - loss: 0.0831 - val_BinaryAccuracy: 0.8878 - val_FalseNegatives: 1098.0000 - val_FalsePositives: 66.0000 - val_MeanSquaredError: 0.0913 - val_PR_AUC: 0.6899 - val_Precision: 0.8568 - val_ROC_AUC: 0.8763 - val_Recall: 0.2646 - val_TrueNegatives: 8816.0000 - val_TruePositives: 395.0000 - val_loss: 0.4499 - learning_rate: 0.0015\n",
      "Epoch 38/60\n",
      "\u001b[1m2594/2594\u001b[0m \u001b[32m━━━━━━━━━━━━━━━━━━━━\u001b[0m\u001b[37m\u001b[0m \u001b[1m883s\u001b[0m 340ms/step - BinaryAccuracy: 0.9633 - FalseNegatives: 330.8601 - FalsePositives: 441.0270 - MeanSquaredError: 0.0253 - PR_AUC: 0.9352 - Precision: 0.8436 - ROC_AUC: 0.9907 - Recall: 0.8774 - TrueNegatives: 17632.8887 - TruePositives: 2363.2144 - loss: 0.0806 - val_BinaryAccuracy: 0.8949 - val_FalseNegatives: 1006.0000 - val_FalsePositives: 84.0000 - val_MeanSquaredError: 0.0866 - val_PR_AUC: 0.6844 - val_Precision: 0.8529 - val_ROC_AUC: 0.8841 - val_Recall: 0.3262 - val_TrueNegatives: 8798.0000 - val_TruePositives: 487.0000 - val_loss: 0.4016 - learning_rate: 0.0015\n",
      "Epoch 39/60\n",
      "\u001b[1m2594/2594\u001b[0m \u001b[32m━━━━━━━━━━━━━━━━━━━━\u001b[0m\u001b[37m\u001b[0m \u001b[1m925s\u001b[0m 342ms/step - BinaryAccuracy: 0.9671 - FalseNegatives: 302.8759 - FalsePositives: 396.6578 - MeanSquaredError: 0.0240 - PR_AUC: 0.9380 - Precision: 0.8589 - ROC_AUC: 0.9912 - Recall: 0.8887 - TrueNegatives: 17677.2578 - TruePositives: 2391.1985 - loss: 0.0779 - val_BinaryAccuracy: 0.9032 - val_FalseNegatives: 863.0000 - val_FalsePositives: 141.0000 - val_MeanSquaredError: 0.0764 - val_PR_AUC: 0.7163 - val_Precision: 0.8171 - val_ROC_AUC: 0.9063 - val_Recall: 0.4220 - val_TrueNegatives: 8741.0000 - val_TruePositives: 630.0000 - val_loss: 0.3295 - learning_rate: 0.0015\n",
      "Epoch 40/60\n",
      "\u001b[1m2594/2594\u001b[0m \u001b[32m━━━━━━━━━━━━━━━━━━━━\u001b[0m\u001b[37m\u001b[0m \u001b[1m874s\u001b[0m 337ms/step - BinaryAccuracy: 0.9674 - FalseNegatives: 301.4200 - FalsePositives: 397.6162 - MeanSquaredError: 0.0239 - PR_AUC: 0.9423 - Precision: 0.8604 - ROC_AUC: 0.9918 - Recall: 0.8896 - TrueNegatives: 17676.3008 - TruePositives: 2392.6543 - loss: 0.0768 - val_BinaryAccuracy: 0.8900 - val_FalseNegatives: 1057.0000 - val_FalsePositives: 84.0000 - val_MeanSquaredError: 0.0898 - val_PR_AUC: 0.6840 - val_Precision: 0.8385 - val_ROC_AUC: 0.8780 - val_Recall: 0.2920 - val_TrueNegatives: 8798.0000 - val_TruePositives: 436.0000 - val_loss: 0.4471 - learning_rate: 0.0015\n",
      "Epoch 41/60\n",
      "\u001b[1m2594/2594\u001b[0m \u001b[32m━━━━━━━━━━━━━━━━━━━━\u001b[0m\u001b[37m\u001b[0m \u001b[1m889s\u001b[0m 324ms/step - BinaryAccuracy: 0.9766 - FalseNegatives: 202.3206 - FalsePositives: 276.9364 - MeanSquaredError: 0.0169 - PR_AUC: 0.9712 - Precision: 0.8982 - ROC_AUC: 0.9958 - Recall: 0.9219 - TrueNegatives: 17796.9805 - TruePositives: 2491.7537 - loss: 0.0564 - val_BinaryAccuracy: 0.8966 - val_FalseNegatives: 944.0000 - val_FalsePositives: 129.0000 - val_MeanSquaredError: 0.0850 - val_PR_AUC: 0.6808 - val_Precision: 0.8097 - val_ROC_AUC: 0.8704 - val_Recall: 0.3677 - val_TrueNegatives: 8753.0000 - val_TruePositives: 549.0000 - val_loss: 0.4411 - learning_rate: 4.5000e-04\n",
      "Epoch 42/60\n",
      "\u001b[1m2594/2594\u001b[0m \u001b[32m━━━━━━━━━━━━━━━━━━━━\u001b[0m\u001b[37m\u001b[0m \u001b[1m827s\u001b[0m 311ms/step - BinaryAccuracy: 0.9762 - FalseNegatives: 214.5692 - FalsePositives: 280.6312 - MeanSquaredError: 0.0164 - PR_AUC: 0.9736 - Precision: 0.8966 - ROC_AUC: 0.9961 - Recall: 0.9210 - TrueNegatives: 17793.2852 - TruePositives: 2479.5051 - loss: 0.0537 - val_BinaryAccuracy: 0.8914 - val_FalseNegatives: 988.0000 - val_FalsePositives: 139.0000 - val_MeanSquaredError: 0.0889 - val_PR_AUC: 0.6673 - val_Precision: 0.7842 - val_ROC_AUC: 0.8617 - val_Recall: 0.3382 - val_TrueNegatives: 8743.0000 - val_TruePositives: 505.0000 - val_loss: 0.4770 - learning_rate: 4.5000e-04\n",
      "Epoch 43/60\n",
      "\u001b[1m2594/2594\u001b[0m \u001b[32m━━━━━━━━━━━━━━━━━━━━\u001b[0m\u001b[37m\u001b[0m \u001b[1m944s\u001b[0m 342ms/step - BinaryAccuracy: 0.9781 - FalseNegatives: 201.7680 - FalsePositives: 265.5487 - MeanSquaredError: 0.0159 - PR_AUC: 0.9745 - Precision: 0.9054 - ROC_AUC: 0.9962 - Recall: 0.9250 - TrueNegatives: 17808.3672 - TruePositives: 2492.3064 - loss: 0.0522 - val_BinaryAccuracy: 0.9000 - val_FalseNegatives: 845.0000 - val_FalsePositives: 192.0000 - val_MeanSquaredError: 0.0837 - val_PR_AUC: 0.6698 - val_Precision: 0.7714 - val_ROC_AUC: 0.8624 - val_Recall: 0.4340 - val_TrueNegatives: 8690.0000 - val_TruePositives: 648.0000 - val_loss: 0.4876 - learning_rate: 4.5000e-04\n",
      "Epoch 44/60\n",
      "\u001b[1m2594/2594\u001b[0m \u001b[32m━━━━━━━━━━━━━━━━━━━━\u001b[0m\u001b[37m\u001b[0m \u001b[1m825s\u001b[0m 318ms/step - BinaryAccuracy: 0.9788 - FalseNegatives: 191.8250 - FalsePositives: 256.2721 - MeanSquaredError: 0.0152 - PR_AUC: 0.9769 - Precision: 0.9070 - ROC_AUC: 0.9965 - Recall: 0.9305 - TrueNegatives: 17817.6445 - TruePositives: 2502.2493 - loss: 0.0497 - val_BinaryAccuracy: 0.8930 - val_FalseNegatives: 978.0000 - val_FalsePositives: 132.0000 - val_MeanSquaredError: 0.0875 - val_PR_AUC: 0.6676 - val_Precision: 0.7960 - val_ROC_AUC: 0.8584 - val_Recall: 0.3449 - val_TrueNegatives: 8750.0000 - val_TruePositives: 515.0000 - val_loss: 0.4885 - learning_rate: 4.5000e-04\n",
      "Epoch 45/60\n",
      "\u001b[1m2594/2594\u001b[0m \u001b[32m━━━━━━━━━━━━━━━━━━━━\u001b[0m\u001b[37m\u001b[0m \u001b[1m870s\u001b[0m 336ms/step - BinaryAccuracy: 0.9793 - FalseNegatives: 191.5233 - FalsePositives: 247.3738 - MeanSquaredError: 0.0151 - PR_AUC: 0.9766 - Precision: 0.9112 - ROC_AUC: 0.9965 - Recall: 0.9298 - TrueNegatives: 17826.5430 - TruePositives: 2502.5510 - loss: 0.0497 - val_BinaryAccuracy: 0.9029 - val_FalseNegatives: 817.0000 - val_FalsePositives: 190.0000 - val_MeanSquaredError: 0.0812 - val_PR_AUC: 0.6712 - val_Precision: 0.7806 - val_ROC_AUC: 0.8689 - val_Recall: 0.4528 - val_TrueNegatives: 8692.0000 - val_TruePositives: 676.0000 - val_loss: 0.4411 - learning_rate: 4.5000e-04\n",
      "Epoch 46/60\n",
      "\u001b[1m2594/2594\u001b[0m \u001b[32m━━━━━━━━━━━━━━━━━━━━\u001b[0m\u001b[37m\u001b[0m \u001b[1m888s\u001b[0m 342ms/step - BinaryAccuracy: 0.9794 - FalseNegatives: 193.2886 - FalsePositives: 247.3672 - MeanSquaredError: 0.0149 - PR_AUC: 0.9773 - Precision: 0.9104 - ROC_AUC: 0.9964 - Recall: 0.9317 - TrueNegatives: 17826.5488 - TruePositives: 2500.7856 - loss: 0.0487 - val_BinaryAccuracy: 0.9036 - val_FalseNegatives: 785.0000 - val_FalsePositives: 215.0000 - val_MeanSquaredError: 0.0797 - val_PR_AUC: 0.6861 - val_Precision: 0.7671 - val_ROC_AUC: 0.8715 - val_Recall: 0.4742 - val_TrueNegatives: 8667.0000 - val_TruePositives: 708.0000 - val_loss: 0.4217 - learning_rate: 4.5000e-04\n",
      "Epoch 47/60\n",
      "\u001b[1m2594/2594\u001b[0m \u001b[32m━━━━━━━━━━━━━━━━━━━━\u001b[0m\u001b[37m\u001b[0m \u001b[1m897s\u001b[0m 333ms/step - BinaryAccuracy: 0.9797 - FalseNegatives: 186.5218 - FalsePositives: 243.4559 - MeanSquaredError: 0.0145 - PR_AUC: 0.9787 - Precision: 0.9112 - ROC_AUC: 0.9967 - Recall: 0.9333 - TrueNegatives: 17830.4609 - TruePositives: 2507.5525 - loss: 0.0475 - val_BinaryAccuracy: 0.8994 - val_FalseNegatives: 897.0000 - val_FalsePositives: 147.0000 - val_MeanSquaredError: 0.0841 - val_PR_AUC: 0.6758 - val_Precision: 0.8022 - val_ROC_AUC: 0.8599 - val_Recall: 0.3992 - val_TrueNegatives: 8735.0000 - val_TruePositives: 596.0000 - val_loss: 0.5045 - learning_rate: 4.5000e-04\n",
      "Epoch 48/60\n",
      "\u001b[1m2594/2594\u001b[0m \u001b[32m━━━━━━━━━━━━━━━━━━━━\u001b[0m\u001b[37m\u001b[0m \u001b[1m887s\u001b[0m 342ms/step - BinaryAccuracy: 0.9781 - FalseNegatives: 206.7414 - FalsePositives: 249.1495 - MeanSquaredError: 0.0151 - PR_AUC: 0.9765 - Precision: 0.9074 - ROC_AUC: 0.9964 - Recall: 0.9226 - TrueNegatives: 17824.7676 - TruePositives: 2487.3330 - loss: 0.0495 - val_BinaryAccuracy: 0.8920 - val_FalseNegatives: 998.0000 - val_FalsePositives: 122.0000 - val_MeanSquaredError: 0.0906 - val_PR_AUC: 0.6581 - val_Precision: 0.8023 - val_ROC_AUC: 0.8533 - val_Recall: 0.3315 - val_TrueNegatives: 8760.0000 - val_TruePositives: 495.0000 - val_loss: 0.5346 - learning_rate: 4.5000e-04\n",
      "Epoch 49/60\n",
      "\u001b[1m2594/2594\u001b[0m \u001b[32m━━━━━━━━━━━━━━━━━━━━\u001b[0m\u001b[37m\u001b[0m \u001b[1m936s\u001b[0m 348ms/step - BinaryAccuracy: 0.9836 - FalseNegatives: 141.5399 - FalsePositives: 199.0077 - MeanSquaredError: 0.0118 - PR_AUC: 0.9857 - Precision: 0.9264 - ROC_AUC: 0.9976 - Recall: 0.9477 - TrueNegatives: 17874.9082 - TruePositives: 2552.5344 - loss: 0.0396 - val_BinaryAccuracy: 0.8923 - val_FalseNegatives: 992.0000 - val_FalsePositives: 125.0000 - val_MeanSquaredError: 0.0898 - val_PR_AUC: 0.6601 - val_Precision: 0.8003 - val_ROC_AUC: 0.8546 - val_Recall: 0.3356 - val_TrueNegatives: 8757.0000 - val_TruePositives: 501.0000 - val_loss: 0.5293 - learning_rate: 1.3500e-04\n",
      "Epoch 50/60\n",
      "\u001b[1m2594/2594\u001b[0m \u001b[32m━━━━━━━━━━━━━━━━━━━━\u001b[0m\u001b[37m\u001b[0m \u001b[1m883s\u001b[0m 332ms/step - BinaryAccuracy: 0.9837 - FalseNegatives: 152.3391 - FalsePositives: 193.6805 - MeanSquaredError: 0.0113 - PR_AUC: 0.9875 - Precision: 0.9287 - ROC_AUC: 0.9980 - Recall: 0.9439 - TrueNegatives: 17880.2363 - TruePositives: 2541.7354 - loss: 0.0376 - val_BinaryAccuracy: 0.8916 - val_FalseNegatives: 999.0000 - val_FalsePositives: 126.0000 - val_MeanSquaredError: 0.0906 - val_PR_AUC: 0.6580 - val_Precision: 0.7968 - val_ROC_AUC: 0.8544 - val_Recall: 0.3309 - val_TrueNegatives: 8756.0000 - val_TruePositives: 494.0000 - val_loss: 0.5315 - learning_rate: 1.3500e-04\n",
      "Epoch 51/60\n",
      "\u001b[1m2594/2594\u001b[0m \u001b[32m━━━━━━━━━━━━━━━━━━━━\u001b[0m\u001b[37m\u001b[0m \u001b[1m857s\u001b[0m 330ms/step - BinaryAccuracy: 0.9831 - FalseNegatives: 151.8852 - FalsePositives: 192.0879 - MeanSquaredError: 0.0117 - PR_AUC: 0.9865 - Precision: 0.9273 - ROC_AUC: 0.9977 - Recall: 0.9410 - TrueNegatives: 17881.8281 - TruePositives: 2542.1892 - loss: 0.0385 - val_BinaryAccuracy: 0.8923 - val_FalseNegatives: 973.0000 - val_FalsePositives: 144.0000 - val_MeanSquaredError: 0.0900 - val_PR_AUC: 0.6478 - val_Precision: 0.7831 - val_ROC_AUC: 0.8527 - val_Recall: 0.3483 - val_TrueNegatives: 8738.0000 - val_TruePositives: 520.0000 - val_loss: 0.5281 - learning_rate: 1.3500e-04\n",
      "Epoch 52/60\n",
      "\u001b[1m2594/2594\u001b[0m \u001b[32m━━━━━━━━━━━━━━━━━━━━\u001b[0m\u001b[37m\u001b[0m \u001b[1m589s\u001b[0m 227ms/step - BinaryAccuracy: 0.9841 - FalseNegatives: 147.6116 - FalsePositives: 185.2501 - MeanSquaredError: 0.0110 - PR_AUC: 0.9884 - Precision: 0.9308 - ROC_AUC: 0.9982 - Recall: 0.9466 - TrueNegatives: 17888.6660 - TruePositives: 2546.4629 - loss: 0.0362 - val_BinaryAccuracy: 0.8870 - val_FalseNegatives: 1054.0000 - val_FalsePositives: 118.0000 - val_MeanSquaredError: 0.0970 - val_PR_AUC: 0.6325 - val_Precision: 0.7882 - val_ROC_AUC: 0.8359 - val_Recall: 0.2940 - val_TrueNegatives: 8764.0000 - val_TruePositives: 439.0000 - val_loss: 0.6119 - learning_rate: 1.3500e-04\n",
      "Epoch 53/60\n",
      "\u001b[1m2594/2594\u001b[0m \u001b[32m━━━━━━━━━━━━━━━━━━━━\u001b[0m\u001b[37m\u001b[0m \u001b[1m476s\u001b[0m 184ms/step - BinaryAccuracy: 0.9842 - FalseNegatives: 146.1638 - FalsePositives: 184.3044 - MeanSquaredError: 0.0112 - PR_AUC: 0.9875 - Precision: 0.9336 - ROC_AUC: 0.9980 - Recall: 0.9441 - TrueNegatives: 17889.6113 - TruePositives: 2547.9106 - loss: 0.0369 - val_BinaryAccuracy: 0.8911 - val_FalseNegatives: 1009.0000 - val_FalsePositives: 121.0000 - val_MeanSquaredError: 0.0929 - val_PR_AUC: 0.6418 - val_Precision: 0.8000 - val_ROC_AUC: 0.8439 - val_Recall: 0.3242 - val_TrueNegatives: 8761.0000 - val_TruePositives: 484.0000 - val_loss: 0.5940 - learning_rate: 1.3500e-04\n",
      "Epoch 54/60\n",
      "\u001b[1m2594/2594\u001b[0m \u001b[32m━━━━━━━━━━━━━━━━━━━━\u001b[0m\u001b[37m\u001b[0m \u001b[1m480s\u001b[0m 185ms/step - BinaryAccuracy: 0.9858 - FalseNegatives: 124.7484 - FalsePositives: 167.6551 - MeanSquaredError: 0.0103 - PR_AUC: 0.9894 - Precision: 0.9383 - ROC_AUC: 0.9983 - Recall: 0.9525 - TrueNegatives: 17906.2617 - TruePositives: 2569.3259 - loss: 0.0344 - val_BinaryAccuracy: 0.8915 - val_FalseNegatives: 990.0000 - val_FalsePositives: 136.0000 - val_MeanSquaredError: 0.0907 - val_PR_AUC: 0.6464 - val_Precision: 0.7872 - val_ROC_AUC: 0.8499 - val_Recall: 0.3369 - val_TrueNegatives: 8746.0000 - val_TruePositives: 503.0000 - val_loss: 0.5568 - learning_rate: 4.0500e-05\n",
      "Epoch 55/60\n",
      "\u001b[1m1081/2594\u001b[0m \u001b[32m━━━━━━━━\u001b[0m\u001b[37m━━━━━━━━━━━━\u001b[0m \u001b[1m4:34\u001b[0m 181ms/step - BinaryAccuracy: 0.9865 - FalseNegatives: 46.7669 - FalsePositives: 71.9750 - MeanSquaredError: 0.0099 - PR_AUC: 0.9899 - Precision: 0.9366 - ROC_AUC: 0.9985 - Recall: 0.9579 - TrueNegatives: 7482.6753 - TruePositives: 1054.5828 - loss: 0.0332"
     ]
    }
   ],
   "source": [
    "#///////////////////////////////// для тренировки\n",
    "history = model.fit(dataset['train']['x'], dataset['train']['bin'],\n",
    "                    batch_size = 16,\n",
    "                    epochs = 60,\n",
    "                    verbose = 1,\n",
    "                    shuffle = True,\n",
    "                    validation_data = (dataset['val']['x'], dataset['val']['bin']),\n",
    "                    callbacks = callback_list)"
   ]
  },
  {
   "cell_type": "markdown",
   "id": "62cd3469-0388-49e2-8235-f03a32e73a6c",
   "metadata": {},
   "source": [
    "## Вывод результатов обучение модели"
   ]
  },
  {
   "cell_type": "code",
   "execution_count": null,
   "id": "16fe431e-cba2-405e-8c7e-30506bd40576",
   "metadata": {
    "execution": {
     "execution_failed": "2024-10-02T18:13:26.520Z"
    },
    "jupyter": {
     "source_hidden": true
    }
   },
   "outputs": [],
   "source": [
    "'''FONT_SIZE = 15\n",
    "for key1,key2 in zip(['BinaryAccuracy','Precision','MeanSquaredError','TruePositives','TrueNegatives'],\n",
    "                     ['loss','Recall','AUC','FalseNegatives','FalsePositives']):\n",
    "    fig, axes = plt.subplots(1,2)\n",
    "\n",
    "    fig.set_figwidth(22)\n",
    "    fig.set_figheight(8)\n",
    "    \n",
    "    axes[0].plot(history.history[key1], \n",
    "             label='Train dataset',  linewidth=1.5, color='blue')\n",
    "    axes[0].plot(history.history[f'val_{key1}'], linestyle = '--', \n",
    "             label='Validation dataset',  linewidth=3, color='red')\n",
    "    axes[0].set_xlabel('Epoch number', fontsize=FONT_SIZE)\n",
    "    axes[0].set_ylabel(f'{key1} value', fontsize=FONT_SIZE)\n",
    "    axes[0].set_title(f\"Learning process {key1} plot\", fontsize=FONT_SIZE, pad=15)\n",
    "    axes[0].tick_params(axis='both', which='both', labelsize = FONT_SIZE)\n",
    "    axes[0].minorticks_on()\n",
    "    axes[0].grid(which='major', linewidth=2)\n",
    "    axes[0].grid(which='minor', color = 'gray', linestyle = ':')\n",
    "    axes[0].legend(fontsize = FONT_SIZE, facecolor = \"white\", loc = 'upper right')\n",
    "\n",
    "    axes[1].plot(history.history[key2], \n",
    "             label='Train dataset',  linewidth=1.5, color='blue')\n",
    "    axes[1].plot(history.history[f'val_{key2}'], linestyle = '--', \n",
    "             label='Validation dataset',  linewidth=3, color='red')\n",
    "    axes[1].set_xlabel('Epoch number', fontsize=FONT_SIZE)\n",
    "    axes[1].set_ylabel(f'{key2} value', fontsize=FONT_SIZE)\n",
    "    axes[1].set_title(f\"Learning process {key2} plot\", fontsize=FONT_SIZE, pad=15)\n",
    "    axes[1].tick_params(axis='both', which='both', labelsize = FONT_SIZE)\n",
    "    axes[1].minorticks_on()\n",
    "    axes[1].grid(which='major', linewidth=2)\n",
    "    axes[1].grid(which='minor', color = 'gray', linestyle = ':')\n",
    "    axes[1].legend(fontsize = FONT_SIZE, facecolor = \"white\", loc = 'upper right')\n",
    "\n",
    "    plt.show()''';"
   ]
  },
  {
   "cell_type": "code",
   "execution_count": null,
   "id": "9615a1e2-0639-48a9-bb44-9356b4bd58c2",
   "metadata": {
    "execution": {
     "execution_failed": "2024-10-02T18:13:26.520Z"
    }
   },
   "outputs": [],
   "source": [
    "FONT_SIZE = 15\n",
    "for key in [k for k in history.history.keys() if not k.startswith('val')]:\n",
    "    fig, ax = plt.subplots()\n",
    "\n",
    "    fig.set_figwidth(12)\n",
    "    fig.set_figheight(8)\n",
    "    \n",
    "    plt.plot(history.history[key], \n",
    "             label='Train dataset',  linewidth=1.5, color='blue')\n",
    "    if key != 'learning_rate':\n",
    "        plt.plot(history.history[f'val_{key}'], linestyle = '--', \n",
    "             label='Validation dataset',  linewidth=3, color='red')\n",
    "    \n",
    "    ax.set_xlabel('Epoch number', fontsize=FONT_SIZE)\n",
    "    ax.set_ylabel(f'{key} value', fontsize=FONT_SIZE)\n",
    "    ax.set_title(f\"Learning process {key} plot\", fontsize=FONT_SIZE, pad=15)\n",
    "    \n",
    "    ax.patch.set_alpha(0)\n",
    "    \n",
    "    #  Устанавливаем форматирование делений:\n",
    "    ax.tick_params(axis='both', which='both', labelsize = FONT_SIZE)\n",
    "    \n",
    "    # Вывод и настройка сетки\n",
    "    ax.minorticks_on()\n",
    "    ax.grid(which='major', linewidth=2)\n",
    "    ax.grid(which='minor', color = 'gray', linestyle = ':')\n",
    "    \n",
    "    ax.legend(fontsize = FONT_SIZE, facecolor = \"white\")\n",
    "    \n",
    "    plt.show()"
   ]
  },
  {
   "cell_type": "code",
   "execution_count": null,
   "id": "510ef382-9778-44a0-8d68-201e47702ac8",
   "metadata": {
    "execution": {
     "execution_failed": "2024-10-02T18:13:26.520Z"
    }
   },
   "outputs": [],
   "source": [
    "# сохранинеи процесса обучения в файл\n",
    "#new_learn_df = pd.DataFrame.from_dict(history.history)\n",
    "#new_learn_df.to_excel(f\"networks/CNN/checkpoints/model_id=v{MODEL_VER}n{NEW_MODEL_NUM}/learning_df.xlsx\")"
   ]
  },
  {
   "cell_type": "code",
   "execution_count": null,
   "id": "cd754500-4101-490c-8347-e28fbf679db0",
   "metadata": {
    "execution": {
     "execution_failed": "2024-10-02T18:13:26.521Z"
    }
   },
   "outputs": [],
   "source": [
    "# сохранение модели в файл\n",
    "#model.save(PATH_TO_SAVE_MODEL/f\"id=v{MODEL_VER:04}n{MODEL_NUM:04}_in({CROP_SIZE}x{CROP_SIZE}x64)_out(1)_train=0dot0_test=0dot0.keras\")"
   ]
  },
  {
   "cell_type": "markdown",
   "id": "3b5b3189-a635-46c3-9420-24717863c2b2",
   "metadata": {},
   "source": [
    "#### "
   ]
  }
 ],
 "metadata": {
  "kernelspec": {
   "display_name": "Python 3 (ipykernel)",
   "language": "python",
   "name": "python3"
  },
  "language_info": {
   "codemirror_mode": {
    "name": "ipython",
    "version": 3
   },
   "file_extension": ".py",
   "mimetype": "text/x-python",
   "name": "python",
   "nbconvert_exporter": "python",
   "pygments_lexer": "ipython3",
   "version": "3.12.5"
  }
 },
 "nbformat": 4,
 "nbformat_minor": 5
}
