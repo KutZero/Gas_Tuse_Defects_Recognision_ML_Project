{
 "cells": [
  {
   "cell_type": "code",
   "execution_count": null,
   "id": "fde58157-7750-45b9-a343-b46e3c74b5b4",
   "metadata": {},
   "outputs": [],
   "source": [
    "# dependencies import\n",
    "from common_dependencies import *\n",
    "from train_dependencies import *\n",
    "import logging\n",
    "logger = logging.getLogger('main.03v_train.ipynb')"
   ]
  },
  {
   "cell_type": "code",
   "execution_count": null,
   "id": "8bf461c0-86ef-4815-a965-1e766c1f33b8",
   "metadata": {},
   "outputs": [],
   "source": [
    "# paths for files with original data\n",
    "PATH_TO_DATA = {\n",
    "    'run_1': \n",
    "        ('data/original_data/run_1/run1_WM32_data.csv',\n",
    "        'data/original_data/run_1/run1_WM32_defects.csv',\n",
    "        'data/original_data/run_1/run1_WM32_pipe.csv'),\n",
    "    'run_2':\n",
    "        ('data/original_data/run_2/run2_WM32_data.csv',\n",
    "        'data/original_data/run_2/run2_WM32_defects.csv',\n",
    "        'data/original_data/run_2/run2_WM32_pipe.csv')\n",
    "}\n",
    "\n",
    "CROP_SIZE = 8\n",
    "CROP_STEP = 8 #2\n",
    "\n",
    "# детерминация случайных величин, отвечающих за выбор первоначальных весов и биасов\n",
    "tf.compat.v1.set_random_seed(290)\n",
    "tf.random.set_seed(290)\n",
    "np.random.seed(290)"
   ]
  },
  {
   "cell_type": "code",
   "execution_count": null,
   "id": "f0600230-21a3-488e-8b6f-656f1232d9d4",
   "metadata": {
    "scrolled": true
   },
   "outputs": [],
   "source": [
    "x_df, y_df = dw.get_x_and_y_data(*PATH_TO_DATA['run_1'])"
   ]
  },
  {
   "cell_type": "code",
   "execution_count": null,
   "id": "378eb7f3-141f-442b-b723-97afcc7ed1bc",
   "metadata": {},
   "outputs": [],
   "source": [
    "dw.draw_defects_map(y_df, title='Считанная развернутая карта дефектов')\n",
    "dw.draw_zeros_quantity_in_data_df(x_df)"
   ]
  },
  {
   "cell_type": "code",
   "execution_count": null,
   "id": "79e24dd8-5c9e-4816-84be-2c1e27329a90",
   "metadata": {},
   "outputs": [],
   "source": [
    "x_df = dw.extend_df_for_crops_dividing(x_df, crop_size=CROP_SIZE, crop_step=CROP_STEP)\n",
    "y_df = dw.extend_df_for_crops_dividing(y_df, crop_size=CROP_SIZE, crop_step=CROP_STEP)\n",
    "dw.draw_defects_map(y_df, title='Расширенная развернутая карта дефектов')"
   ]
  },
  {
   "cell_type": "code",
   "execution_count": null,
   "id": "9a83c119-98e6-4bdc-9a0b-cffa81ea4172",
   "metadata": {},
   "outputs": [],
   "source": [
    "# преобразовать данные к виду (измерение, размер х, размер у, каналы)\n",
    "# для x_data_time каналы = 32\n",
    "# для x_data_amp каналы = 32\n",
    "# для y_data каналы = 1\n",
    "(x_data_time,\n",
    "x_data_amp) = dw.reshape_x_df_to_image_like_numpy(x_df, CROP_SIZE, CROP_STEP)\n",
    "y_data = dw.reshape_y_df_to_image_like_numpy(y_df, CROP_SIZE, CROP_STEP)"
   ]
  },
  {
   "cell_type": "code",
   "execution_count": null,
   "id": "8e63ee8d-8f53-4c7f-9536-e54862286559",
   "metadata": {},
   "outputs": [],
   "source": [
    "# нормализовать входные данные\n",
    "x_data_time = dw.standardize_data(x_data_time)\n",
    "x_data_amp = dw.standardize_data(x_data_amp)"
   ]
  },
  {
   "cell_type": "code",
   "execution_count": null,
   "id": "05726d77-865d-4bed-9ce6-a0ed614f5ff2",
   "metadata": {
    "scrolled": true
   },
   "outputs": [],
   "source": [
    "# Поделить кропы на дефектные и нет\n",
    "(x_time_def, x_time_non_def), \\\n",
    "(x_amp_def, x_amp_non_def), \\\n",
    "(y_mask_def, y_mask_non_def) = dw.split_def_and_non_def_data(x_data_time, \n",
    "                                                            x_data_amp, \n",
    "                                                            y_data, CROP_SIZE)\n",
    "x_data_time = x_data_amp = y_data = None"
   ]
  },
  {
   "cell_type": "code",
   "execution_count": null,
   "id": "f84da6d2-75e0-4c09-97d1-1a5b140b8956",
   "metadata": {},
   "outputs": [],
   "source": [
    "shuffled_indices = np.random.permutation(x_amp_non_def.shape[0])[:x_time_def.shape[0]]\n",
    "\n",
    "x_time_non_def = x_time_non_def[shuffled_indices]\n",
    "x_amp_non_def = x_amp_non_def[shuffled_indices]\n",
    "y_mask_non_def = y_mask_non_def[shuffled_indices]\n",
    "\n",
    "logger.debug('/'*8 + 'Result def and non_def data' + '/'*8)\n",
    "logger.debug(f'{x_time_def.shape=}')\n",
    "logger.debug(f'{x_amp_def.shape=}')\n",
    "logger.debug(f'{y_mask_def.shape=}\\n')\n",
    "\n",
    "logger.debug(f'{x_time_non_def.shape=}')\n",
    "logger.debug(f'{x_amp_non_def.shape=}')\n",
    "logger.debug(f'{y_mask_non_def.shape=}')"
   ]
  },
  {
   "cell_type": "code",
   "execution_count": null,
   "id": "76ee1629-140b-4031-802c-1a025bf7400b",
   "metadata": {
    "scrolled": true
   },
   "outputs": [],
   "source": [
    "# Аугментировать данные\n",
    "x_time_def = dw.augment_data(x_time_def) \n",
    "x_time_non_def = dw.augment_data(x_time_non_def) \n",
    "\n",
    "x_amp_def = dw.augment_data(x_amp_def) \n",
    "x_amp_non_def = dw.augment_data(x_amp_non_def) \n",
    "\n",
    "y_mask_def = dw.augment_data(y_mask_def) \n",
    "y_mask_non_def = dw.augment_data(y_mask_non_def) "
   ]
  },
  {
   "cell_type": "code",
   "execution_count": null,
   "id": "2eb09859-08a0-4a67-9e71-0cb1562b3664",
   "metadata": {},
   "outputs": [],
   "source": [
    "# создание выходных данных бинарного вида (одномерный массив типа bool)\n",
    "y_binary_def = dw.create_binary_arr_from_mask_arr(y_mask_def)\n",
    "y_binary_non_def = dw.create_binary_arr_from_mask_arr(y_mask_non_def)"
   ]
  },
  {
   "cell_type": "code",
   "execution_count": null,
   "id": "c61e63e0-dce1-4b67-892b-04eab77b7d05",
   "metadata": {
    "scrolled": true
   },
   "outputs": [],
   "source": [
    "# деление на тренировочную и валидационную выборки\n",
    "\n",
    "val_data_percent = 0.3\n",
    "\n",
    "X_time_train, X_time_val = dw.split_data_to_train_val_datasets([x_time_def,\n",
    "                                                                x_time_non_def],\n",
    "                                                                val_data_percent)\n",
    "\n",
    "X_amp_train, X_amp_val = dw.split_data_to_train_val_datasets([x_amp_def,\n",
    "                                                              x_amp_non_def],\n",
    "                                                              val_data_percent)\n",
    "\n",
    "Y_binary_train, Y_binary_val = dw.split_data_to_train_val_datasets([y_binary_def,\n",
    "                                                                y_binary_non_def],\n",
    "                                                                val_data_percent)"
   ]
  },
  {
   "cell_type": "code",
   "execution_count": null,
   "id": "12801887-506c-45a2-b1bb-6c4b5495756f",
   "metadata": {},
   "outputs": [],
   "source": [
    "# перемешивание данных\n",
    "train_shuffled_indices = np.random.permutation(X_time_train.shape[0])\n",
    "val_shuffled_indices = np.random.permutation(X_time_val.shape[0])\n",
    "\n",
    "X_time_train = X_time_train[train_shuffled_indices]\n",
    "X_amp_train = X_amp_train[train_shuffled_indices]\n",
    "Y_binary_train = Y_binary_train[train_shuffled_indices]\n",
    "\n",
    "X_time_val = X_time_val[val_shuffled_indices]\n",
    "X_amp_val = X_amp_val[val_shuffled_indices]\n",
    "Y_binary_val = Y_binary_val[val_shuffled_indices]"
   ]
  },
  {
   "cell_type": "code",
   "execution_count": null,
   "id": "117285bc-2044-477d-8102-9130e48574f9",
   "metadata": {},
   "outputs": [],
   "source": [
    "logger.debug(f'{X_time_train.shape=}')\n",
    "logger.debug(f'{X_amp_train.shape=}')\n",
    "logger.debug(f'{Y_binary_train.shape=}\\n')\n",
    "\n",
    "logger.debug(f'{X_time_val.shape=}')\n",
    "logger.debug(f'{X_amp_val.shape=}')\n",
    "logger.debug(f'{Y_binary_val.shape=}')"
   ]
  },
  {
   "cell_type": "code",
   "execution_count": null,
   "id": "5d349042-3aea-460f-9ed8-fdd68be5b0a8",
   "metadata": {},
   "outputs": [],
   "source": [
    "# всякие константы для последующей работы\n",
    "\n",
    "#///////////////////////////////// для компиляции \n",
    "\n",
    "CMP_learning_rate = 0.000001 #0.04 # шаг сходимости back propogation\n",
    "CMP_solver = keras.optimizers.Adam(CMP_learning_rate) # оптимизатор\n",
    "#CMP_solver = keras.optimizers.SGD(CMP_learning_rate) # оптимизатор\n",
    "CMP_loss_func = 'mean_squared_error'# функция потерь\n",
    "#///////////////////////////////// для колбэков\n",
    "\n",
    "    # для Early_stopping\n",
    "#ES_patience = 15 # кол-во эпох без улучшений\n",
    "#ES_min_delta = 0.0005 # минимальное улучшение параметра за cur_patience\n",
    "#ES_monitor_parametr =  'loss' # отслеживаемый параметр \n",
    "#ES_save_best_weights = False # сохранять ли веса нейронки с лучшими результатами\n",
    "    \n",
    "    # для ReduceLROnPlateau\n",
    "#RLPOP_monitor_parametr = 'loss'  # отслеживаемый параметр \n",
    "#RLPOP_factor = 0.4 # множитель для расчета нового шага сходимости (new_learning_rate = old_learning_rate*RLPOP_factor)\n",
    "#RLPOP_patience = 10 # кол-во эпох без улучшений\n",
    "#RLPOP_verbose = 1 # выводить ли прогресс изменения шага сходимости в его процессее\n",
    "#RLPOP_mode = 'auto' # выбирает, уменьшать шаг сходимости при росте величины или при её уменьшении\n",
    "#RLPOP_min_delta = 0.001 # порог изменения отслеживаемого значения\n",
    "#RLPOP_cooldown = 0 # количество эпох до возобновления работы после изменения шага сходимости\n",
    "#RLPOP_min_lr = 0 # минимальное значение шага сходимости\n",
    "\n",
    "    # для CallbackList\n",
    "CBL_add_history = True # вызывать ли колбэк History (если он не был довавлен вручную)\n",
    "CBL_add_progbar = True # вызывать ли колбэк ProgbarLogger (если он не был довавлен вручную)\n",
    "    \n",
    "#///////////////////////////////// для тренировки\n",
    "\n",
    "FIT_batch_size = 32 # размер bach при обучении/тестировании1\n",
    "#FIT_shuffle = True # перемешивать ли данные\n",
    "FIT_verbose = True # выводить ли прогресс обучения в его процессее\n",
    "FIT_epochs = 15 # количество эпох обучения\n",
    "#FIT_validation_split = 0.10 #0.20 # процент валидационных данных, отсекаемых из тестовой выборки"
   ]
  },
  {
   "cell_type": "code",
   "execution_count": null,
   "id": "c7c53cc4-e675-4f9a-9dc8-372a514d4329",
   "metadata": {
    "scrolled": true
   },
   "outputs": [],
   "source": [
    "# создание архитектуры модели\n",
    "#DROP_PERCENT = 0\n",
    "# 1 подсеть //////////////////////////////////////////////////\n",
    "input_time = Input((8,8,32), name = 'input_time')\n",
    "\n",
    "conv_1_1 = Conv2D(1024, (3,3), activation='relu', name='conv_1_1')(input_time)\n",
    "conv_1_2 = Conv2D(1024, (3,3), activation='relu', name='conv_1_2')(conv_1_1)\n",
    "conv_1_3 = Conv2D(1024, (3,3), activation='relu', name='conv_1_3')(conv_1_2)\n",
    "pool_1_1 = MaxPooling2D((2,2), strides=2, name='pool_1_1')(conv_1_3)\n",
    "\n",
    "# 2 подсеть //////////////////////////////////////////////////\n",
    "input_amp = Input((8,8,32), name = 'input_amp')\n",
    "\n",
    "conv_2_1 = Conv2D(1024, (3,3), activation='relu', name='conv_2_1')(input_amp)\n",
    "conv_2_2 = Conv2D(1024, (3,3), activation='relu', name='conv_2_2')(conv_2_1)\n",
    "conv_2_3 = Conv2D(1024, (3,3), activation='relu', name='conv_2_3')(conv_2_2)\n",
    "pool_2_1 = MaxPooling2D((2,2), strides=2, name='pool_2_1')(conv_2_3)\n",
    "\n",
    "# выходная подсеть //////////////////////////////////////////////////\n",
    "\n",
    "conc_3_1 = concatenate([pool_1_1, pool_2_1], axis=3, name='conc_3_1')\n",
    "flat_3_1 = Flatten(name='flat')(conc_3_1)\n",
    "\n",
    "#d_3_1 = Dense(8192, activation='linear', name='d_3_1')(flat_3_1)\n",
    "d_3_1 = Dense(4096, activation='linear', name='d_3_1')(flat_3_1)\n",
    "d_3_2 = Dense(2048, activation='linear', name='d_3_2')(d_3_1)\n",
    "d_3_3 = Dense(512, activation='linear', name='d_3_3')(d_3_2)\n",
    "d_3_4 = Dense(128, activation='linear', name='d_3_4')(d_3_3)\n",
    "d_3_5 = Dense(32, activation='linear', name='d_3_5')(d_3_4)\n",
    "d_3_6 = Dense(8, activation='linear', name='d_3_6')(d_3_5)\n",
    "\n",
    "output_3_1 = Dense(1, activation='sigmoid', name='output_3_1')(d_3_6)\n",
    "\n",
    "model = keras.Model([input_time, input_amp], output_3_1, name='model')\n",
    "\n",
    "model.compile(optimizer=CMP_solver, loss=CMP_loss_func)\n",
    "\n",
    "print(model.summary())"
   ]
  },
  {
   "cell_type": "code",
   "execution_count": null,
   "id": "04161a12-c245-4afd-83d2-2489ff29655d",
   "metadata": {},
   "outputs": [],
   "source": [
    "# Создание и настройка колбэков\n",
    "\n",
    "callback_list = [] # массив колбэков до подачи в колбек \"callbacklist\"\n",
    "\n",
    "FIT_callback_list = keras.callbacks.CallbackList(\n",
    "            callbacks = callback_list, \n",
    "            add_history = CBL_add_history, \n",
    "            add_progbar = CBL_add_progbar, \n",
    "            model = model\n",
    "            )"
   ]
  },
  {
   "cell_type": "code",
   "execution_count": null,
   "id": "a7dead57-2f3a-42d9-bf5d-8c542ab07524",
   "metadata": {},
   "outputs": [],
   "source": [
    "#plot_model(model, to_file='model_plot.png', show_shapes=True, show_layer_names=True)\n",
    "plot_model(\n",
    "    model,\n",
    "    to_file=\"model_plot.png\",\n",
    "    show_shapes=True,\n",
    "    show_dtype=False,\n",
    "    show_layer_names=True,\n",
    "    rankdir=\"TB\",\n",
    "    expand_nested=False,\n",
    "    dpi=200,\n",
    "    show_layer_activations=False,\n",
    "    show_trainable=False,\n",
    ")"
   ]
  },
  {
   "cell_type": "code",
   "execution_count": null,
   "id": "5a5597b1-1975-4d92-8489-d934de5c10a1",
   "metadata": {},
   "outputs": [],
   "source": [
    "history = model.fit([X_time_train, X_amp_train],\n",
    "                    Y_binary_train,\n",
    "                    batch_size = FIT_batch_size, \n",
    "                    epochs = FIT_epochs, \n",
    "                    verbose = FIT_verbose, \n",
    "                    validation_data = ([X_time_val, X_amp_val], Y_binary_val), \n",
    "                    callbacks = FIT_callback_list)"
   ]
  },
  {
   "cell_type": "code",
   "execution_count": null,
   "id": "6d0dbb7c-9dfe-4584-b758-58afcdcd3a69",
   "metadata": {},
   "outputs": [],
   "source": [
    "fig, ax = plt.subplots()\n",
    "\n",
    "fig.set_figwidth(12)\n",
    "fig.set_figheight(8)\n",
    "\n",
    "plt.plot(history.history['loss'], \n",
    "         label='Тренировочная выборка',  linewidth=1.5, color='blue')\n",
    "plt.plot(history.history['val_loss'], linestyle = '--', \n",
    "         label='Валидационная выборка',  linewidth=3, color='red')\n",
    "\n",
    "ax.set_xlabel('Номер эпохи', fontsize=20)\n",
    "ax.set_ylabel('Значение функции ошибки', fontsize=20)\n",
    "ax.set_title(f\"График значений функции ошибки во время обучения\", fontsize=20, pad=15)\n",
    "\n",
    "ax.patch.set_alpha(0)\n",
    "\n",
    "#  Устанавливаем форматирование делений:\n",
    "ax.tick_params(axis='both', which='both', labelsize = 20)\n",
    "\n",
    "# Вывод и настройка сетки\n",
    "ax.minorticks_on()\n",
    "ax.grid(which='major', linewidth=2)\n",
    "ax.grid(which='minor', color = 'gray', linestyle = ':')\n",
    "\n",
    "ax.legend(fontsize = 20, facecolor = \"white\", loc = 'upper right')\n",
    "\n",
    "plt.show()"
   ]
  },
  {
   "cell_type": "code",
   "execution_count": null,
   "id": "cd754500-4101-490c-8347-e28fbf679db0",
   "metadata": {},
   "outputs": [],
   "source": [
    "# сохранение модели в файл\n",
    "model.save(f\"networks/CNN/id=07_in(8x8+8x8)_out(1)_train=0dot0_test=0dot0.h5\", save_format=\"h5\")"
   ]
  }
 ],
 "metadata": {
  "kernelspec": {
   "display_name": "Python 3 (ipykernel)",
   "language": "python",
   "name": "python3"
  },
  "language_info": {
   "codemirror_mode": {
    "name": "ipython",
    "version": 3
   },
   "file_extension": ".py",
   "mimetype": "text/x-python",
   "name": "python",
   "nbconvert_exporter": "python",
   "pygments_lexer": "ipython3",
   "version": "3.9.18"
  }
 },
 "nbformat": 4,
 "nbformat_minor": 5
}
