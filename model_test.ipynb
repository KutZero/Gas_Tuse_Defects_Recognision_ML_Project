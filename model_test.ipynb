{
 "cells": [
  {
   "cell_type": "code",
   "execution_count": null,
   "id": "fde58157-7750-45b9-a343-b46e3c74b5b4",
   "metadata": {},
   "outputs": [],
   "source": [
    "# dependencies import\n",
    "from common_dependencies import *\n",
    "from typing import NamedTuple\n",
    "import logging\n",
    "logger = logging.getLogger('main.model_test.ipynb')\n",
    "# детерминация случайных величин, отвечающих за выбор первоначальных весов и биасов\n",
    "tf.compat.v1.set_random_seed(290)\n",
    "tf.random.set_seed(290)"
   ]
  },
  {
   "cell_type": "code",
   "execution_count": null,
   "id": "8bf461c0-86ef-4815-a965-1e766c1f33b8",
   "metadata": {},
   "outputs": [],
   "source": [
    "# paths for files with original data\n",
    "PATH_TO_DATA = {\n",
    "    'run_1': \n",
    "        ('data/original_data/run_1/run1_WM32_data.csv',\n",
    "        'data/original_data/run_1/run1_WM32_defects.csv',\n",
    "        'data/original_data/run_1/run1_WM32_pipe.csv'),\n",
    "    'run_2':\n",
    "        ('data/original_data/run_2/run2_WM32_data.csv',\n",
    "        'data/original_data/run_2/run2_WM32_defects.csv',\n",
    "        'data/original_data/run_2/run2_WM32_pipe.csv')\n",
    "}\n",
    "\n",
    "PATH_TO_MODEL = 'networks/CNN'\n",
    "\n",
    "RUNS = [1,2]\n",
    "MODEL_VER = '10'\n",
    "MODEL_NUM = '01'\n",
    "XSHIFT = 200\n",
    "\n",
    "for name in os.listdir(PATH_TO_MODEL):\n",
    "    res = re.match(F'(id=v{MODEL_VER}n{MODEL_NUM}).*', name)\n",
    "    if not res is None:\n",
    "        PATH_TO_MODEL += '/' + res[0]\n",
    "        break\n",
    "\n",
    "DataCrop = NamedTuple(\"DataCrop\", [('top', int), ('bottom', int),('left', int), ('right', int)])"
   ]
  },
  {
   "cell_type": "code",
   "execution_count": null,
   "id": "4eb3fd05-46d5-4fbb-ac9a-c4dac9f3e24f",
   "metadata": {},
   "outputs": [],
   "source": [
    "def get_dataset_gen(path_to_data_tuple: tuple(),\n",
    "                x_shift: int,\n",
    "                data_part: DataCrop,\n",
    "                crop_size: int, \n",
    "                crop_step: int):\n",
    "    logger.debug(\"start\")\n",
    "    x_df, y_df = dw.get_x_and_y_data(*path_to_data_tuple)\n",
    "    #dw.draw_defects_map(y_df, title=f'Read defects map')\n",
    "\n",
    "    x_df = dw.roll_df(x_df, x_shift, 1)\n",
    "    y_df = dw.roll_df(y_df, x_shift, 1)\n",
    "    #dw.draw_defects_map(y_df, title=f'The shifted by {x_shift} on x axis read defects map')\n",
    "    \n",
    "    x_df = x_df.iloc[data_part.top:data_part.bottom, data_part.left:data_part.right]\n",
    "    y_df = y_df.iloc[data_part.top:data_part.bottom, data_part.left:data_part.right]\n",
    "    #dw.draw_defects_map(y_df, title=f'The part took for learning')\n",
    "    \n",
    "    x_df = dw.extend_df_for_crops_dividing(x_df, crop_size, crop_step)\n",
    "    y_df = dw.extend_df_for_crops_dividing(y_df, crop_size, crop_step)\n",
    "    #dw.draw_defects_map(y_df, title=f'The part after extending for crop dividing')\n",
    "\n",
    "    x_arr = dw.df_to_numpy(x_df)\n",
    "    y_arr = y_df.to_numpy()\n",
    "    \n",
    "    x_arr_time = dw.standardize_data(x_arr[:,:,:32])\n",
    "    x_arr_amp = dw.standardize_data(x_arr[:,:,32:])\n",
    "    y_arr = dw.standardize_data(y_arr)\n",
    "    \n",
    "    x_arr_time_crops_gen = dw.get_augmented_crop_generator(x_arr_time, crop_size, crop_step)\n",
    "    x_arr_amp_crops_gen = dw.get_augmented_crop_generator(x_arr_amp, crop_size, crop_step)\n",
    "    \n",
    "    y_data_binary_gen = (1 if np.sum(crop > 0) else 0 for crop in \n",
    "                         dw.get_augmented_crop_generator(y_arr, crop_size, crop_step))\n",
    "    y_data_depth_gen = (np.max(crop) for crop in \n",
    "                        dw.get_augmented_crop_generator(y_arr, crop_size, crop_step))\n",
    "\n",
    "    logger.debug(\"end\")\n",
    "    return x_arr_time_crops_gen, x_arr_amp_crops_gen, y_data_binary_gen, y_data_depth_gen"
   ]
  },
  {
   "cell_type": "code",
   "execution_count": null,
   "id": "ac96ade4-0800-4419-80ff-d333268885fa",
   "metadata": {},
   "outputs": [],
   "source": [
    "# Загрузка модели\n",
    "load_model = keras.models.load_model(PATH_TO_MODEL)\n",
    "CROP_SIZE = load_model.inputs[0].shape[1]\n",
    "CROP_STEPS = [CROP_SIZE, CROP_SIZE//2, CROP_SIZE//4]"
   ]
  },
  {
   "cell_type": "code",
   "execution_count": null,
   "id": "58a5f690-484b-4f7a-9e04-c7f1b2fda79a",
   "metadata": {
    "scrolled": true
   },
   "outputs": [],
   "source": [
    "# тест модели\n",
    "res_list = list()\n",
    "for crop_step in CROP_STEPS:\n",
    "    (test_x_time_gen, \n",
    "     test_x_amp_gen, \n",
    "     test_y_binary_gen,\n",
    "     test_y_depth_gen) = get_dataset_gen(PATH_TO_DATA[f'run_{run}'], XSHIFT, DataCrop(None,None,None,200), CROP_SIZE, 20)\n",
    "    \n",
    "    test_x_time = np.stack([crop for crop in test_x_time_gen])\n",
    "    test_x_amp = np.stack([crop for crop in test_x_amp_gen])\n",
    "    test_y_binary = np.array([binary for binary in test_y_binary_gen])\n",
    "    test_y_depth = np.array([depth for depth in test_y_depth_gen])\n",
    "    \n",
    "    res = load_model.evaluate([test_x_time, test_x_amp], test_y_binary, batch_size = 32, return_dict=True)\n",
    "    res_list.append({'res':res,'crop_size':CROP_SIZE,'crop_step':crop_step})"
   ]
  },
  {
   "cell_type": "code",
   "execution_count": null,
   "id": "b209cfe0-5d54-4e6f-9aff-5e1fab49f21b",
   "metadata": {},
   "outputs": [],
   "source": [
    "for line in res_list:\n",
    "    print(f'crop_size: {line[\"crop_size\"]}')\n",
    "    print(f'crop_size: {line[\"crop_step\"]}')\n",
    "    print(line['res'])\n",
    "    print()"
   ]
  },
  {
   "cell_type": "code",
   "execution_count": null,
   "id": "4517d948-9de5-460f-befc-8b36b1434a05",
   "metadata": {},
   "outputs": [],
   "source": []
  }
 ],
 "metadata": {
  "kernelspec": {
   "display_name": "Python 3 (ipykernel)",
   "language": "python",
   "name": "python3"
  },
  "language_info": {
   "codemirror_mode": {
    "name": "ipython",
    "version": 3
   },
   "file_extension": ".py",
   "mimetype": "text/x-python",
   "name": "python",
   "nbconvert_exporter": "python",
   "pygments_lexer": "ipython3",
   "version": "3.11.8"
  }
 },
 "nbformat": 4,
 "nbformat_minor": 5
}
