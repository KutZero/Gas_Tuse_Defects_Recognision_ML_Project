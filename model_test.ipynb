{
 "cells": [
  {
   "cell_type": "code",
   "execution_count": null,
   "id": "fde58157-7750-45b9-a343-b46e3c74b5b4",
   "metadata": {},
   "outputs": [],
   "source": [
    "# dependencies import\n",
    "from common_dependencies import *\n",
    "logger = logging.getLogger('main.model_test')"
   ]
  },
  {
   "cell_type": "markdown",
   "id": "67a4710f-8299-4683-a397-97aa0948f406",
   "metadata": {},
   "source": [
    "# Загрузка модели для тестирования"
   ]
  },
  {
   "cell_type": "code",
   "execution_count": null,
   "id": "6f3f38b1-0e18-46c7-838b-04d5e09d3761",
   "metadata": {},
   "outputs": [],
   "source": [
    "bins = 11\n",
    "step = 1/(bins-1)\n",
    "for value in np.arange(0,1+step/2,step):\n",
    "    print(value)"
   ]
  },
  {
   "cell_type": "code",
   "execution_count": null,
   "id": "c473d54e-a577-4b17-b1dd-c299b813e846",
   "metadata": {},
   "outputs": [],
   "source": [
    "tf.compat.v1.set_random_seed(290)\n",
    "tf.random.set_seed(290)\n",
    "np.random.seed(290)"
   ]
  },
  {
   "cell_type": "markdown",
   "id": "94819c6e-fd4a-45bd-a50d-55ecde00bdba",
   "metadata": {},
   "source": [
    "## Поиск модели по идентификатору"
   ]
  },
  {
   "cell_type": "code",
   "execution_count": null,
   "id": "cb5aaa37-6b30-407b-8800-175394eb739f",
   "metadata": {
    "scrolled": true
   },
   "outputs": [],
   "source": [
    "MODEL_VER = 14\n",
    "MODEL_NUM = 5\n",
    "EPOCH = 29\n",
    "# 21 - best Recall\n",
    "# 29 - best PR_AUC\n",
    "# 30 - best loss\n",
    "# 31\n",
    "#CHECK_NUMS = [21]\n",
    "\n",
    "model_pathes = [path for path in pathlib.Path(f'networks/CNN').rglob(f'*.keras') \n",
    "                     if re.search(rf'id=v0*{MODEL_VER}n0*{MODEL_NUM}.*epoch={EPOCH}',path.name)]\n",
    "\n",
    "if len(model_pathes) == 1:\n",
    "    PATH_TO_MODEL = model_pathes[0]\n",
    "else:\n",
    "    print(model_pathes)\n",
    "    raise ValueError('Few or none model have been found instead of one')\n",
    "\n",
    "print(f'{PATH_TO_MODEL=}')"
   ]
  },
  {
   "cell_type": "markdown",
   "id": "2a82eafb-72bd-48ee-8ecb-55b77e95c6ef",
   "metadata": {},
   "source": [
    "## Загрузка модели"
   ]
  },
  {
   "cell_type": "code",
   "execution_count": null,
   "id": "4035bc49-6063-44c0-8687-99fa5b5af703",
   "metadata": {},
   "outputs": [],
   "source": [
    "tholds = np.round(np.arange(0.01,1,0.01),decimals=2).tolist()\n",
    "print(len(tholds))\n",
    "print(tholds)"
   ]
  },
  {
   "cell_type": "code",
   "execution_count": null,
   "id": "33b890b1-c36a-4a26-b725-695a5a2936d1",
   "metadata": {
    "scrolled": true
   },
   "outputs": [],
   "source": [
    "model = keras.models.load_model(PATH_TO_MODEL)\n",
    "\n",
    "CMP_learning_rate = 0.005 # шаг сходимости back propogation\n",
    "#CMP_solver = keras.optimizers.Adam(CMP_learning_rate) # оптимизатор\n",
    "CMP_solver = keras.optimizers.SGD(CMP_learning_rate) # оптимизатор\n",
    "CMP_loss_funcs = keras.losses.BinaryCrossentropy() #BinaryCrossentropy() \n",
    "CMP_metrics = [keras.metrics.BinaryAccuracy(name='BinaryAccuracy'),\n",
    "               keras.metrics.MeanSquaredError(name='MeanSquaredError'),\n",
    "               keras.metrics.TruePositives(name='TruePositives'),\n",
    "               keras.metrics.FalsePositives(name='FalsePositives'),\n",
    "               keras.metrics.TrueNegatives(name='TrueNegatives'),\n",
    "               keras.metrics.FalseNegatives(name='FalseNegatives'),     \n",
    "               keras.metrics.Precision(name='Precision'),#, thresholds=tholds),\n",
    "               keras.metrics.Recall(name='Recall'),#, thresholds=tholds),\n",
    "               keras.metrics.AUC(name='ROC_AUC', curve='ROC'),\n",
    "               keras.metrics.AUC(name='PR_AUC', curve='PR')]\n",
    "\n",
    "model.compile(optimizer=CMP_solver, loss=CMP_loss_funcs, metrics=CMP_metrics)\n",
    "\n",
    "'''print(model.summary())\n",
    "\n",
    "tf.keras.utils.plot_model(\n",
    "    model,\n",
    "    show_shapes=True,\n",
    "    show_dtype=False,\n",
    "    show_layer_names=True,\n",
    "    rankdir=\"TB\",\n",
    "    expand_nested=False,\n",
    "    dpi=200,\n",
    "    show_layer_activations=False,\n",
    "    show_trainable=False,\n",
    ")''';"
   ]
  },
  {
   "cell_type": "markdown",
   "id": "8bbb6505-7ee4-40f7-bcdd-e964450b1f93",
   "metadata": {},
   "source": [
    "# Загрузка данных для тестирования"
   ]
  },
  {
   "cell_type": "markdown",
   "id": "3a31fdb8-d087-4e91-95ff-19bb3a0f6cc4",
   "metadata": {},
   "source": [
    "## Параметры  выборок"
   ]
  },
  {
   "cell_type": "code",
   "execution_count": null,
   "id": "0f1d8c44-d63a-4f94-9f7a-2d45f2c2edba",
   "metadata": {},
   "outputs": [],
   "source": [
    "XSHIFT = 200\n",
    "MAX_VAL = 1000\n",
    "CROP_SIZE = model.inputs[0].shape[1]\n",
    "dataset_desc =  {'train': (DatasetPartDescription(PATH_TO_DATA['run_1'],DataCrop(100,0,270,MAX_VAL),SlidingCrop(CROP_SIZE,1),XSHIFT)\n",
    "                         ,),\n",
    "                 'val': (DatasetPartDescription(PATH_TO_DATA['run_2'],DataCrop(0,0,MAX_VAL,40),SlidingCrop(CROP_SIZE,1),XSHIFT)\n",
    "                        ,),\n",
    "                 'test': (DatasetPartDescription(PATH_TO_DATA['run_1'],DataCrop(0,0,100,MAX_VAL),SlidingCrop(CROP_SIZE,1),XSHIFT),\n",
    "                          DatasetPartDescription(PATH_TO_DATA['run_1'],DataCrop(370,0,MAX_VAL,MAX_VAL),SlidingCrop(CROP_SIZE,1),XSHIFT),\n",
    "                          DatasetPartDescription(PATH_TO_DATA['run_2'],DataCrop(0,40,MAX_VAL,MAX_VAL),SlidingCrop(CROP_SIZE,1),XSHIFT)\n",
    "                            ,)}"
   ]
  },
  {
   "cell_type": "markdown",
   "id": "0a6f729d-cb43-439e-a18a-5742f727ddaa",
   "metadata": {},
   "source": [
    "## Загрузка данных"
   ]
  },
  {
   "cell_type": "code",
   "execution_count": null,
   "id": "abf3b45a-e3f8-4b9f-a802-38c84500a171",
   "metadata": {
    "scrolled": true
   },
   "outputs": [],
   "source": [
    "#dataset = {'val':dict(zip(['x','y','bin'], [np.array(list(gen)) for gen in chain_dataset_gens(dataset_desc['val'])]))}"
   ]
  },
  {
   "cell_type": "markdown",
   "id": "245db2e4-1590-4865-b1c6-b76448afd72c",
   "metadata": {},
   "source": [
    "## Размерности данных в обучающих выборках"
   ]
  },
  {
   "cell_type": "code",
   "execution_count": null,
   "id": "ed0c8886-1e5b-48e8-8d8f-5c3b2affd3c0",
   "metadata": {},
   "outputs": [],
   "source": [
    "'''logger.debug('Dataset')\n",
    "for dataset_part_name, dataset_part in dataset.items():\n",
    "    logger.debug('|'*8+dataset_part_name+'|'*8)\n",
    "    for data_part_name, data_part in dataset_part.items():\n",
    "        logger.debug(f'{data_part_name}.shape: {data_part.shape}')''';"
   ]
  },
  {
   "cell_type": "markdown",
   "id": "f7c2dc8e-6ed4-44ad-a4c4-728763dd8532",
   "metadata": {},
   "source": [
    "## Какие части 2 файлов с данными относятся к конкретным выборкам (к тренировочной, тестовой, валидационной)"
   ]
  },
  {
   "cell_type": "code",
   "execution_count": null,
   "id": "e2cfe7e4-3327-445a-8c36-27b126d76ab4",
   "metadata": {},
   "outputs": [],
   "source": [
    "#выборка данных\n",
    "# show parts took for learning\n",
    "'''all_rects = {'run_1': {'train':None,'val':None,'test':None},  #\n",
    "             'run_2': {'train':None,'val':None,'test':None}} #\n",
    "rects_colors = {'train':'red', 'val':'green', 'test':'yellow'}\n",
    "\n",
    "for run_name in all_rects.keys():\n",
    "    x_df, y_df = dw.get_x_and_y_data(*PATH_TO_DATA[run_name])\n",
    "    x_df = None\n",
    "    y_df = dw.roll_df(y_df, XSHIFT, 1)\n",
    "    for dataset_part_name in all_rects[run_name].keys():\n",
    "        # get all DatasetPartDescription for train, val or test\n",
    "        dataset_part_desc = dataset_desc[dataset_part_name]\n",
    "        # get all DatasetPartDescription for current run_name (run_1 or run_2)\n",
    "        dataset_part_desc = [dataset_part for dataset_part in dataset_part_desc if re.findall(r'run_\\d', dataset_part.data_path_tuple[0])[0] == run_name]\n",
    "        # put rects list to all_rects[run_name][dataset_part_name]\n",
    "        all_rects[run_name][dataset_part_name] = [Rectangle((dataset_part.file_data_crop.left, dataset_part.file_data_crop.top), \n",
    "                           dataset_part.file_data_crop.width, dataset_part.file_data_crop.height, \n",
    "                           facecolor=rects_colors[dataset_part_name], alpha=0.4, edgecolor='white')\n",
    "                                                  for dataset_part in dataset_part_desc]\n",
    "        \n",
    "    res_rects = list(itertools.chain(*[run_rects for run_rects_name, run_rects in all_rects[run_name].items()]))\n",
    "    if res_rects:\n",
    "        dw.draw_defects_map_with_rectangles_owerlap(y_df, res_rects, title = f'The parts took for learning from {run_name} (red - train, green - validate, yellow - test)')\n",
    "    else:\n",
    "        dw.draw_defects_map(y_df, title = f'The parts took for learning from {run_name} (red - train, green - validate, yellow - test)')''';"
   ]
  },
  {
   "cell_type": "markdown",
   "id": "4bce56e1-494e-458d-9925-c39e4a45214a",
   "metadata": {},
   "source": [
    "# Тестирование модели"
   ]
  },
  {
   "cell_type": "code",
   "execution_count": null,
   "id": "1c44bf5a-5720-41e0-be95-6aff86f4471f",
   "metadata": {
    "scrolled": true
   },
   "outputs": [],
   "source": [
    "dataset = {'train':dict(zip(['x','y','bin'], [np.array(list(gen)) for gen in chain_dataset_gens(dataset_desc['train'])]))}\n",
    "train_res = model.evaluate(dataset['train']['x'], \n",
    "                     dataset['train']['bin'], \n",
    "                     batch_size=32, \n",
    "                     verbose=1, return_dict=True)\n",
    "\n",
    "# displaying\n",
    "logger.debug('Dataset')\n",
    "for dataset_part_name, dataset_part in dataset.items():\n",
    "    logger.debug('|'*8+dataset_part_name+'|'*8)\n",
    "    for data_part_name, data_part in dataset_part.items():\n",
    "        logger.debug(f'{data_part_name}.shape: {data_part.shape}')"
   ]
  },
  {
   "cell_type": "code",
   "execution_count": null,
   "id": "8651f0c9-64ce-48bf-9fcb-3edb9abf646a",
   "metadata": {
    "scrolled": true
   },
   "outputs": [],
   "source": [
    "dataset = {'val':dict(zip(['x','y','bin'], [np.array(list(gen)) for gen in chain_dataset_gens(dataset_desc['val'])]))}\n",
    "val_res = model.evaluate(dataset['val']['x'], \n",
    "                     dataset['val']['bin'], \n",
    "                     batch_size=32, \n",
    "                     verbose=1, return_dict=True)\n",
    "\n",
    "# displaying\n",
    "logger.debug('Dataset')\n",
    "for dataset_part_name, dataset_part in dataset.items():\n",
    "    logger.debug('|'*8+dataset_part_name+'|'*8)\n",
    "    for data_part_name, data_part in dataset_part.items():\n",
    "        logger.debug(f'{data_part_name}.shape: {data_part.shape}')"
   ]
  },
  {
   "cell_type": "code",
   "execution_count": null,
   "id": "b54c0334-2ccc-4da9-a1df-f2b04bea8ebf",
   "metadata": {
    "scrolled": true
   },
   "outputs": [],
   "source": [
    "dataset = {'test':dict(zip(['x','y','bin'], [np.array(list(gen)) for gen in chain_dataset_gens(dataset_desc['test'])]))}\n",
    "test_res = model.evaluate(dataset['test']['x'], \n",
    "                     dataset['test']['bin'], \n",
    "                     batch_size=32, \n",
    "                     verbose=1, return_dict=True)\n",
    "\n",
    "# displaying\n",
    "logger.debug('Dataset')\n",
    "for dataset_part_name, dataset_part in dataset.items():\n",
    "    logger.debug('|'*8+dataset_part_name+'|'*8)\n",
    "    for data_part_name, data_part in dataset_part.items():\n",
    "        logger.debug(f'{data_part_name}.shape: {data_part.shape}')"
   ]
  },
  {
   "cell_type": "code",
   "execution_count": null,
   "id": "77b333db-4cac-4c5d-9ddd-66383cd4b196",
   "metadata": {
    "jupyter": {
     "source_hidden": true
    }
   },
   "outputs": [],
   "source": [
    "'''print('|'*8,'train','|'*8)#,'\\n',train_res,'\\n')\n",
    "print(*[(key,value) for (key,value) in train_res.items()],sep='\\n')\n",
    "print()\n",
    "print('|'*8,'val','|'*8)#,'\\n',train_res,'\\n')\n",
    "print(*[(key,value) for (key,value) in val_res.items()],sep='\\n')\n",
    "print()\n",
    "print('|'*8,'test','|'*8)#,'\\n',train_res,'\\n')\n",
    "print(*[(key,value) for (key,value) in test_res.items()],sep='\\n')\n",
    "print()''';"
   ]
  },
  {
   "cell_type": "markdown",
   "id": "8d115e03-9454-443e-99aa-8652832540da",
   "metadata": {},
   "source": [
    "## Запись результатов в датафрейм"
   ]
  },
  {
   "cell_type": "code",
   "execution_count": null,
   "id": "7dcfbf25-fbbd-42b4-80ac-8dd718185cf7",
   "metadata": {},
   "outputs": [],
   "source": [
    "df = pd.DataFrame(data=np.stack([train_res['Precision'].numpy(),\n",
    "                                       train_res['Recall'].numpy(),\n",
    "                                       val_res['Precision'].numpy(),\n",
    "                                       val_res['Recall'].numpy(),\n",
    "                                       test_res['Precision'].numpy(),\n",
    "                                       test_res['Recall'].numpy()],axis=1),\n",
    "                        columns=pd.MultiIndex.from_product([['train','val','test'],['precision','recall']], names=['dataset','metric']), \n",
    "                        index=pd.Index(tholds,name='treshold'))"
   ]
  },
  {
   "cell_type": "markdown",
   "id": "90b02df3-8c90-4ecb-a8da-f89eb9cdeb29",
   "metadata": {},
   "source": [
    "## Общие параметры датафрейма "
   ]
  },
  {
   "cell_type": "code",
   "execution_count": null,
   "id": "13e2904f-ac2d-4ace-8478-bbf22129f263",
   "metadata": {},
   "outputs": [],
   "source": [
    "display(df)"
   ]
  },
  {
   "cell_type": "code",
   "execution_count": null,
   "id": "1fb98aef-a7cc-4082-aaaa-d76f32005c35",
   "metadata": {},
   "outputs": [],
   "source": [
    "params_df = pd.concat([df.max(),df.min(),df.mean()],axis=1,keys=['max','min','mean'])\n",
    "display(params_df)"
   ]
  },
  {
   "cell_type": "code",
   "execution_count": null,
   "id": "53af80da-998e-4269-b100-b34b12d514ac",
   "metadata": {},
   "outputs": [],
   "source": [
    "df_draw = df.swaplevel(axis=1)\n",
    "display(df_draw)\n",
    "FONT_SIZE = 15\n",
    "\n",
    "fig, axes = plt.subplots(2,1)\n",
    "\n",
    "fig.set_figwidth(12)\n",
    "fig.set_figheight(8)\n",
    "\n",
    "df.swaplevel(axis=1)['precision'].plot(kind='line',\n",
    "                                       ax=axes[0])\n",
    "df.swaplevel(axis=1)['recall'].plot(kind='line',\n",
    "                                    ax=axes[1])\n",
    "\n",
    "axes[0].set_ylabel('Precision',fontsize=FONT_SIZE)\n",
    "axes[0].set_title('Precision',fontsize=FONT_SIZE)\n",
    "\n",
    "axes[1].set_ylabel('Recall',fontsize=FONT_SIZE)\n",
    "axes[1].set_ylabel('Recall',fontsize=FONT_SIZE)\n",
    "\n",
    "for ax in axes:\n",
    "    ax.grid(True)\n",
    "    ax.tick_params(axis='both', which='both', labelsize = FONT_SIZE)\n",
    "    ax.margins(0.05)\n",
    "    ax.legend(fontsize = FONT_SIZE)\n",
    "    ax.set_xlabel('Threshold',fontsize=FONT_SIZE)\n",
    "    ax.grid(True)\n",
    "        \n",
    "    \n",
    "plt.subplots_adjust(left=0.1, bottom=0.1, right=0.9, top=0.9, wspace=0.15, hspace=0.3)\n",
    "plt.show()\n",
    "\n",
    "'''plt.plot(history.history[key], \n",
    "         label='Train dataset',  linewidth=1.5, color='blue')\n",
    "if key != 'learning_rate':\n",
    "    plt.plot(history.history[f'val_{key}'], linestyle = '--', \n",
    "         label='Validation dataset',  linewidth=3, color='red')\n",
    "\n",
    "ax.set_xlabel('Epoch number', fontsize=FONT_SIZE)\n",
    "ax.set_ylabel(f'{key} value', fontsize=FONT_SIZE)\n",
    "ax.set_title(f\"Learning process {key} plot\", fontsize=FONT_SIZE, pad=15)\n",
    "\n",
    "ax.patch.set_alpha(0)\n",
    "\n",
    "#  Устанавливаем форматирование делений:\n",
    "ax.tick_params(axis='both', which='both', labelsize = FONT_SIZE)\n",
    "\n",
    "# Вывод и настройка сетки\n",
    "ax.minorticks_on()\n",
    "ax.grid(which='major', linewidth=2)\n",
    "ax.grid(which='minor', color = 'gray', linestyle = ':')\n",
    "\n",
    "ax.legend(fontsize = FONT_SIZE, facecolor = \"white\")''';"
   ]
  },
  {
   "cell_type": "markdown",
   "id": "aee19bb7-c3cc-48a4-824f-2bbc5d07bb67",
   "metadata": {},
   "source": [
    "### Средние параметры по всем выборкам и метрикам"
   ]
  },
  {
   "cell_type": "code",
   "execution_count": null,
   "id": "177394d6-eeed-4a2b-8efa-458bf9c1303e",
   "metadata": {},
   "outputs": [],
   "source": [
    "mean_df = df.copy()\n",
    "mean_df = mean_df.stack(0, future_stack=True)\n",
    "mean_df['presicion_plus_recall'] = mean_df['precision'] + mean_df['recall']\n",
    "mean_df = mean_df.query('precision > 0.6 & recall > 0.7') #для модели 30 эпохи\n",
    "#mean_df = mean_df.query('precision > 0.576 & recall > 0.64') #для модели 29 эпохи\n",
    "mean_df = mean_df.unstack('dataset')\n",
    "mean_df = mean_df.dropna()\n",
    "print('Потенциальные результаты')\n",
    "display(mean_df[mean_df['presicion_plus_recall']['train']>=1.6]) #для модели 30 эпохи\n",
    "#display(mean_df[mean_df['presicion_plus_recall']['train']>=1.6332]) #для модели 29 эпохи"
   ]
  },
  {
   "cell_type": "markdown",
   "id": "ccbaa697-3951-483f-9962-40daed3e78b6",
   "metadata": {},
   "source": [
    "### Лучший precision при не позорном recall"
   ]
  },
  {
   "cell_type": "code",
   "execution_count": null,
   "id": "80ee1b5d-8353-4172-9acd-8bfaf2e8cf0c",
   "metadata": {},
   "outputs": [],
   "source": [
    "pres_df = df.copy()\n",
    "pres_df = pres_df.stack(0, future_stack=True)\n",
    "pres_df['presicion_plus_recall'] = pres_df['precision'] + pres_df['recall']\n",
    "pres_df = pres_df.query('precision >= 0.647 & recall > 0.2') #для модели 30 эпохи\n",
    "#pres_df = pres_df.query('precision > 0.5777 & recall > 0.2') #для модели 29 эпохи\n",
    "pres_df = pres_df.unstack('dataset')\n",
    "pres_df = pres_df.dropna()\n",
    "print('Потенциальные результаты')\n",
    "display(pres_df) #для модели 30 эпохи\n",
    "#display(pres_df[pres_df['precision']['train']>=0.792]) #для модели 29 эпохи"
   ]
  },
  {
   "cell_type": "markdown",
   "id": "198af8ad-60ce-4c3f-ac91-52819576edc8",
   "metadata": {},
   "source": [
    "### Лучший recall при не позорном precision"
   ]
  },
  {
   "cell_type": "code",
   "execution_count": null,
   "id": "b50f090f-23c9-4ed8-b4a8-7719537935ac",
   "metadata": {},
   "outputs": [],
   "source": [
    "recall_df = df.copy()\n",
    "recall_df = recall_df.stack(0, future_stack=True)\n",
    "recall_df['presicion_plus_recall'] = recall_df['precision'] + recall_df['recall']\n",
    "recall_df = recall_df.query('precision > 0.2 & recall > 0.8') #для модели 30 эпохи\n",
    "#recall_df = recall_df.query('precision > 0.2 & recall > 0.82') #для модели 29 эпохи\n",
    "recall_df = recall_df.unstack('dataset')\n",
    "recall_df = recall_df.dropna()\n",
    "print('Потенциальные результаты')\n",
    "display(recall_df)"
   ]
  },
  {
   "cell_type": "markdown",
   "id": "cf144159-0c0b-444b-8940-f3d62837550d",
   "metadata": {},
   "source": [
    "## Сравнение фаворитов"
   ]
  },
  {
   "cell_type": "code",
   "execution_count": null,
   "id": "c54dd461-850c-446b-a56e-05a9a55938e7",
   "metadata": {},
   "outputs": [],
   "source": [
    "comp_df = df.copy()\n",
    "comp_df = comp_df.loc[[0.01,0.09,0.26]] #для модели 30 эпохи\n",
    "#comp_df = comp_df.loc[[0.01,0.28,0.4]] #для модели 29 эпохи\n",
    "comp_df = comp_df.stack(0, future_stack=True)\n",
    "comp_df = comp_df.unstack('treshold')\n",
    "display(comp_df)\n",
    "comp_df = comp_df.stack(1, future_stack=True)\n",
    "comp_df = comp_df.unstack('dataset')\n",
    "comp_df['best_in'] = ['best_recall','best_mean_vals','best_precision']\n",
    "comp_df.set_index('best_in', append=True, inplace=True)\n",
    "display(comp_df)"
   ]
  },
  {
   "cell_type": "code",
   "execution_count": null,
   "id": "85873975-d474-4978-a813-09b6897cede5",
   "metadata": {},
   "outputs": [],
   "source": [
    "#display(comp_df)\n",
    "#comp_df.to_excel(f'model_id=v{MODEL_VER}n{MODEL_NUM}_epoch={EPOCH}_best_thresholds.xlsx')"
   ]
  },
  {
   "cell_type": "code",
   "execution_count": null,
   "id": "3f83a13f-9f03-4660-9a34-e49aad1fa86d",
   "metadata": {},
   "outputs": [],
   "source": [
    "'''df_29 = pd.read_excel(f'model_id=v14n05_epoch=29_best_thresholds.xlsx', index_col=[0,1], header=[0,1])\n",
    "df_30 = pd.read_excel(f'model_id=v14n05_epoch=30_best_thresholds.xlsx', index_col=[0,1], header=[0,1])\n",
    "#best_df = pd.concat([df_29,df_30], axis=1, keys=[29,30], names=['epoch'])\n",
    "#best_df = best_df.droplevel('treshold')\n",
    "display(df_29)\n",
    "display(df_30)\n",
    "#display(best_df)\n",
    "#display(best_df.stack(1,future_stack=True).reorder_levels([\"best_in\", \"treshold\",\"metric\"]).stack(0, future_stack=True))\n",
    "#display(best_df.stack(0, future_stack=True).stack(1, future_stack=True).unstack('treshold').reorder_levels([\"best_in\", \"epoch\",\"dataset\",]))'''"
   ]
  },
  {
   "cell_type": "code",
   "execution_count": null,
   "id": "4fe6d6fd-3948-44ae-869f-6551ef2fab73",
   "metadata": {},
   "outputs": [],
   "source": [
    "'''FONT_SIZE = 15\n",
    "\n",
    "fig, axes = plt.subplots(2,1)\n",
    "\n",
    "fig.set_figwidth(12)\n",
    "fig.set_figheight(18)\n",
    "\n",
    "#df_29['precision'].hist(ax=axes[0], bins=3)\n",
    "#df_29['recall'].hist(ax=axes[0], bins=3)\n",
    "\n",
    "df_29.droplevel('treshold')['precision'].plot(kind='line', \n",
    "                        ax=axes[0], marker='o', ms=8, mec='blue', mfc='blue')\n",
    "df_30.droplevel('treshold')['precision'].plot(kind='line', \n",
    "                        ax=axes[0], marker='o', ms=8, mec='red', mfc='red')\n",
    "df_29.droplevel('treshold')['recall'].plot(kind='line', \n",
    "                     ax=axes[1], marker='o', ms=8, mec='blue', mfc='blue')\n",
    "df_30.droplevel('treshold')['recall'].plot(kind='line', \n",
    "                     ax=axes[1], marker='o', ms=8, mec='red', mfc='red')\n",
    "\n",
    "axes[0].set_ylabel('Precision (blue dots - 29 epoch model, red - 30 epoch model)',fontsize=FONT_SIZE)\n",
    "axes[0].set_title('Precision (blue dots - 29 epoch model, red - 30 epoch model)',fontsize=FONT_SIZE)\n",
    "\n",
    "axes[1].set_ylabel('Recall',fontsize=FONT_SIZE)\n",
    "axes[1].set_ylabel('Recall',fontsize=FONT_SIZE)\n",
    "\n",
    "for ax in axes:\n",
    "    ax.grid(True)\n",
    "    ax.tick_params(axis='both', which='both', labelsize = FONT_SIZE)\n",
    "    ax.margins(0.05)\n",
    "    ax.legend(fontsize = FONT_SIZE)\n",
    "    ax.set_xlabel('Best in',fontsize=FONT_SIZE)\n",
    "    ax.grid(True)\n",
    "        \n",
    "    \n",
    "plt.subplots_adjust(left=0.1, bottom=0.1, right=0.9, top=0.9, wspace=0.15, hspace=0.3)\n",
    "plt.show()'''"
   ]
  },
  {
   "cell_type": "code",
   "execution_count": null,
   "id": "a1670520-b0e9-4b7e-b13a-0c50392b1ace",
   "metadata": {},
   "outputs": [],
   "source": [
    "'''FONT_SIZE = 15\n",
    "\n",
    "fig, axes = plt.subplots(2,1)\n",
    "\n",
    "fig.set_figwidth(12)\n",
    "fig.set_figheight(8)\n",
    "\n",
    "comp_df.stack(1, future_stack=True).unstack('dataset')['precision'].plot(kind='line', ax=axes[0], marker='o', ms=8)\n",
    "comp_df.stack(1, future_stack=True).unstack('dataset')['recall'].plot(kind='line', ax=axes[1], marker='o', ms=8)\n",
    "\n",
    "axes[0].set_ylabel('Precision',fontsize=FONT_SIZE)\n",
    "axes[0].set_title('Precision',fontsize=FONT_SIZE)\n",
    "\n",
    "axes[1].set_ylabel('Recall',fontsize=FONT_SIZE)\n",
    "axes[1].set_ylabel('Recall',fontsize=FONT_SIZE)\n",
    "\n",
    "for ax in axes:\n",
    "    ax.grid(True)\n",
    "    ax.tick_params(axis='both', which='both', labelsize = FONT_SIZE)\n",
    "    ax.margins(0.05)\n",
    "    ax.legend(fontsize = FONT_SIZE)\n",
    "    ax.set_xlabel('Threshold',fontsize=FONT_SIZE)\n",
    "    ax.grid(True)\n",
    "        \n",
    "    \n",
    "plt.subplots_adjust(left=0.1, bottom=0.1, right=0.9, top=0.9, wspace=0.15, hspace=0.3)\n",
    "plt.show()''';"
   ]
  },
  {
   "cell_type": "code",
   "execution_count": null,
   "id": "ce8c8655-7a03-45fd-b688-e04069451d6d",
   "metadata": {},
   "outputs": [],
   "source": [
    "'''temp_df = temp_df.stack(1, future_stack=True)\n",
    "display(temp_df)\n",
    "\n",
    "temp_df = temp_df.swaplevel(axis=1)\n",
    "display(temp_df)''';"
   ]
  },
  {
   "cell_type": "code",
   "execution_count": null,
   "id": "84dfda14-c778-450f-b91d-991fd29894bd",
   "metadata": {},
   "outputs": [],
   "source": [
    "'''FONT_SIZE=15\n",
    "\n",
    "fig, axes = plt.subplots()\n",
    "fig.set_figwidth(22)\n",
    "fig.set_figheight(8)\n",
    "\n",
    "axes.set_title('Precision-Recall curve',fontsize = FONT_SIZE)\n",
    "\n",
    "axes.plot(tholds, res['Precision'], label='Precision')\n",
    "axes.plot(tholds, res['Recall'], label='Recall')\n",
    "\n",
    "axes.set_xlabel('Trashold',fontsize = FONT_SIZE)\n",
    "axes.set_ylabel('Recall and Recall',fontsize = FONT_SIZE)\n",
    "\n",
    "axes.grid(True)\n",
    "axes.tick_params(axis='both', which='both', labelsize = FONT_SIZE)\n",
    "axes.margins(0.05)\n",
    "axes.legend(fontsize = FONT_SIZE)\n",
    "axes.legend(fontsize = FONT_SIZE, facecolor = \"white\")\n",
    "\n",
    "plt.subplots_adjust(left=0.1, bottom=0.1, right=0.9, top=0.9, wspace=0.15, hspace=0.1)\n",
    "plt.show()''';"
   ]
  },
  {
   "cell_type": "code",
   "execution_count": null,
   "id": "b4190e23-41c0-4c2d-ad2b-f24ae2a280e5",
   "metadata": {
    "scrolled": true
   },
   "outputs": [],
   "source": [
    "#dataset = {'test':dict(zip(['x','y'], [dw.get_batch_generator(part,5000) for part in chain_dataset_gens(dataset_desc['test'])] ))}"
   ]
  },
  {
   "cell_type": "code",
   "execution_count": null,
   "id": "15934777-b8c4-44dd-b5dd-7c58524c9b64",
   "metadata": {
    "jupyter": {
     "source_hidden": true
    }
   },
   "outputs": [],
   "source": [
    "'''metric_dict_14 = {'train':None,'val':None,'test':None}\n",
    "for dataset_part_name, dataset_part in dataset.items():\n",
    "    print('|'*8+dataset_part_name+'|'*8)\n",
    "    metrics = [keras.metrics.AUC(name='PR_AUC', curve='PR'),\n",
    "               keras.metrics.AUC(name='ROC_AUC', curve='ROC'),\n",
    "               keras.metrics.BinaryCrossentropy(name='BinaryCrossentropy'),\n",
    "               keras.metrics.BinaryAccuracy(name='BinaryAccuracy'),\n",
    "               keras.metrics.MeanSquaredError(name='MeanSquaredError'),\n",
    "               keras.metrics.Precision(name='Precision'),\n",
    "               keras.metrics.Recall(name='Recall'),\n",
    "               keras.metrics.TruePositives(name='TruePositives'),\n",
    "               keras.metrics.FalsePositives(name='FalsePositives'),\n",
    "               keras.metrics.TrueNegatives(name='TrueNegatives'),\n",
    "               keras.metrics.FalseNegatives(name='FalseNegatives')]\n",
    "\n",
    "    for (x_buffer,  y_buffer) in zip(*dataset_part.values()):\n",
    "        x_buffer = np.pad(x_buffer, ((0,0),(1,1),(1,1),(0,0)), 'reflect')\n",
    "        #print(x_buffer.shape)\n",
    "        res = load_model.predict(x_buffer, verbose=0)\n",
    "        for metric in metrics:\n",
    "            metric.update_state(y_buffer, res)\n",
    "\n",
    "    metric_dict_14[dataset_part_name] = {metric.get_config()[\"name\"]:metric.result() for metric in metrics}\n",
    "    for metric in metrics:\n",
    "        #print(f'{metric.get_config()[\"name\"]}:{metric.result():.6f}')\n",
    "        metric.reset_state()''';"
   ]
  },
  {
   "cell_type": "code",
   "execution_count": null,
   "id": "dcbacc5e-2586-4708-924e-44172fce81ed",
   "metadata": {
    "jupyter": {
     "source_hidden": true
    },
    "scrolled": true
   },
   "outputs": [],
   "source": [
    "'''CROP_SIZE = 16\n",
    "\n",
    "dataset_desc =  {'train': (DatasetPartDescription(PATH_TO_DATA['run_1'],DataCrop(0,0,MAX_VAL,MAX_VAL),SlidingCrop(CROP_SIZE,1),XSHIFT),),\n",
    "                 'val': (DatasetPartDescription(PATH_TO_DATA['run_2'],DataCrop(0,0,MAX_VAL,40),SlidingCrop(CROP_SIZE,1),XSHIFT),),\n",
    "                 'test': (DatasetPartDescription(PATH_TO_DATA['run_2'],DataCrop(0,40,MAX_VAL,MAX_VAL),SlidingCrop(CROP_SIZE,1),XSHIFT),)}\n",
    "\n",
    "dataset = {'train':dict(zip(['x','y'], [dw.get_batch_generator(part,5000) for part in chain_dataset_gens(dataset_desc['train'])] )),\n",
    "           'val':dict(zip(['x','y'], [dw.get_batch_generator(part,5000) for part in chain_dataset_gens(dataset_desc['val'])] )),\n",
    "           'test':dict(zip(['x','y'], [dw.get_batch_generator(part,5000) for part in chain_dataset_gens(dataset_desc['test'])] ))}''';"
   ]
  },
  {
   "cell_type": "code",
   "execution_count": null,
   "id": "1721ffd3-b13b-4657-961e-a53a5a2de670",
   "metadata": {
    "jupyter": {
     "source_hidden": true
    }
   },
   "outputs": [],
   "source": [
    "'''metric_dict_16 = {'train':None,'val':None,'test':None}\n",
    "for dataset_part_name, dataset_part in dataset.items():\n",
    "    print('|'*8+dataset_part_name+'|'*8)\n",
    "    metrics = [keras.metrics.AUC(name='PR_AUC', curve='PR'),\n",
    "               keras.metrics.AUC(name='ROC_AUC', curve='ROC'),\n",
    "               keras.metrics.BinaryCrossentropy(name='BinaryCrossentropy'),\n",
    "               keras.metrics.BinaryAccuracy(name='BinaryAccuracy'),\n",
    "               keras.metrics.MeanSquaredError(name='MeanSquaredError'),\n",
    "               keras.metrics.Precision(name='Precision'),\n",
    "               keras.metrics.Recall(name='Recall'),\n",
    "               keras.metrics.TruePositives(name='TruePositives'),\n",
    "               keras.metrics.FalsePositives(name='FalsePositives'),\n",
    "               keras.metrics.TrueNegatives(name='TrueNegatives'),\n",
    "               keras.metrics.FalseNegatives(name='FalseNegatives')]\n",
    "\n",
    "    for (x_buffer,  y_buffer) in zip(*dataset_part.values()):\n",
    "        #x_buffer = np.pad(x_buffer, ((0,0),(1,1),(1,1),(0,0)), 'reflect')\n",
    "        #print(x_buffer.shape)\n",
    "        res = load_model.predict(x_buffer, verbose=0)\n",
    "        for metric in metrics:\n",
    "            metric.update_state(y_buffer, res)\n",
    "\n",
    "    metric_dict_16[dataset_part_name] = {metric.get_config()[\"name\"]:metric.result() for metric in metrics}\n",
    "    for metric in metrics:\n",
    "        #print(f'{metric.get_config()[\"name\"]}:{metric.result():.6f}')\n",
    "        metric.reset_state()''';"
   ]
  },
  {
   "cell_type": "code",
   "execution_count": null,
   "id": "f1f511ba-a1f5-48c2-9900-8d2426fe76c0",
   "metadata": {
    "jupyter": {
     "source_hidden": true
    }
   },
   "outputs": [],
   "source": [
    "'''for (data_part1, data_part2) in zip(metric_dict_14.keys(), metric_dict_16.keys()):\n",
    "    print('|'*8+data_part1+'|'*8)\n",
    "    for ((metric_name1, metric_res1), (metric_name2, metric_res2)) in zip(metric_dict_14[data_part1].items(), metric_dict_16[data_part2].items()):\n",
    "        print('|'*8+metric_name1+'|'*8)\n",
    "        print(f'Вход 16 на 16: {metric_res2}')\n",
    "        print(f'Вход 14 на 14: {metric_res1}')\n",
    "        print(f'Метрика для 14 на 14 это {metric_res1/metric_res2*100:.2f}% от метрики 16 на 16')\n",
    "        print()''';"
   ]
  },
  {
   "cell_type": "code",
   "execution_count": null,
   "id": "58a5f690-484b-4f7a-9e04-c7f1b2fda79a",
   "metadata": {
    "jupyter": {
     "source_hidden": true
    },
    "scrolled": true
   },
   "outputs": [],
   "source": [
    "'''# тест модели\n",
    "res_list = list()\n",
    "for crop_step in CROP_STEPS:\n",
    "    (test_x_time_gen, \n",
    "     test_x_amp_gen, \n",
    "     test_y_binary_gen,\n",
    "     test_y_depth_gen) = get_dataset_gen(PATH_TO_DATA[f'run_{run}'], XSHIFT, DataCrop(None,None,None,200), CROP_SIZE, 20)\n",
    "    \n",
    "    test_x_time = np.stack([crop for crop in test_x_time_gen])\n",
    "    test_x_amp = np.stack([crop for crop in test_x_amp_gen])\n",
    "    test_y_binary = np.array([binary for binary in test_y_binary_gen])\n",
    "    test_y_depth = np.array([depth for depth in test_y_depth_gen])\n",
    "    \n",
    "    res = load_model.evaluate([test_x_time, test_x_amp], test_y_binary, batch_size = 32, return_dict=True)\n",
    "    res_list.append({'res':res,'crop_size':CROP_SIZE,'crop_step':crop_step})''';"
   ]
  },
  {
   "cell_type": "code",
   "execution_count": null,
   "id": "b209cfe0-5d54-4e6f-9aff-5e1fab49f21b",
   "metadata": {
    "jupyter": {
     "source_hidden": true
    }
   },
   "outputs": [],
   "source": [
    "'''for line in res_list:\n",
    "    print(f'crop_size: {line[\"crop_size\"]}')\n",
    "    print(f'crop_size: {line[\"crop_step\"]}')\n",
    "    print(line['res'])\n",
    "    print()''';"
   ]
  }
 ],
 "metadata": {
  "kernelspec": {
   "display_name": "Python 3 (ipykernel)",
   "language": "python",
   "name": "python3"
  },
  "language_info": {
   "codemirror_mode": {
    "name": "ipython",
    "version": 3
   },
   "file_extension": ".py",
   "mimetype": "text/x-python",
   "name": "python",
   "nbconvert_exporter": "python",
   "pygments_lexer": "ipython3",
   "version": "3.12.5"
  }
 },
 "nbformat": 4,
 "nbformat_minor": 5
}
