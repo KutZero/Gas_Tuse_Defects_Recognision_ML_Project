{
 "cells": [
  {
   "cell_type": "code",
   "execution_count": 1,
   "id": "fde58157-7750-45b9-a343-b46e3c74b5b4",
   "metadata": {
    "execution": {
     "iopub.execute_input": "2024-01-25T07:52:48.321697Z",
     "iopub.status.busy": "2024-01-25T07:52:48.319694Z",
     "iopub.status.idle": "2024-01-25T07:52:55.824911Z",
     "shell.execute_reply": "2024-01-25T07:52:55.822720Z",
     "shell.execute_reply.started": "2024-01-25T07:52:48.321697Z"
    }
   },
   "outputs": [],
   "source": [
    "# dependencies import\n",
    "from common_dependencies import *\n",
    "from train_dependencies import *"
   ]
  },
  {
   "cell_type": "code",
   "execution_count": 2,
   "id": "8bf461c0-86ef-4815-a965-1e766c1f33b8",
   "metadata": {
    "execution": {
     "iopub.execute_input": "2024-01-25T07:52:55.827911Z",
     "iopub.status.busy": "2024-01-25T07:52:55.826915Z",
     "iopub.status.idle": "2024-01-25T07:52:55.855070Z",
     "shell.execute_reply": "2024-01-25T07:52:55.853071Z",
     "shell.execute_reply.started": "2024-01-25T07:52:55.827911Z"
    }
   },
   "outputs": [],
   "source": [
    "# paths for files with original data\n",
    "PATH_TO_DATA = {\n",
    "    'run_1': \n",
    "        ('data/original_data/run_1/run1_WM32_data.csv',\n",
    "        'data/original_data/run_1/run1_WM32_defects.csv',\n",
    "        'data/original_data/run_1/run1_WM32_pipe.csv'),\n",
    "    'run_2':\n",
    "        ('data/original_data/run_2/run2_WM32_data.csv',\n",
    "        'data/original_data/run_2/run2_WM32_defects.csv',\n",
    "        'data/original_data/run_2/run2_WM32_pipe.csv')\n",
    "}\n",
    "\n",
    "CROP_SIZE = 16\n",
    "CROP_STEP = 2\n",
    "\n",
    "# детерминация случайных величин, отвечающих за выбор первоначальных весов и биасов\n",
    "tf.compat.v1.set_random_seed(290)\n",
    "tf.random.set_seed(290)\n",
    "np.random.seed(290)"
   ]
  },
  {
   "cell_type": "code",
   "execution_count": 3,
   "id": "963b2168-3d4e-44e0-a7e4-fd8c34789977",
   "metadata": {
    "execution": {
     "iopub.execute_input": "2024-01-25T07:52:55.860306Z",
     "iopub.status.busy": "2024-01-25T07:52:55.858308Z",
     "iopub.status.idle": "2024-01-25T07:53:12.938909Z",
     "shell.execute_reply": "2024-01-25T07:53:12.937933Z",
     "shell.execute_reply.started": "2024-01-25T07:52:55.859306Z"
    },
    "scrolled": true
   },
   "outputs": [
    {
     "name": "stdout",
     "output_type": "stream",
     "text": [
      "Got wrong input df cell str value:--\n",
      "Got wrong input df cell str value:--\n",
      "Got wrong input df cell str value:--\n",
      "Got wrong input df cell str value:--\n",
      "Got wrong input df cell str value:--\n",
      "Got wrong input df cell str value:--\n",
      "Got wrong input df cell str value:--\n",
      "Got wrong input df cell str value:--\n",
      "Got wrong input df cell str value:--\n",
      "Got wrong input df cell str value:--\n",
      "Got wrong input df cell str value:--\n",
      "Got wrong input df cell str value:--\n",
      "Got wrong input df cell str value:--\n",
      "Got wrong input df cell str value:--\n",
      "Got wrong input df cell str value:--\n",
      "Got wrong input df cell str value:--\n",
      "Got wrong input df cell str value:--\n",
      "Got wrong input df cell str value:--\n",
      "Got wrong input df cell str value:--\n",
      "Got wrong input df cell str value:--\n",
      "Got wrong input df cell str value:--\n",
      "Got wrong input df cell str value:--\n",
      "Got wrong input df cell str value:--\n",
      "Got wrong input df cell str value:--\n",
      "Got wrong input df cell str value:--\n",
      "Got wrong input df cell str value:--\n",
      "Got wrong input df cell str value:--\n",
      "Got wrong input df cell str value:--\n",
      "Got wrong input df cell str value:--\n",
      "Got wrong input df cell str value:--\n",
      "Got wrong input df cell str value:--\n",
      "Got wrong input df cell str value:--\n",
      "Got wrong input df cell str value:--\n",
      "Got wrong input df cell str value:--\n",
      "Got wrong input df cell str value:--\n",
      "Got wrong input df cell str value:--\n",
      "Got wrong input df cell str value:--\n",
      "Got wrong input df cell str value:--\n",
      "Got wrong input df cell str value:--\n",
      "Got wrong input df cell str value:--\n",
      "Got wrong input df cell str value:--\n",
      "Got wrong input df cell str value:--\n",
      "Got wrong input df cell str value:--\n",
      "Got wrong input df cell str value:--\n",
      "Got wrong input df cell str value:--\n",
      "Got wrong input df cell str value:--\n",
      "Got wrong input df cell str value:--\n",
      "Got wrong input df cell str value:--\n",
      "Got wrong input df cell str value:--\n",
      "Got wrong input df cell str value:--\n",
      "Got wrong input df cell str value:--\n",
      "Got wrong input df cell str value:--\n",
      "Got wrong input df cell str value:--\n",
      "Got wrong input df cell str value:--\n",
      "Got wrong input df cell str value:--\n",
      "Got wrong input df cell str value:--\n",
      "Got wrong input df cell str value:--\n",
      "Got wrong input df cell str value:--\n",
      "Got wrong input df cell str value:--\n",
      "Got wrong input df cell str value:--\n",
      "Got wrong input df cell str value:--\n",
      "Got wrong input df cell str value:--\n",
      "Got wrong input df cell str value:--\n",
      "Got wrong input df cell str value:--\n",
      "Got wrong input df cell str value:--\n",
      "Got wrong input df cell str value:--\n",
      "Got wrong input df cell str value:--\n",
      "Got wrong input df cell str value:--\n",
      "Got wrong input df cell str value:--\n",
      "Got wrong input df cell str value:--\n",
      "Got wrong input df cell str value:--\n",
      "Got wrong input df cell str value:--\n",
      "Got wrong input df cell str value:--\n",
      "Got wrong input df cell str value:--\n",
      "Got wrong input df cell str value:--\n",
      "Got wrong input df cell str value:--\n",
      "Got wrong input df cell str value:--\n",
      "Got wrong input df cell str value:--\n",
      "Got wrong input df cell str value:--\n",
      "Got wrong input df cell str value:--\n",
      "Got wrong input df cell str value:--\n",
      "Got wrong input df cell str value:--\n",
      "Got wrong input df cell str value:--\n",
      "Got wrong input df cell str value:--\n",
      "Got wrong input df cell str value:--\n",
      "Got wrong input df cell str value:--\n",
      "Got wrong input df cell str value:--\n",
      "Got wrong input df cell str value:--\n",
      "Got wrong input df cell str value:--\n",
      "Got wrong input df cell str value:--\n",
      "Got wrong input df cell str value:--\n",
      "Got wrong input df cell str value:--\n",
      "Got wrong input df cell str value:--\n",
      "Got wrong input df cell str value:--\n",
      "Got wrong input df cell str value:--\n",
      "Got wrong input df cell str value:--\n",
      "Got wrong input df cell str value:--\n",
      "Got wrong input df cell str value:--\n",
      "Got wrong input df cell str value:--\n",
      "Got wrong input df cell str value:--\n",
      "Got wrong input df cell str value:--\n",
      "Got wrong input df cell str value:--\n",
      "Got wrong input df cell str value:--\n",
      "Got wrong input df cell str value:--\n",
      "Got wrong input df cell str value:--\n",
      "Got wrong input df cell str value:--\n",
      "Got wrong input df cell str value:--\n",
      "Got wrong input df cell str value:--\n",
      "Got wrong input df cell str value:--\n",
      "Got wrong input df cell str value:--\n",
      "Got wrong input df cell str value:--\n",
      "Got wrong input df cell str value:--\n",
      "Got wrong input df cell str value:--\n",
      "Got wrong input df cell str value:--\n",
      "Got wrong input df cell str value:--\n",
      "Got wrong input df cell str value:--\n",
      "Got wrong input df cell str value:--\n",
      "Got wrong input df cell str value:--\n",
      "Got wrong input df cell str value:--\n",
      "Got wrong input df cell str value:--\n",
      "Got wrong input df cell str value:--\n",
      "Got wrong input df cell str value:--\n",
      "Got wrong input df cell str value:--\n",
      "Got wrong input df cell str value:--\n",
      "Got wrong input df cell str value:--\n",
      "Got wrong input df cell str value:--\n",
      "Got wrong input df cell str value:--\n",
      "Got wrong input df cell str value:--\n",
      "Got wrong input df cell str value:--\n",
      "Got wrong input df cell str value:--\n",
      "Got wrong input df cell str value:--\n",
      "Got wrong input df cell str value:--\n",
      "Got wrong input df cell str value:--\n",
      "Got wrong input df cell str value:--\n",
      "Got wrong input df cell str value:--\n",
      "Got wrong input df cell str value:--\n",
      "Got wrong input df cell str value:--\n",
      "Got wrong input df cell str value:--\n",
      "Got wrong input df cell str value:--\n",
      "Got wrong input df cell str value:--\n",
      "Got wrong input df cell str value:--\n",
      "Got wrong input df cell str value:--\n",
      "Got wrong input df cell str value:--\n",
      "Got wrong input df cell str value:--\n",
      "Got wrong input df cell str value:--\n",
      "Got wrong input df cell str value:--\n",
      "Got wrong input df cell str value:--\n",
      "Got wrong input df cell str value:--\n",
      "Got wrong input df cell str value:--\n",
      "Got wrong input df cell str value:--\n",
      "Got wrong input df cell str value:--\n",
      "Got wrong input df cell str value:--\n",
      "Got wrong input df cell str value:--\n",
      "Got wrong input df cell str value:--\n",
      "Got wrong input df cell str value:--\n",
      "Got wrong input df cell str value:--\n",
      "Got wrong input df cell str value:--\n",
      "Got wrong input df cell str value:--\n",
      "Got wrong input df cell str value:--\n",
      "Got wrong input df cell str value:--\n",
      "Got wrong input df cell str value:--\n",
      "Got wrong input df cell str value:--\n",
      "Got wrong input df cell str value:--\n",
      "Got wrong input df cell str value:--\n",
      "Got wrong input df cell str value:--\n",
      "Got wrong input df cell str value:--\n",
      "Got wrong input df cell str value:--\n",
      "Got wrong input df cell str value:--\n",
      "Got wrong input df cell str value:--\n",
      "Got wrong input df cell str value:--\n",
      "Got wrong input df cell str value:--\n",
      "Got wrong input df cell str value:--\n",
      "Got wrong input df cell str value:--\n",
      "Got wrong input df cell str value:--\n",
      "Got wrong input df cell str value:--\n",
      "Got wrong input df cell str value:--\n",
      "Got wrong input df cell str value:--\n",
      "Got wrong input df cell str value:--\n",
      "Got wrong input df cell str value:--\n",
      "Got wrong input df cell str value:--\n",
      "Got wrong input df cell str value:--\n",
      "Got wrong input df cell str value:--\n",
      "Got wrong input df cell str value:--\n",
      "Got wrong input df cell str value:--\n",
      "Got wrong input df cell str value:--\n",
      "Got wrong input df cell str value:--\n",
      "Got wrong input df cell str value:--\n",
      "Got wrong input df cell str value:--\n",
      "Got wrong input df cell str value:--\n",
      "Got wrong input df cell str value:--\n",
      "Got wrong input df cell str value:--\n",
      "Got wrong input df cell str value:--\n",
      "Got wrong input df cell str value:--\n",
      "Got wrong input df cell str value:--\n",
      "Got wrong input df cell str value:--\n",
      "Got wrong input df cell str value:--\n",
      "Got wrong input df cell str value:--\n",
      "Got wrong input df cell str value:--\n",
      "Got wrong input df cell str value:--\n",
      "Got wrong input df cell str value:--\n",
      "Got wrong input df cell str value:--\n",
      "Got wrong input df cell str value:--\n",
      "Got wrong input df cell str value:--\n",
      "Got wrong input df cell str value:--\n",
      "Got wrong input df cell str value:--\n",
      "Got wrong input df cell str value:--\n",
      "Got wrong input df cell str value:--\n",
      "Got wrong input df cell str value:--\n",
      "Got wrong input df cell str value:--\n",
      "Got wrong input df cell str value:--\n",
      "Got wrong input df cell str value:--\n",
      "Got wrong input df cell str value:--\n",
      "Got wrong input df cell str value:--\n",
      "Got wrong input df cell str value:--\n",
      "Got wrong input df cell str value:--\n",
      "Got wrong input df cell str value:--\n",
      "Got wrong input df cell str value:--\n",
      "Got wrong input df cell str value:--\n",
      "Got wrong input df cell str value:--\n",
      "Got wrong input df cell str value:--\n",
      "Got wrong input df cell str value:--\n",
      "Got wrong input df cell str value:--\n",
      "Got wrong input df cell str value:--\n",
      "Got wrong input df cell str value:--\n",
      "Got wrong input df cell str value:--\n",
      "Got wrong input df cell str value:--\n",
      "Got wrong input df cell str value:--\n",
      "Got wrong input df cell str value:--\n",
      "Got wrong input df cell str value:--\n",
      "Got wrong input df cell str value:--\n",
      "Got wrong input df cell str value:--\n",
      "Got wrong input df cell str value:--\n",
      "Got wrong input df cell str value:--\n"
     ]
    }
   ],
   "source": [
    "x_df, y_df = dw.get_x_and_y_data(*PATH_TO_DATA['run_1'])"
   ]
  },
  {
   "cell_type": "code",
   "execution_count": 4,
   "id": "63178a86-10e3-4eaf-b5af-4da3c846c44e",
   "metadata": {
    "execution": {
     "iopub.execute_input": "2024-01-25T07:53:12.950166Z",
     "iopub.status.busy": "2024-01-25T07:53:12.948132Z",
     "iopub.status.idle": "2024-01-25T07:53:15.087987Z",
     "shell.execute_reply": "2024-01-25T07:53:15.086991Z",
     "shell.execute_reply.started": "2024-01-25T07:53:12.949164Z"
    }
   },
   "outputs": [
    {
     "data": {
      "image/png": "[encoded data removed]",
      "text/plain": [
       "<Figure size 1800x800 with 2 Axes>"
      ]
     },
     "metadata": {
      "needs_background": "dark"
     },
     "output_type": "display_data"
    },
    {
     "data": {
      "image/png": "[encoded data removed]",
      "text/plain": [
       "<Figure size 1800x800 with 2 Axes>"
      ]
     },
     "metadata": {
      "needs_background": "dark"
     },
     "output_type": "display_data"
    }
   ],
   "source": [
    "dw.draw_defects_map(y_df, title='Считанная развернутая карта дефектов')\n",
    "dw.draw_zeros_quantity_in_data_df(x_df)"
   ]
  },
  {
   "cell_type": "code",
   "execution_count": 5,
   "id": "691d2d3e-f789-4185-8bd5-3d92d4cbd000",
   "metadata": {
    "execution": {
     "iopub.execute_input": "2024-01-25T08:04:59.060697Z",
     "iopub.status.busy": "2024-01-25T08:04:59.059698Z",
     "iopub.status.idle": "2024-01-25T08:05:00.656108Z",
     "shell.execute_reply": "2024-01-25T08:05:00.654107Z",
     "shell.execute_reply.started": "2024-01-25T08:04:59.060697Z"
    }
   },
   "outputs": [
    {
     "data": {
      "image/png": "[encoded data removed]",
      "text/plain": [
       "<Figure size 1800x800 with 2 Axes>"
      ]
     },
     "metadata": {
      "needs_background": "dark"
     },
     "output_type": "display_data"
    }
   ],
   "source": [
    "x_df = dw.extend_df_for_prediction(x_df, crop_size=CROP_SIZE, crop_step=CROP_STEP)\n",
    "y_df = dw.extend_df_for_prediction(y_df, crop_size=CROP_SIZE, crop_step=CROP_STEP)\n",
    "dw.draw_defects_map(y_df, title='Расширенная развернутая карта дефектов')"
   ]
  },
  {
   "cell_type": "code",
   "execution_count": 5,
   "id": "9a83c119-98e6-4bdc-9a0b-cffa81ea4172",
   "metadata": {
    "execution": {
     "iopub.execute_input": "2024-01-24T17:10:31.357685Z",
     "iopub.status.busy": "2024-01-24T17:10:31.356681Z",
     "iopub.status.idle": "2024-01-24T17:10:53.443821Z",
     "shell.execute_reply": "2024-01-24T17:10:53.442817Z",
     "shell.execute_reply.started": "2024-01-24T17:10:31.357685Z"
    }
   },
   "outputs": [
    {
     "name": "stdout",
     "output_type": "stream",
     "text": [
      "||||||||||||||||||\n",
      "X df reshaping to 4D\n",
      "Original df size:  (145, 430)\n",
      "Crop windows height/width:  16\n",
      "Crop windows step across rows and cols:  2\n",
      "New x_time shape:  (13520, 16, 16, 32)\n",
      "New x_amp shape:  (13520, 16, 16, 32)\n",
      "||||||||||||||||||\n",
      "\n",
      "||||||||||||||||||\n",
      "Y df reshaping to 3D\n",
      "Original df size:  (145, 430)\n",
      "Crop windows height/width:  16\n",
      "Crop windows step across rows and cols:  2\n",
      "New numpy shape:  (13520, 16, 16, 1)\n",
      "||||||||||||||||||\n",
      "\n"
     ]
    }
   ],
   "source": [
    "# преобразовать данные к виду (измерение, размер х, размер у, каналы)\n",
    "# для x_data_time каналы = 32\n",
    "# для x_data_amp каналы = 32\n",
    "# для y_data каналы = 1\n",
    "(x_data_time,\n",
    "x_data_amp) = dw.reshape_x_df_to_image_like_numpy(x_df, CROP_SIZE, CROP_STEP)\n",
    "y_data = dw.reshape_y_df_to_image_like_numpy(y_df, CROP_SIZE, CROP_STEP)"
   ]
  },
  {
   "cell_type": "code",
   "execution_count": 6,
   "id": "8e63ee8d-8f53-4c7f-9536-e54862286559",
   "metadata": {
    "execution": {
     "iopub.execute_input": "2024-01-24T17:10:53.448864Z",
     "iopub.status.busy": "2024-01-24T17:10:53.446864Z",
     "iopub.status.idle": "2024-01-24T17:10:58.492550Z",
     "shell.execute_reply": "2024-01-24T17:10:58.490544Z",
     "shell.execute_reply.started": "2024-01-24T17:10:53.448864Z"
    }
   },
   "outputs": [
    {
     "name": "stdout",
     "output_type": "stream",
     "text": [
      "||||||||||||||||||\n",
      "Data standartizing\n",
      "arr_max before standartize: 44.5\n",
      "arr_min before standartize: 0.0\n",
      "arr_max after standartize: 1.0\n",
      "arr_min after standartize: 0.0\n",
      "||||||||||||||||||\n",
      "\n",
      "||||||||||||||||||\n",
      "Data standartizing\n",
      "arr_max before standartize: 62.992\n",
      "arr_min before standartize: -61.968\n",
      "arr_max after standartize: 1.0\n",
      "arr_min after standartize: -0.983743967487935\n",
      "||||||||||||||||||\n",
      "\n"
     ]
    }
   ],
   "source": [
    "# нормализовать входные данные\n",
    "x_data_time = dw.standartize_data(x_data_time)\n",
    "x_data_amp = dw.standartize_data(x_data_amp)"
   ]
  },
  {
   "cell_type": "code",
   "execution_count": 7,
   "id": "05726d77-865d-4bed-9ce6-a0ed614f5ff2",
   "metadata": {
    "execution": {
     "iopub.execute_input": "2024-01-24T17:10:58.497551Z",
     "iopub.status.busy": "2024-01-24T17:10:58.496549Z",
     "iopub.status.idle": "2024-01-24T17:10:59.929547Z",
     "shell.execute_reply": "2024-01-24T17:10:59.927555Z",
     "shell.execute_reply.started": "2024-01-24T17:10:58.497551Z"
    },
    "scrolled": true
   },
   "outputs": [
    {
     "name": "stdout",
     "output_type": "stream",
     "text": [
      "||||||||||||||||||\n",
      "Defect and non defect data splitting\n",
      "Orig x_time shape:  (13520, 16, 16, 32)\n",
      "Orig x_amp shape:  (13520, 16, 16, 32)\n",
      "Orig y_mask shape:  (13520, 16, 16, 1)\n",
      "||||||||||||||||||\n",
      "Defects nums calculating\n",
      "For  13520 crops of size: 16\n",
      "there are 1635 defect crops\n",
      "||||||||||||||||||\n",
      "\n",
      "x_time_def shape:  (1635, 16, 16, 32)\n",
      "x_time_non_def shape:  (11885, 16, 16, 32)\n",
      "\n",
      "x_amp_def shape:  (1635, 16, 16, 32)\n",
      "x_amp_non_def shape:  (11885, 16, 16, 32)\n",
      "\n",
      "y_mask_def shape:  (1635, 16, 16, 1)\n",
      "y_mask_non_def shape:  (11885, 16, 16, 1)\n",
      "\n",
      "||||||||||||||||||\n",
      "\n"
     ]
    }
   ],
   "source": [
    "# Поделить кропы на дефектные и нет\n",
    "(x_time_def, x_time_non_def), \\\n",
    "(x_amp_def, x_amp_non_def), \\\n",
    "(y_mask_def, y_mask_non_def) = dw.split_def_and_non_def_data(x_data_time, \n",
    "                                                            x_data_amp, \n",
    "                                                            y_data, CROP_SIZE)\n",
    "x_data_time = x_data_amp = y_data = None"
   ]
  },
  {
   "cell_type": "code",
   "execution_count": 8,
   "id": "2353e8bf-ac8c-4ceb-bab6-75065e015336",
   "metadata": {
    "execution": {
     "iopub.execute_input": "2024-01-24T17:10:59.934543Z",
     "iopub.status.busy": "2024-01-24T17:10:59.932550Z",
     "iopub.status.idle": "2024-01-24T17:11:00.359670Z",
     "shell.execute_reply": "2024-01-24T17:11:00.356978Z",
     "shell.execute_reply.started": "2024-01-24T17:10:59.934543Z"
    }
   },
   "outputs": [
    {
     "name": "stdout",
     "output_type": "stream",
     "text": [
      "x_time_def.shape=(1635, 16, 16, 32)\n",
      "x_amp_def.shape=(1635, 16, 16, 32)\n",
      "y_mask_def.shape=(1635, 16, 16, 1)\n",
      "\n",
      "x_time_non_def.shape=(1635, 16, 16, 32)\n",
      "x_amp_non_def.shape=(1635, 16, 16, 32)\n",
      "y_mask_non_def.shape=(1635, 16, 16, 1)\n"
     ]
    }
   ],
   "source": [
    "shuffled_indices = np.random.permutation(x_amp_non_def.shape[0])[:x_time_def.shape[0]]\n",
    "\n",
    "x_time_non_def = x_time_non_def[shuffled_indices]\n",
    "x_amp_non_def = x_amp_non_def[shuffled_indices]\n",
    "y_mask_non_def = y_mask_non_def[shuffled_indices]\n",
    "\n",
    "print(f'{x_time_def.shape=}')\n",
    "print(f'{x_amp_def.shape=}')\n",
    "print(f'{y_mask_def.shape=}\\n')\n",
    "\n",
    "print(f'{x_time_non_def.shape=}')\n",
    "print(f'{x_amp_non_def.shape=}')\n",
    "print(f'{y_mask_non_def.shape=}')"
   ]
  },
  {
   "cell_type": "code",
   "execution_count": 9,
   "id": "76ee1629-140b-4031-802c-1a025bf7400b",
   "metadata": {
    "execution": {
     "iopub.execute_input": "2024-01-24T17:11:00.364671Z",
     "iopub.status.busy": "2024-01-24T17:11:00.363669Z",
     "iopub.status.idle": "2024-01-24T17:11:21.143416Z",
     "shell.execute_reply": "2024-01-24T17:11:21.136415Z",
     "shell.execute_reply.started": "2024-01-24T17:11:00.364671Z"
    },
    "scrolled": true
   },
   "outputs": [
    {
     "name": "stdout",
     "output_type": "stream",
     "text": [
      "||||||||||||||||||\n",
      "Data augmentation\n",
      "Orig arr shape:  (1635, 16, 16, 32)\n",
      "||||||||||||\n",
      "After 4 steps of 90 degree rotate\n",
      "arr shape:  (6540, 16, 16, 32)\n",
      "||||||||||||\n",
      "After horizontal full mirroring\n",
      "arr shape:  (13080, 16, 16, 32)\n",
      "||||||||||||\n",
      "After vertical full mirroring\n",
      "arr shape:  (26160, 16, 16, 32)\n",
      "||||||||||||||||||\n",
      "\n",
      "||||||||||||||||||\n",
      "Data augmentation\n",
      "Orig arr shape:  (1635, 16, 16, 32)\n",
      "||||||||||||\n",
      "After 4 steps of 90 degree rotate\n",
      "arr shape:  (6540, 16, 16, 32)\n",
      "||||||||||||\n",
      "After horizontal full mirroring\n",
      "arr shape:  (13080, 16, 16, 32)\n",
      "||||||||||||\n",
      "After vertical full mirroring\n",
      "arr shape:  (26160, 16, 16, 32)\n",
      "||||||||||||||||||\n",
      "\n",
      "||||||||||||||||||\n",
      "Data augmentation\n",
      "Orig arr shape:  (1635, 16, 16, 32)\n",
      "||||||||||||\n",
      "After 4 steps of 90 degree rotate\n",
      "arr shape:  (6540, 16, 16, 32)\n",
      "||||||||||||\n",
      "After horizontal full mirroring\n",
      "arr shape:  (13080, 16, 16, 32)\n",
      "||||||||||||\n",
      "After vertical full mirroring\n",
      "arr shape:  (26160, 16, 16, 32)\n",
      "||||||||||||||||||\n",
      "\n",
      "||||||||||||||||||\n",
      "Data augmentation\n",
      "Orig arr shape:  (1635, 16, 16, 32)\n",
      "||||||||||||\n",
      "After 4 steps of 90 degree rotate\n",
      "arr shape:  (6540, 16, 16, 32)\n",
      "||||||||||||\n",
      "After horizontal full mirroring\n",
      "arr shape:  (13080, 16, 16, 32)\n",
      "||||||||||||\n",
      "After vertical full mirroring\n",
      "arr shape:  (26160, 16, 16, 32)\n",
      "||||||||||||||||||\n",
      "\n",
      "||||||||||||||||||\n",
      "Data augmentation\n",
      "Orig arr shape:  (1635, 16, 16, 1)\n",
      "||||||||||||\n",
      "After 4 steps of 90 degree rotate\n",
      "arr shape:  (6540, 16, 16, 1)\n",
      "||||||||||||\n",
      "After horizontal full mirroring\n",
      "arr shape:  (13080, 16, 16, 1)\n",
      "||||||||||||\n",
      "After vertical full mirroring\n",
      "arr shape:  (26160, 16, 16, 1)\n",
      "||||||||||||||||||\n",
      "\n",
      "||||||||||||||||||\n",
      "Data augmentation\n",
      "Orig arr shape:  (1635, 16, 16, 1)\n",
      "||||||||||||\n",
      "After 4 steps of 90 degree rotate\n",
      "arr shape:  (6540, 16, 16, 1)\n",
      "||||||||||||\n",
      "After horizontal full mirroring\n",
      "arr shape:  (13080, 16, 16, 1)\n",
      "||||||||||||\n",
      "After vertical full mirroring\n",
      "arr shape:  (26160, 16, 16, 1)\n",
      "||||||||||||||||||\n",
      "\n"
     ]
    }
   ],
   "source": [
    "# Аугментировать данные\n",
    "x_time_def = dw.augment_data(x_time_def) \n",
    "x_time_non_def = dw.augment_data(x_time_non_def) \n",
    "\n",
    "x_amp_def = dw.augment_data(x_amp_def) \n",
    "x_amp_non_def = dw.augment_data(x_amp_non_def) \n",
    "\n",
    "y_mask_def = dw.augment_data(y_mask_def) \n",
    "y_mask_non_def = dw.augment_data(y_mask_non_def) "
   ]
  },
  {
   "cell_type": "code",
   "execution_count": 10,
   "id": "2eb09859-08a0-4a67-9e71-0cb1562b3664",
   "metadata": {
    "execution": {
     "iopub.execute_input": "2024-01-24T17:11:21.228450Z",
     "iopub.status.busy": "2024-01-24T17:11:21.226451Z",
     "iopub.status.idle": "2024-01-24T17:11:23.317070Z",
     "shell.execute_reply": "2024-01-24T17:11:23.314068Z",
     "shell.execute_reply.started": "2024-01-24T17:11:21.228450Z"
    }
   },
   "outputs": [
    {
     "name": "stdout",
     "output_type": "stream",
     "text": [
      "||||||||||||||||||\n",
      "Y binary arr from Y mask arr creation\n",
      "Y mask arr shape:  (26160, 16, 16, 1)\n",
      "Y binary arr shape:  (26160,)\n",
      "||||||||||||||||||\n",
      "\n",
      "||||||||||||||||||\n",
      "Y binary arr from Y mask arr creation\n",
      "Y mask arr shape:  (26160, 16, 16, 1)\n",
      "Y binary arr shape:  (26160,)\n",
      "||||||||||||||||||\n",
      "\n"
     ]
    }
   ],
   "source": [
    "# создание выходных данных бинарного вида (одномерный массив типа bool)\n",
    "y_binary_def = dw.create_binary_arr_from_mask_arr(y_mask_def)\n",
    "y_binary_non_def = dw.create_binary_arr_from_mask_arr(y_mask_non_def)\n",
    "y_mask_def = y_mask_non_def = None"
   ]
  },
  {
   "cell_type": "code",
   "execution_count": 11,
   "id": "c61e63e0-dce1-4b67-892b-04eab77b7d05",
   "metadata": {
    "execution": {
     "iopub.execute_input": "2024-01-24T17:11:23.334514Z",
     "iopub.status.busy": "2024-01-24T17:11:23.327511Z",
     "iopub.status.idle": "2024-01-24T17:12:29.732620Z",
     "shell.execute_reply": "2024-01-24T17:12:29.655419Z",
     "shell.execute_reply.started": "2024-01-24T17:11:23.334514Z"
    }
   },
   "outputs": [
    {
     "name": "stdout",
     "output_type": "stream",
     "text": [
      "||||||||||||||||||\n",
      "Data spliting to test, val and train datasets\n",
      "Orig item shape:  (26160, 16, 16, 32)\n",
      "Orig item shape:  (26160, 16, 16, 32)\n",
      "\n",
      "Result arr_train shape:  (41856, 16, 16, 32)\n",
      "Result arr_val shape:  (10464, 16, 16, 32)\n",
      "\n",
      "||||||||||||||||||\n",
      "\n",
      "||||||||||||||||||\n",
      "Data spliting to test, val and train datasets\n",
      "Orig item shape:  (26160, 16, 16, 32)\n",
      "Orig item shape:  (26160, 16, 16, 32)\n",
      "\n",
      "Result arr_train shape:  (41856, 16, 16, 32)\n",
      "Result arr_val shape:  (10464, 16, 16, 32)\n",
      "\n",
      "||||||||||||||||||\n",
      "\n",
      "||||||||||||||||||\n",
      "Data spliting to test, val and train datasets\n",
      "Orig item shape:  (26160,)\n",
      "Orig item shape:  (26160,)\n",
      "\n",
      "Result arr_train shape:  (41856,)\n",
      "Result arr_val shape:  (10464,)\n",
      "\n",
      "||||||||||||||||||\n",
      "\n"
     ]
    }
   ],
   "source": [
    "# деление на тренировочную и валидационную выборки\n",
    "\n",
    "val_data_percent = 0.2\n",
    "\n",
    "X_time_train, X_time_val = dw.split_data_to_train_val_datasets([x_time_def,\n",
    "                                                                x_time_non_def],\n",
    "                                                                val_data_percent)\n",
    "x_time_def = x_time_non_def = None\n",
    "\n",
    "X_amp_train, X_amp_val = dw.split_data_to_train_val_datasets([x_amp_def,\n",
    "                                                              x_amp_non_def],\n",
    "                                                              val_data_percent)\n",
    "x_amp_def = x_amp_non_def = None\n",
    "\n",
    "Y_binary_train, Y_binary_val = dw.split_data_to_train_val_datasets([y_binary_def,\n",
    "                                                                y_binary_non_def],\n",
    "                                                                val_data_percent)\n",
    "y_binary_def = y_binary_non_def = None"
   ]
  },
  {
   "cell_type": "code",
   "execution_count": 12,
   "id": "12801887-506c-45a2-b1bb-6c4b5495756f",
   "metadata": {
    "execution": {
     "iopub.execute_input": "2024-01-24T17:12:29.849111Z",
     "iopub.status.busy": "2024-01-24T17:12:29.846109Z",
     "iopub.status.idle": "2024-01-24T17:13:29.325841Z",
     "shell.execute_reply": "2024-01-24T17:13:29.315845Z",
     "shell.execute_reply.started": "2024-01-24T17:12:29.849111Z"
    }
   },
   "outputs": [],
   "source": [
    "# перемешивание данных\n",
    "train_shuffled_indices = np.random.permutation(X_time_train.shape[0])\n",
    "val_shuffled_indices = np.random.permutation(X_time_val.shape[0])\n",
    "\n",
    "X_time_train = X_time_train[train_shuffled_indices]\n",
    "X_amp_train = X_amp_train[train_shuffled_indices]\n",
    "Y_binary_train = Y_binary_train[train_shuffled_indices]\n",
    "\n",
    "X_time_val = X_time_val[val_shuffled_indices]\n",
    "X_amp_val = X_amp_val[val_shuffled_indices]\n",
    "Y_binary_val = Y_binary_val[val_shuffled_indices]"
   ]
  },
  {
   "cell_type": "code",
   "execution_count": 13,
   "id": "117285bc-2044-477d-8102-9130e48574f9",
   "metadata": {
    "execution": {
     "iopub.execute_input": "2024-01-24T17:13:29.350430Z",
     "iopub.status.busy": "2024-01-24T17:13:29.348434Z",
     "iopub.status.idle": "2024-01-24T17:13:29.629568Z",
     "shell.execute_reply": "2024-01-24T17:13:29.624199Z",
     "shell.execute_reply.started": "2024-01-24T17:13:29.350430Z"
    }
   },
   "outputs": [
    {
     "name": "stdout",
     "output_type": "stream",
     "text": [
      "X_time_train.shape=(41856, 16, 16, 32)\n",
      "X_amp_train.shape=(41856, 16, 16, 32)\n",
      "Y_binary_train.shape=(41856,)\n",
      "\n",
      "X_time_val.shape=(10464, 16, 16, 32)\n",
      "X_amp_val.shape=(10464, 16, 16, 32)\n",
      "Y_binary_val.shape=(10464,)\n"
     ]
    }
   ],
   "source": [
    "print(f'{X_time_train.shape=}')\n",
    "print(f'{X_amp_train.shape=}')\n",
    "print(f'{Y_binary_train.shape=}\\n')\n",
    "\n",
    "print(f'{X_time_val.shape=}')\n",
    "print(f'{X_amp_val.shape=}')\n",
    "print(f'{Y_binary_val.shape=}')"
   ]
  },
  {
   "cell_type": "code",
   "execution_count": null,
   "id": "5d349042-3aea-460f-9ed8-fdd68be5b0a8",
   "metadata": {},
   "outputs": [],
   "source": [
    "# всякие константы для последующей работы\n",
    "\n",
    "#///////////////////////////////// для компиляции \n",
    "\n",
    "CMP_learning_rate = 0.000004 #0.04 # шаг сходимости back propogation\n",
    "CMP_solver = keras.optimizers.Adam(CMP_learning_rate) # оптимизатор\n",
    "#CMP_solver = keras.optimizers.SGD(CMP_learning_rate) # оптимизатор\n",
    "CMP_loss_func = 'mean_squared_error'# функция потерь\n",
    "#///////////////////////////////// для колбэков\n",
    "\n",
    "    # для Early_stopping\n",
    "#ES_patience = 15 # кол-во эпох без улучшений\n",
    "#ES_min_delta = 0.0005 # минимальное улучшение параметра за cur_patience\n",
    "#ES_monitor_parametr =  'loss' # отслеживаемый параметр \n",
    "#ES_save_best_weights = False # сохранять ли веса нейронки с лучшими результатами\n",
    "    \n",
    "    # для ReduceLROnPlateau\n",
    "#RLPOP_monitor_parametr = 'loss'  # отслеживаемый параметр \n",
    "#RLPOP_factor = 0.4 # множитель для расчета нового шага сходимости (new_learning_rate = old_learning_rate*RLPOP_factor)\n",
    "#RLPOP_patience = 10 # кол-во эпох без улучшений\n",
    "#RLPOP_verbose = 1 # выводить ли прогресс изменения шага сходимости в его процессее\n",
    "#RLPOP_mode = 'auto' # выбирает, уменьшать шаг сходимости при росте величины или при её уменьшении\n",
    "#RLPOP_min_delta = 0.001 # порог изменения отслеживаемого значения\n",
    "#RLPOP_cooldown = 0 # количество эпох до возобновления работы после изменения шага сходимости\n",
    "#RLPOP_min_lr = 0 # минимальное значение шага сходимости\n",
    "\n",
    "    # для CallbackList\n",
    "CBL_add_history = True # вызывать ли колбэк History (если он не был довавлен вручную)\n",
    "CBL_add_progbar = True # вызывать ли колбэк ProgbarLogger (если он не был довавлен вручную)\n",
    "    \n",
    "#///////////////////////////////// для тренировки\n",
    "\n",
    "FIT_batch_size = 12 # размер bach при обучении/тестировании1\n",
    "#FIT_shuffle = True # перемешивать ли данные\n",
    "FIT_verbose = True # выводить ли прогресс обучения в его процессее\n",
    "FIT_epochs = 10 # количество эпох обучения\n",
    "#FIT_validation_split = 0.10 #0.20 # процент валидационных данных, отсекаемых из тестовой выборки"
   ]
  },
  {
   "cell_type": "code",
   "execution_count": null,
   "id": "c7c53cc4-e675-4f9a-9dc8-372a514d4329",
   "metadata": {
    "scrolled": true
   },
   "outputs": [],
   "source": [
    "# создание архитектуры модели\n",
    "CONV_DROP_PERCENT = 0.10\n",
    "DENSE_DROP_PERCENT = 0.10\n",
    "# 1 подсеть //////////////////////////////////////////////////\n",
    "input_time = Input((16,16,32), name = 'input_time')\n",
    "\n",
    "conv_1_1 = Conv2D(512, (4,4), activation='relu', name='conv_1_1')(input_time)\n",
    "pool_1_1 = MaxPooling2D((2,2), strides=2, name='pool_1_1')(conv_1_1)\n",
    "\n",
    "conv_1_2 = Conv2D(1024, (5,5), activation='relu', name='conv_1_2')(pool_1_1)\n",
    "drop_1_1 = Dropout(CONV_DROP_PERCENT, name='drop_1_1')(conv_1_2)\n",
    "pool_1_2 = MaxPooling2D((2,2), strides=2, name='pool_1_2')(drop_1_1)\n",
    "\n",
    "# 2 подсеть //////////////////////////////////////////////////\n",
    "input_amp = Input((16,16,32), name = 'input_amp')\n",
    "\n",
    "conv_2_1 = Conv2D(512, (4,4), activation='linear', name='conv_2_1')(input_amp)\n",
    "pool_2_1 = MaxPooling2D((2,2), strides=2, name='pool_2_1')(conv_2_1)\n",
    "\n",
    "conv_2_2 = Conv2D(1024, (5,5), activation='linear', name='conv_2_2')(pool_2_1)\n",
    "drop_2_1 = Dropout(CONV_DROP_PERCENT, name='drop_2_1')(conv_2_2)\n",
    "pool_2_2 = MaxPooling2D((2,2), strides=2, name='pool_2_2')(drop_2_1)\n",
    "\n",
    "# выходная подсеть //////////////////////////////////////////////////\n",
    "\n",
    "conc_3_1 = concatenate([pool_1_2,pool_2_2], axis=3, name='conc_3_1')\n",
    "flat_3_1 = Flatten(name='flat')(conc_3_1)\n",
    "\n",
    "d_3_1 = Dense(4096, activation='linear', name='d_3_1')(flat_3_1)\n",
    "drop_3_1 = Dropout(DENSE_DROP_PERCENT, name='drop_3_1')(d_3_1)\n",
    "d_3_2 = Dense(2048, activation='linear', name='d_3_2')(drop_3_1)\n",
    "drop_3_2 = Dropout(DENSE_DROP_PERCENT, name='drop_3_2')(d_3_2)\n",
    "d_3_3 = Dense(512, activation='linear', name='d_3_3')(drop_3_2)\n",
    "d_3_4 = Dense(128, activation='linear', name='d_3_4')(d_3_3)\n",
    "d_3_5 = Dense(32, activation='linear', name='d_3_5')(d_3_4)\n",
    "d_3_6 = Dense(8, activation='linear', name='d_3_6')(d_3_5)\n",
    "\n",
    "output_3_1 = Dense(1, activation='sigmoid', name='output_3_1')(d_3_6)\n",
    "\n",
    "model = keras.Model([input_time, input_amp], output_3_1, name='model')\n",
    "\n",
    "model.compile(optimizer=CMP_solver, loss=CMP_loss_func)\n",
    "\n",
    "print(model.summary())"
   ]
  },
  {
   "cell_type": "code",
   "execution_count": null,
   "id": "994b38b9-92f4-4103-becf-71c82bde93a9",
   "metadata": {
    "scrolled": true
   },
   "outputs": [],
   "source": [
    "plot_model(model, to_file='model_plot.png', show_shapes=True, show_layer_names=True)"
   ]
  },
  {
   "cell_type": "code",
   "execution_count": null,
   "id": "04161a12-c245-4afd-83d2-2489ff29655d",
   "metadata": {},
   "outputs": [],
   "source": [
    "# Создание и настройка колбэков\n",
    "\n",
    "callback_list = [] # массив колбэков до подачи в колбек \"callbacklist\"\n",
    "\n",
    "FIT_callback_list = keras.callbacks.CallbackList(\n",
    "            callbacks = callback_list, \n",
    "            add_history = CBL_add_history, \n",
    "            add_progbar = CBL_add_progbar, \n",
    "            model = model\n",
    "            )"
   ]
  },
  {
   "cell_type": "code",
   "execution_count": null,
   "id": "5a5597b1-1975-4d92-8489-d934de5c10a1",
   "metadata": {},
   "outputs": [],
   "source": [
    "history = model.fit([X_time_train, X_amp_train],\n",
    "                    Y_binary_train,\n",
    "                    batch_size = FIT_batch_size, \n",
    "                    epochs = FIT_epochs, \n",
    "                    verbose = FIT_verbose, \n",
    "                    validation_data = ([X_time_val, X_amp_val], Y_binary_val), \n",
    "                    callbacks = FIT_callback_list)"
   ]
  },
  {
   "cell_type": "code",
   "execution_count": null,
   "id": "6d0dbb7c-9dfe-4584-b758-58afcdcd3a69",
   "metadata": {},
   "outputs": [],
   "source": [
    "fig, ax = plt.subplots()\n",
    "\n",
    "fig.set_figwidth(12)\n",
    "fig.set_figheight(8)\n",
    "\n",
    "plt.plot(history.history['loss'], \n",
    "         label='Тренировочная выборка',  linewidth=1.5, color='blue')\n",
    "plt.plot(history.history['val_loss'], linestyle = '--', \n",
    "         label='Валидационная выборка',  linewidth=3, color='red')\n",
    "\n",
    "ax.set_xlabel('Номер эпохи', fontsize=20)\n",
    "ax.set_ylabel('Значение функции ошибки', fontsize=20)\n",
    "ax.set_title(f\"График значений функции ошибки во время обучения\", fontsize=20, pad=15)\n",
    "\n",
    "ax.patch.set_alpha(0)\n",
    "\n",
    "#  Устанавливаем форматирование делений:\n",
    "ax.tick_params(axis='both', which='both', labelsize = 20)\n",
    "\n",
    "# Вывод и настройка сетки\n",
    "ax.minorticks_on()\n",
    "ax.grid(which='major', linewidth=2)\n",
    "ax.grid(which='minor', color = 'gray', linestyle = ':')\n",
    "\n",
    "ax.legend(fontsize = 20, facecolor = \"white\", loc = 'upper right')\n",
    "\n",
    "plt.show()"
   ]
  },
  {
   "cell_type": "code",
   "execution_count": null,
   "id": "cd754500-4101-490c-8347-e28fbf679db0",
   "metadata": {},
   "outputs": [],
   "source": [
    "# сохранение модели в файл\n",
    "#model.save(f\"networks/CNN/id=v02n02_in(16x16+16x16)_out(1)_train=0dot0_test=0dot0.h5\", save_format=\"h5\")"
   ]
  },
  {
   "cell_type": "code",
   "execution_count": null,
   "id": "ac96ade4-0800-4419-80ff-d333268885fa",
   "metadata": {},
   "outputs": [],
   "source": []
  }
 ],
 "metadata": {
  "kernelspec": {
   "display_name": "Python 3 (ipykernel)",
   "language": "python",
   "name": "python3"
  },
  "language_info": {
   "codemirror_mode": {
    "name": "ipython",
    "version": 3
   },
   "file_extension": ".py",
   "mimetype": "text/x-python",
   "name": "python",
   "nbconvert_exporter": "python",
   "pygments_lexer": "ipython3",
   "version": "3.9.18"
  }
 },
 "nbformat": 4,
 "nbformat_minor": 5
}
