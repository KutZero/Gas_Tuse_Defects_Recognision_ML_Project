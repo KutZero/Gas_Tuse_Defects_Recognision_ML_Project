{
 "cells": [
  {
   "cell_type": "code",
   "execution_count": null,
   "id": "fde58157-7750-45b9-a343-b46e3c74b5b4",
   "metadata": {
    "tags": []
   },
   "outputs": [],
   "source": [
    "# dependencies import\n",
    "from common_dependencies import *\n",
    "from typing import NamedTuple\n",
    "#import model_versions as mv\n",
    "import logging\n",
    "logger = logging.getLogger(f'main.ae_model_test')\n",
    "# детерминация случайных величин, отвечающих за выбор первоначальных весов и биасов\n",
    "tf.compat.v1.set_random_seed(290)\n",
    "tf.random.set_seed(290)\n",
    "np.random.seed(290)"
   ]
  },
  {
   "cell_type": "code",
   "execution_count": null,
   "id": "8bf461c0-86ef-4815-a965-1e766c1f33b8",
   "metadata": {
    "editable": true,
    "slideshow": {
     "slide_type": ""
    },
    "tags": []
   },
   "outputs": [],
   "source": [
    "# train params that can be easily changed\n",
    "MAX_VAL = 1000\n",
    "PATH_TO_MODEL = 'networks/AE'\n",
    "XSHIFT = 200\n",
    "\n",
    "MODEL_VER = 5\n",
    "MODEL_NUM = 1\n",
    "\n",
    "for name in os.listdir(PATH_TO_MODEL):\n",
    "    res = re.match(F'(id=v{MODEL_VER:02}n{MODEL_NUM:02}).*', name)\n",
    "    if not res is None:\n",
    "        PATH_TO_MODEL += '/' + res[0]\n",
    "        break\n",
    "\n",
    "dataset_desc = {'run_1': (DatasetPartDescription(PATH_TO_DATA['run_1'],DataCrop(0,0,MAX_VAL,MAX_VAL),SlidingCrop(1,1),XSHIFT),),\n",
    "                'run_2': (DatasetPartDescription(PATH_TO_DATA['run_2'],DataCrop(0,0,MAX_VAL,MAX_VAL),SlidingCrop(1,1),XSHIFT),)}"
   ]
  },
  {
   "cell_type": "code",
   "execution_count": null,
   "id": "5ab63790-5a53-43ad-b805-82a118c8e75f",
   "metadata": {
    "scrolled": true
   },
   "outputs": [],
   "source": [
    "#входные и выходные данные\n",
    "# reading\n",
    "dataset = {'run_1':dict(zip(['x','y','bin'], [np.array(list(gen)) for gen in chain_dataset_gens(dataset_desc['run_1'])])),\n",
    "           'run_2':dict(zip(['x','y','bin'], [np.array(list(gen)) for gen in chain_dataset_gens(dataset_desc['run_2'])]))}\n",
    "\n",
    "# squueze datasets\n",
    "for dataset_part_name, dataset_part in dataset.items():\n",
    "    for data_part_name, data_part in dataset_part.items():\n",
    "        if data_part_name == 'x':\n",
    "            dataset[dataset_part_name][data_part_name] = data_part.reshape(-1,64)\n",
    "        if data_part_name == 'y':\n",
    "            dataset[dataset_part_name][data_part_name] = data_part.reshape(-1)\n",
    "\n",
    "# displaying\n",
    "logger.debug('\\nDataset')\n",
    "for dataset_part_name, dataset_part in dataset.items():\n",
    "    logger.debug('|'*8+dataset_part_name+'|'*8)\n",
    "    for data_part_name, data_part in dataset_part.items():\n",
    "        logger.debug(f'{data_part_name}.shape: {data_part.shape}, max={np.max(data_part)}, min={np.min(data_part)}')"
   ]
  },
  {
   "cell_type": "code",
   "execution_count": null,
   "id": "004e8555-950d-4d97-ba17-e1648e96e1d9",
   "metadata": {
    "scrolled": true
   },
   "outputs": [],
   "source": [
    "# Загрузка модели\n",
    "ae = keras.models.load_model(PATH_TO_MODEL)\n",
    "print(ae.summary())\n",
    "tf.keras.utils.plot_model(\n",
    "    ae,\n",
    "    show_shapes=True,\n",
    "    show_dtype=False,\n",
    "    show_layer_names=True,\n",
    "    rankdir=\"TB\",\n",
    "    expand_nested=False,\n",
    "    dpi=200,\n",
    "    show_layer_activations=False,\n",
    "    show_trainable=False,\n",
    ")"
   ]
  },
  {
   "cell_type": "code",
   "execution_count": null,
   "id": "b25eac6f-75f9-499d-b043-ce83f51fd217",
   "metadata": {},
   "outputs": [],
   "source": [
    "for dataset_part_name, dataset_part in dataset.items():\n",
    "    dataset[dataset_part_name]['autoencode_result'] = ae.predict(dataset[dataset_part_name]['x'], verbose=0)"
   ]
  },
  {
   "cell_type": "code",
   "execution_count": null,
   "id": "556e48fa-4e42-486a-9b69-506aab781da1",
   "metadata": {},
   "outputs": [],
   "source": [
    "for dataset_part_name, dataset_part in dataset.items():\n",
    "    dataset[dataset_part_name]['all_losses'] = np.array([float(keras.losses.MeanSquaredError(reduction='sum')(true_res, pred_res)) for \n",
    "                                                true_res, pred_res in zip(dataset[dataset_part_name]['x'], ae.predict(dataset[dataset_part_name]['x'], verbose=0))])"
   ]
  },
  {
   "cell_type": "code",
   "execution_count": null,
   "id": "66baa24b-33be-4f51-a230-f5d258f6a687",
   "metadata": {},
   "outputs": [],
   "source": [
    "print(dataset['run_1']['all_losses'].shape)\n",
    "print(dataset['run_2']['all_losses'].shape)"
   ]
  },
  {
   "cell_type": "code",
   "execution_count": null,
   "id": "75b9fd89-2547-4dcb-9489-728c8bf4ef60",
   "metadata": {},
   "outputs": [],
   "source": [
    "for dataset_part_name, dataset_part in dataset.items():\n",
    "    FONT_SIZE=15\n",
    "    \n",
    "    fig, axes = plt.subplots(1,3)\n",
    "    fig.suptitle(f'Гистограммы распределение количества наблюдений для разных диапазонов значений функции потерь для {dataset_part_name}', fontsize=FONT_SIZE)\n",
    "    fig.set_figwidth(22)\n",
    "    fig.set_figheight(8)\n",
    "    \n",
    "    axes[0].hist(dataset_part['all_losses'])\n",
    "    axes[0].set_title('Для всех наблюдений в выборке',fontsize = FONT_SIZE)\n",
    "    axes[1].hist(dataset_part['all_losses'][dataset_part['bin']!=0])\n",
    "    axes[1].set_title('Для дефектных наблюдений в выборке',fontsize = FONT_SIZE)\n",
    "    axes[2].hist(dataset_part['all_losses'][dataset_part['bin']==0])\n",
    "    axes[2].set_title('Для не дефектных наблюдений в выборке',fontsize = FONT_SIZE)\n",
    "    \n",
    "    for ax in axes:\n",
    "        ax.set_xlabel('значение mean squarred error',fontsize = FONT_SIZE)\n",
    "        ax.set_ylabel('кол-во элементов',fontsize = FONT_SIZE)\n",
    "        ax.grid(True)\n",
    "        ax.tick_params(axis='both', which='both', labelsize = FONT_SIZE)\n",
    "        ax.margins(0.05)\n",
    "        ax.legend(fontsize = FONT_SIZE)\n",
    "        \n",
    "    plt.subplots_adjust(left=0.1, bottom=0.1, right=0.9, top=0.9, wspace=0.15, hspace=0.1)\n",
    "    plt.show()"
   ]
  },
  {
   "cell_type": "code",
   "execution_count": null,
   "id": "f5e55bad-8710-4afb-9525-f27c21304905",
   "metadata": {},
   "outputs": [],
   "source": [
    "# example of autoencode nondef graphs\n",
    "FONT_SIZE = 20\n",
    "for dataset_part_name, dataset_part in dataset.items():\n",
    "    for i in range(5):\n",
    "        fig, ax = plt.subplots()\n",
    "        fig.set_figwidth(18)\n",
    "        fig.set_figheight(8)\n",
    "    \n",
    "        ax.plot(dataset_part['x'][dataset_part['bin']!=0][i,1:32], dataset_part['x'][dataset_part['bin']!=0][i,32+1:], c='blue', label='original data')\n",
    "        ax.plot(dataset_part['autoencode_result'][dataset_part['bin']!=0][i,1:32], dataset_part['autoencode_result'][dataset_part['bin']!=0][i,32+1:], c='red', label='predict data')\n",
    "        \n",
    "        ax.set_title(f'Defect graph for {dataset_part_name}',fontsize=FONT_SIZE)\n",
    "        ax.legend(fontsize = FONT_SIZE)\n",
    "        ax.set_xlabel('Time',fontsize=FONT_SIZE)\n",
    "        ax.set_ylabel('Amplitude',fontsize=FONT_SIZE)\n",
    "        ax.tick_params(axis='both', labelsize = FONT_SIZE)\n",
    "        ax.grid(True)\n",
    "        plt.show()\n",
    "        \n",
    "    for i in range(5):\n",
    "        fig, ax = plt.subplots()\n",
    "        fig.set_figwidth(18)\n",
    "        fig.set_figheight(8)\n",
    "    \n",
    "        ax.plot(dataset_part['x'][dataset_part['bin']==0][i,1:32], dataset_part['x'][dataset_part['bin']==0][i,32+1:], c='blue', label='original data')\n",
    "        ax.plot(dataset_part['autoencode_result'][dataset_part['bin']==0][i,1:32], dataset_part['autoencode_result'][dataset_part['bin']==0][i,32+1:], c='red', label='predict data')\n",
    "        \n",
    "        ax.set_title(f'Non defect graph for {dataset_part_name}',fontsize=FONT_SIZE)\n",
    "        ax.legend(fontsize = FONT_SIZE)\n",
    "        ax.set_xlabel('Time',fontsize=FONT_SIZE)\n",
    "        ax.set_ylabel('Amplitude',fontsize=FONT_SIZE)\n",
    "        ax.tick_params(axis='both', labelsize = FONT_SIZE)\n",
    "        ax.grid(True)\n",
    "        plt.show()"
   ]
  },
  {
   "cell_type": "code",
   "execution_count": null,
   "id": "eff672eb-76db-44ef-83af-01d87687ef18",
   "metadata": {},
   "outputs": [],
   "source": [
    "# Предполагая, что у вас есть обученная модель ae\n",
    "'''enc_model = keras.Model(inputs=ae.input, outputs=ae.get_layer('enc_output').output)  # Получение модели для вывода слоя enc_output\n",
    "\n",
    "for dataset_part_name, dataset_part in dataset.items():\n",
    "    dataset[dataset_part_name]['encode_result'] = enc_model.predict(dataset[dataset_part_name]['x'])'''"
   ]
  },
  {
   "cell_type": "code",
   "execution_count": null,
   "id": "5bae9d4d-d5d3-47f4-8f02-2f070c149f1a",
   "metadata": {},
   "outputs": [],
   "source": [
    "'''FONT_SIZE = 20\n",
    "name = f\"\"\"Отображения признаков из 64-x мерного пространства на двух мерное\"\"\"\n",
    "\n",
    "fig, axes = plt.subplots(1,2)\n",
    "fig.suptitle(name, fontsize=FONT_SIZE)\n",
    "fig.set_figwidth(22)\n",
    "fig.set_figheight(8)\n",
    "\n",
    "\n",
    "axes[0].set_title('Результат для run_1', fontsize=FONT_SIZE)\n",
    "axes[0].scatter(dataset['run_1']['encode_result'][dataset['run_1']['bin']==0,0], dataset['run_1']['encode_result'][dataset['run_1']['bin']==0,1], c='blue', s=3, label='non defect')\n",
    "axes[0].scatter(dataset['run_1']['encode_result'][dataset['run_1']['bin']!=0,0], dataset['run_1']['encode_result'][dataset['run_1']['bin']!=0,1], c='red', s=3, label='defect')\n",
    "\n",
    "axes[1].set_title('Результат для run_2', fontsize=FONT_SIZE)\n",
    "axes[1].scatter(dataset['run_2']['encode_result'][dataset['run_2']['bin']==0,0], dataset['run_2']['encode_result'][dataset['run_2']['bin']==0,1], c='blue', s=3, label='non defect')\n",
    "axes[1].scatter(dataset['run_2']['encode_result'][dataset['run_2']['bin']!=0,0], dataset['run_2']['encode_result'][dataset['run_2']['bin']!=0,1], c='red', s=3, label='defect')\n",
    "\n",
    "for ax in axes:\n",
    "    ax.set_xlabel('X',fontsize = FONT_SIZE)\n",
    "    ax.set_ylabel('Y',fontsize = FONT_SIZE)\n",
    "    ax.grid(True)\n",
    "    ax.tick_params(axis='both', which='both', labelsize = FONT_SIZE)\n",
    "    ax.margins(0.05)\n",
    "    ax.legend(fontsize = FONT_SIZE)\n",
    "\n",
    "plt.subplots_adjust(left=0.1, bottom=0.1, right=0.9, top=0.9, wspace=0.15, hspace=0.2)\n",
    "\n",
    "#if not os.path.exists(PATH_SAVE_RESULT):\n",
    "#    os.makedirs(PATH_SAVE_RESULT)\n",
    "    \n",
    "#plt.savefig(f'{PATH_SAVE_RESULT}/{name}.jpeg', bbox_inches='tight')\n",
    "plt.show()'''"
   ]
  }
 ],
 "metadata": {
  "kernelspec": {
   "display_name": "Python 3 (ipykernel)",
   "language": "python",
   "name": "python3"
  },
  "language_info": {
   "codemirror_mode": {
    "name": "ipython",
    "version": 3
   },
   "file_extension": ".py",
   "mimetype": "text/x-python",
   "name": "python",
   "nbconvert_exporter": "python",
   "pygments_lexer": "ipython3",
   "version": "3.11.8"
  }
 },
 "nbformat": 4,
 "nbformat_minor": 5
}
