{
 "cells": [
  {
   "cell_type": "code",
   "execution_count": null,
   "id": "fde58157-7750-45b9-a343-b46e3c74b5b4",
   "metadata": {
    "tags": []
   },
   "outputs": [],
   "source": [
    "# dependencies import\n",
    "\n",
    "#common\n",
    "import os\n",
    "import re\n",
    "import time\n",
    "import pathlib\n",
    "import itertools\n",
    "import numpy as np\n",
    "import pandas as pd\n",
    "import seaborn as sns\n",
    "import matplotlib.pyplot as plt\n",
    "from pprint import pprint\n",
    "from matplotlib.patches import Rectangle\n",
    "from matplotlib.axes import Axes\n",
    "\n",
    "# ML\n",
    "from tensorboard.plugins.hparams import api as hp\n",
    "import tensorflow as tf\n",
    "import tensorflow.keras.backend as K\n",
    "from tensorflow import keras\n",
    "from tensorflow.keras import layers\n",
    "from tensorflow.keras.layers import (\n",
    "    Input, Conv2D, MaxPooling2D, Dropout,\n",
    "    concatenate, Flatten, Dense, UpSampling2D,\n",
    "    BatchNormalization\n",
    ")\n",
    "\n",
    "# my\n",
    "from create_logger import *\n",
    "import custom_modules as dw\n",
    "import models\n",
    "\n",
    "logger = logging.getLogger(f'main.ae_test')"
   ]
  },
  {
   "cell_type": "markdown",
   "id": "a8287538-5213-4ade-bd6a-bd60ba37d306",
   "metadata": {},
   "source": [
    "# Настраиваемые параметры"
   ]
  },
  {
   "cell_type": "code",
   "execution_count": null,
   "id": "57cd8f23-5008-4e50-8a5c-e088d80c34b7",
   "metadata": {},
   "outputs": [],
   "source": [
    "PATH_TO_MODEL = pathlib.Path(f'test/AE') # где искать модель\n",
    "MODEL_VER = 1\n",
    "MODEL_NUM = 1\n",
    "ENCODED_SIZE = 8\n",
    "DECODED_SIZE = 32\n",
    "XSHIFT = 200 # сдвиг по оси х для визуализации"
   ]
  },
  {
   "cell_type": "markdown",
   "id": "b76437c7-ce05-4b8f-aba8-d92e5c45565c",
   "metadata": {},
   "source": [
    "# Вспомогатеьлные функции"
   ]
  },
  {
   "cell_type": "code",
   "execution_count": null,
   "id": "91757998-28e5-4fd7-bee4-6e2b06ab1f70",
   "metadata": {},
   "outputs": [],
   "source": [
    "def draw_plot(data: list[dict], title = 'Результат одного замера УЗ-датчика', x_label='Время', y_label='Амплитуда', fontsize = 25, path_to_save = None):\n",
    "    \"\"\"\n",
    "    Нарисовать график\n",
    "\n",
    "    Параметры\n",
    "    ----------\n",
    "    data: list[dict]\n",
    "        Список словарей. Каждый словарь хранит\n",
    "        данные и все мараметры для рисования конкретного графика.\n",
    "        Все графики будут нарисованы на 1 полотне. 'data' параметр обязателен в \n",
    "        каждом словаре. Он хранит список из 1 или 2 массивов - это x и y для \n",
    "\n",
    "    Пример: \n",
    "    time = [1,2,3,4,5]\n",
    "    amp = [4,-4,5,-5,6]\n",
    "    draw_plot([{'data':[time, amp], 'marker':'o', 'lw':3, 'label':'Исходные данные', 'ms':10, 'mfc':'black'}])\n",
    "    Все ключевые слова взяты из функции plt.plot()\n",
    "\n",
    "    plt.plot()\n",
    "    Если указать в словаре только 'data' параметр без остальных, то оформление будет сделано автоматом\n",
    "\n",
    "    \"\"\"\n",
    "    fig, ax = plt.subplots()\n",
    "    fig.set_figwidth(18)\n",
    "    fig.set_figheight(10)\n",
    "    \n",
    "    fig.set_facecolor('#37474f')\n",
    "    ax.set_facecolor('black')\n",
    "\n",
    "\n",
    "    for item in data:\n",
    "        if not 'data' in item:\n",
    "            raise ValueError('Каждый словарь должен содержать ключ \"data\"')\n",
    "        if list(item.keys()) == ['data']:\n",
    "            ax.plot(*item['data'], marker='o', lw=3, label='Исходные данные', ms=10, mfc='black')\n",
    "        else:\n",
    "            ax.plot(*item['data'], **item)\n",
    "    \n",
    "\n",
    "    fig.suptitle(title, fontsize=fontsize+5, c='#cacaca')\n",
    "    ax.legend(fontsize = fontsize, labelcolor='#cacaca', facecolor='black')\n",
    "    ax.set_xlabel(x_label, fontsize=fontsize, c='#cacaca')\n",
    "    ax.set_ylabel(y_label, fontsize=fontsize, c='#cacaca')\n",
    "    \n",
    "    ax.tick_params(axis='both', labelsize = fontsize)\n",
    "    ax.grid(True, which='major', axis='both', lw=1.5)\n",
    "    ax.grid(True, which='minor', axis='both', ls='--')\n",
    "    \n",
    "    ax.minorticks_on()\n",
    "    \n",
    "    ax.tick_params(axis = 'both', which = 'major', length = 8, width = 4, colors='#cacaca')\n",
    "    ax.tick_params(axis = 'both', which = 'minor', length = 4, width = 2, labelleft=True, colors='#cacaca', labelsize=fontsize-8)\n",
    "    \n",
    "    #ax.xaxis.set_minor_locator(MultipleLocator(0.05))\n",
    "    #ax.yaxis.set_minor_locator(MultipleLocator(0.05))\n",
    "    #ax.xaxis.set_minor_formatter(FormatStrFormatter(\"%.3f\"))\n",
    "    #ax.yaxis.set_minor_formatter(FormatStrFormatter(\"%.3f\"))\n",
    "    \n",
    "    ax.set_facecolor\n",
    "    #plt.subplots_adjust(left=0.1, bottom=0.1, right=0.9, top=0.9, wspace=0.1, hspace=0.1)\n",
    "    if not path_to_save is None:\n",
    "        plt.savefig(path_to_save, bbox_inches='tight')\n",
    "    plt.tight_layout()\n",
    "    plt.show()\n",
    "    plt.close()"
   ]
  },
  {
   "cell_type": "markdown",
   "id": "e9fe4a33-b6cc-4237-91f1-4e2995f4437b",
   "metadata": {},
   "source": [
    "# Загрузка модели для тестирования"
   ]
  },
  {
   "cell_type": "markdown",
   "id": "1fb4d759-e5ec-4d23-833b-e0b7f86c328c",
   "metadata": {},
   "source": [
    "## Поиск модели по идентификатору"
   ]
  },
  {
   "cell_type": "code",
   "execution_count": null,
   "id": "efffbbfc-0d72-4c7e-9c84-b76d63d477fa",
   "metadata": {
    "scrolled": true
   },
   "outputs": [],
   "source": [
    "# какую модель взять\n",
    "PATH_TO_MODEL = list(PATH_TO_MODEL.rglob(f'*id=v{MODEL_VER:04}n{MODEL_NUM:04}_in({DECODED_SIZE})_hid({ENCODED_SIZE})*.keras'))\n",
    "\n",
    "if len(PATH_TO_MODEL) != 1:\n",
    "    print(PATH_TO_MODEL)\n",
    "    raise ValueError('Few or none model have been found instead of one')\n",
    "else:\n",
    "    PATH_TO_MODEL = PATH_TO_MODEL[0]\n",
    "\n",
    "print(f'{PATH_TO_MODEL=}')\n",
    "PATH_TO_SAVE_IMAGES = PATH_TO_MODEL.parent/'images'/f'id=v{MODEL_VER:04}n{MODEL_NUM:04}_in({DECODED_SIZE})_hid({ENCODED_SIZE})'\n",
    "print(f'{PATH_TO_SAVE_IMAGES=}')"
   ]
  },
  {
   "cell_type": "markdown",
   "id": "5e54468c-ede8-4909-9759-6f494408d078",
   "metadata": {},
   "source": [
    "### Загрузка модели"
   ]
  },
  {
   "cell_type": "code",
   "execution_count": null,
   "id": "004e8555-950d-4d97-ba17-e1648e96e1d9",
   "metadata": {
    "scrolled": true
   },
   "outputs": [],
   "source": [
    "# Загрузка модели\n",
    "model = keras.models.load_model(PATH_TO_MODEL)\n",
    "\n",
    "if not os.path.exists(PATH_TO_SAVE_IMAGES):\n",
    "    os.makedirs(PATH_TO_SAVE_IMAGES)\n",
    "\n",
    "print(model.summary())\n",
    "tf.keras.utils.plot_model(\n",
    "    model,\n",
    "    to_file=PATH_TO_SAVE_IMAGES/'model.jpg',\n",
    "    show_shapes=True,\n",
    "    show_dtype=False,\n",
    "    show_layer_names=True,\n",
    "    rankdir=\"TB\",\n",
    "    expand_nested=False,\n",
    "    dpi=200,\n",
    "    show_layer_activations=True,\n",
    "    show_trainable=True,\n",
    ")"
   ]
  },
  {
   "cell_type": "markdown",
   "id": "1aa3ad74-9029-4f6b-abe8-e7a4cc62f7d9",
   "metadata": {},
   "source": [
    "# Загрузка данных для тестирования"
   ]
  },
  {
   "cell_type": "code",
   "execution_count": null,
   "id": "8bf461c0-86ef-4815-a965-1e766c1f33b8",
   "metadata": {
    "editable": true,
    "slideshow": {
     "slide_type": ""
    },
    "tags": []
   },
   "outputs": [],
   "source": [
    "df = dw.get_data_df('data/original_data')\n",
    "\n",
    "# добавления данных перемножения времен и амплитуд\n",
    "df = dw.cast_df_to_2d(df)\n",
    "for i, ((_, time), (_, amp)) in enumerate(zip(df['Time'].items(), df['Amplitude'].items())):\n",
    "    df['Time_x_Amplitude', i] = time * amp\n",
    "\n",
    "df['BinDefect', 0] = df['DefectDepth', 0].map(lambda x: x>0) # бинарное значение - есть дефект или нет. True - есть дефект\n",
    "\n",
    "# скалирование\n",
    "dfs_list = []\n",
    "for name, part in df.groupby(level=0, axis=1):\n",
    "    temp_arr = dw.standardize_data(part.to_numpy())\n",
    "    dfs_list.append(pd.DataFrame(data=temp_arr, index=part.index, columns=part.columns))\n",
    "df = pd.concat(dfs_list, axis=1)\n",
    "display(df)"
   ]
  },
  {
   "cell_type": "markdown",
   "id": "478b0239-ad6b-481d-b32a-38efced713f8",
   "metadata": {},
   "source": [
    "# Анализ качетсва кодирования и декодирования"
   ]
  },
  {
   "cell_type": "markdown",
   "id": "5168b37f-7d0d-423c-9eae-58c113db2fa0",
   "metadata": {},
   "source": [
    "## Кодирование и декодирование данных"
   ]
  },
  {
   "cell_type": "code",
   "execution_count": null,
   "id": "b25eac6f-75f9-499d-b043-ce83f51fd217",
   "metadata": {},
   "outputs": [],
   "source": [
    "# запись результатов декодирования\n",
    "arr =  model.predict(df['Time_x_Amplitude'].to_numpy(), verbose=0)\n",
    "temp_df = pd.DataFrame(data=arr, index=df.index, columns=pd.MultiIndex.from_product([['decoded_Time_x_Amplitude'], np.arange(DECODED_SIZE)], names=df.columns.names))\n",
    "df = pd.concat([df, temp_df], axis=1)\n",
    "\n",
    "# запись результатов кодирования\n",
    "model = keras.Model(inputs=model.input, outputs=min([layer.output for layer in model.layers], key=lambda x: x.shape[1]))\n",
    "arr =  model.predict(df['Time_x_Amplitude'].to_numpy(), verbose=0)\n",
    "temp_df = pd.DataFrame(data=arr, index=df.index, columns=pd.MultiIndex.from_product([['encoded_Time_x_Amplitude'], np.arange(ENCODED_SIZE)], names=df.columns.names))\n",
    "df = pd.concat([df, temp_df], axis=1)\n",
    "\n",
    "# запись значения mean squarred error для каждого наблюдения\n",
    "or_arr = df['Time_x_Amplitude'].to_numpy()\n",
    "pred_arr = df['decoded_Time_x_Amplitude'].to_numpy()\n",
    "mse_list = []\n",
    "for orig, pred in zip(or_arr, pred_arr):\n",
    "    mse_list.append(float(keras.losses.MeanSquaredError()(orig, pred)))\n",
    "df['mse',0] = mse_list\n",
    "display(df)"
   ]
  },
  {
   "cell_type": "markdown",
   "id": "adfb06b8-d540-41df-b5e1-486e7b4a437f",
   "metadata": {},
   "source": [
    "## Вывести примеры кодирования и декодирования графиков"
   ]
  },
  {
   "cell_type": "code",
   "execution_count": null,
   "id": "f5e55bad-8710-4afb-9525-f27c21304905",
   "metadata": {
    "scrolled": true
   },
   "outputs": [],
   "source": [
    "# example of autoencode nondef graphs\n",
    "\n",
    "COUNT = 5 # графиков одного типа (дефектного или недефектного)\n",
    "\n",
    "for i in range(COUNT):\n",
    "    for binn in [False, True]:\n",
    "        path_to_save = f'{PATH_TO_SAVE_IMAGES}/{\"defect\" if binn else \"non_defect\"}'\n",
    "        orig = df[df['BinDefect',0]==binn]['Time_x_Amplitude'].iloc[i]\n",
    "        decoded = df[df['BinDefect',0]==binn]['decoded_Time_x_Amplitude'].iloc[i]\n",
    "        \n",
    "        draw_plot(data=[{'data': [orig], 'label':'Оригинальные данные', 'marker':'o', 'lw':3, 'ms':10, 'mfc':'black'}, \n",
    "                        {'data': [decoded], 'label':'Декодированные данные', 'marker':'o', 'lw':3, 'ms':10, 'mfc':'black'}], \n",
    "                        title=f\"Качество декодирования из {ENCODED_SIZE} в {DECODED_SIZE} для {'дефектной' if binn else 'не дефектной'} области. Строка: {orig.name}\",\n",
    "                        y_label='Время * Амплитуда', x_label='Номер точки', path_to_save=PATH_TO_SAVE_IMAGES/f'plot_(run={orig.name[0]},scan={orig.name[1]},detector={orig.name[2]},defect={binn}).jpg')"
   ]
  },
  {
   "cell_type": "markdown",
   "id": "1aeb1e9d-2cee-443b-8188-11341edca2bd",
   "metadata": {},
   "source": [
    "## Вывести распределение размеров функции ошибки для наблюдений"
   ]
  },
  {
   "cell_type": "code",
   "execution_count": null,
   "id": "7319d5d0-fb0a-426d-ade5-7853a878449f",
   "metadata": {},
   "outputs": [],
   "source": [
    "sns.histplot(df['mse'].reset_index().rename(columns={0:'Mse'}), x='Mse', hue='File', bins=20, alpha=0.5)\n",
    "plt.savefig(PATH_TO_SAVE_IMAGES/'loss_hist.jpg', bbox_inches='tight')\n",
    "plt.close()"
   ]
  },
  {
   "cell_type": "code",
   "execution_count": null,
   "id": "18e158ac-7b08-488f-8a1e-c713fb1c7d41",
   "metadata": {},
   "outputs": [],
   "source": [
    "df['encoded_Time_x_Amplitude'].hist()\n",
    "plt.subplots_adjust(left=0.1, bottom=0.1, right=0.9, top=0.96, wspace=0.2, hspace=0.25)\n",
    "plt.tight_layout()\n",
    "plt.show()\n",
    "plt.savefig(PATH_TO_SAVE_IMAGES/'hidden_state_distributions.jpg', bbox_inches='tight')\n",
    "plt.close()"
   ]
  }
 ],
 "metadata": {
  "kernelspec": {
   "display_name": "Python 3 (ipykernel)",
   "language": "python",
   "name": "python3"
  },
  "language_info": {
   "codemirror_mode": {
    "name": "ipython",
    "version": 3
   },
   "file_extension": ".py",
   "mimetype": "text/x-python",
   "name": "python",
   "nbconvert_exporter": "python",
   "pygments_lexer": "ipython3",
   "version": "3.10.13"
  }
 },
 "nbformat": 4,
 "nbformat_minor": 5
}
