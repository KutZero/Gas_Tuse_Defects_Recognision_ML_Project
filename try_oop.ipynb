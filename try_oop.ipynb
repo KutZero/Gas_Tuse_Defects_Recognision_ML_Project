{
 "cells": [
  {
   "cell_type": "code",
   "execution_count": 1,
   "id": "1adcf025-dc90-4ce3-b919-8151ef510441",
   "metadata": {
    "execution": {
     "iopub.execute_input": "2024-01-04T07:52:23.115707Z",
     "iopub.status.busy": "2024-01-04T07:52:23.114825Z",
     "iopub.status.idle": "2024-01-04T07:52:23.182829Z",
     "shell.execute_reply": "2024-01-04T07:52:23.178264Z",
     "shell.execute_reply.started": "2024-01-04T07:52:23.115618Z"
    },
    "jupyter": {
     "source_hidden": true
    }
   },
   "outputs": [
    {
     "data": {
      "text/plain": [
       "\"import psycopg2\\n\\nclass DataBase:\\n\\n    __instance = None\\n\\n    def __new__(cls, *args, **kwargs):\\n        if cls.__instance is None:\\n            cls.__instance = super().__new__(cls)\\n        return cls.__instance\\n    \\n    def __init__(self, db_name = 'network_db', \\n                        pg_host = 'postgres_database',\\n                        sql_user = 'postgres',\\n                        sql_pwd = '12345',\\n                        port = '5432'):\\n        self.db_name = db_name\\n        self.pg_host = pg_host\\n        self.sql_user = sql_user\\n        self.sql_pwd = sql_pwd\\n        self.port = port\\n        \\n    def connect(self):\\n        self.conn = psycopg2.connect(\\n                                database=self.db_name,\\n                                host=self.pg_host,\\n                                user=self.sql_user,\\n                                password=self.sql_pwd,\\n                                port=self.port)\\n\\n    def sendQuery(self, query_temp, *args):\\n        with self.conn.cursor() as cursor:\\n            cursor.execute(query_temp, args)\\n\\n        self.conn.commit()\\n        \\n    \\n    def close(self):\\n        conn.close()\\n\\n    def __del__(self):\\n        DataBase.__instance = None\""
      ]
     },
     "execution_count": 1,
     "metadata": {},
     "output_type": "execute_result"
    }
   ],
   "source": [
    "'''import psycopg2\n",
    "\n",
    "class DataBase:\n",
    "\n",
    "    __instance = None\n",
    "\n",
    "    def __new__(cls, *args, **kwargs):\n",
    "        if cls.__instance is None:\n",
    "            cls.__instance = super().__new__(cls)\n",
    "        return cls.__instance\n",
    "    \n",
    "    def __init__(self, db_name = 'network_db', \n",
    "                        pg_host = 'postgres_database',\n",
    "                        sql_user = 'postgres',\n",
    "                        sql_pwd = '12345',\n",
    "                        port = '5432'):\n",
    "        self.db_name = db_name\n",
    "        self.pg_host = pg_host\n",
    "        self.sql_user = sql_user\n",
    "        self.sql_pwd = sql_pwd\n",
    "        self.port = port\n",
    "        \n",
    "    def connect(self):\n",
    "        self.conn = psycopg2.connect(\n",
    "                                database=self.db_name,\n",
    "                                host=self.pg_host,\n",
    "                                user=self.sql_user,\n",
    "                                password=self.sql_pwd,\n",
    "                                port=self.port)\n",
    "\n",
    "    def sendQuery(self, query_temp, *args):\n",
    "        with self.conn.cursor() as cursor:\n",
    "            cursor.execute(query_temp, args)\n",
    "\n",
    "        self.conn.commit()\n",
    "        \n",
    "    \n",
    "    def close(self):\n",
    "        conn.close()\n",
    "\n",
    "    def __del__(self):\n",
    "        DataBase.__instance = None'''\n",
    "        "
   ]
  },
  {
   "cell_type": "code",
   "execution_count": 2,
   "id": "41ba38f3-99e8-46e5-935c-48340c5aeb58",
   "metadata": {
    "execution": {
     "iopub.execute_input": "2024-01-04T07:52:23.186230Z",
     "iopub.status.busy": "2024-01-04T07:52:23.185415Z",
     "iopub.status.idle": "2024-01-04T07:52:23.233531Z",
     "shell.execute_reply": "2024-01-04T07:52:23.230319Z",
     "shell.execute_reply.started": "2024-01-04T07:52:23.186157Z"
    }
   },
   "outputs": [
    {
     "data": {
      "text/plain": [
       "\"import os\\nimport re\\nimport sys\\nimport pandas as pd\\nimport numpy as np\\nfrom IPython.display import display\\nimport matplotlib.pyplot as plt\\n\\nimport custom_modules.PipeData as pidf\\n\\n# paths for files with original data\\nrun_1 = ('data/Original data/Run1/run1_WM32_data.csv',\\n        'data/Original data/Run1/run1_WM32_defects.csv',\\n        'data/Original data/Run1/run1_WM32_pipe.csv')\\n \\nrun_2 = ('data/Original data/Run2/run2_WM32_data.csv',\\n        'data/Original data/Run2/run2_WM32_defects.csv',\\n        'data/Original data/Run2/run2_WM32_pipe.csv')\\n\\ntest_1 = pidf.PipeDataCsvWorker(*run_1)\\ntest_1.extend_dfs_for_crops_dividing(crop_size=64, crop_step=6)\\ntest_1.draw_defects_map()\\ntest_1.reset_dfs_to_original()\\ntest_1.draw_defects_map()\\ntest_1.extend_dfs_for_crops_dividing(crop_size=64, crop_step=6)\\ntest_1.roll_dfs_along_axis(axis=0,shift=50)\\ntest_1.roll_dfs_along_axis(axis=1,shift=50)\\ntest_1.draw_defects_map()\""
      ]
     },
     "execution_count": 2,
     "metadata": {},
     "output_type": "execute_result"
    }
   ],
   "source": [
    "# dependencies import\n",
    "from common_dependencies import *\n",
    "\n",
    "# paths for files with original data\n",
    "run_1 = ('data/Original data/Run1/run1_WM32_data.csv',\n",
    "        'data/Original data/Run1/run1_WM32_defects.csv',\n",
    "        'data/Original data/Run1/run1_WM32_pipe.csv')\n",
    " \n",
    "run_2 = ('data/Original data/Run2/run2_WM32_data.csv',\n",
    "        'data/Original data/Run2/run2_WM32_defects.csv',\n",
    "        'data/Original data/Run2/run2_WM32_pipe.csv')\n",
    "\n",
    "test_1 = pidf.PipeDataCsvWorker(*run_1)\n",
    "#test_1.extend_dfs_for_crops_dividing(crop_size=64, crop_step=6)\n",
    "test_1.draw_defects_map()\n",
    "#test_1.reset_dfs_to_original()\n",
    "#test_1.draw_defects_map()\n",
    "#test_1.extend_dfs_for_crops_dividing(crop_size=64, crop_step=6)\n",
    "#test_1.roll_dfs_along_axis(axis=0,shift=50)\n",
    "#test_1.roll_dfs_along_axis(axis=1,shift=50)\n",
    "#test_1.draw_defects_map()"
   ]
  },
  {
   "cell_type": "code",
   "execution_count": null,
   "id": "eea10421-94c5-4343-9df2-004546475fac",
   "metadata": {},
   "outputs": [],
   "source": []
  }
 ],
 "metadata": {
  "kernelspec": {
   "display_name": "Python 3 (ipykernel)",
   "language": "python",
   "name": "python3"
  },
  "language_info": {
   "codemirror_mode": {
    "name": "ipython",
    "version": 3
   },
   "file_extension": ".py",
   "mimetype": "text/x-python",
   "name": "python",
   "nbconvert_exporter": "python",
   "pygments_lexer": "ipython3",
   "version": "3.10.13"
  }
 },
 "nbformat": 4,
 "nbformat_minor": 5
}
