{
 "cells": [
  {
   "cell_type": "code",
   "execution_count": null,
   "id": "fde58157-7750-45b9-a343-b46e3c74b5b4",
   "metadata": {},
   "outputs": [],
   "source": [
    "# dependencies import\n",
    "from common_dependencies import *\n",
    "from train_dependencies import *"
   ]
  },
  {
   "cell_type": "code",
   "execution_count": null,
   "id": "8bf461c0-86ef-4815-a965-1e766c1f33b8",
   "metadata": {},
   "outputs": [],
   "source": [
    "# paths for files with original data\n",
    "PATH_TO_DATA = {\n",
    "    'run_1': \n",
    "        ('data/original_data/run_1/run1_WM32_data.csv',\n",
    "        'data/original_data/run_1/run1_WM32_defects.csv',\n",
    "        'data/original_data/run_1/run1_WM32_pipe.csv'),\n",
    "    'run_2':\n",
    "        ('data/original_data/run_2/run2_WM32_data.csv',\n",
    "        'data/original_data/run_2/run2_WM32_defects.csv',\n",
    "        'data/original_data/run_2/run2_WM32_pipe.csv')\n",
    "}\n",
    "\n",
    "CROP_SIZE = 16\n",
    "CROP_STEP = 2\n",
    "PART_OF_DATA = 200\n",
    "\n",
    "# детерминация случайных величин, отвечающих за выбор первоначальных весов и биасов\n",
    "tf.compat.v1.set_random_seed(290)\n",
    "tf.random.set_seed(290)\n",
    "np.random.seed(290)"
   ]
  },
  {
   "cell_type": "code",
   "execution_count": null,
   "id": "963b2168-3d4e-44e0-a7e4-fd8c34789977",
   "metadata": {
    "scrolled": true
   },
   "outputs": [],
   "source": [
    "data = {}\n",
    "x_df, y_df = dw.get_x_and_y_data(*PATH_TO_DATA['run_1'])\n",
    "data['run_1'] = {'x_df': x_df.iloc[:50,:], 'y_df': y_df.iloc[:50,:]}\n",
    "\n",
    "#x_df, y_df = dw.get_x_and_y_data(*PATH_TO_DATA['run_2'])\n",
    "#data['run_2'] = {'x_df': x_df, 'y_df': y_df}"
   ]
  },
  {
   "cell_type": "code",
   "execution_count": null,
   "id": "63178a86-10e3-4eaf-b5af-4da3c846c44e",
   "metadata": {},
   "outputs": [],
   "source": [
    "for run, value in data.items():\n",
    "    dw.draw_defects_map(value['y_df'], title=f'Считанная развернутая карта дефектов для {run}')\n",
    "    #dw.draw_zeros_quantity_in_data_df(value['x_df'], \n",
    "    #                                  title=f'Кол-во 0 значений в считанном датафрейме из данных детекторов для {run}')"
   ]
  },
  {
   "cell_type": "code",
   "execution_count": null,
   "id": "113dcc83-09aa-4712-8003-83686040647e",
   "metadata": {
    "jupyter": {
     "source_hidden": true
    }
   },
   "outputs": [],
   "source": [
    "# Take the first left half of each file as train and val dataset\n",
    "#for run, value in data.items():\n",
    "#    print('/'*8, run,'/'*8)\n",
    "#    for data_part_name, data_part in value.items():\n",
    "#        print(f'{data_part_name} original shape: {value[data_part_name].shape}', end=' -> ')\n",
    "#        value[data_part_name] = value[data_part_name].iloc[:,:PART_OF_DATA]\n",
    "#        print(f'sliced shape: {value[data_part_name].shape}')\n",
    "#    print()\n",
    "\n",
    "#print(f\"run_1.x_df original shape: {data['run_1']['x_df'].shape}\")\n",
    "#print(f\"run_1.y_df original shape: {data['run_1']['y_df'].shape}\")\n",
    "#data['run_1']['x_df'] = data['run_1']['x_df'].iloc[:,:PART_OF_DATA]\n",
    "#data['run_1']['y_df'] = data['run_1']['y_df'].iloc[:,:PART_OF_DATA]\n",
    "#print(f\"run_1.x_df sliced shape: {data['run_1']['x_df'].shape}\")\n",
    "#print(f\"run_1.y_df sliced shape: {data['run_1']['y_df'].shape}\")\n",
    "\n",
    "#print()\n",
    "\n",
    "#print(f\"run_2.x_df original shape: {data['run_2']['x_df'].shape}\")\n",
    "#print(f\"run_2.y_df original shape: {data['run_2']['y_df'].shape}\")\n",
    "#data['run_2']['x_df'] = data['run_2']['x_df'].iloc[:,-PART_OF_DATA:]\n",
    "#data['run_2']['y_df'] = data['run_2']['y_df'].iloc[:,-PART_OF_DATA:]\n",
    "#print(f\"run_2.x_df sliced shape: {data['run_2']['x_df'].shape}\")\n",
    "#print(f\"run_2.y_df sliced shape: {data['run_2']['y_df'].shape}\")"
   ]
  },
  {
   "cell_type": "code",
   "execution_count": null,
   "id": "691d2d3e-f789-4185-8bd5-3d92d4cbd000",
   "metadata": {
    "scrolled": true
   },
   "outputs": [],
   "source": [
    "# extend dfs for better prediction and for crops dividing\n",
    "for run, value in data.items():\n",
    "    print('/'*8, run,'/'*8)\n",
    "    for data_part_name, data_part in value.items():\n",
    "        print(data_part_name)\n",
    "        #value[data_part_name] = extend_df_for_prediction(value[data_part_name], \n",
    "        #                                                        crop_size=CROP_SIZE, crop_step=CROP_STEP)\n",
    "        value[data_part_name] = dw.extend_df_for_crops_dividing(value[data_part_name], \n",
    "                                                                crop_size=CROP_SIZE, \n",
    "                                                                crop_step=CROP_STEP)\n",
    "    print()"
   ]
  },
  {
   "cell_type": "code",
   "execution_count": null,
   "id": "df5a197d-9fa6-4c59-887a-e5b0eefe11be",
   "metadata": {},
   "outputs": [],
   "source": [
    "for run, value in data.items():\n",
    "    dw.draw_defects_map(value['y_df'], title=f'Расширенная развернутая карта дефектов для {run}')"
   ]
  },
  {
   "cell_type": "code",
   "execution_count": null,
   "id": "9a83c119-98e6-4bdc-9a0b-cffa81ea4172",
   "metadata": {
    "scrolled": true
   },
   "outputs": [],
   "source": [
    "# преобразовать данные к виду (измерение, размер х, размер у, каналы)\n",
    "# для x_data_time каналы = 32\n",
    "# для x_data_amp каналы = 32\n",
    "# для y_data каналы = 1\n",
    "for run, value in data.items():\n",
    "    print('/'*8, run,'/'*8)\n",
    "    (x_data_time,\n",
    "    x_data_amp) = dw.reshape_x_df_to_image_like_numpy(value['x_df'], CROP_SIZE, CROP_STEP)\n",
    "    value['time_arr'] = x_data_time\n",
    "    value['amp_arr'] = x_data_amp\n",
    "    y_data = dw.reshape_y_df_to_image_like_numpy(value['y_df'], CROP_SIZE, CROP_STEP)\n",
    "    value['mask_arr'] = y_data\n",
    "    del value['x_df']\n",
    "    del value['y_df']"
   ]
  },
  {
   "cell_type": "code",
   "execution_count": null,
   "id": "8e63ee8d-8f53-4c7f-9536-e54862286559",
   "metadata": {
    "scrolled": true
   },
   "outputs": [],
   "source": [
    "# нормализовать входные данные\n",
    "for run, value in data.items():\n",
    "    print('/'*8, run,'/'*8)\n",
    "    value['time_arr'] = dw.standartize_data(value['time_arr'])\n",
    "    value['amp_arr'] = dw.standartize_data(value['amp_arr'])"
   ]
  },
  {
   "cell_type": "code",
   "execution_count": null,
   "id": "05726d77-865d-4bed-9ce6-a0ed614f5ff2",
   "metadata": {
    "scrolled": true
   },
   "outputs": [],
   "source": [
    "# Поделить кропы на дефектные и нет\n",
    "for run, value in data.items():\n",
    "    print('/'*8, run,'/'*8)\n",
    "    (x_time_def, x_time_non_def), \\\n",
    "    (x_amp_def, x_amp_non_def), \\\n",
    "    (y_mask_def, y_mask_non_def) = dw.split_def_and_non_def_data(value['time_arr'], \n",
    "                                                                 value['amp_arr'], \n",
    "                                                                 value['mask_arr'], CROP_SIZE)\n",
    "    value['def_time_arr'] = x_time_def\n",
    "    value['non_def_time_arr'] = x_time_non_def\n",
    "    \n",
    "    value['def_amp_arr'] = x_amp_def\n",
    "    value['non_def_amp_arr'] = x_amp_non_def\n",
    "    \n",
    "    value['def_mask_arr'] = y_mask_def\n",
    "    value['non_def_mask_arr'] = y_mask_non_def\n",
    "    \n",
    "    del value['time_arr']\n",
    "    del value['amp_arr']\n",
    "    del value['mask_arr']"
   ]
  },
  {
   "cell_type": "code",
   "execution_count": null,
   "id": "2353e8bf-ac8c-4ceb-bab6-75065e015336",
   "metadata": {},
   "outputs": [],
   "source": [
    "# take only certain part of non_defect data\n",
    "'''for run, value in data.items():\n",
    "    print('/'*8, run,'/'*8)\n",
    "    shuffled_indices = np.random.permutation(value['non_def_time_arr'].shape[0])\n",
    "    shuffled_indices = shuffled_indices[:value['def_time_arr'].shape[0]*2]\n",
    "    \n",
    "    value['non_def_time_arr'] = value['non_def_time_arr'][shuffled_indices]\n",
    "    value['non_def_amp_arr'] = value['non_def_amp_arr'][shuffled_indices]\n",
    "    value['non_def_mask_arr'] = value['non_def_mask_arr'][shuffled_indices]\n",
    "\n",
    "    for data_part_name, data_part in value.items():\n",
    "        print(f'{data_part_name}: {data_part.shape}')\n",
    "    print()'''"
   ]
  },
  {
   "cell_type": "code",
   "execution_count": null,
   "id": "76ee1629-140b-4031-802c-1a025bf7400b",
   "metadata": {
    "scrolled": true
   },
   "outputs": [],
   "source": [
    "# Аугментировать данные\n",
    "for run, value in data.items():\n",
    "    print('/'*8, run,'/'*8)\n",
    "    for data_part_name, data_part in value.items():\n",
    "        print(data_part_name)\n",
    "        value[data_part_name] = dw.augment_data(value[data_part_name])  "
   ]
  },
  {
   "cell_type": "code",
   "execution_count": null,
   "id": "2eb09859-08a0-4a67-9e71-0cb1562b3664",
   "metadata": {},
   "outputs": [],
   "source": [
    "# создание выходных данных бинарного вида (одномерный массив типа bool)\n",
    "for run, value in data.items():\n",
    "    print('/'*8, run,'/'*8)\n",
    "    value['def_binary_arr'] = dw.create_binary_arr_from_mask_arr(value['def_mask_arr'])\n",
    "    value['non_def_binary_arr'] = dw.create_binary_arr_from_mask_arr(value['non_def_mask_arr'])\n",
    "    del value['def_mask_arr']\n",
    "    del value['non_def_mask_arr']"
   ]
  },
  {
   "cell_type": "code",
   "execution_count": null,
   "id": "c61e63e0-dce1-4b67-892b-04eab77b7d05",
   "metadata": {
    "scrolled": true
   },
   "outputs": [],
   "source": [
    "# деление на тренировочную и валидационную выборки\n",
    "\n",
    "val_data_percent = 0.2\n",
    "\n",
    "X_time_train, X_time_val = dw.split_data_to_train_val_datasets([data['run_1']['def_time_arr'],\n",
    "                                                                data['run_1']['non_def_time_arr']],\n",
    "                                                                val_data_percent)\n",
    "del data['run_1']['def_time_arr']\n",
    "del data['run_1']['non_def_time_arr']\n",
    "#del data['run_2']['def_time_arr']\n",
    "#del data['run_2']['non_def_time_arr']\n",
    "\n",
    "X_amp_train, X_amp_val = dw.split_data_to_train_val_datasets([data['run_1']['def_amp_arr'],\n",
    "                                                              data['run_1']['non_def_amp_arr']],\n",
    "                                                              val_data_percent)\n",
    "del data['run_1']['def_amp_arr']\n",
    "del data['run_1']['non_def_amp_arr']\n",
    "#del data['run_2']['def_amp_arr']\n",
    "#del data['run_2']['non_def_amp_arr']\n",
    "\n",
    "Y_binary_train, Y_binary_val = dw.split_data_to_train_val_datasets([data['run_1']['def_binary_arr'],\n",
    "                                                                   data['run_1']['non_def_binary_arr']],\n",
    "                                                                   val_data_percent)\n",
    "del data['run_1']['def_binary_arr']\n",
    "del data['run_1']['non_def_binary_arr']\n",
    "#del data['run_2']['def_binary_arr']\n",
    "#del data['run_2']['non_def_binary_arr']\n",
    "data = None"
   ]
  },
  {
   "cell_type": "code",
   "execution_count": null,
   "id": "12801887-506c-45a2-b1bb-6c4b5495756f",
   "metadata": {},
   "outputs": [],
   "source": [
    "# перемешивание данных\n",
    "train_shuffled_indices = np.random.permutation(X_time_train.shape[0])\n",
    "val_shuffled_indices = np.random.permutation(X_time_val.shape[0])\n",
    "\n",
    "X_time_train = X_time_train[train_shuffled_indices]\n",
    "X_amp_train = X_amp_train[train_shuffled_indices]\n",
    "Y_binary_train = Y_binary_train[train_shuffled_indices]\n",
    "\n",
    "X_time_val = X_time_val[val_shuffled_indices]\n",
    "X_amp_val = X_amp_val[val_shuffled_indices]\n",
    "Y_binary_val = Y_binary_val[val_shuffled_indices]"
   ]
  },
  {
   "cell_type": "code",
   "execution_count": null,
   "id": "117285bc-2044-477d-8102-9130e48574f9",
   "metadata": {},
   "outputs": [],
   "source": [
    "print(f'{X_time_train.shape=}')\n",
    "print(f'{X_amp_train.shape=}')\n",
    "print(f'{Y_binary_train.shape=}\\n')\n",
    "\n",
    "print(f'{X_time_val.shape=}')\n",
    "print(f'{X_amp_val.shape=}')\n",
    "print(f'{Y_binary_val.shape=}')"
   ]
  },
  {
   "cell_type": "code",
   "execution_count": null,
   "id": "5d349042-3aea-460f-9ed8-fdd68be5b0a8",
   "metadata": {},
   "outputs": [],
   "source": [
    "# всякие константы для последующей работы\n",
    "\n",
    "#///////////////////////////////// для компиляции \n",
    "\n",
    "CMP_learning_rate = 0.000004 #0.0000002 # шаг сходимости back propogation\n",
    "CMP_solver = keras.optimizers.Adam(CMP_learning_rate) # оптимизатор\n",
    "#CMP_solver = keras.optimizers.SGD(CMP_learning_rate) # оптимизатор\n",
    "CMP_loss_func = 'mean_squared_error'# функция потерь\n",
    "#///////////////////////////////// для колбэков\n",
    "\n",
    "    # для Early_stopping\n",
    "ES_patience = 3 # кол-во эпох без улучшений\n",
    "ES_min_delta = 0.00005 # минимальное улучшение параметра за cur_patience\n",
    "ES_monitor_parametr =  'loss' # отслеживаемый параметр \n",
    "ES_save_best_weights = True # сохранять ли веса нейронки с лучшими результатами\n",
    "    \n",
    "    # для ReduceLROnPlateau\n",
    "RLPOP_monitor_parametr = 'loss'  # отслеживаемый параметр \n",
    "RLPOP_factor = 0.2 # множитель для расчета нового шага сходимости (new_learning_rate = old_learning_rate*RLPOP_factor)\n",
    "RLPOP_patience = 1 # кол-во эпох без улучшений\n",
    "RLPOP_verbose = 1 # выводить ли прогресс изменения шага сходимости в его процессее\n",
    "RLPOP_mode = 'auto' # выбирает, уменьшать шаг сходимости при росте величины или при её уменьшении\n",
    "RLPOP_min_delta = 0.001 # порог изменения отслеживаемого значения\n",
    "RLPOP_cooldown = 2 # количество эпох до возобновления работы после изменения шага сходимости\n",
    "RLPOP_min_lr = 0 # минимальное значение шага сходимости\n",
    "\n",
    "    # для CallbackList\n",
    "CBL_add_history = True # вызывать ли колбэк History (если он не был довавлен вручную)\n",
    "CBL_add_progbar = True # вызывать ли колбэк ProgbarLogger (если он не был довавлен вручную)\n",
    "    \n",
    "#///////////////////////////////// для тренировки\n",
    "\n",
    "FIT_batch_size = 48 # размер bach при обучении/тестировании1\n",
    "#FIT_shuffle = True # перемешивать ли данные\n",
    "FIT_verbose = True # выводить ли прогресс обучения в его процессее\n",
    "FIT_epochs = 30 # количество эпох обучения\n",
    "#FIT_validation_split = 0.10 #0.20 # процент валидационных данных, отсекаемых из тестовой выборки"
   ]
  },
  {
   "cell_type": "code",
   "execution_count": null,
   "id": "c7c53cc4-e675-4f9a-9dc8-372a514d4329",
   "metadata": {
    "scrolled": true
   },
   "outputs": [],
   "source": [
    "# создание архитектуры модели\n",
    "# 1 подсеть //////////////////////////////////////////////////\n",
    "input_time = Input((16,16,32), name = 'input_time')\n",
    "\n",
    "# 12\n",
    "dconv_1_1 = Conv2D(64, (3,3), dilation_rate=(2, 2), activation='relu', name='dconv_1_1')(input_time)\n",
    "\n",
    "# 6\n",
    "dconv_1_2 = Conv2D(64, (3,3), dilation_rate=(5, 5), activation='relu', name='dconv_1_2')(input_time)\n",
    "up_1_2 = UpSampling2D(2, interpolation='bilinear', name='up_1_2') (dconv_1_2)\n",
    "\n",
    "# 4\n",
    "dconv_1_3 = Conv2D(64, (3,3), dilation_rate=(6, 6), activation='relu', name='dconv_1_3')(input_time)\n",
    "up_1_3 = UpSampling2D(3, interpolation='bilinear', name='up_1_3') (dconv_1_3)\n",
    "\n",
    "# 2\n",
    "dconv_1_4 = Conv2D(64, (3,3), dilation_rate=(7, 7), activation='relu', name='dconv_1_4')(input_time)\n",
    "up_1_4 = UpSampling2D(6, interpolation='bilinear', name='up_1_4') (dconv_1_4)\n",
    "\n",
    "conc_1_1 = concatenate([dconv_1_1, up_1_2, up_1_3, up_1_4],axis=3, name='conc_1_1')\n",
    "\n",
    "conv_1_1 = Conv2D(512, (3,3), activation='relu', name='conv_1_1')(conc_1_1)\n",
    "conv_1_2 = Conv2D(512, (3,3), activation='relu', name='conv_1_2')(conv_1_1)\n",
    "pool_1_1 = MaxPooling2D((2,2), strides=2, name='pool_1_1')(conv_1_2)\n",
    "\n",
    "conv_1_3 = Conv2D(1024, (3,3), activation='relu', name='conv_1_3')(pool_1_1)\n",
    "pool_1_2 = MaxPooling2D((2,2), strides=2, name='pool_1_2')(conv_1_3)\n",
    "\n",
    "# 2 подсеть //////////////////////////////////////////////////\n",
    "input_amp = Input((16,16,32), name = 'input_amp')\n",
    "\n",
    "# 12\n",
    "dconv_2_1 = Conv2D(64, (3,3), dilation_rate=(2, 2), activation='linear', name='dconv_2_1')(input_amp)\n",
    "\n",
    "# 6\n",
    "dconv_2_2 = Conv2D(64, (3,3), dilation_rate=(5, 5), activation='linear', name='dconv_2_2')(input_amp)\n",
    "up_2_2 = UpSampling2D(2, interpolation='bilinear', name='up_2_2') (dconv_2_2)\n",
    "\n",
    "# 4\n",
    "dconv_2_3 = Conv2D(64, (3,3), dilation_rate=(6, 6), activation='linear', name='dconv_2_3')(input_amp)\n",
    "up_2_3= UpSampling2D(3, interpolation='bilinear', name='up_2_3') (dconv_2_3)\n",
    "\n",
    "# 2\n",
    "dconv_2_4 = Conv2D(64, (3,3), dilation_rate=(7, 7), activation='linear', name='dconv_2_4')(input_amp)\n",
    "up_2_4 = UpSampling2D(6, interpolation='bilinear', name='up_2_4') (dconv_2_4)\n",
    "\n",
    "conc_2_1 = concatenate([dconv_2_1, up_2_2, up_2_3, up_2_4],axis=3, name='conc_2_1')\n",
    "\n",
    "conv_2_1 = Conv2D(512, (3,3), activation='linear', name='conv_2_1')(conc_2_1)\n",
    "conv_2_2 = Conv2D(512, (3,3), activation='linear', name='conv_2_2')(conv_2_1)\n",
    "pool_2_1 = MaxPooling2D((2,2), strides=2, name='pool_2_1')(conv_2_2)\n",
    "\n",
    "conv_2_3 = Conv2D(1024, (3,3), activation='linear', name='conv_2_3')(pool_2_1)\n",
    "pool_2_2 = MaxPooling2D((2,2), strides=2, name='pool_2_2')(conv_2_3)\n",
    "\n",
    "# выходная подсеть //////////////////////////////////////////////////\n",
    "\n",
    "conc_3_1 = concatenate([pool_1_2, pool_2_2], axis=3, name='conc_3_1')\n",
    "flat_3_1 = Flatten(name='flat')(conc_3_1)\n",
    "\n",
    "d_3_1 = Dense(4096, activation='linear', name='d_3_1')(flat_3_1)\n",
    "d_3_2 = Dense(1024, activation='linear', name='d_3_2')(d_3_1)\n",
    "d_3_3 = Dense(128, activation='linear', name='d_3_3')(d_3_2)\n",
    "d_3_4 = Dense(32, activation='linear', name='d_3_4')(d_3_3)\n",
    "\n",
    "output_3_1 = Dense(1, activation='sigmoid', name='output_3_1')(d_3_4)\n",
    "\n",
    "model = keras.Model([input_time, input_amp], output_3_1, name='model')\n",
    "\n",
    "#model = keras.models.load_model(f\"networks/CNN/id=v04n03_in(16x16+16x16)_out(1)_train=0dot0_test=0dot0.h5\")\n",
    "\n",
    "model.compile(optimizer=CMP_solver, loss=CMP_loss_func)\n",
    "\n",
    "print(model.summary())"
   ]
  },
  {
   "cell_type": "code",
   "execution_count": null,
   "id": "994b38b9-92f4-4103-becf-71c82bde93a9",
   "metadata": {
    "scrolled": true
   },
   "outputs": [],
   "source": [
    "#plot_model(model, to_file='model_plot.png', show_shapes=True, show_layer_names=True)\n",
    "plot_model(\n",
    "    model,\n",
    "    to_file=\"model.png\",\n",
    "    show_shapes=True,\n",
    "    show_dtype=False,\n",
    "    show_layer_names=True,\n",
    "    rankdir=\"TB\",\n",
    "    expand_nested=False,\n",
    "    dpi=200,\n",
    "    show_layer_activations=False,\n",
    "    show_trainable=False,\n",
    ")"
   ]
  },
  {
   "cell_type": "code",
   "execution_count": null,
   "id": "04161a12-c245-4afd-83d2-2489ff29655d",
   "metadata": {},
   "outputs": [],
   "source": [
    "# Создание и настройка колбэков\n",
    "\n",
    "callback_list = [] # массив колбэков до подачи в колбек \"callbacklist\"\n",
    "\n",
    "temp = keras.callbacks.EarlyStopping(\n",
    "            monitor = ES_monitor_parametr, \n",
    "            min_delta = ES_min_delta, \n",
    "            patience = ES_patience,\n",
    "            restore_best_weights = ES_save_best_weights\n",
    "            )\n",
    "callback_list.append(temp)\n",
    "\n",
    "temp = keras.callbacks.ReduceLROnPlateau(\n",
    "            monitor = RLPOP_monitor_parametr, \n",
    "            factor = RLPOP_factor, \n",
    "            patience = RLPOP_patience, \n",
    "            verbose = RLPOP_verbose,\n",
    "            mode = RLPOP_mode, \n",
    "            min_delta = RLPOP_min_delta, \n",
    "            cooldown = RLPOP_cooldown, \n",
    "            min_lr = RLPOP_min_lr\n",
    "            )\n",
    "callback_list.append(temp)\n",
    "\n",
    "FIT_callback_list = keras.callbacks.CallbackList(\n",
    "            callbacks = callback_list, \n",
    "            add_history = CBL_add_history, \n",
    "            add_progbar = CBL_add_progbar, \n",
    "            model = model\n",
    "            )"
   ]
  },
  {
   "cell_type": "code",
   "execution_count": null,
   "id": "5a5597b1-1975-4d92-8489-d934de5c10a1",
   "metadata": {},
   "outputs": [],
   "source": [
    "history = model.fit([X_time_train, X_amp_train], Y_binary_train,\n",
    "                    batch_size = FIT_batch_size, \n",
    "                    epochs = FIT_epochs, \n",
    "                    verbose = FIT_verbose, \n",
    "                    validation_data = ([X_time_val, X_amp_val], Y_binary_val), \n",
    "                    callbacks = FIT_callback_list)"
   ]
  },
  {
   "cell_type": "code",
   "execution_count": null,
   "id": "6d0dbb7c-9dfe-4584-b758-58afcdcd3a69",
   "metadata": {},
   "outputs": [],
   "source": [
    "fig, ax = plt.subplots()\n",
    "\n",
    "fig.set_figwidth(12)\n",
    "fig.set_figheight(8)\n",
    "\n",
    "plt.plot(history.history['loss'], \n",
    "         label='Тренировочная выборка',  linewidth=1.5, color='blue')\n",
    "plt.plot(history.history['val_loss'], linestyle = '--', \n",
    "         label='Валидационная выборка',  linewidth=3, color='red')\n",
    "\n",
    "ax.set_xlabel('Номер эпохи', fontsize=20)\n",
    "ax.set_ylabel('Значение функции ошибки', fontsize=20)\n",
    "ax.set_title(f\"График значений функции ошибки во время обучения\", fontsize=20, pad=15)\n",
    "\n",
    "ax.patch.set_alpha(0)\n",
    "\n",
    "#  Устанавливаем форматирование делений:\n",
    "ax.tick_params(axis='both', which='both', labelsize = 20)\n",
    "\n",
    "# Вывод и настройка сетки\n",
    "ax.minorticks_on()\n",
    "ax.grid(which='major', linewidth=2)\n",
    "ax.grid(which='minor', color = 'gray', linestyle = ':')\n",
    "\n",
    "ax.legend(fontsize = 20, facecolor = \"white\", loc = 'upper right')\n",
    "\n",
    "plt.show()"
   ]
  },
  {
   "cell_type": "code",
   "execution_count": null,
   "id": "cd754500-4101-490c-8347-e28fbf679db0",
   "metadata": {},
   "outputs": [],
   "source": [
    "# сохранение модели в файл\n",
    "model.save(f\"networks/CNN/id=v04n06_in(16x16+16x16)_out(1)_train=0dot0_test=0dot0.h5\", save_format=\"h5\")"
   ]
  },
  {
   "cell_type": "markdown",
   "id": "3b5b3189-a635-46c3-9420-24717863c2b2",
   "metadata": {},
   "source": [
    "#### "
   ]
  }
 ],
 "metadata": {
  "kernelspec": {
   "display_name": "Python 3 (ipykernel)",
   "language": "python",
   "name": "python3"
  },
  "language_info": {
   "codemirror_mode": {
    "name": "ipython",
    "version": 3
   },
   "file_extension": ".py",
   "mimetype": "text/x-python",
   "name": "python",
   "nbconvert_exporter": "python",
   "pygments_lexer": "ipython3",
   "version": "3.9.18"
  }
 },
 "nbformat": 4,
 "nbformat_minor": 5
}
