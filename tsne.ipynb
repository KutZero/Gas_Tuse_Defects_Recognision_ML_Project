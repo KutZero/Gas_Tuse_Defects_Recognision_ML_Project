{
 "cells": [
  {
   "cell_type": "code",
   "execution_count": null,
   "id": "fde58157-7750-45b9-a343-b46e3c74b5b4",
   "metadata": {
    "tags": []
   },
   "outputs": [],
   "source": [
    "# dependencies import\n",
    "from common_dependencies import *\n",
    "from sklearn.manifold import TSNE\n",
    "#import model_versions as mv\n",
    "logger = logging.getLogger(f'main.tsne')"
   ]
  },
  {
   "cell_type": "code",
   "execution_count": null,
   "id": "8bf461c0-86ef-4815-a965-1e766c1f33b8",
   "metadata": {
    "editable": true,
    "slideshow": {
     "slide_type": ""
    },
    "tags": []
   },
   "outputs": [],
   "source": [
    "# train params that can be easily changed\n",
    "# paths for files with original data\n",
    "MAX_VAL = 1000\n",
    "CROP_SIZE = 1\n",
    "CROP_STEP = 1\n",
    "XSHIFT = 200\n",
    "\n",
    "dataset_desc = {'run_1': (DatasetPartDescription(PATH_TO_DATA['run_1'],DataCrop(0,0,MAX_VAL,MAX_VAL),SlidingCrop(CROP_SIZE,CROP_STEP),XSHIFT),),\n",
    "                'run_2': (DatasetPartDescription(PATH_TO_DATA['run_2'],DataCrop(0,0,MAX_VAL,MAX_VAL),SlidingCrop(CROP_SIZE,CROP_STEP),XSHIFT),)}"
   ]
  },
  {
   "cell_type": "code",
   "execution_count": null,
   "id": "e5ed6335-8c6d-41b5-bf70-8b9f32374f92",
   "metadata": {
    "scrolled": true
   },
   "outputs": [],
   "source": [
    "#входные и выходные данные\n",
    "# reading\n",
    "dataset = {'run_1':dict(zip(['x','y','bin'], [np.array(list(gen)) for gen in chain_dataset_gens(dataset_desc['run_1'])])),\n",
    "           'run_2':dict(zip(['x','y','bin'], [np.array(list(gen)) for gen in chain_dataset_gens(dataset_desc['run_2'])]))}\n",
    "\n",
    "# squueze datasets\n",
    "'''for dataset_part_name, dataset_part in dataset.items():\n",
    "    for data_part_name, data_part in dataset_part.items():\n",
    "        if data_part_name == 'x':\n",
    "            dataset[dataset_part_name][data_part_name] = data_part.reshape(data_part.shape[0],-1)\n",
    "        if data_part_name == 'y':\n",
    "            dataset[dataset_part_name][data_part_name] = data_part.reshape(data_part.shape[0],-1)'''\n",
    "\n",
    "# displaying\n",
    "logger.debug('\\nDataset')\n",
    "for dataset_part_name, dataset_part in dataset.items():\n",
    "    logger.debug('|'*8+dataset_part_name+'|'*8)\n",
    "    for data_part_name, data_part in dataset_part.items():\n",
    "        logger.debug(f'{data_part_name}.shape: {data_part.shape}, max={np.max(data_part)}, min={np.min(data_part)}')"
   ]
  },
  {
   "cell_type": "code",
   "execution_count": null,
   "id": "0ff7add6-b388-4a76-9ffe-80340bc70ec6",
   "metadata": {
    "scrolled": true
   },
   "outputs": [],
   "source": [
    "# example of autoencode nondef graphs\n",
    "\n",
    "FONT_SIZE = 20\n",
    "\n",
    "for dataset_part_name, dataset_part in dataset.items():\n",
    "    for i in range(5):\n",
    "        fig, ax = plt.subplots()\n",
    "        fig.set_figwidth(12)\n",
    "        fig.set_figheight(8)\n",
    "    \n",
    "        time = dataset_part['x'][dataset_part['bin']!=0][i,0,1:32]\n",
    "        amp = dataset_part['x'][dataset_part['bin']!=0][i,0,33:]\n",
    "        \n",
    "        ax.plot(time, amp, c='black', label='Исходные данные')\n",
    "        \n",
    "        ax.set_title(f'Замер датчика в области дефекта',fontsize=FONT_SIZE)\n",
    "        #ax.legend(fontsize = FONT_SIZE)\n",
    "        ax.set_xlabel('Время',fontsize=FONT_SIZE)\n",
    "        ax.set_ylabel('Амплитуда',fontsize=FONT_SIZE)\n",
    "        ax.tick_params(axis='both', labelsize = FONT_SIZE)\n",
    "        ax.grid(True)\n",
    "        #plt.show()\n",
    "        plt.savefig(f'data/generated_content/all/defect and nondefect plots/{dataset_part_name}/{dataset_part_name}_defect_{i}.jpg', bbox_inches='tight')\n",
    "        plt.show()\n",
    "        plt.close()\n",
    "        \n",
    "    for i in range(5):\n",
    "        fig, ax = plt.subplots()\n",
    "        fig.set_figwidth(12)\n",
    "        fig.set_figheight(8)\n",
    "    \n",
    "        time = dataset_part['x'][dataset_part['bin']==0][i,0,1:32]\n",
    "        amp = dataset_part['x'][dataset_part['bin']==0][i,0,33:]\n",
    "\n",
    "        ax.plot(time, amp, c='black', label='Исходные данные')\n",
    "        \n",
    "        ax.set_title(f'Замер датчика в области без дефектов',fontsize=FONT_SIZE)\n",
    "        #ax.legend(fontsize = FONT_SIZE)\n",
    "        ax.set_xlabel('Время',fontsize=FONT_SIZE)\n",
    "        ax.set_ylabel('Амплитуда',fontsize=FONT_SIZE)\n",
    "        ax.tick_params(axis='both', labelsize = FONT_SIZE)\n",
    "        ax.grid(True)\n",
    "        #plt.show()\n",
    "        plt.savefig(f'data/generated_content/all/defect and nondefect plots/{dataset_part_name}/{dataset_part_name}_nondefect_{i}.jpg', bbox_inches='tight')\n",
    "        plt.show()\n",
    "        plt.close()"
   ]
  },
  {
   "cell_type": "markdown",
   "id": "1840f75a-2f8e-4b6f-b4dd-6f8305764690",
   "metadata": {},
   "source": [
    "# Новое"
   ]
  },
  {
   "cell_type": "code",
   "execution_count": null,
   "id": "0e63a2f4-05ef-410f-a76b-554953c1eca3",
   "metadata": {},
   "outputs": [],
   "source": [
    "PER = 50\n",
    "RSTATE = 10\n",
    "LRATE = 50\n",
    "NITER = 1500\n",
    "PATH_SAVE_RESULT = f'data/generated_content/t-SNE models results/crop_size={CROP_SIZE}_crop_step={CROP_STEP}/PER={PER}_RSTATE={RSTATE}_LRATE={LRATE}_NITER={NITER}'"
   ]
  },
  {
   "cell_type": "code",
   "execution_count": null,
   "id": "6ed7d4d5-f9a2-4725-b0a1-14fa09d13eca",
   "metadata": {
    "jupyter": {
     "source_hidden": true
    }
   },
   "outputs": [],
   "source": [
    "'''test_x_data = dataset['run_1']['x']\n",
    "logger.debug(f'{test_x_data.shape=}')\n",
    "\n",
    "X_embedded = TSNE(n_components=2, \n",
    "                  learning_rate=LRATE,\n",
    "                  init='random', \n",
    "                  perplexity=PER,\n",
    "                  random_state=RSTATE,\n",
    "                  n_iter=NITER).fit_transform(test_x_data)\n",
    "\n",
    "logger.debug(f'{X_embedded.shape=}')\n",
    "df1 = pd.DataFrame(data=X_embedded, columns=['x','y'])\n",
    "df1['def'] = dataset['run_1']['bin']\n",
    "df1['x'] = dw.normalize_data(df1['x'].values)\n",
    "df1['y'] = dw.normalize_data(df1['y'].values)\n",
    "df1 = df1.sort_values(by=['def'])'''"
   ]
  },
  {
   "cell_type": "code",
   "execution_count": null,
   "id": "1d6c3050-5576-40e5-8a79-b286d62181c1",
   "metadata": {},
   "outputs": [],
   "source": [
    "test_x_data = np.concatenate([dataset['run_1']['x'], dataset['run_2']['x']], axis=0)\n",
    "logger.debug(f'{test_x_data.shape=}')\n",
    "\n",
    "X_embedded = TSNE(n_components=2, \n",
    "                  learning_rate=LRATE,\n",
    "                  init='random', \n",
    "                  perplexity=PER,\n",
    "                  random_state=RSTATE,\n",
    "                  n_iter=NITER).fit_transform(test_x_data)\n",
    "\n",
    "X_embedded = dw.normalize_data(X_embedded)\n",
    "dataset['run_1']['tsne_res'] = X_embedded[:dataset['run_1']['x'].shape[0]]\n",
    "dataset['run_2']['tsne_res'] = X_embedded[dataset['run_1']['x'].shape[0]:]\n",
    "\n",
    "logger.debug(f'{X_embedded.shape=}')\n",
    "logger.debug(f\"{dataset['run_1']['tsne_res'].shape=}\")\n",
    "logger.debug(f\"{dataset['run_2']['tsne_res'].shape=}\")"
   ]
  },
  {
   "cell_type": "code",
   "execution_count": null,
   "id": "0544899a-d72e-4e96-9b59-f0610f70ea80",
   "metadata": {},
   "outputs": [],
   "source": [
    "df1 = pd.DataFrame(data=dataset['run_1']['tsne_res'], columns=['x','y'])\n",
    "df1['def'] = dataset['run_1']['bin']\n",
    "df1['def'] = df1['def'].replace({1:'Дефект',0:'Не дефект'})\n",
    "#df1['x'] = dw.normalize_data(df1['x'].values)\n",
    "#df1['y'] = dw.normalize_data(df1['y'].values)\n",
    "df1 = df1.sort_values(by=['def'], ascending=False)\n",
    "\n",
    "df2 = pd.DataFrame(data=dataset['run_2']['tsne_res'], columns=['x','y'])\n",
    "df2['def'] = dataset['run_2']['bin']\n",
    "df2['def'] = df2['def'].replace({1:'Дефект',0:'Не дефект'})\n",
    "#df2['x'] = dw.normalize_data(df2['x'].values)\n",
    "#df2['y'] = dw.normalize_data(df2['y'].values)\n",
    "df2 = df2.sort_values(by=['def'], ascending=False)"
   ]
  },
  {
   "cell_type": "code",
   "execution_count": null,
   "id": "1c3170bc-716e-4769-8b0b-c89b9347fa74",
   "metadata": {},
   "outputs": [],
   "source": [
    "'''with pd.ExcelWriter(f\"{PATH_SAVE_RESULT}/encoding result(only extend df for crop dividing).xlsx\") as writer:\n",
    "    df1.to_excel(writer, sheet_name = 'file_1_encoded')\n",
    "    df2.to_excel(writer, sheet_name = 'file_2_encoded')'''"
   ]
  },
  {
   "cell_type": "code",
   "execution_count": null,
   "id": "f24770a1-577e-421b-bc3a-3826ad57f1a4",
   "metadata": {},
   "outputs": [],
   "source": [
    "from scipy.stats import gaussian_kde as kde\n",
    "from matplotlib.colors import Normalize\n",
    "from matplotlib import cm\n",
    "\n",
    "def makeColours(samples):\n",
    "    vals = kde(samples).evaluate(samples)\n",
    "    norm = Normalize(vmin=vals.min(), vmax=vals.max())\n",
    "    return [cm.ScalarMappable(norm=norm, cmap='jet').to_rgba(val) for val in vals], vals.min(), vals.max(), vals\n",
    "\n",
    "'''fig, ax = plt.subplots()\n",
    "mapp = ax.scatter(samples[0], samples[1], s=1, color=makeColours(dataset['run_1']['tsne_res'].T) )\n",
    "cbar = fig.colorbar(mapp,ax=ax)\n",
    "#cbar.ax.tick_params(labelsize=20)\n",
    "plt.show()'''"
   ]
  },
  {
   "cell_type": "code",
   "execution_count": null,
   "id": "a0c17d3a-0e65-4ae8-a2de-8b43fcb6a712",
   "metadata": {},
   "outputs": [],
   "source": [
    "import seaborn as sns\n",
    "\n",
    "'''g = sns.jointplot(data=df1[df1['def']==0], x='x', y='y', height=10, s=6, \n",
    "                  edgecolors='none', marginal_ticks=True)\n",
    "\n",
    "g.ax_joint.set_xlabel('x', fontsize=15)\n",
    "g.ax_joint.set_ylabel('y', fontsize=15)\n",
    "g.ax_joint.legend(fontsize=15)\n",
    "g.ax_joint.tick_params(axis='both', which='both', labelsize=10)\n",
    "g.figure.tight_layout() \n",
    "\n",
    "g = sns.jointplot(data=df1[df1['def']==1], x='x', y='y', height=10, s=6, \n",
    "                  edgecolors='none', marginal_ticks=True)\n",
    "#g.plot_joint(sns.kdeplot, zorder=1, levels=6)\n",
    "\n",
    "g.ax_joint.set_xlabel('x', fontsize=15)\n",
    "g.ax_joint.set_ylabel('y', fontsize=15)\n",
    "g.ax_joint.legend(fontsize=15)\n",
    "g.ax_joint.tick_params(axis='both', which='both', labelsize=10)\n",
    "g.figure.tight_layout() ''';\n",
    "\n",
    "'''g = sns.jointplot(data=df2, x='x', y='y', height=10, palette=['blue','red'],\n",
    "                 hue='def', s=6, edgecolors='none', marginal_ticks=True)\n",
    "#g.plot_joint(sns.kdeplot, zorder=1, levels=6)\n",
    "\n",
    "g.ax_joint.set_xlabel('x', fontsize=15)\n",
    "g.ax_joint.set_ylabel('y', fontsize=15)\n",
    "g.ax_joint.legend(fontsize=15)\n",
    "g.ax_joint.tick_params(axis='both', which='both', labelsize=10)\n",
    "g.figure.tight_layout()''';\n",
    "\n",
    "FONT_SIZE = 15\n",
    "\n",
    "for name, df in zip(['Файл 1', 'Файл 2', 'Оба файла'],[df1, df2, pd.concat([df1,df2], axis=0)]):\n",
    "    g = sns.JointGrid(data=df, x=\"x\", y=\"y\", height=10, palette=['gray','black'],\n",
    "                     hue='def', marginal_ticks=True, xlim=[-0.05,1.05], ylim=[-0.05,1.05], \n",
    "                     ratio=2, space=.25)\n",
    "    g.plot_joint(sns.scatterplot, s=10, edgecolors='none')\n",
    "    \n",
    "    g.plot_marginals(sns.histplot, kde=True, bins=40, fill=True)\n",
    "    #g.plot_marginals(sns.boxplot, medianprops={\"color\": \"white\", \"linewidth\": 1})\n",
    "    NAME = f'''Отображение признаков из {test_x_data.shape[-1]} на 2-мерное пространство''' #Выделена зона дефектов. \n",
    "    g.ax_joint.set_title(NAME, fontsize=FONT_SIZE)\n",
    "    g.ax_joint.set_xlabel('X', fontsize = FONT_SIZE)\n",
    "    g.ax_joint.set_ylabel('Y', fontsize = FONT_SIZE)\n",
    "    g.ax_joint.set_xlim(-0.05,1.05)\n",
    "    g.ax_joint.set_ylim(-0.05,1.05)\n",
    "    g.ax_joint.grid(True)\n",
    "    g.ax_joint.tick_params(axis='both', which='major', labelsize = FONT_SIZE)\n",
    "    g.ax_joint.tick_params(axis='both', which='minor', labelsize = FONT_SIZE-5)\n",
    "    g.ax_joint.grid(which='major', color='black', linewidth=0.8)\n",
    "    g.ax_joint.grid(which='minor', color='gray', linestyle=':', linewidth=0.4)\n",
    "    g.ax_joint.margins(0.05)\n",
    "    g.ax_joint.minorticks_on()\n",
    "    # handles=g.ax_joint.patches, \n",
    "    #print(g.ax_joint.artist.get)\n",
    "    g.ax_joint.legend(title='Класс наблюдения', \n",
    "                      #labels=['Дефект', 'Не дефект'],\n",
    "                      markerscale=2, \n",
    "                      alignment='left')\n",
    "    #g.ax_joint.add_patch(Rectangle((0.1, 0.5), 0.3, 0.25, linewidth=2, edgecolor='white', facecolor='none'))\n",
    "    g.ax_joint.add_patch(Rectangle((0.1, 0.5), 0.3, 0.25, edgecolor='black', linewidth=2, facecolor='none'))\n",
    "    \n",
    "    g.ax_marg_x.set_title('Распределение для точек по оси х', fontsize=FONT_SIZE)\n",
    "    g.ax_marg_x.legend(title='Класс наблюдения', \n",
    "                      labels=['Дефект', 'Не дефект'], \n",
    "                      markerscale=4, \n",
    "                      alignment='left')\n",
    "    g.ax_marg_x.grid(True)\n",
    "    #g.ax_marg_x.set_xlabel('X', fontsize = FONT_SIZE)\n",
    "    #g.ax_marg_x.set_ylabel('Кол-во точек в диапазоне', fontsize = FONT_SIZE)\n",
    "    \n",
    "    \n",
    "    g.ax_marg_y.set_title('Распределение\\nдля точек по оси y', fontsize=FONT_SIZE)\n",
    "    g.ax_marg_y.legend(title='Класс наблюдения', \n",
    "                  labels=['Дефект', 'Не дефект'],\n",
    "                  markerscale=4, \n",
    "                  alignment='left')\n",
    "    g.ax_marg_y.grid(True)\n",
    "\n",
    "    \n",
    "    \n",
    "    if not os.path.exists(PATH_SAVE_RESULT):\n",
    "        os.makedirs(PATH_SAVE_RESULT)\n",
    "    \n",
    "    #plt.show()\n",
    "    NAME = NAME.replace('\\n','')\n",
    "    plt.savefig(f'{PATH_SAVE_RESULT}/черно белое/{name}. {NAME} (perpl={PER},rstate={RSTATE},lrate={LRATE},niter={NITER}).jpeg', bbox_inches='tight')\n",
    "    #g.savefig()\n",
    "    #g.ax_marg_y.set_xlabel('X', fontsize = FONT_SIZE)\n",
    "    #g.ax_marg_y.set_ylabel('Кол-во точек в диапазоне', fontsize = FONT_SIZE)\n",
    "    \n",
    "#g.ax_marg_x\n",
    "#g.ax_marg_y"
   ]
  },
  {
   "cell_type": "code",
   "execution_count": null,
   "id": "cac0adad-0f8e-4dba-98fe-bec86d5b8611",
   "metadata": {},
   "outputs": [],
   "source": [
    "#\\\\\\\\\\\\\\\\\\\\\\\\\\\\\\\\\\\\\\\\\\\\\\\\\\\\\\\\\\\\\\\\\\\\\\\\\\\\\\\\\\\\\\\\\\\\\\\\\\\\\\\\\\\\\\\\\\\\\\"
   ]
  },
  {
   "cell_type": "code",
   "execution_count": null,
   "id": "bc6c6ff3-835b-44f4-ac38-a7624c93e072",
   "metadata": {},
   "outputs": [],
   "source": [
    "def1_df = df1.query('x >= 0.1 & x <= 0.4 & y >= 0.5 & y <= 0.75')\n",
    "def2_df = df2.query('x >= 0.1 & x <= 0.4 & y >= 0.5 & y <= 0.75')"
   ]
  },
  {
   "cell_type": "code",
   "execution_count": null,
   "id": "a9581d5f-d750-4b8f-96df-706c9c86f375",
   "metadata": {},
   "outputs": [],
   "source": [
    "print('file 1')\n",
    "print('All samples: ', df1.shape)\n",
    "print('All defect samples: ', df1[df1['def']=='Дефект'].shape)\n",
    "print('Samples from white range: ', def1_df.shape)\n",
    "print('Defect samples from white range: ', def1_df[def1_df['def']=='Дефект'].shape)\n",
    "\n",
    "print('file 2')\n",
    "print('All samples: ', df2.shape)\n",
    "print('All defect samples: ', df2[df2['def']=='Дефект'].shape)\n",
    "print('Samples from white range: ', def2_df.shape)\n",
    "print('Defect samples from white range: ', def2_df[def2_df['def']=='Дефект'].shape)"
   ]
  },
  {
   "cell_type": "code",
   "execution_count": null,
   "id": "2aaf86f8-51ea-428d-8f8f-51d9056f62d1",
   "metadata": {},
   "outputs": [],
   "source": [
    "display(def1_df)\n",
    "display(def1_df[def1_df['def']==1])\n",
    "display(def2_df)\n",
    "display(def2_df[def2_df['def']==1])"
   ]
  },
  {
   "cell_type": "code",
   "execution_count": null,
   "id": "9ef3f925-7167-4e1a-94dd-50db71f146d9",
   "metadata": {},
   "outputs": [],
   "source": [
    "def draw_choosen_defects(path_to_data, file_num, path_to_save, choosen_df, xshift, crop_size, crop_step):\n",
    "    x_df, y_df = dataset.get_x_and_y_data_dfs(dw.DataPart(path=path_to_data))\n",
    "\n",
    "    y_df = dw.roll_df(y_df, xshift, 1)\n",
    "    y_df = dw.extend_df_for_crops_dividing(y_df, crop_size, crop_step)\n",
    "\n",
    "    new_y_df = y_df.copy()\n",
    "    new_y_df.iloc[:,:] = 0\n",
    "    \n",
    "    it = iter(sorted(choosen_df.index.to_list()))\n",
    "    def_ind = next(it)\n",
    "    cur_ind = 0\n",
    "    for i in range(0, new_y_df.shape[0] - crop_size + 1, crop_step):  \n",
    "        for j in range(0, new_y_df.shape[1] - crop_size + 1, crop_step): \n",
    "            if cur_ind == def_ind:\n",
    "                #print(def_ind)\n",
    "                new_y_df.iloc[i:i+crop_size, j:j+crop_size] += 1\n",
    "                try:\n",
    "                    def_ind = next(it)\n",
    "                except:\n",
    "                    break\n",
    "                \n",
    "            cur_ind += 1\n",
    "\n",
    "    title = f'Развернутая карта дефектов' # для файла {file_num}\n",
    "    dw.draw_defects_map(y_df, title=title, path_to_save=f'{path_to_save}/{title} для файла {file_num}.jpeg', pcolormesh_cmap='Greys') #черно белое/\n",
    "    title = f'Развернутая карта предсказания зон дефектов с помощью t-SNE' # для файла {file_num}\n",
    "    dw.draw_defects_map(new_y_df, title=title, path_to_save=f'{path_to_save}/{title} для файла {file_num}.jpeg', pcolormesh_cmap='Greys')"
   ]
  },
  {
   "cell_type": "code",
   "execution_count": null,
   "id": "7a7cfb45-7b3b-411a-bbc6-ebc933bdaa0a",
   "metadata": {},
   "outputs": [],
   "source": [
    "draw_choosen_defects(PATH_TO_DATA['run_1'], 1, PATH_SAVE_RESULT, def1_df, XSHIFT, CROP_SIZE, CROP_STEP)\n",
    "draw_choosen_defects(PATH_TO_DATA['run_2'], 2, PATH_SAVE_RESULT, def2_df, XSHIFT, CROP_SIZE, CROP_STEP)"
   ]
  },
  {
   "cell_type": "code",
   "execution_count": null,
   "id": "67fc374b-d0ae-45e5-814e-fdd7f11ddad4",
   "metadata": {
    "jupyter": {
     "source_hidden": true
    }
   },
   "outputs": [],
   "source": [
    "'''import seaborn as sns\n",
    "\n",
    "FONT_SIZE = 15\n",
    "PATH_SAVE_RESULT+=f'/PER_{PER}_LRATE_{LRATE}_NITER_{NITER}'\n",
    "name = f\"\"\"Отображения признаков из {test_x_data.shape} на 2 мерное \n",
    "(perpl={PER},rand_state={RSTATE},learn_rate={LRATE},n_iter:={NITER},all graphs,all files)\"\"\"\n",
    "SCATTER_SIZE = 2\n",
    "\n",
    "fig, axes = plt.subplots(2,2)\n",
    "fig.suptitle(name, fontsize=FONT_SIZE)\n",
    "fig.set_figwidth(15)\n",
    "fig.set_figheight(15)\n",
    "\n",
    "axes[0,0].set_title('Файл 1 (недефектные наблюдения)', fontsize=FONT_SIZE)\n",
    "axes[0,1].set_title('Файл 1 (дефектные наблюдения)', fontsize=FONT_SIZE)\n",
    "\n",
    "color, *rang =  makeColours(df1[df1['def']==0][['x','y']].T)\n",
    "sns.scatterplot(data=df1[df1['def']==0], x='x', y='y', ec=\"none\", s=SCATTER_SIZE, ax=axes[0,0], color=color)\n",
    "print(rang)\n",
    "\n",
    "color, *rang =  makeColours(df1[df1['def']==1][['x','y']].T)\n",
    "sns.scatterplot(data=df1[df1['def']==1], x='x', y='y', ec=\"none\", s=SCATTER_SIZE, ax=axes[0,1], color=color)\n",
    "\n",
    "\n",
    "axes[1,0].set_title('Файл 2 (недефектные наблюдения)', fontsize=FONT_SIZE)\n",
    "axes[1,1].set_title('Файл 2 (дефектные наблюдения)', fontsize=FONT_SIZE)\n",
    "color, *rang =makeColours(df2[df2['def']==0][['x','y']].T)\n",
    "sns.scatterplot(data=df2[df2['def']==0], x='x', y='y', ec=\"none\", s=SCATTER_SIZE, ax=axes[1,0], color=color)\n",
    "color, *rang =makeColours(df2[df2['def']==1][['x','y']].T)\n",
    "sns.scatterplot(data=df2[df2['def']==1], x='x', y='y', ec=\"none\", s=SCATTER_SIZE, ax=axes[1,1], color=color)\n",
    "\n",
    "for ax in np.array(axes).flatten():\n",
    "    ax.set_xlabel('X', fontsize = FONT_SIZE)\n",
    "    ax.set_ylabel('Y', fontsize = FONT_SIZE)\n",
    "    ax.set_xlim(-0.05,1.05)\n",
    "    ax.set_ylim(-0.05,1.05)\n",
    "    ax.grid(True)\n",
    "    ax.tick_params(axis='both', which='major', labelsize = FONT_SIZE)\n",
    "    ax.tick_params(axis='both', which='minor', labelsize = FONT_SIZE-5)\n",
    "    ax.grid(which='major', color='white', linewidth=0.8)\n",
    "    ax.grid(which='minor', color='white', linewidth=0.4)\n",
    "    ax.margins(0.05)\n",
    "    ax.set_facecolor('black')\n",
    "    ax.minorticks_on()\n",
    "    \n",
    "plt.subplots_adjust(left=0.1, bottom=0.1, right=0.9, top=0.9, wspace=0.15, hspace=0.2)\n",
    "\n",
    "plt.show()\n",
    "\n",
    "#g = sns.JointGrid() #xlim=[-0.05,1.05], ylim=[-0.05,1.05]\n",
    "#x, y = dataset['run_2']['tsne_res'][:,0], dataset['run_2']['tsne_res'][:,1]\n",
    "#sns.scatterplot(x=x, y=y, ec=\"none\", s=2, ax=g.ax_joint, color=makeColours(dataset['run_2']['tsne_res'].T))\n",
    "#g = sns.JointGrid(data=df1, x=\"x\", y=\"y\", hue=\"def\", palette=['blue','red'])\n",
    "\n",
    "#g = sns.jointplot(data=df1, x='x', y='y', height=10, s=6, hue='def', edgecolors='none', marginal_ticks=True, palette=['blue','red'], kind='kde', levels=21)\n",
    "#g = sns.jointplot(data=df1, x='x', y='y', height=10, s=6, hue='def', edgecolors='none', marginal_ticks=True, palette=['blue','red'])\n",
    "#g = sns.jointplot(data=df2, x='x', y='y', height=10, s=6, hue='def', edgecolors='none', marginal_ticks=True, palette=['blue','red'], kind='kde', levels=21)\n",
    "#g = sns.jointplot(data=df2, x='x', y='y', height=10, s=6, hue='def', edgecolors='none', marginal_ticks=True, palette=['blue','red'])\n",
    "\n",
    "#sns.kdeplot(data=df, x=\"x\", hue=\"def\", multiple=\"fill\", ax=g.ax_marg_x)\n",
    "#sns.kdeplot(data=df, y=\"y\", hue=\"def\", multiple=\"fill\", ax=g.ax_marg_y)\n",
    "#sns.kdeplot(x=x, linewidth=2, ax=g.ax_marg_x)\n",
    "#sns.kdeplot(y=y, linewidth=2, ax=g.ax_marg_y)'''"
   ]
  },
  {
   "cell_type": "code",
   "execution_count": null,
   "id": "fe8a7419-6619-49c3-8e7c-03cdc5896825",
   "metadata": {},
   "outputs": [],
   "source": [
    "f'''rom skimage import measure\n",
    "import seaborn as sns\n",
    "\n",
    "x_df, y_df = dataset.get_x_and_y_data_dfs(dw.DataPart(path=PATH_TO_DATA['run_1']))\n",
    "# roll data across x axis\n",
    "x_df = dw.roll_df(x_df, XSHIFT, 1)\n",
    "y_df = dw.roll_df(y_df, XSHIFT, 1).map(lambda x: 1 if x>0 else 0)\n",
    "\n",
    "y_arr = y_df.to_numpy()\n",
    "y_arr_labeled = measure.label(y_arr, connectivity=1)\n",
    "\n",
    "idx = [np.where(y_arr_labeled == label) for label in np.unique(y_arr_labeled) if label]\n",
    "\n",
    "print(len(idx))\n",
    "\n",
    "for arr in idx:\n",
    "    print(len(arr))\n",
    "    print(arr[0].shape)\n",
    "\n",
    "plt.pcolormesh(y_arr)\n",
    "plt.show()\n",
    "\n",
    "plt.pcolormesh(y_arr_labeled, cmap = )\n",
    "plt.show()\n",
    "\n",
    "dw.draw_defects_map(y_df)\n",
    "map_labeled = measure.label(y_df.to_numpy(), connectivity=1)\n",
    "bboxes = [area.bbox for area in measure.regionprops(map_labeled)]\n",
    "for bbox in bboxes:\n",
    "    print(bbox)''';"
   ]
  },
  {
   "cell_type": "code",
   "execution_count": null,
   "id": "c8261d94-00e6-4c8b-b64b-8fc6bda713fa",
   "metadata": {
    "jupyter": {
     "source_hidden": true
    }
   },
   "outputs": [],
   "source": [
    "'''df1 = pd.DataFrame(data=dataset['run_1']['tsne_res'], columns=['x','y'])\n",
    "df1['def'] = dataset['run_1']['bin']\n",
    "df1['x'] = dw.normalize_data(df1['x'].values)\n",
    "df1['y'] = dw.normalize_data(df1['y'].values)\n",
    "\n",
    "df2 = pd.DataFrame(data=dataset['run_2']['tsne_res'], columns=['x','y'])\n",
    "df2['def'] = dataset['run_2']['bin']\n",
    "df2['x'] = dw.normalize_data(df2['x'].values)\n",
    "df2['y'] = dw.normalize_data(df2['y'].values)'''"
   ]
  },
  {
   "cell_type": "code",
   "execution_count": null,
   "id": "bb3d9208-b88b-492b-a1f0-447385752839",
   "metadata": {
    "jupyter": {
     "source_hidden": true
    }
   },
   "outputs": [],
   "source": [
    "'''FONT_SIZE = 20\n",
    "PATH_SAVE_RESULT+=f'/PER_{PER}_LRATE_{LRATE}_NITER_{NITER}'\n",
    "name = f\"\"\"Отображения признаков из {test_x_data.shape[1]} мерного пространства (crop_size={CROP_SIZE},crop_step={CROP_STEP}) на 2 мерное \n",
    "(perpl={PER},rand_state={RSTATE},learn_rate={LRATE},n_iter:={NITER},all graphs,all files)\"\"\"\n",
    "\n",
    "fig, axes = plt.subplots(1,2)\n",
    "fig.suptitle(name, fontsize=FONT_SIZE)\n",
    "fig.set_figwidth(22)\n",
    "fig.set_figheight(8)\n",
    "\n",
    "axes[0].set_title('file_1', fontsize=FONT_SIZE)\n",
    "axes[0].scatter(dataset['run_1']['tsne_res'][dataset['run_1']['bin']==0,0], dataset['run_1']['tsne_res'][dataset['run_1']['bin']==0,1], c='blue', s=3, label='non defect')\n",
    "axes[0].scatter(dataset['run_1']['tsne_res'][dataset['run_1']['bin']!=0,0], dataset['run_1']['tsne_res'][dataset['run_1']['bin']!=0,1], c='red', s=3, label='defect')\n",
    "\n",
    "axes[1].set_title('file_2', fontsize=FONT_SIZE)\n",
    "axes[1].scatter(dataset['run_2']['tsne_res'][dataset['run_2']['bin']==0,0], dataset['run_2']['tsne_res'][dataset['run_2']['bin']==0,1], c='blue', s=3, label='non defect')\n",
    "axes[1].scatter(dataset['run_2']['tsne_res'][dataset['run_2']['bin']!=0,0], dataset['run_2']['tsne_res'][dataset['run_2']['bin']!=0,1], c='red', s=3, label='defect')\n",
    "\n",
    "for ax in axes:\n",
    "    ax.set_xlabel('X',fontsize = FONT_SIZE)\n",
    "    ax.set_ylabel('Y',fontsize = FONT_SIZE)\n",
    "    ax.set_xlim(0,1)\n",
    "    ax.set_ylim(0,1)\n",
    "    ax.grid(True)\n",
    "    ax.tick_params(axis='both', which='both', labelsize = FONT_SIZE)\n",
    "    ax.margins(0.05)\n",
    "    ax.legend(fontsize = FONT_SIZE)\n",
    "\n",
    "plt.subplots_adjust(left=0.1, bottom=0.1, right=0.9, top=0.85, wspace=0.15, hspace=0.2)\n",
    "name = name.replace(\"\\n\",\"\")\n",
    "\n",
    "if not os.path.exists(PATH_SAVE_RESULT):\n",
    "    os.makedirs(PATH_SAVE_RESULT)\n",
    "    \n",
    "plt.savefig(f'{PATH_SAVE_RESULT}/{name}.jpeg', bbox_inches='tight')\n",
    "plt.show()'''"
   ]
  },
  {
   "cell_type": "code",
   "execution_count": null,
   "id": "cc2e2df3-c53f-44f9-b7aa-4f611d7676fa",
   "metadata": {},
   "outputs": [],
   "source": [
    "'''mask = [True if (item[0]>=0.45 and item[0]<=0.65 and item[1]>=0.6 and item[1]<=0.8 and def_state!=0) else False \n",
    "         for item, def_state in zip(dataset['run_1']['tsne_res'], dataset['run_1']['bin'])]\n",
    "dataset['run_1']['tsne_def_zone'] = dataset['run_1']['x'][mask]\n",
    "dataset['run_1']['tsne_def_zone'] = dataset['run_1']['tsne_def_zone'].reshape(-1,CROP_SIZE,CROP_SIZE,64)\n",
    "logger.debug(f\"{dataset['run_1']['tsne_def_zone'].shape=} from total def: {dataset['run_1']['bin'][dataset['run_1']['bin']!=0].shape[0]}\")\n",
    "\n",
    "mask = [True if (item[0]>=0.45 and item[0]<=0.65 and item[1]>=0.6 and item[1]<=0.8 and def_state!=0) else False \n",
    "         for item, def_state in zip(dataset['run_2']['tsne_res'], dataset['run_2']['bin'])]\n",
    "dataset['run_2']['tsne_def_zone'] = dataset['run_2']['x'][mask]\n",
    "dataset['run_2']['tsne_def_zone'] = dataset['run_2']['tsne_def_zone'].reshape(-1,CROP_SIZE,CROP_SIZE,64)\n",
    "logger.debug(f\"{dataset['run_2']['tsne_def_zone'].shape=} from total def: {dataset['run_2']['bin'][dataset['run_2']['bin']!=0].shape[0]}\")'''"
   ]
  },
  {
   "cell_type": "code",
   "execution_count": null,
   "id": "5d2f69c6-fa80-45e3-8053-1c3a55dbd7a3",
   "metadata": {},
   "outputs": [],
   "source": [
    "'''def draw_choosen_defects(path_to_data, title, path_to_save, choosen_defects, xshift, crop_size, crop_step):\n",
    "    x_df, y_df = dataset.get_x_and_y_data_dfs(dw.DataPart(path=path_to_data))\n",
    "\n",
    "    x_df = dw.roll_df(x_df, xshift, 1)\n",
    "    y_df = dw.roll_df(y_df, xshift, 1)\n",
    "    \n",
    "    x_arr = dw.df_to_numpy(x_df)\n",
    "    y_arr = y_df.to_numpy()\n",
    "    \n",
    "    x_arr = np.concatenate([dw.normalize_data(x_arr[:,:,:32]), dw.normalize_data(x_arr[:,:,32:])],axis=2)\n",
    "    y_arr = dw.normalize_data(y_arr)\n",
    "\n",
    "    new_y_arr = np.zeros(y_arr.shape)\n",
    "    print(f'{choosen_defects.shape=}')\n",
    "\n",
    "    for i in range(0, x_arr.shape[0] - crop_size + 1, crop_step):  \n",
    "        for j in range(0, x_arr.shape[1] - crop_size + 1, crop_step):  \n",
    "            if np.sum(y_arr[i:i+crop_size, j:j+crop_size])>0:\n",
    "                new_y_arr[i:i+crop_size, j:j+crop_size] = 1\n",
    "\n",
    "    for i in range(0, x_arr.shape[0] - crop_size + 1, crop_step):  \n",
    "        for j in range(0, x_arr.shape[1] - crop_size + 1, crop_step):  \n",
    "            for item in choosen_defects:\n",
    "                if (x_arr[0,0] == item[0,0]).all():\n",
    "                    new_y_arr[i:i+crop_size, j:j+crop_size] = 2\n",
    "                    choosen_defects.remove(item)\n",
    "                    continue\n",
    "                \n",
    "    new_y_df =  pd.DataFrame(data=new_y_arr, index=y_df.index, columns=y_df.columns)\n",
    "\n",
    "    dw.draw_defects_map(y_df, title=title, path_to_save=f'{path_to_save}/{title}')\n",
    "    dw.draw_defects_map(new_y_df, title=title+' зеленый-все дефекты, желтый-дефект из зоны скопления',\n",
    "                        path_to_save=f'{path_to_save}/{title} зеленый-все дефекты, желтый-дефект из зоны скопления')\n",
    "                    '''"
   ]
  },
  {
   "cell_type": "code",
   "execution_count": null,
   "id": "14faf84a-d936-476a-9731-83b985ae0669",
   "metadata": {},
   "outputs": [],
   "source": [
    "'''draw_choosen_defects(PATH_TO_DATA['run_1'], 'Развернутая карта дефектов для файла 1', PATH_SAVE_RESULT, dataset['run_1']['tsne_def_zone'], XSHIFT, CROP_SIZE, CROP_STEP)\n",
    "draw_choosen_defects(PATH_TO_DATA['run_2'], 'Развернутая карта дефектов для файла 2', PATH_SAVE_RESULT, dataset['run_2']['tsne_def_zone'], XSHIFT, CROP_SIZE, CROP_STEP)'''"
   ]
  },
  {
   "cell_type": "code",
   "execution_count": null,
   "id": "1832e464-8055-4c91-b1ad-ae62d8dd6a59",
   "metadata": {
    "jupyter": {
     "source_hidden": true
    }
   },
   "outputs": [],
   "source": [
    "'''plt.figure()\n",
    "ax = plt.axes(projection =\"3d\")\n",
    "# y_data==0 y_data!=0\n",
    "name = f'Отображения признаков из {file_1_x.shape[1]} мерного пространства на 2 мерное (perpl: {PER}, rand_state: {RSTATE}, learn_rate: {LRATE}, n_iter: {NITER}, all graphs, file_1)'\n",
    "plt.scatter(X_embedded[file_1_bin==0,0], X_embedded[file_1_bin==0,1], c='blue', s=1, label='non defect')\n",
    "plt.scatter(X_embedded[file_1_bin!=0,0], X_embedded[file_1_bin!=0,1], c='red', s=1, label='defect')\n",
    "plt.xlabel('X')\n",
    "plt.ylabel('Y')\n",
    "plt.legend()\n",
    "plt.title(name)\n",
    "plt.grid(True)\n",
    "#plt.savefig(f'tsne/{name}.jpeg', bbox_inches='tight')\n",
    "plt.show()''';"
   ]
  },
  {
   "cell_type": "code",
   "execution_count": null,
   "id": "2d586b8f-529f-49b4-a6b2-2e7c2a07d9b1",
   "metadata": {
    "jupyter": {
     "source_hidden": true
    }
   },
   "outputs": [],
   "source": [
    "'''fig = plt.figure(figsize = (10, 7))\n",
    "ax = plt.axes(projection =\"3d\")\n",
    "#ax.scatter3D(X_embedded[file_1_bin==0,0], X_embedded[file_1_bin==0,1], X_embedded[file_1_bin==0,2], color = \"blue\", label='non defect')\n",
    "#ax.scatter3D(X_embedded[file_1_bin!=0,0], X_embedded[file_1_bin!=0,1], X_embedded[file_1_bin!=0,2], color = \"red\", label='defect')\n",
    "ax.scatter3D(X_embedded[:,0], X_embedded[:,1], X_embedded[:,2], color = \"red\", label='defect')\n",
    "ax.set_xlabel('X')\n",
    "ax.set_ylabel('Y')\n",
    "ax.set_zlabel('Z')\n",
    "plt.legend()\n",
    "plt.show()''';"
   ]
  },
  {
   "cell_type": "code",
   "execution_count": null,
   "id": "4fe15111-f38e-41a7-ac30-098833225d82",
   "metadata": {
    "jupyter": {
     "source_hidden": true
    }
   },
   "outputs": [],
   "source": [
    "'''plt.figure()\n",
    "# y_data==0 y_data!=0\n",
    "name = f'Отображения признаков из {test_x_data.shape[1]} мерного пространства на 2 мерное (perpl: {PER}, rand_state: {RSTATE}, learn_rate: {LRATE}, n_iter: {NITER}, all graphs, file_2)'\n",
    "plt.scatter(X_embedded[file_1_x.shape[0]:,0], X_embedded[file_1_x.shape[0]:,1], c='red', s=1, label='file_2')\n",
    "plt.xlabel('X')\n",
    "plt.ylabel('Y')\n",
    "plt.legend()\n",
    "plt.title(name)\n",
    "plt.grid(True)\n",
    "plt.savefig(f'tsne/{name}.jpeg', bbox_inches='tight')''';\n",
    "#plt.show()"
   ]
  },
  {
   "cell_type": "code",
   "execution_count": null,
   "id": "31710c2b-5d81-42c5-af39-5a59d2b45a2d",
   "metadata": {
    "jupyter": {
     "source_hidden": true
    }
   },
   "outputs": [],
   "source": [
    "#def1, nondef1 = file_1_x[file_1_y!=0], file_1_x[file_1_y==0] \n",
    "#print(f'{def1.shape=}, {nondef1.shape=}')"
   ]
  }
 ],
 "metadata": {
  "kernelspec": {
   "display_name": "Python 3 (ipykernel)",
   "language": "python",
   "name": "python3"
  },
  "language_info": {
   "codemirror_mode": {
    "name": "ipython",
    "version": 3
   },
   "file_extension": ".py",
   "mimetype": "text/x-python",
   "name": "python",
   "nbconvert_exporter": "python",
   "pygments_lexer": "ipython3",
   "version": "3.12.5"
  }
 },
 "nbformat": 4,
 "nbformat_minor": 5
}
