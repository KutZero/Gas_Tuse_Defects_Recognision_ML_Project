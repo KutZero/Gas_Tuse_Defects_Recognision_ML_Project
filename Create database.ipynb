{
 "cells": [
  {
   "cell_type": "code",
   "execution_count": 1,
   "id": "4306cf86-b6a0-43cf-b145-5793679b5b07",
   "metadata": {
    "execution": {
     "iopub.execute_input": "2023-12-15T15:02:19.785408Z",
     "iopub.status.busy": "2023-12-15T15:02:19.784642Z",
     "iopub.status.idle": "2023-12-15T15:02:20.121163Z",
     "shell.execute_reply": "2023-12-15T15:02:20.118094Z",
     "shell.execute_reply.started": "2023-12-15T15:02:19.785311Z"
    }
   },
   "outputs": [],
   "source": [
    "# extensions importing\n",
    "import psycopg2"
   ]
  },
  {
   "cell_type": "code",
   "execution_count": 2,
   "id": "def37799-98cf-43a4-a574-5faf46bdc9f4",
   "metadata": {
    "execution": {
     "iopub.execute_input": "2023-12-15T15:02:20.124258Z",
     "iopub.status.busy": "2023-12-15T15:02:20.123485Z",
     "iopub.status.idle": "2023-12-15T15:02:20.159781Z",
     "shell.execute_reply": "2023-12-15T15:02:20.155987Z",
     "shell.execute_reply.started": "2023-12-15T15:02:20.124187Z"
    }
   },
   "outputs": [],
   "source": [
    "# constants for db connect\n",
    "db_name = 'network_db'\n",
    "pg_host = 'postgres_database'\n",
    "sql_user = 'postgres'\n",
    "sql_pwd = '12345'\n",
    "port = '5432'\n",
    "schema_name = 'public'"
   ]
  },
  {
   "cell_type": "code",
   "execution_count": 3,
   "id": "c04e633a-f0bf-4d1d-bea2-40dd5147f312",
   "metadata": {
    "execution": {
     "iopub.execute_input": "2023-12-15T15:02:20.163782Z",
     "iopub.status.busy": "2023-12-15T15:02:20.162454Z",
     "iopub.status.idle": "2023-12-15T15:02:20.666773Z",
     "shell.execute_reply": "2023-12-15T15:02:20.662806Z",
     "shell.execute_reply.started": "2023-12-15T15:02:20.163686Z"
    }
   },
   "outputs": [],
   "source": [
    "# database connicting\n",
    "conn = psycopg2.connect(database=db_name,\n",
    "                        host=pg_host,\n",
    "                        user=sql_user,\n",
    "                        password=sql_pwd,\n",
    "                        port=port)"
   ]
  },
  {
   "cell_type": "code",
   "execution_count": 4,
   "id": "d64f8c5a-3663-4e3f-b16f-08682597dfbd",
   "metadata": {
    "execution": {
     "iopub.execute_input": "2023-12-15T15:02:20.675798Z",
     "iopub.status.busy": "2023-12-15T15:02:20.674898Z",
     "iopub.status.idle": "2023-12-15T15:02:21.108937Z",
     "shell.execute_reply": "2023-12-15T15:02:21.105640Z",
     "shell.execute_reply.started": "2023-12-15T15:02:20.675708Z"
    }
   },
   "outputs": [],
   "source": [
    "# database creating\n",
    "with conn:\n",
    "    with conn.cursor() as cursor:\n",
    "        cursor.execute(\"\"\"\n",
    "\n",
    "            CREATE TYPE DATASET AS ENUM ('train', 'val', 'test');\n",
    "        \n",
    "            CREATE TABLE input_data_cell (\n",
    "                file_id INTEGER NOT NULL CHECK (file_id > 0),\n",
    "                row_id INTEGER NOT NULL CHECK (row_id > 0),\n",
    "                detector_id INTEGER NOT NULL CHECK (detector_id > 0),\n",
    "                time_values REAL[] NOT NULL,\n",
    "                amplitude_values REAL[] NOT NULL,\n",
    "                \n",
    "                PRIMARY KEY(file_id, row_id, detector_id)\n",
    "            );\n",
    "\n",
    "            CREATE TABLE output_data_cell (\n",
    "                file_id INTEGER NOT NULL CHECK (file_id > 0),\n",
    "                row_id INTEGER NOT NULL CHECK (row_id > 0),\n",
    "                detector_id INTEGER NOT NULL CHECK (detector_id > 0),\n",
    "                defect_state BOOLEAN NOT NULL,\n",
    "                defect_depth REAL NOT NULL,\n",
    "                \n",
    "                PRIMARY KEY(file_id, row_id, detector_id),\n",
    "                \n",
    "                FOREIGN KEY (file_id, row_id, detector_id) \n",
    "                    REFERENCES input_data_cell (file_id, row_id, detector_id)\n",
    "            );\n",
    "\n",
    "            CREATE TABLE dataset_crop_description (\n",
    "                file_id INTEGER NOT NULL CHECK (file_id > 0),\n",
    "                row_id INTEGER NOT NULL CHECK (row_id > 0),\n",
    "                detector_id INTEGER NOT NULL CHECK (detector_id > 0),\n",
    "                mirror_horizontal BOOLEAN NOT NULL,\n",
    "                mirror_vertical  BOOLEAN NOT NULL,\n",
    "                rotation_90_degree_count INTEGER NOT NULL CHECK (rotation_90_degree_count >= 0 AND rotation_90_degree_count < 4),\n",
    "                crop_size INTEGER NOT NULL CHECK (crop_size > 0),\n",
    "                dataset_name DATASET,\n",
    "                \n",
    "                PRIMARY KEY(file_id, \n",
    "                            row_id, \n",
    "                            detector_id,\n",
    "                            mirror_horizontal,\n",
    "                            mirror_vertical,\n",
    "                            rotation_90_degree_count,\n",
    "                            crop_size),\n",
    "                            \n",
    "                FOREIGN KEY (file_id, row_id, detector_id) \n",
    "                    REFERENCES input_data_cell (file_id, row_id, detector_id)\n",
    "            );\n",
    "            \n",
    "            CREATE TABLE dataset_crop_prediction (\n",
    "                file_id INTEGER NOT NULL CHECK (file_id > 0),\n",
    "                row_id INTEGER NOT NULL CHECK (row_id > 0),\n",
    "                detector_id INTEGER NOT NULL CHECK (detector_id > 0),\n",
    "                mirror_horizontal BOOLEAN NOT NULL,\n",
    "                mirror_vertical  BOOLEAN NOT NULL,\n",
    "                rotation_90_degree_count INTEGER NOT NULL CHECK (rotation_90_degree_count >= 0 AND rotation_90_degree_count < 4),\n",
    "                crop_size INTEGER NOT NULL CHECK (crop_size > 0),\n",
    "                predict_session_num INTEGER NOT NULL CHECK (predict_session_num > 0),\n",
    "                defect_state REAL NOT NULL,\n",
    "                \n",
    "                PRIMARY KEY (file_id, \n",
    "                            row_id, \n",
    "                            detector_id,\n",
    "                            mirror_horizontal,\n",
    "                            mirror_vertical,\n",
    "                            rotation_90_degree_count,\n",
    "                            crop_size,\n",
    "                            predict_session_num),\n",
    "                            \n",
    "                FOREIGN KEY (file_id, \n",
    "                            row_id, \n",
    "                            detector_id,\n",
    "                            mirror_horizontal,\n",
    "                            mirror_vertical,\n",
    "                            rotation_90_degree_count,\n",
    "                            crop_size) REFERENCES \n",
    "                                dataset_crop_description (file_id, \n",
    "                                                        row_id, \n",
    "                                                        detector_id,\n",
    "                                                        mirror_horizontal,\n",
    "                                                        mirror_vertical,\n",
    "                                                        rotation_90_degree_count,\n",
    "                                                        crop_size)\n",
    "            );\n",
    "            \n",
    "            \"\"\")\n",
    "        \n",
    "conn.commit()\n",
    "conn.close()"
   ]
  },
  {
   "cell_type": "code",
   "execution_count": null,
   "id": "5ed2c331-e66e-4a59-b04b-03cd19b87ab2",
   "metadata": {},
   "outputs": [],
   "source": []
  }
 ],
 "metadata": {
  "kernelspec": {
   "display_name": "Python 3 (ipykernel)",
   "language": "python",
   "name": "python3"
  },
  "language_info": {
   "codemirror_mode": {
    "name": "ipython",
    "version": 3
   },
   "file_extension": ".py",
   "mimetype": "text/x-python",
   "name": "python",
   "nbconvert_exporter": "python",
   "pygments_lexer": "ipython3",
   "version": "3.9.18"
  }
 },
 "nbformat": 4,
 "nbformat_minor": 5
}
