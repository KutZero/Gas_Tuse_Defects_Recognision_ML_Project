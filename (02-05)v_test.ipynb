{
 "cells": [
  {
   "cell_type": "code",
   "execution_count": null,
   "id": "fde58157-7750-45b9-a343-b46e3c74b5b4",
   "metadata": {},
   "outputs": [],
   "source": [
    "# dependencies import\n",
    "from common_dependencies import *\n",
    "import logging\n",
    "logger = logging.getLogger('main.(02-05)v_test.ipynb')"
   ]
  },
  {
   "cell_type": "code",
   "execution_count": null,
   "id": "8bf461c0-86ef-4815-a965-1e766c1f33b8",
   "metadata": {},
   "outputs": [],
   "source": [
    "# paths for files with original data\n",
    "PATH_TO_DATA = {\n",
    "    'run_1': \n",
    "        ('data/original_data/run_1/run1_WM32_data.csv',\n",
    "        'data/original_data/run_1/run1_WM32_defects.csv',\n",
    "        'data/original_data/run_1/run1_WM32_pipe.csv'),\n",
    "    'run_2':\n",
    "        ('data/original_data/run_2/run2_WM32_data.csv',\n",
    "        'data/original_data/run_2/run2_WM32_defects.csv',\n",
    "        'data/original_data/run_2/run2_WM32_pipe.csv')\n",
    "}\n",
    "\n",
    "PATH_TO_MODEL = 'networks/CNN'\n",
    "\n",
    "CROP_SIZE = 16\n",
    "CROP_STEP = 16\n",
    "RUN = 2\n",
    "MODEL_VER = '04'\n",
    "MODEL_NUM = '03'\n",
    "XSHIFT = 200\n",
    "\n",
    "for name in os.listdir(PATH_TO_MODEL):\n",
    "    res = re.match(F'(id=v{MODEL_VER}n{MODEL_NUM}).*', name)\n",
    "    if not res is None:\n",
    "        PATH_TO_MODEL += '/' + res[0]\n",
    "        break\n",
    "\n",
    "# детерминация случайных величин, отвечающих за выбор первоначальных весов и биасов\n",
    "tf.compat.v1.set_random_seed(290)\n",
    "tf.random.set_seed(290)"
   ]
  },
  {
   "cell_type": "code",
   "execution_count": null,
   "id": "764011ef-9924-495e-b924-8c636ff2b6f5",
   "metadata": {
    "scrolled": true
   },
   "outputs": [],
   "source": [
    "x_df, y_df = dw.get_x_and_y_data(*PATH_TO_DATA[f'run_{RUN}'])"
   ]
  },
  {
   "cell_type": "code",
   "execution_count": null,
   "id": "a63ce1e2-8e20-4996-be78-8b04d15987b0",
   "metadata": {},
   "outputs": [],
   "source": [
    "dw.draw_defects_map(y_df, title='Считанная развернутая карта дефектов')\n",
    "#dw.draw_zeros_quantity_in_data_df(x_df)"
   ]
  },
  {
   "cell_type": "code",
   "execution_count": null,
   "id": "79e24dd8-5c9e-4816-84be-2c1e27329a90",
   "metadata": {},
   "outputs": [],
   "source": [
    "x_df = dw.extend_df_for_crops_dividing(x_df, crop_size=CROP_SIZE, crop_step=CROP_STEP)\n",
    "y_df = dw.extend_df_for_crops_dividing(y_df, crop_size=CROP_SIZE, crop_step=CROP_STEP)\n",
    "dw.draw_defects_map(y_df, title='Расширенная развернутая карта дефектов')"
   ]
  },
  {
   "cell_type": "code",
   "execution_count": null,
   "id": "9a83c119-98e6-4bdc-9a0b-cffa81ea4172",
   "metadata": {},
   "outputs": [],
   "source": [
    "# преобразовать данные к виду (измерение, размер х, размер у, каналы)\n",
    "# для x_data_time каналы = 32\n",
    "# для x_data_amp каналы = 32\n",
    "# для y_data каналы = 1\n",
    "(x_data_time,\n",
    "x_data_amp) = dw.reshape_x_df_to_image_like_numpy(x_df, CROP_SIZE, CROP_STEP)\n",
    "y_data = dw.reshape_y_df_to_image_like_numpy(y_df, CROP_SIZE, CROP_STEP)"
   ]
  },
  {
   "cell_type": "code",
   "execution_count": null,
   "id": "8e63ee8d-8f53-4c7f-9536-e54862286559",
   "metadata": {},
   "outputs": [],
   "source": [
    "# нормализовать входные данные\n",
    "x_data_time = dw.standardize_data(x_data_time)\n",
    "x_data_amp = dw.standardize_data(x_data_amp)"
   ]
  },
  {
   "cell_type": "code",
   "execution_count": null,
   "id": "76ee1629-140b-4031-802c-1a025bf7400b",
   "metadata": {
    "scrolled": true
   },
   "outputs": [],
   "source": [
    "# Аугментировать данные\n",
    "#x_data_time = dp.augment_data(x_data_time) \n",
    "#x_data_amp = dp.augment_data(x_data_amp) \n",
    "#y_data = dp.augment_data(y_data) "
   ]
  },
  {
   "cell_type": "code",
   "execution_count": null,
   "id": "2eb09859-08a0-4a67-9e71-0cb1562b3664",
   "metadata": {},
   "outputs": [],
   "source": [
    "# создание выходных данных бинарного вида (одномерный массив типа bool)\n",
    "y_data = dw.create_binary_arr_from_mask_arr(y_data)"
   ]
  },
  {
   "cell_type": "code",
   "execution_count": null,
   "id": "117285bc-2044-477d-8102-9130e48574f9",
   "metadata": {},
   "outputs": [],
   "source": [
    "logger.debug(f'{x_data_time.shape=}')\n",
    "logger.debug(f'{x_data_amp.shape=}')\n",
    "logger.debug(f'{y_data.shape=}\\n')"
   ]
  },
  {
   "cell_type": "code",
   "execution_count": null,
   "id": "ac96ade4-0800-4419-80ff-d333268885fa",
   "metadata": {},
   "outputs": [],
   "source": [
    "# загрузка модели\n",
    "model = keras.models.load_model(PATH_TO_MODEL)"
   ]
  },
  {
   "cell_type": "code",
   "execution_count": null,
   "id": "58a5f690-484b-4f7a-9e04-c7f1b2fda79a",
   "metadata": {},
   "outputs": [],
   "source": [
    "# тест модели\n",
    "res = model.evaluate([x_data_time, x_data_amp], y_data, batch_size = 32)"
   ]
  },
  {
   "cell_type": "code",
   "execution_count": null,
   "id": "7750788d-b939-4c1e-b9d3-3283f3f6426a",
   "metadata": {},
   "outputs": [],
   "source": [
    "logger.debug(res)"
   ]
  }
 ],
 "metadata": {
  "kernelspec": {
   "display_name": "Python 3 (ipykernel)",
   "language": "python",
   "name": "python3"
  },
  "language_info": {
   "codemirror_mode": {
    "name": "ipython",
    "version": 3
   },
   "file_extension": ".py",
   "mimetype": "text/x-python",
   "name": "python",
   "nbconvert_exporter": "python",
   "pygments_lexer": "ipython3",
   "version": "3.9.18"
  }
 },
 "nbformat": 4,
 "nbformat_minor": 5
}
