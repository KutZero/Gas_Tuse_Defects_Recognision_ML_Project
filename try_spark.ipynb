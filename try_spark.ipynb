{
 "cells": [
  {
   "cell_type": "code",
   "execution_count": 1,
   "id": "04a97a5d-1373-4b6a-b128-1cbab06251e3",
   "metadata": {
    "execution": {
     "iopub.execute_input": "2024-01-04T08:32:42.150727Z",
     "iopub.status.busy": "2024-01-04T08:32:42.149326Z",
     "iopub.status.idle": "2024-01-04T08:32:44.668423Z",
     "shell.execute_reply": "2024-01-04T08:32:44.666471Z",
     "shell.execute_reply.started": "2024-01-04T08:32:42.150652Z"
    }
   },
   "outputs": [],
   "source": [
    "import os\n",
    "import re\n",
    "import sys\n",
    "import pyarrow\n",
    "import pandas as pd\n",
    "import numpy as np\n",
    "from IPython.display import display\n",
    "import matplotlib.pyplot as plt\n",
    "\n",
    "from pyspark.sql import SparkSession\n",
    "from pyspark.sql import functions as f"
   ]
  },
  {
   "cell_type": "code",
   "execution_count": null,
   "id": "fe14291a-8d31-401d-8749-519eee24998c",
   "metadata": {},
   "outputs": [],
   "source": [
    "spark = (\n",
    "    SparkSession\n",
    "    .builder\n",
    "    .master('local')\n",
    "    .appName('network')\n",
    "    .getOrCreate()\n",
    ")"
   ]
  },
  {
   "cell_type": "code",
   "execution_count": null,
   "id": "dcc595f7-ff91-4b3f-941e-2b46ae4d911b",
   "metadata": {},
   "outputs": [],
   "source": [
    "spark"
   ]
  },
  {
   "cell_type": "code",
   "execution_count": null,
   "id": "845a7466-c762-44ad-8a2c-31cd83786ea4",
   "metadata": {},
   "outputs": [],
   "source": [
    "run_1 = 'data/Original data/Run1/run1_WM32_data.csv'\n",
    "\n",
    "df = (\n",
    "    spark\n",
    "    .read\n",
    "    .format('csv')\n",
    "    .option('header','true')\n",
    "    .option('sep',';')\n",
    "    .load(run_1)\n",
    ")"
   ]
  },
  {
   "cell_type": "code",
   "execution_count": null,
   "id": "3dcb61b0-6aa1-4952-a023-a731835b11c6",
   "metadata": {},
   "outputs": [],
   "source": [
    "df.printSchema()"
   ]
  },
  {
   "cell_type": "code",
   "execution_count": null,
   "id": "59b62bcf-f5b6-4502-acb9-a83b1a0d1163",
   "metadata": {},
   "outputs": [],
   "source": [
    "#display(df.pandas_api(index_col='row'))\n",
    "df.select('detector_0').show()"
   ]
  },
  {
   "cell_type": "code",
   "execution_count": null,
   "id": "28898f59-4f70-46df-8510-d6e5cb7f960e",
   "metadata": {},
   "outputs": [],
   "source": [
    "spark.stop()"
   ]
  }
 ],
 "metadata": {
  "kernelspec": {
   "display_name": "Python 3 (ipykernel)",
   "language": "python",
   "name": "python3"
  },
  "language_info": {
   "codemirror_mode": {
    "name": "ipython",
    "version": 3
   },
   "file_extension": ".py",
   "mimetype": "text/x-python",
   "name": "python",
   "nbconvert_exporter": "python",
   "pygments_lexer": "ipython3",
   "version": "3.10.13"
  }
 },
 "nbformat": 4,
 "nbformat_minor": 5
}
