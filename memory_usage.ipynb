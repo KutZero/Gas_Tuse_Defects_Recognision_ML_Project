{
 "cells": [
  {
   "cell_type": "code",
   "execution_count": null,
   "id": "a590579c-9496-4210-a300-aa5a75fe27b8",
   "metadata": {},
   "outputs": [],
   "source": [
    "# dependencies import\n",
    "from common_dependencies import *\n",
    "\n",
    "IMAGE_SHAPE = (119, 400) #(100,400) #(115,400)\n",
    "INIT_IMAGE_SIZE = IMAGE_SHAPE[0] * IMAGE_SHAPE[1]"
   ]
  },
  {
   "cell_type": "code",
   "execution_count": null,
   "id": "4784f501-0725-47e7-b0d1-8e72ea40e4e6",
   "metadata": {
    "jupyter": {
     "source_hidden": true
    }
   },
   "outputs": [],
   "source": [
    "def draw_map(mem_usage_matrix, \n",
    "             label = 'Зависимость затрат памяти от размера кропа и шага нарезки', \n",
    "             xlabel='Размер кропа', \n",
    "             ylabel='Шаг нарезки'):\n",
    "    \n",
    "    fig, ax = plt.subplots()\n",
    "\n",
    "    fig.set_figwidth(12)\n",
    "    fig.set_figheight(10)\n",
    "    \n",
    "    ax.set_xlabel(xlabel, fontsize=15) \n",
    "    ax.set_ylabel(ylabel, fontsize=15) \n",
    "    ax.set_title(label, fontsize=15) \n",
    "    \n",
    "    map = ax.pcolormesh(mem_usage_matrix)\n",
    "    cbar = fig.colorbar(map)\n",
    "    cbar.ax.tick_params(labelsize=15)\n",
    "\n",
    "    ax.plot([0,mem_usage_matrix.shape[1]],[0,mem_usage_matrix.shape[0]], c='red')\n",
    "    \n",
    "    plt.show()"
   ]
  },
  {
   "cell_type": "code",
   "execution_count": null,
   "id": "a506b9c0-e466-4fc9-ae72-0b391aa7420e",
   "metadata": {
    "jupyter": {
     "source_hidden": true
    }
   },
   "outputs": [],
   "source": [
    "def draw_hist(arr): # , major_x_formatter, minor_x_formatter, major_x_formatter_str, minor_x_formatter_str):\n",
    "    # Plot the surface\n",
    "    fig, ax = plt.subplots()\n",
    "    \n",
    "    fig.set_figwidth(18)\n",
    "    fig.set_figheight(6)         \n",
    "    \n",
    "    ax.hist(arr, bins=10)\n",
    "    \n",
    "    ax.set_xlabel('Диапазон', fontsize=15) \n",
    "    ax.set_ylabel('Кол-во кропов', fontsize=15) \n",
    "    ax.set_title('Распределение нормализованных величин затрат памяти (от 0 до 1)', fontsize=15) \n",
    "    \n",
    "    #  Устанавливаем интервал основных делений: \n",
    "    #ax.xaxis.set_major_locator(ticker.MultipleLocator(major_x_formatter))\n",
    "    #ax.xaxis.set_minor_locator(ticker.MultipleLocator(minor_x_formatter)) \n",
    "    #ax.yaxis.set_major_locator(ticker.MultipleLocator(500)) \n",
    "     \n",
    "    #  Устанавливаем форматирование чисел основных делений: \n",
    "    #ax.xaxis.set_major_formatter(ticker.FormatStrFormatter(major_x_formatter_str)) \n",
    "    #ax.xaxis.set_minor_formatter(ticker.FormatStrFormatter(minor_x_formatter_str))\n",
    "    #ax.yaxis.set_major_formatter(ticker.FormatStrFormatter('%.d')) \n",
    "     \n",
    "    #  Устанавливаем форматирование делений: \n",
    "    ax.xaxis.set_tick_params(which = 'major', labelsize = 15) \n",
    "    #ax.xaxis.set_tick_params(which = 'minor', labelsize = 10) \n",
    "    ax.yaxis.set_tick_params(which = 'major', labelsize = 15) \n",
    "         \n",
    "    plt.show()"
   ]
  },
  {
   "cell_type": "code",
   "execution_count": null,
   "id": "e14d1d3b-6ce0-4796-a050-577c47da99fc",
   "metadata": {},
   "outputs": [],
   "source": [
    "'''def calc_mem_usage(input_image_shape, crop_size_arr, crop_step_arr):\n",
    "    Z = np.zeros(crop_step_arr.shape)\n",
    "    for i in range(Z.shape[0]):\n",
    "        for j in range(Z.shape[1]):\n",
    "            if crop_size_arr[i,j] < crop_step_arr[i,j]:\n",
    "                Z[i,j] = 0\n",
    "                continue\n",
    "                \n",
    "            # расчет кол-ва кропов\n",
    "            crops_per_x_axis = len(np.zeros((input_image_shape[0]-(crop_size_arr[i,j]-1)))[::crop_step_arr[i,j]])\n",
    "            crops_per_y_axis = len(np.zeros((input_image_shape[1]-(crop_size_arr[i,j]-1)))[::crop_step_arr[i,j]])\n",
    "            crops_count = crops_per_x_axis * crops_per_y_axis\n",
    "            \n",
    "            # расчет кол-ва занимаемой памяти\n",
    "            mem_usage = crops_count * crop_size_arr[i,j]**2\n",
    "            Z[i,j] = mem_usage\n",
    "            \n",
    "    return Z''';"
   ]
  },
  {
   "cell_type": "code",
   "execution_count": null,
   "id": "17181822-610a-45e6-a30f-51873bd34389",
   "metadata": {},
   "outputs": [],
   "source": [
    "def calc_mem_usage(input_image_shape, crop_size, crop_step_arr):\n",
    "    for crop_step in crop_step_arr:\n",
    "        temp_arr = np.zeros((input_image_shape))\n",
    "        temp_arr = dw.extend_ndarray_for_prediction(temp_arr, crop_size)\n",
    "        temp_arr = dw.match_ndarray_for_crops_dividing(temp_arr, crop_size, crop_step)\n",
    "        \n",
    "        crops = len([item for item in dw.get_crop_generator(temp_arr, crop_size, crop_step)])\n",
    "\n",
    "        yield crops"
   ]
  },
  {
   "cell_type": "code",
   "execution_count": null,
   "id": "7277639b-f7de-41bb-814c-28e4852013c2",
   "metadata": {
    "scrolled": true
   },
   "outputs": [],
   "source": [
    "# calc mem usage map\n",
    "CROP_SIZE = 16\n",
    "crop_size_array = np.array(CROP_SIZE) #np.arange(1, IMAGE_SHAPE[0]+1, 1, dtype='int')\n",
    "crop_step_array = np.arange(1, CROP_SIZE+1, 1, dtype='int') #np.arange(1, IMAGE_SHAPE[0+1], 1, dtype='int') \n",
    "#crop_size_array, crop_step_array = np.meshgrid(crop_size_array, crop_step_array)\n",
    "\n",
    "mem_usage_array = [i for i in calc_mem_usage(IMAGE_SHAPE, CROP_SIZE, crop_step_array)]\n",
    "print(mem_usage_array)\n",
    "\n",
    "#mem_usage_array = calc_mem_usage(IMAGE_SHAPE, crop_size_array, crop_step_array)"
   ]
  },
  {
   "cell_type": "code",
   "execution_count": null,
   "id": "f4079dfb-86fe-423e-8cad-6bf306e4a50e",
   "metadata": {},
   "outputs": [],
   "source": [
    "1-55610/84266"
   ]
  },
  {
   "cell_type": "code",
   "execution_count": null,
   "id": "4a240125-e17d-466e-a936-8ab655e07076",
   "metadata": {},
   "outputs": [],
   "source": [
    "FONT_SIZE = 15\n",
    "\n",
    "fig, ax = plt.subplots()\n",
    "\n",
    "fig.set_figwidth(12)\n",
    "fig.set_figheight(8)\n",
    "\n",
    "plt.plot(np.arange(1,CROP_SIZE+1), mem_usage_array, linewidth=1.5, color='blue', marker='*', markerfacecolor='red', markeredgecolor='red')\n",
    "\n",
    "ax.set_xlabel('Шаг скользящего окна', fontsize=FONT_SIZE)\n",
    "ax.set_ylabel(f'Кол-во кропов', fontsize=FONT_SIZE)\n",
    "ax.set_title(f\"Зависимость количества кропов которые надо проанализировать для построения карты дефектов для размера кропа {CROP_SIZE} и разного шага нарезки\", fontsize=FONT_SIZE, pad=15)\n",
    "\n",
    "ax.patch.set_alpha(0)\n",
    "\n",
    "#  Устанавливаем форматирование делений:\n",
    "ax.tick_params(axis='both', which='both', labelsize = FONT_SIZE)\n",
    "\n",
    "# Вывод и настройка сетки\n",
    "ax.minorticks_on()\n",
    "ax.grid(which='major', linewidth=2)\n",
    "ax.grid(which='minor', color = 'gray', linestyle = ':')\n",
    "\n",
    "ax.legend(fontsize = FONT_SIZE, facecolor = \"white\", loc = 'upper right')\n",
    "\n",
    "plt.show()"
   ]
  },
  {
   "cell_type": "code",
   "execution_count": null,
   "id": "4d82f864-f364-4228-b37c-a607a4004d7e",
   "metadata": {},
   "outputs": [],
   "source": [
    "# find max item val and position\n",
    "max_val = np.max(mem_usage_array)\n",
    "for i in range(mem_usage_array.shape[0]):\n",
    "    for j in range(mem_usage_array.shape[1]):\n",
    "        if mem_usage_array[i,j] == max_val:\n",
    "            print(f'i: {i+1}, j: {j+1}, val: {mem_usage_array[i,j]}')"
   ]
  },
  {
   "cell_type": "code",
   "execution_count": null,
   "id": "3fa444c9-b0a4-4aac-9138-0cbac4441d01",
   "metadata": {},
   "outputs": [],
   "source": [
    "draw_map(mem_usage_array)\n",
    "draw_map(np.cbrt(mem_usage_array))\n",
    "draw_map(np.sqrt(np.cbrt(mem_usage_array)))"
   ]
  },
  {
   "cell_type": "code",
   "execution_count": null,
   "id": "84c94f3e-ecf1-496b-b3a6-52394edc6e5b",
   "metadata": {},
   "outputs": [],
   "source": [
    "# delete all items where crop step bigger than crop size\n",
    "# and normalize it\n",
    "temp_arr = []\n",
    "for i, row in enumerate(mem_usage_array):\n",
    "    for j, item in enumerate(row):\n",
    "        if i <= j:\n",
    "            temp_arr.append(item)\n",
    "\n",
    "temp_arr = np.array(temp_arr) \n",
    "\n",
    "'''def calc(arr, i):\n",
    "    if i > 100000000:\n",
    "        return\n",
    "    summm = (temp_arr <= INIT_IMAGE_SIZE*i).sum()\n",
    "    print(f'Кол-во наборов, где вес данных максимум в {i} раза больше начальных: {summm}')\n",
    "    if summm == len(arr):\n",
    "        return\n",
    "    i = i*2\n",
    "    calc(arr, i)\n",
    "\n",
    "calc(temp_arr, 2)'''\n",
    "\n",
    "max_val = temp_arr.max()\n",
    "\n",
    "temp_arr = temp_arr / max_val\n",
    "\n",
    "print(len(temp_arr))\n",
    "print(len(temp_arr[temp_arr<=0.01]), f'{len(temp_arr[temp_arr<=0.01])/len(temp_arr):.4f}%')\n",
    "print(temp_arr[temp_arr<=0.01].max() / (INIT_IMAGE_SIZE/max_val))\n",
    "\n",
    "print(len(temp_arr))\n",
    "print(len(temp_arr[temp_arr>0.01]), f'{len(temp_arr[temp_arr>0.01])/len(temp_arr):.4f}%')\n",
    "print(temp_arr[temp_arr>0.01].max() / (INIT_IMAGE_SIZE/max_val))\n"
   ]
  },
  {
   "cell_type": "code",
   "execution_count": null,
   "id": "e526b211-1def-4600-8aae-190e5f8f77dc",
   "metadata": {
    "scrolled": true
   },
   "outputs": [],
   "source": [
    "draw_hist(temp_arr)#,1/5, 1/20, '%.1f', '%.2f')\n",
    "draw_hist(temp_arr[temp_arr<=0.05])#, 0.1/5, 0.1/20, '%.2f', '%.3f')\n",
    "draw_hist(temp_arr[temp_arr<=0.025])#, 0.01/5, 0.01/20, '%.2f', '%.3f')\n",
    "draw_hist(temp_arr[temp_arr<=0.0125])\n",
    "draw_hist(temp_arr[temp_arr<=0.00625])\n",
    "draw_hist(temp_arr[temp_arr>0.01])"
   ]
  },
  {
   "cell_type": "code",
   "execution_count": null,
   "id": "ad89fbb2-9839-4e6e-b6e8-9726ad238900",
   "metadata": {},
   "outputs": [],
   "source": []
  },
  {
   "cell_type": "code",
   "execution_count": null,
   "id": "7b585ec1-a004-4ac6-91b0-96197342bf86",
   "metadata": {},
   "outputs": [],
   "source": [
    "# прикинем где находятся соотношения, относящиеся к диапазону от 0 до 0.001\n",
    "temp_map = np.zeros(mem_usage_array.shape)\n",
    "for i in range(mem_usage_array.shape[0]):\n",
    "    for j in range(mem_usage_array.shape[1]):\n",
    "        temp = mem_usage_array[i,j] / mem_usage_array.max()\n",
    "        if temp <= 0.01:\n",
    "            temp_map[i,j] = temp\n",
    "\n",
    "draw_map(temp_map)"
   ]
  },
  {
   "cell_type": "code",
   "execution_count": null,
   "id": "e2d1c629-0f4f-4f0d-9d21-dcac00e878fd",
   "metadata": {},
   "outputs": [],
   "source": []
  }
 ],
 "metadata": {
  "kernelspec": {
   "display_name": "Python 3 (ipykernel)",
   "language": "python",
   "name": "python3"
  },
  "language_info": {
   "codemirror_mode": {
    "name": "ipython",
    "version": 3
   },
   "file_extension": ".py",
   "mimetype": "text/x-python",
   "name": "python",
   "nbconvert_exporter": "python",
   "pygments_lexer": "ipython3",
   "version": "3.11.8"
  }
 },
 "nbformat": 4,
 "nbformat_minor": 5
}
